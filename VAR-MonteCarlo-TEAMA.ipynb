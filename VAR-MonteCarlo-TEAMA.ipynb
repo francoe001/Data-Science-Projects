<!DOCTYPE html>
<html>
<head><meta charset="utf-8" />
<title>VAR - TEAM A</title><script src="https://cdnjs.cloudflare.com/ajax/libs/require.js/2.1.10/require.min.js"></script>
<script src="https://cdnjs.cloudflare.com/ajax/libs/jquery/2.0.3/jquery.min.js"></script>

<style type="text/css">
    /*!
*
* Twitter Bootstrap
*
*/
/*!
 * Bootstrap v3.3.7 (http://getbootstrap.com)
 * Copyright 2011-2016 Twitter, Inc.
 * Licensed under MIT (https://github.com/twbs/bootstrap/blob/master/LICENSE)
 */
/*! normalize.css v3.0.3 | MIT License | github.com/necolas/normalize.css */
html {
  font-family: sans-serif;
  -ms-text-size-adjust: 100%;
  -webkit-text-size-adjust: 100%;
}
body {
  margin: 0;
}
article,
aside,
details,
figcaption,
figure,
footer,
header,
hgroup,
main,
menu,
nav,
section,
summary {
  display: block;
}
audio,
canvas,
progress,
video {
  display: inline-block;
  vertical-align: baseline;
}
audio:not([controls]) {
  display: none;
  height: 0;
}
[hidden],
template {
  display: none;
}
a {
  background-color: transparent;
}
a:active,
a:hover {
  outline: 0;
}
abbr[title] {
  border-bottom: 1px dotted;
}
b,
strong {
  font-weight: bold;
}
dfn {
  font-style: italic;
}
h1 {
  font-size: 2em;
  margin: 0.67em 0;
}
mark {
  background: #ff0;
  color: #000;
}
small {
  font-size: 80%;
}
sub,
sup {
  font-size: 75%;
  line-height: 0;
  position: relative;
  vertical-align: baseline;
}
sup {
  top: -0.5em;
}
sub {
  bottom: -0.25em;
}
img {
  border: 0;
}
svg:not(:root) {
  overflow: hidden;
}
figure {
  margin: 1em 40px;
}
hr {
  box-sizing: content-box;
  height: 0;
}
pre {
  overflow: auto;
}
code,
kbd,
pre,
samp {
  font-family: monospace, monospace;
  font-size: 1em;
}
button,
input,
optgroup,
select,
textarea {
  color: inherit;
  font: inherit;
  margin: 0;
}
button {
  overflow: visible;
}
button,
select {
  text-transform: none;
}
button,
html input[type="button"],
input[type="reset"],
input[type="submit"] {
  -webkit-appearance: button;
  cursor: pointer;
}
button[disabled],
html input[disabled] {
  cursor: default;
}
button::-moz-focus-inner,
input::-moz-focus-inner {
  border: 0;
  padding: 0;
}
input {
  line-height: normal;
}
input[type="checkbox"],
input[type="radio"] {
  box-sizing: border-box;
  padding: 0;
}
input[type="number"]::-webkit-inner-spin-button,
input[type="number"]::-webkit-outer-spin-button {
  height: auto;
}
input[type="search"] {
  -webkit-appearance: textfield;
  box-sizing: content-box;
}
input[type="search"]::-webkit-search-cancel-button,
input[type="search"]::-webkit-search-decoration {
  -webkit-appearance: none;
}
fieldset {
  border: 1px solid #c0c0c0;
  margin: 0 2px;
  padding: 0.35em 0.625em 0.75em;
}
legend {
  border: 0;
  padding: 0;
}
textarea {
  overflow: auto;
}
optgroup {
  font-weight: bold;
}
table {
  border-collapse: collapse;
  border-spacing: 0;
}
td,
th {
  padding: 0;
}
/*! Source: https://github.com/h5bp/html5-boilerplate/blob/master/src/css/main.css */
@media print {
  *,
  *:before,
  *:after {
    background: transparent !important;
    color: #000 !important;
    box-shadow: none !important;
    text-shadow: none !important;
  }
  a,
  a:visited {
    text-decoration: underline;
  }
  a[href]:after {
    content: " (" attr(href) ")";
  }
  abbr[title]:after {
    content: " (" attr(title) ")";
  }
  a[href^="#"]:after,
  a[href^="javascript:"]:after {
    content: "";
  }
  pre,
  blockquote {
    border: 1px solid #999;
    page-break-inside: avoid;
  }
  thead {
    display: table-header-group;
  }
  tr,
  img {
    page-break-inside: avoid;
  }
  img {
    max-width: 100% !important;
  }
  p,
  h2,
  h3 {
    orphans: 3;
    widows: 3;
  }
  h2,
  h3 {
    page-break-after: avoid;
  }
  .navbar {
    display: none;
  }
  .btn > .caret,
  .dropup > .btn > .caret {
    border-top-color: #000 !important;
  }
  .label {
    border: 1px solid #000;
  }
  .table {
    border-collapse: collapse !important;
  }
  .table td,
  .table th {
    background-color: #fff !important;
  }
  .table-bordered th,
  .table-bordered td {
    border: 1px solid #ddd !important;
  }
}
@font-face {
  font-family: 'Glyphicons Halflings';
  src: url('../components/bootstrap/fonts/glyphicons-halflings-regular.eot');
  src: url('../components/bootstrap/fonts/glyphicons-halflings-regular.eot?#iefix') format('embedded-opentype'), url('../components/bootstrap/fonts/glyphicons-halflings-regular.woff2') format('woff2'), url('../components/bootstrap/fonts/glyphicons-halflings-regular.woff') format('woff'), url('../components/bootstrap/fonts/glyphicons-halflings-regular.ttf') format('truetype'), url('../components/bootstrap/fonts/glyphicons-halflings-regular.svg#glyphicons_halflingsregular') format('svg');
}
.glyphicon {
  position: relative;
  top: 1px;
  display: inline-block;
  font-family: 'Glyphicons Halflings';
  font-style: normal;
  font-weight: normal;
  line-height: 1;
  -webkit-font-smoothing: antialiased;
  -moz-osx-font-smoothing: grayscale;
}
.glyphicon-asterisk:before {
  content: "\002a";
}
.glyphicon-plus:before {
  content: "\002b";
}
.glyphicon-euro:before,
.glyphicon-eur:before {
  content: "\20ac";
}
.glyphicon-minus:before {
  content: "\2212";
}
.glyphicon-cloud:before {
  content: "\2601";
}
.glyphicon-envelope:before {
  content: "\2709";
}
.glyphicon-pencil:before {
  content: "\270f";
}
.glyphicon-glass:before {
  content: "\e001";
}
.glyphicon-music:before {
  content: "\e002";
}
.glyphicon-search:before {
  content: "\e003";
}
.glyphicon-heart:before {
  content: "\e005";
}
.glyphicon-star:before {
  content: "\e006";
}
.glyphicon-star-empty:before {
  content: "\e007";
}
.glyphicon-user:before {
  content: "\e008";
}
.glyphicon-film:before {
  content: "\e009";
}
.glyphicon-th-large:before {
  content: "\e010";
}
.glyphicon-th:before {
  content: "\e011";
}
.glyphicon-th-list:before {
  content: "\e012";
}
.glyphicon-ok:before {
  content: "\e013";
}
.glyphicon-remove:before {
  content: "\e014";
}
.glyphicon-zoom-in:before {
  content: "\e015";
}
.glyphicon-zoom-out:before {
  content: "\e016";
}
.glyphicon-off:before {
  content: "\e017";
}
.glyphicon-signal:before {
  content: "\e018";
}
.glyphicon-cog:before {
  content: "\e019";
}
.glyphicon-trash:before {
  content: "\e020";
}
.glyphicon-home:before {
  content: "\e021";
}
.glyphicon-file:before {
  content: "\e022";
}
.glyphicon-time:before {
  content: "\e023";
}
.glyphicon-road:before {
  content: "\e024";
}
.glyphicon-download-alt:before {
  content: "\e025";
}
.glyphicon-download:before {
  content: "\e026";
}
.glyphicon-upload:before {
  content: "\e027";
}
.glyphicon-inbox:before {
  content: "\e028";
}
.glyphicon-play-circle:before {
  content: "\e029";
}
.glyphicon-repeat:before {
  content: "\e030";
}
.glyphicon-refresh:before {
  content: "\e031";
}
.glyphicon-list-alt:before {
  content: "\e032";
}
.glyphicon-lock:before {
  content: "\e033";
}
.glyphicon-flag:before {
  content: "\e034";
}
.glyphicon-headphones:before {
  content: "\e035";
}
.glyphicon-volume-off:before {
  content: "\e036";
}
.glyphicon-volume-down:before {
  content: "\e037";
}
.glyphicon-volume-up:before {
  content: "\e038";
}
.glyphicon-qrcode:before {
  content: "\e039";
}
.glyphicon-barcode:before {
  content: "\e040";
}
.glyphicon-tag:before {
  content: "\e041";
}
.glyphicon-tags:before {
  content: "\e042";
}
.glyphicon-book:before {
  content: "\e043";
}
.glyphicon-bookmark:before {
  content: "\e044";
}
.glyphicon-print:before {
  content: "\e045";
}
.glyphicon-camera:before {
  content: "\e046";
}
.glyphicon-font:before {
  content: "\e047";
}
.glyphicon-bold:before {
  content: "\e048";
}
.glyphicon-italic:before {
  content: "\e049";
}
.glyphicon-text-height:before {
  content: "\e050";
}
.glyphicon-text-width:before {
  content: "\e051";
}
.glyphicon-align-left:before {
  content: "\e052";
}
.glyphicon-align-center:before {
  content: "\e053";
}
.glyphicon-align-right:before {
  content: "\e054";
}
.glyphicon-align-justify:before {
  content: "\e055";
}
.glyphicon-list:before {
  content: "\e056";
}
.glyphicon-indent-left:before {
  content: "\e057";
}
.glyphicon-indent-right:before {
  content: "\e058";
}
.glyphicon-facetime-video:before {
  content: "\e059";
}
.glyphicon-picture:before {
  content: "\e060";
}
.glyphicon-map-marker:before {
  content: "\e062";
}
.glyphicon-adjust:before {
  content: "\e063";
}
.glyphicon-tint:before {
  content: "\e064";
}
.glyphicon-edit:before {
  content: "\e065";
}
.glyphicon-share:before {
  content: "\e066";
}
.glyphicon-check:before {
  content: "\e067";
}
.glyphicon-move:before {
  content: "\e068";
}
.glyphicon-step-backward:before {
  content: "\e069";
}
.glyphicon-fast-backward:before {
  content: "\e070";
}
.glyphicon-backward:before {
  content: "\e071";
}
.glyphicon-play:before {
  content: "\e072";
}
.glyphicon-pause:before {
  content: "\e073";
}
.glyphicon-stop:before {
  content: "\e074";
}
.glyphicon-forward:before {
  content: "\e075";
}
.glyphicon-fast-forward:before {
  content: "\e076";
}
.glyphicon-step-forward:before {
  content: "\e077";
}
.glyphicon-eject:before {
  content: "\e078";
}
.glyphicon-chevron-left:before {
  content: "\e079";
}
.glyphicon-chevron-right:before {
  content: "\e080";
}
.glyphicon-plus-sign:before {
  content: "\e081";
}
.glyphicon-minus-sign:before {
  content: "\e082";
}
.glyphicon-remove-sign:before {
  content: "\e083";
}
.glyphicon-ok-sign:before {
  content: "\e084";
}
.glyphicon-question-sign:before {
  content: "\e085";
}
.glyphicon-info-sign:before {
  content: "\e086";
}
.glyphicon-screenshot:before {
  content: "\e087";
}
.glyphicon-remove-circle:before {
  content: "\e088";
}
.glyphicon-ok-circle:before {
  content: "\e089";
}
.glyphicon-ban-circle:before {
  content: "\e090";
}
.glyphicon-arrow-left:before {
  content: "\e091";
}
.glyphicon-arrow-right:before {
  content: "\e092";
}
.glyphicon-arrow-up:before {
  content: "\e093";
}
.glyphicon-arrow-down:before {
  content: "\e094";
}
.glyphicon-share-alt:before {
  content: "\e095";
}
.glyphicon-resize-full:before {
  content: "\e096";
}
.glyphicon-resize-small:before {
  content: "\e097";
}
.glyphicon-exclamation-sign:before {
  content: "\e101";
}
.glyphicon-gift:before {
  content: "\e102";
}
.glyphicon-leaf:before {
  content: "\e103";
}
.glyphicon-fire:before {
  content: "\e104";
}
.glyphicon-eye-open:before {
  content: "\e105";
}
.glyphicon-eye-close:before {
  content: "\e106";
}
.glyphicon-warning-sign:before {
  content: "\e107";
}
.glyphicon-plane:before {
  content: "\e108";
}
.glyphicon-calendar:before {
  content: "\e109";
}
.glyphicon-random:before {
  content: "\e110";
}
.glyphicon-comment:before {
  content: "\e111";
}
.glyphicon-magnet:before {
  content: "\e112";
}
.glyphicon-chevron-up:before {
  content: "\e113";
}
.glyphicon-chevron-down:before {
  content: "\e114";
}
.glyphicon-retweet:before {
  content: "\e115";
}
.glyphicon-shopping-cart:before {
  content: "\e116";
}
.glyphicon-folder-close:before {
  content: "\e117";
}
.glyphicon-folder-open:before {
  content: "\e118";
}
.glyphicon-resize-vertical:before {
  content: "\e119";
}
.glyphicon-resize-horizontal:before {
  content: "\e120";
}
.glyphicon-hdd:before {
  content: "\e121";
}
.glyphicon-bullhorn:before {
  content: "\e122";
}
.glyphicon-bell:before {
  content: "\e123";
}
.glyphicon-certificate:before {
  content: "\e124";
}
.glyphicon-thumbs-up:before {
  content: "\e125";
}
.glyphicon-thumbs-down:before {
  content: "\e126";
}
.glyphicon-hand-right:before {
  content: "\e127";
}
.glyphicon-hand-left:before {
  content: "\e128";
}
.glyphicon-hand-up:before {
  content: "\e129";
}
.glyphicon-hand-down:before {
  content: "\e130";
}
.glyphicon-circle-arrow-right:before {
  content: "\e131";
}
.glyphicon-circle-arrow-left:before {
  content: "\e132";
}
.glyphicon-circle-arrow-up:before {
  content: "\e133";
}
.glyphicon-circle-arrow-down:before {
  content: "\e134";
}
.glyphicon-globe:before {
  content: "\e135";
}
.glyphicon-wrench:before {
  content: "\e136";
}
.glyphicon-tasks:before {
  content: "\e137";
}
.glyphicon-filter:before {
  content: "\e138";
}
.glyphicon-briefcase:before {
  content: "\e139";
}
.glyphicon-fullscreen:before {
  content: "\e140";
}
.glyphicon-dashboard:before {
  content: "\e141";
}
.glyphicon-paperclip:before {
  content: "\e142";
}
.glyphicon-heart-empty:before {
  content: "\e143";
}
.glyphicon-link:before {
  content: "\e144";
}
.glyphicon-phone:before {
  content: "\e145";
}
.glyphicon-pushpin:before {
  content: "\e146";
}
.glyphicon-usd:before {
  content: "\e148";
}
.glyphicon-gbp:before {
  content: "\e149";
}
.glyphicon-sort:before {
  content: "\e150";
}
.glyphicon-sort-by-alphabet:before {
  content: "\e151";
}
.glyphicon-sort-by-alphabet-alt:before {
  content: "\e152";
}
.glyphicon-sort-by-order:before {
  content: "\e153";
}
.glyphicon-sort-by-order-alt:before {
  content: "\e154";
}
.glyphicon-sort-by-attributes:before {
  content: "\e155";
}
.glyphicon-sort-by-attributes-alt:before {
  content: "\e156";
}
.glyphicon-unchecked:before {
  content: "\e157";
}
.glyphicon-expand:before {
  content: "\e158";
}
.glyphicon-collapse-down:before {
  content: "\e159";
}
.glyphicon-collapse-up:before {
  content: "\e160";
}
.glyphicon-log-in:before {
  content: "\e161";
}
.glyphicon-flash:before {
  content: "\e162";
}
.glyphicon-log-out:before {
  content: "\e163";
}
.glyphicon-new-window:before {
  content: "\e164";
}
.glyphicon-record:before {
  content: "\e165";
}
.glyphicon-save:before {
  content: "\e166";
}
.glyphicon-open:before {
  content: "\e167";
}
.glyphicon-saved:before {
  content: "\e168";
}
.glyphicon-import:before {
  content: "\e169";
}
.glyphicon-export:before {
  content: "\e170";
}
.glyphicon-send:before {
  content: "\e171";
}
.glyphicon-floppy-disk:before {
  content: "\e172";
}
.glyphicon-floppy-saved:before {
  content: "\e173";
}
.glyphicon-floppy-remove:before {
  content: "\e174";
}
.glyphicon-floppy-save:before {
  content: "\e175";
}
.glyphicon-floppy-open:before {
  content: "\e176";
}
.glyphicon-credit-card:before {
  content: "\e177";
}
.glyphicon-transfer:before {
  content: "\e178";
}
.glyphicon-cutlery:before {
  content: "\e179";
}
.glyphicon-header:before {
  content: "\e180";
}
.glyphicon-compressed:before {
  content: "\e181";
}
.glyphicon-earphone:before {
  content: "\e182";
}
.glyphicon-phone-alt:before {
  content: "\e183";
}
.glyphicon-tower:before {
  content: "\e184";
}
.glyphicon-stats:before {
  content: "\e185";
}
.glyphicon-sd-video:before {
  content: "\e186";
}
.glyphicon-hd-video:before {
  content: "\e187";
}
.glyphicon-subtitles:before {
  content: "\e188";
}
.glyphicon-sound-stereo:before {
  content: "\e189";
}
.glyphicon-sound-dolby:before {
  content: "\e190";
}
.glyphicon-sound-5-1:before {
  content: "\e191";
}
.glyphicon-sound-6-1:before {
  content: "\e192";
}
.glyphicon-sound-7-1:before {
  content: "\e193";
}
.glyphicon-copyright-mark:before {
  content: "\e194";
}
.glyphicon-registration-mark:before {
  content: "\e195";
}
.glyphicon-cloud-download:before {
  content: "\e197";
}
.glyphicon-cloud-upload:before {
  content: "\e198";
}
.glyphicon-tree-conifer:before {
  content: "\e199";
}
.glyphicon-tree-deciduous:before {
  content: "\e200";
}
.glyphicon-cd:before {
  content: "\e201";
}
.glyphicon-save-file:before {
  content: "\e202";
}
.glyphicon-open-file:before {
  content: "\e203";
}
.glyphicon-level-up:before {
  content: "\e204";
}
.glyphicon-copy:before {
  content: "\e205";
}
.glyphicon-paste:before {
  content: "\e206";
}
.glyphicon-alert:before {
  content: "\e209";
}
.glyphicon-equalizer:before {
  content: "\e210";
}
.glyphicon-king:before {
  content: "\e211";
}
.glyphicon-queen:before {
  content: "\e212";
}
.glyphicon-pawn:before {
  content: "\e213";
}
.glyphicon-bishop:before {
  content: "\e214";
}
.glyphicon-knight:before {
  content: "\e215";
}
.glyphicon-baby-formula:before {
  content: "\e216";
}
.glyphicon-tent:before {
  content: "\26fa";
}
.glyphicon-blackboard:before {
  content: "\e218";
}
.glyphicon-bed:before {
  content: "\e219";
}
.glyphicon-apple:before {
  content: "\f8ff";
}
.glyphicon-erase:before {
  content: "\e221";
}
.glyphicon-hourglass:before {
  content: "\231b";
}
.glyphicon-lamp:before {
  content: "\e223";
}
.glyphicon-duplicate:before {
  content: "\e224";
}
.glyphicon-piggy-bank:before {
  content: "\e225";
}
.glyphicon-scissors:before {
  content: "\e226";
}
.glyphicon-bitcoin:before {
  content: "\e227";
}
.glyphicon-btc:before {
  content: "\e227";
}
.glyphicon-xbt:before {
  content: "\e227";
}
.glyphicon-yen:before {
  content: "\00a5";
}
.glyphicon-jpy:before {
  content: "\00a5";
}
.glyphicon-ruble:before {
  content: "\20bd";
}
.glyphicon-rub:before {
  content: "\20bd";
}
.glyphicon-scale:before {
  content: "\e230";
}
.glyphicon-ice-lolly:before {
  content: "\e231";
}
.glyphicon-ice-lolly-tasted:before {
  content: "\e232";
}
.glyphicon-education:before {
  content: "\e233";
}
.glyphicon-option-horizontal:before {
  content: "\e234";
}
.glyphicon-option-vertical:before {
  content: "\e235";
}
.glyphicon-menu-hamburger:before {
  content: "\e236";
}
.glyphicon-modal-window:before {
  content: "\e237";
}
.glyphicon-oil:before {
  content: "\e238";
}
.glyphicon-grain:before {
  content: "\e239";
}
.glyphicon-sunglasses:before {
  content: "\e240";
}
.glyphicon-text-size:before {
  content: "\e241";
}
.glyphicon-text-color:before {
  content: "\e242";
}
.glyphicon-text-background:before {
  content: "\e243";
}
.glyphicon-object-align-top:before {
  content: "\e244";
}
.glyphicon-object-align-bottom:before {
  content: "\e245";
}
.glyphicon-object-align-horizontal:before {
  content: "\e246";
}
.glyphicon-object-align-left:before {
  content: "\e247";
}
.glyphicon-object-align-vertical:before {
  content: "\e248";
}
.glyphicon-object-align-right:before {
  content: "\e249";
}
.glyphicon-triangle-right:before {
  content: "\e250";
}
.glyphicon-triangle-left:before {
  content: "\e251";
}
.glyphicon-triangle-bottom:before {
  content: "\e252";
}
.glyphicon-triangle-top:before {
  content: "\e253";
}
.glyphicon-console:before {
  content: "\e254";
}
.glyphicon-superscript:before {
  content: "\e255";
}
.glyphicon-subscript:before {
  content: "\e256";
}
.glyphicon-menu-left:before {
  content: "\e257";
}
.glyphicon-menu-right:before {
  content: "\e258";
}
.glyphicon-menu-down:before {
  content: "\e259";
}
.glyphicon-menu-up:before {
  content: "\e260";
}
* {
  -webkit-box-sizing: border-box;
  -moz-box-sizing: border-box;
  box-sizing: border-box;
}
*:before,
*:after {
  -webkit-box-sizing: border-box;
  -moz-box-sizing: border-box;
  box-sizing: border-box;
}
html {
  font-size: 10px;
  -webkit-tap-highlight-color: rgba(0, 0, 0, 0);
}
body {
  font-family: "Helvetica Neue", Helvetica, Arial, sans-serif;
  font-size: 13px;
  line-height: 1.42857143;
  color: #000;
  background-color: #fff;
}
input,
button,
select,
textarea {
  font-family: inherit;
  font-size: inherit;
  line-height: inherit;
}
a {
  color: #337ab7;
  text-decoration: none;
}
a:hover,
a:focus {
  color: #23527c;
  text-decoration: underline;
}
a:focus {
  outline: 5px auto -webkit-focus-ring-color;
  outline-offset: -2px;
}
figure {
  margin: 0;
}
img {
  vertical-align: middle;
}
.img-responsive,
.thumbnail > img,
.thumbnail a > img,
.carousel-inner > .item > img,
.carousel-inner > .item > a > img {
  display: block;
  max-width: 100%;
  height: auto;
}
.img-rounded {
  border-radius: 3px;
}
.img-thumbnail {
  padding: 4px;
  line-height: 1.42857143;
  background-color: #fff;
  border: 1px solid #ddd;
  border-radius: 2px;
  -webkit-transition: all 0.2s ease-in-out;
  -o-transition: all 0.2s ease-in-out;
  transition: all 0.2s ease-in-out;
  display: inline-block;
  max-width: 100%;
  height: auto;
}
.img-circle {
  border-radius: 50%;
}
hr {
  margin-top: 18px;
  margin-bottom: 18px;
  border: 0;
  border-top: 1px solid #eeeeee;
}
.sr-only {
  position: absolute;
  width: 1px;
  height: 1px;
  margin: -1px;
  padding: 0;
  overflow: hidden;
  clip: rect(0, 0, 0, 0);
  border: 0;
}
.sr-only-focusable:active,
.sr-only-focusable:focus {
  position: static;
  width: auto;
  height: auto;
  margin: 0;
  overflow: visible;
  clip: auto;
}
[role="button"] {
  cursor: pointer;
}
h1,
h2,
h3,
h4,
h5,
h6,
.h1,
.h2,
.h3,
.h4,
.h5,
.h6 {
  font-family: inherit;
  font-weight: 500;
  line-height: 1.1;
  color: inherit;
}
h1 small,
h2 small,
h3 small,
h4 small,
h5 small,
h6 small,
.h1 small,
.h2 small,
.h3 small,
.h4 small,
.h5 small,
.h6 small,
h1 .small,
h2 .small,
h3 .small,
h4 .small,
h5 .small,
h6 .small,
.h1 .small,
.h2 .small,
.h3 .small,
.h4 .small,
.h5 .small,
.h6 .small {
  font-weight: normal;
  line-height: 1;
  color: #777777;
}
h1,
.h1,
h2,
.h2,
h3,
.h3 {
  margin-top: 18px;
  margin-bottom: 9px;
}
h1 small,
.h1 small,
h2 small,
.h2 small,
h3 small,
.h3 small,
h1 .small,
.h1 .small,
h2 .small,
.h2 .small,
h3 .small,
.h3 .small {
  font-size: 65%;
}
h4,
.h4,
h5,
.h5,
h6,
.h6 {
  margin-top: 9px;
  margin-bottom: 9px;
}
h4 small,
.h4 small,
h5 small,
.h5 small,
h6 small,
.h6 small,
h4 .small,
.h4 .small,
h5 .small,
.h5 .small,
h6 .small,
.h6 .small {
  font-size: 75%;
}
h1,
.h1 {
  font-size: 33px;
}
h2,
.h2 {
  font-size: 27px;
}
h3,
.h3 {
  font-size: 23px;
}
h4,
.h4 {
  font-size: 17px;
}
h5,
.h5 {
  font-size: 13px;
}
h6,
.h6 {
  font-size: 12px;
}
p {
  margin: 0 0 9px;
}
.lead {
  margin-bottom: 18px;
  font-size: 14px;
  font-weight: 300;
  line-height: 1.4;
}
@media (min-width: 768px) {
  .lead {
    font-size: 19.5px;
  }
}
small,
.small {
  font-size: 92%;
}
mark,
.mark {
  background-color: #fcf8e3;
  padding: .2em;
}
.text-left {
  text-align: left;
}
.text-right {
  text-align: right;
}
.text-center {
  text-align: center;
}
.text-justify {
  text-align: justify;
}
.text-nowrap {
  white-space: nowrap;
}
.text-lowercase {
  text-transform: lowercase;
}
.text-uppercase {
  text-transform: uppercase;
}
.text-capitalize {
  text-transform: capitalize;
}
.text-muted {
  color: #777777;
}
.text-primary {
  color: #337ab7;
}
a.text-primary:hover,
a.text-primary:focus {
  color: #286090;
}
.text-success {
  color: #3c763d;
}
a.text-success:hover,
a.text-success:focus {
  color: #2b542c;
}
.text-info {
  color: #31708f;
}
a.text-info:hover,
a.text-info:focus {
  color: #245269;
}
.text-warning {
  color: #8a6d3b;
}
a.text-warning:hover,
a.text-warning:focus {
  color: #66512c;
}
.text-danger {
  color: #a94442;
}
a.text-danger:hover,
a.text-danger:focus {
  color: #843534;
}
.bg-primary {
  color: #fff;
  background-color: #337ab7;
}
a.bg-primary:hover,
a.bg-primary:focus {
  background-color: #286090;
}
.bg-success {
  background-color: #dff0d8;
}
a.bg-success:hover,
a.bg-success:focus {
  background-color: #c1e2b3;
}
.bg-info {
  background-color: #d9edf7;
}
a.bg-info:hover,
a.bg-info:focus {
  background-color: #afd9ee;
}
.bg-warning {
  background-color: #fcf8e3;
}
a.bg-warning:hover,
a.bg-warning:focus {
  background-color: #f7ecb5;
}
.bg-danger {
  background-color: #f2dede;
}
a.bg-danger:hover,
a.bg-danger:focus {
  background-color: #e4b9b9;
}
.page-header {
  padding-bottom: 8px;
  margin: 36px 0 18px;
  border-bottom: 1px solid #eeeeee;
}
ul,
ol {
  margin-top: 0;
  margin-bottom: 9px;
}
ul ul,
ol ul,
ul ol,
ol ol {
  margin-bottom: 0;
}
.list-unstyled {
  padding-left: 0;
  list-style: none;
}
.list-inline {
  padding-left: 0;
  list-style: none;
  margin-left: -5px;
}
.list-inline > li {
  display: inline-block;
  padding-left: 5px;
  padding-right: 5px;
}
dl {
  margin-top: 0;
  margin-bottom: 18px;
}
dt,
dd {
  line-height: 1.42857143;
}
dt {
  font-weight: bold;
}
dd {
  margin-left: 0;
}
@media (min-width: 541px) {
  .dl-horizontal dt {
    float: left;
    width: 160px;
    clear: left;
    text-align: right;
    overflow: hidden;
    text-overflow: ellipsis;
    white-space: nowrap;
  }
  .dl-horizontal dd {
    margin-left: 180px;
  }
}
abbr[title],
abbr[data-original-title] {
  cursor: help;
  border-bottom: 1px dotted #777777;
}
.initialism {
  font-size: 90%;
  text-transform: uppercase;
}
blockquote {
  padding: 9px 18px;
  margin: 0 0 18px;
  font-size: inherit;
  border-left: 5px solid #eeeeee;
}
blockquote p:last-child,
blockquote ul:last-child,
blockquote ol:last-child {
  margin-bottom: 0;
}
blockquote footer,
blockquote small,
blockquote .small {
  display: block;
  font-size: 80%;
  line-height: 1.42857143;
  color: #777777;
}
blockquote footer:before,
blockquote small:before,
blockquote .small:before {
  content: '\2014 \00A0';
}
.blockquote-reverse,
blockquote.pull-right {
  padding-right: 15px;
  padding-left: 0;
  border-right: 5px solid #eeeeee;
  border-left: 0;
  text-align: right;
}
.blockquote-reverse footer:before,
blockquote.pull-right footer:before,
.blockquote-reverse small:before,
blockquote.pull-right small:before,
.blockquote-reverse .small:before,
blockquote.pull-right .small:before {
  content: '';
}
.blockquote-reverse footer:after,
blockquote.pull-right footer:after,
.blockquote-reverse small:after,
blockquote.pull-right small:after,
.blockquote-reverse .small:after,
blockquote.pull-right .small:after {
  content: '\00A0 \2014';
}
address {
  margin-bottom: 18px;
  font-style: normal;
  line-height: 1.42857143;
}
code,
kbd,
pre,
samp {
  font-family: monospace;
}
code {
  padding: 2px 4px;
  font-size: 90%;
  color: #c7254e;
  background-color: #f9f2f4;
  border-radius: 2px;
}
kbd {
  padding: 2px 4px;
  font-size: 90%;
  color: #888;
  background-color: transparent;
  border-radius: 1px;
  box-shadow: inset 0 -1px 0 rgba(0, 0, 0, 0.25);
}
kbd kbd {
  padding: 0;
  font-size: 100%;
  font-weight: bold;
  box-shadow: none;
}
pre {
  display: block;
  padding: 8.5px;
  margin: 0 0 9px;
  font-size: 12px;
  line-height: 1.42857143;
  word-break: break-all;
  word-wrap: break-word;
  color: #333333;
  background-color: #f5f5f5;
  border: 1px solid #ccc;
  border-radius: 2px;
}
pre code {
  padding: 0;
  font-size: inherit;
  color: inherit;
  white-space: pre-wrap;
  background-color: transparent;
  border-radius: 0;
}
.pre-scrollable {
  max-height: 340px;
  overflow-y: scroll;
}
.container {
  margin-right: auto;
  margin-left: auto;
  padding-left: 0px;
  padding-right: 0px;
}
@media (min-width: 768px) {
  .container {
    width: 768px;
  }
}
@media (min-width: 992px) {
  .container {
    width: 940px;
  }
}
@media (min-width: 1200px) {
  .container {
    width: 1140px;
  }
}
.container-fluid {
  margin-right: auto;
  margin-left: auto;
  padding-left: 0px;
  padding-right: 0px;
}
.row {
  margin-left: 0px;
  margin-right: 0px;
}
.col-xs-1, .col-sm-1, .col-md-1, .col-lg-1, .col-xs-2, .col-sm-2, .col-md-2, .col-lg-2, .col-xs-3, .col-sm-3, .col-md-3, .col-lg-3, .col-xs-4, .col-sm-4, .col-md-4, .col-lg-4, .col-xs-5, .col-sm-5, .col-md-5, .col-lg-5, .col-xs-6, .col-sm-6, .col-md-6, .col-lg-6, .col-xs-7, .col-sm-7, .col-md-7, .col-lg-7, .col-xs-8, .col-sm-8, .col-md-8, .col-lg-8, .col-xs-9, .col-sm-9, .col-md-9, .col-lg-9, .col-xs-10, .col-sm-10, .col-md-10, .col-lg-10, .col-xs-11, .col-sm-11, .col-md-11, .col-lg-11, .col-xs-12, .col-sm-12, .col-md-12, .col-lg-12 {
  position: relative;
  min-height: 1px;
  padding-left: 0px;
  padding-right: 0px;
}
.col-xs-1, .col-xs-2, .col-xs-3, .col-xs-4, .col-xs-5, .col-xs-6, .col-xs-7, .col-xs-8, .col-xs-9, .col-xs-10, .col-xs-11, .col-xs-12 {
  float: left;
}
.col-xs-12 {
  width: 100%;
}
.col-xs-11 {
  width: 91.66666667%;
}
.col-xs-10 {
  width: 83.33333333%;
}
.col-xs-9 {
  width: 75%;
}
.col-xs-8 {
  width: 66.66666667%;
}
.col-xs-7 {
  width: 58.33333333%;
}
.col-xs-6 {
  width: 50%;
}
.col-xs-5 {
  width: 41.66666667%;
}
.col-xs-4 {
  width: 33.33333333%;
}
.col-xs-3 {
  width: 25%;
}
.col-xs-2 {
  width: 16.66666667%;
}
.col-xs-1 {
  width: 8.33333333%;
}
.col-xs-pull-12 {
  right: 100%;
}
.col-xs-pull-11 {
  right: 91.66666667%;
}
.col-xs-pull-10 {
  right: 83.33333333%;
}
.col-xs-pull-9 {
  right: 75%;
}
.col-xs-pull-8 {
  right: 66.66666667%;
}
.col-xs-pull-7 {
  right: 58.33333333%;
}
.col-xs-pull-6 {
  right: 50%;
}
.col-xs-pull-5 {
  right: 41.66666667%;
}
.col-xs-pull-4 {
  right: 33.33333333%;
}
.col-xs-pull-3 {
  right: 25%;
}
.col-xs-pull-2 {
  right: 16.66666667%;
}
.col-xs-pull-1 {
  right: 8.33333333%;
}
.col-xs-pull-0 {
  right: auto;
}
.col-xs-push-12 {
  left: 100%;
}
.col-xs-push-11 {
  left: 91.66666667%;
}
.col-xs-push-10 {
  left: 83.33333333%;
}
.col-xs-push-9 {
  left: 75%;
}
.col-xs-push-8 {
  left: 66.66666667%;
}
.col-xs-push-7 {
  left: 58.33333333%;
}
.col-xs-push-6 {
  left: 50%;
}
.col-xs-push-5 {
  left: 41.66666667%;
}
.col-xs-push-4 {
  left: 33.33333333%;
}
.col-xs-push-3 {
  left: 25%;
}
.col-xs-push-2 {
  left: 16.66666667%;
}
.col-xs-push-1 {
  left: 8.33333333%;
}
.col-xs-push-0 {
  left: auto;
}
.col-xs-offset-12 {
  margin-left: 100%;
}
.col-xs-offset-11 {
  margin-left: 91.66666667%;
}
.col-xs-offset-10 {
  margin-left: 83.33333333%;
}
.col-xs-offset-9 {
  margin-left: 75%;
}
.col-xs-offset-8 {
  margin-left: 66.66666667%;
}
.col-xs-offset-7 {
  margin-left: 58.33333333%;
}
.col-xs-offset-6 {
  margin-left: 50%;
}
.col-xs-offset-5 {
  margin-left: 41.66666667%;
}
.col-xs-offset-4 {
  margin-left: 33.33333333%;
}
.col-xs-offset-3 {
  margin-left: 25%;
}
.col-xs-offset-2 {
  margin-left: 16.66666667%;
}
.col-xs-offset-1 {
  margin-left: 8.33333333%;
}
.col-xs-offset-0 {
  margin-left: 0%;
}
@media (min-width: 768px) {
  .col-sm-1, .col-sm-2, .col-sm-3, .col-sm-4, .col-sm-5, .col-sm-6, .col-sm-7, .col-sm-8, .col-sm-9, .col-sm-10, .col-sm-11, .col-sm-12 {
    float: left;
  }
  .col-sm-12 {
    width: 100%;
  }
  .col-sm-11 {
    width: 91.66666667%;
  }
  .col-sm-10 {
    width: 83.33333333%;
  }
  .col-sm-9 {
    width: 75%;
  }
  .col-sm-8 {
    width: 66.66666667%;
  }
  .col-sm-7 {
    width: 58.33333333%;
  }
  .col-sm-6 {
    width: 50%;
  }
  .col-sm-5 {
    width: 41.66666667%;
  }
  .col-sm-4 {
    width: 33.33333333%;
  }
  .col-sm-3 {
    width: 25%;
  }
  .col-sm-2 {
    width: 16.66666667%;
  }
  .col-sm-1 {
    width: 8.33333333%;
  }
  .col-sm-pull-12 {
    right: 100%;
  }
  .col-sm-pull-11 {
    right: 91.66666667%;
  }
  .col-sm-pull-10 {
    right: 83.33333333%;
  }
  .col-sm-pull-9 {
    right: 75%;
  }
  .col-sm-pull-8 {
    right: 66.66666667%;
  }
  .col-sm-pull-7 {
    right: 58.33333333%;
  }
  .col-sm-pull-6 {
    right: 50%;
  }
  .col-sm-pull-5 {
    right: 41.66666667%;
  }
  .col-sm-pull-4 {
    right: 33.33333333%;
  }
  .col-sm-pull-3 {
    right: 25%;
  }
  .col-sm-pull-2 {
    right: 16.66666667%;
  }
  .col-sm-pull-1 {
    right: 8.33333333%;
  }
  .col-sm-pull-0 {
    right: auto;
  }
  .col-sm-push-12 {
    left: 100%;
  }
  .col-sm-push-11 {
    left: 91.66666667%;
  }
  .col-sm-push-10 {
    left: 83.33333333%;
  }
  .col-sm-push-9 {
    left: 75%;
  }
  .col-sm-push-8 {
    left: 66.66666667%;
  }
  .col-sm-push-7 {
    left: 58.33333333%;
  }
  .col-sm-push-6 {
    left: 50%;
  }
  .col-sm-push-5 {
    left: 41.66666667%;
  }
  .col-sm-push-4 {
    left: 33.33333333%;
  }
  .col-sm-push-3 {
    left: 25%;
  }
  .col-sm-push-2 {
    left: 16.66666667%;
  }
  .col-sm-push-1 {
    left: 8.33333333%;
  }
  .col-sm-push-0 {
    left: auto;
  }
  .col-sm-offset-12 {
    margin-left: 100%;
  }
  .col-sm-offset-11 {
    margin-left: 91.66666667%;
  }
  .col-sm-offset-10 {
    margin-left: 83.33333333%;
  }
  .col-sm-offset-9 {
    margin-left: 75%;
  }
  .col-sm-offset-8 {
    margin-left: 66.66666667%;
  }
  .col-sm-offset-7 {
    margin-left: 58.33333333%;
  }
  .col-sm-offset-6 {
    margin-left: 50%;
  }
  .col-sm-offset-5 {
    margin-left: 41.66666667%;
  }
  .col-sm-offset-4 {
    margin-left: 33.33333333%;
  }
  .col-sm-offset-3 {
    margin-left: 25%;
  }
  .col-sm-offset-2 {
    margin-left: 16.66666667%;
  }
  .col-sm-offset-1 {
    margin-left: 8.33333333%;
  }
  .col-sm-offset-0 {
    margin-left: 0%;
  }
}
@media (min-width: 992px) {
  .col-md-1, .col-md-2, .col-md-3, .col-md-4, .col-md-5, .col-md-6, .col-md-7, .col-md-8, .col-md-9, .col-md-10, .col-md-11, .col-md-12 {
    float: left;
  }
  .col-md-12 {
    width: 100%;
  }
  .col-md-11 {
    width: 91.66666667%;
  }
  .col-md-10 {
    width: 83.33333333%;
  }
  .col-md-9 {
    width: 75%;
  }
  .col-md-8 {
    width: 66.66666667%;
  }
  .col-md-7 {
    width: 58.33333333%;
  }
  .col-md-6 {
    width: 50%;
  }
  .col-md-5 {
    width: 41.66666667%;
  }
  .col-md-4 {
    width: 33.33333333%;
  }
  .col-md-3 {
    width: 25%;
  }
  .col-md-2 {
    width: 16.66666667%;
  }
  .col-md-1 {
    width: 8.33333333%;
  }
  .col-md-pull-12 {
    right: 100%;
  }
  .col-md-pull-11 {
    right: 91.66666667%;
  }
  .col-md-pull-10 {
    right: 83.33333333%;
  }
  .col-md-pull-9 {
    right: 75%;
  }
  .col-md-pull-8 {
    right: 66.66666667%;
  }
  .col-md-pull-7 {
    right: 58.33333333%;
  }
  .col-md-pull-6 {
    right: 50%;
  }
  .col-md-pull-5 {
    right: 41.66666667%;
  }
  .col-md-pull-4 {
    right: 33.33333333%;
  }
  .col-md-pull-3 {
    right: 25%;
  }
  .col-md-pull-2 {
    right: 16.66666667%;
  }
  .col-md-pull-1 {
    right: 8.33333333%;
  }
  .col-md-pull-0 {
    right: auto;
  }
  .col-md-push-12 {
    left: 100%;
  }
  .col-md-push-11 {
    left: 91.66666667%;
  }
  .col-md-push-10 {
    left: 83.33333333%;
  }
  .col-md-push-9 {
    left: 75%;
  }
  .col-md-push-8 {
    left: 66.66666667%;
  }
  .col-md-push-7 {
    left: 58.33333333%;
  }
  .col-md-push-6 {
    left: 50%;
  }
  .col-md-push-5 {
    left: 41.66666667%;
  }
  .col-md-push-4 {
    left: 33.33333333%;
  }
  .col-md-push-3 {
    left: 25%;
  }
  .col-md-push-2 {
    left: 16.66666667%;
  }
  .col-md-push-1 {
    left: 8.33333333%;
  }
  .col-md-push-0 {
    left: auto;
  }
  .col-md-offset-12 {
    margin-left: 100%;
  }
  .col-md-offset-11 {
    margin-left: 91.66666667%;
  }
  .col-md-offset-10 {
    margin-left: 83.33333333%;
  }
  .col-md-offset-9 {
    margin-left: 75%;
  }
  .col-md-offset-8 {
    margin-left: 66.66666667%;
  }
  .col-md-offset-7 {
    margin-left: 58.33333333%;
  }
  .col-md-offset-6 {
    margin-left: 50%;
  }
  .col-md-offset-5 {
    margin-left: 41.66666667%;
  }
  .col-md-offset-4 {
    margin-left: 33.33333333%;
  }
  .col-md-offset-3 {
    margin-left: 25%;
  }
  .col-md-offset-2 {
    margin-left: 16.66666667%;
  }
  .col-md-offset-1 {
    margin-left: 8.33333333%;
  }
  .col-md-offset-0 {
    margin-left: 0%;
  }
}
@media (min-width: 1200px) {
  .col-lg-1, .col-lg-2, .col-lg-3, .col-lg-4, .col-lg-5, .col-lg-6, .col-lg-7, .col-lg-8, .col-lg-9, .col-lg-10, .col-lg-11, .col-lg-12 {
    float: left;
  }
  .col-lg-12 {
    width: 100%;
  }
  .col-lg-11 {
    width: 91.66666667%;
  }
  .col-lg-10 {
    width: 83.33333333%;
  }
  .col-lg-9 {
    width: 75%;
  }
  .col-lg-8 {
    width: 66.66666667%;
  }
  .col-lg-7 {
    width: 58.33333333%;
  }
  .col-lg-6 {
    width: 50%;
  }
  .col-lg-5 {
    width: 41.66666667%;
  }
  .col-lg-4 {
    width: 33.33333333%;
  }
  .col-lg-3 {
    width: 25%;
  }
  .col-lg-2 {
    width: 16.66666667%;
  }
  .col-lg-1 {
    width: 8.33333333%;
  }
  .col-lg-pull-12 {
    right: 100%;
  }
  .col-lg-pull-11 {
    right: 91.66666667%;
  }
  .col-lg-pull-10 {
    right: 83.33333333%;
  }
  .col-lg-pull-9 {
    right: 75%;
  }
  .col-lg-pull-8 {
    right: 66.66666667%;
  }
  .col-lg-pull-7 {
    right: 58.33333333%;
  }
  .col-lg-pull-6 {
    right: 50%;
  }
  .col-lg-pull-5 {
    right: 41.66666667%;
  }
  .col-lg-pull-4 {
    right: 33.33333333%;
  }
  .col-lg-pull-3 {
    right: 25%;
  }
  .col-lg-pull-2 {
    right: 16.66666667%;
  }
  .col-lg-pull-1 {
    right: 8.33333333%;
  }
  .col-lg-pull-0 {
    right: auto;
  }
  .col-lg-push-12 {
    left: 100%;
  }
  .col-lg-push-11 {
    left: 91.66666667%;
  }
  .col-lg-push-10 {
    left: 83.33333333%;
  }
  .col-lg-push-9 {
    left: 75%;
  }
  .col-lg-push-8 {
    left: 66.66666667%;
  }
  .col-lg-push-7 {
    left: 58.33333333%;
  }
  .col-lg-push-6 {
    left: 50%;
  }
  .col-lg-push-5 {
    left: 41.66666667%;
  }
  .col-lg-push-4 {
    left: 33.33333333%;
  }
  .col-lg-push-3 {
    left: 25%;
  }
  .col-lg-push-2 {
    left: 16.66666667%;
  }
  .col-lg-push-1 {
    left: 8.33333333%;
  }
  .col-lg-push-0 {
    left: auto;
  }
  .col-lg-offset-12 {
    margin-left: 100%;
  }
  .col-lg-offset-11 {
    margin-left: 91.66666667%;
  }
  .col-lg-offset-10 {
    margin-left: 83.33333333%;
  }
  .col-lg-offset-9 {
    margin-left: 75%;
  }
  .col-lg-offset-8 {
    margin-left: 66.66666667%;
  }
  .col-lg-offset-7 {
    margin-left: 58.33333333%;
  }
  .col-lg-offset-6 {
    margin-left: 50%;
  }
  .col-lg-offset-5 {
    margin-left: 41.66666667%;
  }
  .col-lg-offset-4 {
    margin-left: 33.33333333%;
  }
  .col-lg-offset-3 {
    margin-left: 25%;
  }
  .col-lg-offset-2 {
    margin-left: 16.66666667%;
  }
  .col-lg-offset-1 {
    margin-left: 8.33333333%;
  }
  .col-lg-offset-0 {
    margin-left: 0%;
  }
}
table {
  background-color: transparent;
}
caption {
  padding-top: 8px;
  padding-bottom: 8px;
  color: #777777;
  text-align: left;
}
th {
  text-align: left;
}
.table {
  width: 100%;
  max-width: 100%;
  margin-bottom: 18px;
}
.table > thead > tr > th,
.table > tbody > tr > th,
.table > tfoot > tr > th,
.table > thead > tr > td,
.table > tbody > tr > td,
.table > tfoot > tr > td {
  padding: 8px;
  line-height: 1.42857143;
  vertical-align: top;
  border-top: 1px solid #ddd;
}
.table > thead > tr > th {
  vertical-align: bottom;
  border-bottom: 2px solid #ddd;
}
.table > caption + thead > tr:first-child > th,
.table > colgroup + thead > tr:first-child > th,
.table > thead:first-child > tr:first-child > th,
.table > caption + thead > tr:first-child > td,
.table > colgroup + thead > tr:first-child > td,
.table > thead:first-child > tr:first-child > td {
  border-top: 0;
}
.table > tbody + tbody {
  border-top: 2px solid #ddd;
}
.table .table {
  background-color: #fff;
}
.table-condensed > thead > tr > th,
.table-condensed > tbody > tr > th,
.table-condensed > tfoot > tr > th,
.table-condensed > thead > tr > td,
.table-condensed > tbody > tr > td,
.table-condensed > tfoot > tr > td {
  padding: 5px;
}
.table-bordered {
  border: 1px solid #ddd;
}
.table-bordered > thead > tr > th,
.table-bordered > tbody > tr > th,
.table-bordered > tfoot > tr > th,
.table-bordered > thead > tr > td,
.table-bordered > tbody > tr > td,
.table-bordered > tfoot > tr > td {
  border: 1px solid #ddd;
}
.table-bordered > thead > tr > th,
.table-bordered > thead > tr > td {
  border-bottom-width: 2px;
}
.table-striped > tbody > tr:nth-of-type(odd) {
  background-color: #f9f9f9;
}
.table-hover > tbody > tr:hover {
  background-color: #f5f5f5;
}
table col[class*="col-"] {
  position: static;
  float: none;
  display: table-column;
}
table td[class*="col-"],
table th[class*="col-"] {
  position: static;
  float: none;
  display: table-cell;
}
.table > thead > tr > td.active,
.table > tbody > tr > td.active,
.table > tfoot > tr > td.active,
.table > thead > tr > th.active,
.table > tbody > tr > th.active,
.table > tfoot > tr > th.active,
.table > thead > tr.active > td,
.table > tbody > tr.active > td,
.table > tfoot > tr.active > td,
.table > thead > tr.active > th,
.table > tbody > tr.active > th,
.table > tfoot > tr.active > th {
  background-color: #f5f5f5;
}
.table-hover > tbody > tr > td.active:hover,
.table-hover > tbody > tr > th.active:hover,
.table-hover > tbody > tr.active:hover > td,
.table-hover > tbody > tr:hover > .active,
.table-hover > tbody > tr.active:hover > th {
  background-color: #e8e8e8;
}
.table > thead > tr > td.success,
.table > tbody > tr > td.success,
.table > tfoot > tr > td.success,
.table > thead > tr > th.success,
.table > tbody > tr > th.success,
.table > tfoot > tr > th.success,
.table > thead > tr.success > td,
.table > tbody > tr.success > td,
.table > tfoot > tr.success > td,
.table > thead > tr.success > th,
.table > tbody > tr.success > th,
.table > tfoot > tr.success > th {
  background-color: #dff0d8;
}
.table-hover > tbody > tr > td.success:hover,
.table-hover > tbody > tr > th.success:hover,
.table-hover > tbody > tr.success:hover > td,
.table-hover > tbody > tr:hover > .success,
.table-hover > tbody > tr.success:hover > th {
  background-color: #d0e9c6;
}
.table > thead > tr > td.info,
.table > tbody > tr > td.info,
.table > tfoot > tr > td.info,
.table > thead > tr > th.info,
.table > tbody > tr > th.info,
.table > tfoot > tr > th.info,
.table > thead > tr.info > td,
.table > tbody > tr.info > td,
.table > tfoot > tr.info > td,
.table > thead > tr.info > th,
.table > tbody > tr.info > th,
.table > tfoot > tr.info > th {
  background-color: #d9edf7;
}
.table-hover > tbody > tr > td.info:hover,
.table-hover > tbody > tr > th.info:hover,
.table-hover > tbody > tr.info:hover > td,
.table-hover > tbody > tr:hover > .info,
.table-hover > tbody > tr.info:hover > th {
  background-color: #c4e3f3;
}
.table > thead > tr > td.warning,
.table > tbody > tr > td.warning,
.table > tfoot > tr > td.warning,
.table > thead > tr > th.warning,
.table > tbody > tr > th.warning,
.table > tfoot > tr > th.warning,
.table > thead > tr.warning > td,
.table > tbody > tr.warning > td,
.table > tfoot > tr.warning > td,
.table > thead > tr.warning > th,
.table > tbody > tr.warning > th,
.table > tfoot > tr.warning > th {
  background-color: #fcf8e3;
}
.table-hover > tbody > tr > td.warning:hover,
.table-hover > tbody > tr > th.warning:hover,
.table-hover > tbody > tr.warning:hover > td,
.table-hover > tbody > tr:hover > .warning,
.table-hover > tbody > tr.warning:hover > th {
  background-color: #faf2cc;
}
.table > thead > tr > td.danger,
.table > tbody > tr > td.danger,
.table > tfoot > tr > td.danger,
.table > thead > tr > th.danger,
.table > tbody > tr > th.danger,
.table > tfoot > tr > th.danger,
.table > thead > tr.danger > td,
.table > tbody > tr.danger > td,
.table > tfoot > tr.danger > td,
.table > thead > tr.danger > th,
.table > tbody > tr.danger > th,
.table > tfoot > tr.danger > th {
  background-color: #f2dede;
}
.table-hover > tbody > tr > td.danger:hover,
.table-hover > tbody > tr > th.danger:hover,
.table-hover > tbody > tr.danger:hover > td,
.table-hover > tbody > tr:hover > .danger,
.table-hover > tbody > tr.danger:hover > th {
  background-color: #ebcccc;
}
.table-responsive {
  overflow-x: auto;
  min-height: 0.01%;
}
@media screen and (max-width: 767px) {
  .table-responsive {
    width: 100%;
    margin-bottom: 13.5px;
    overflow-y: hidden;
    -ms-overflow-style: -ms-autohiding-scrollbar;
    border: 1px solid #ddd;
  }
  .table-responsive > .table {
    margin-bottom: 0;
  }
  .table-responsive > .table > thead > tr > th,
  .table-responsive > .table > tbody > tr > th,
  .table-responsive > .table > tfoot > tr > th,
  .table-responsive > .table > thead > tr > td,
  .table-responsive > .table > tbody > tr > td,
  .table-responsive > .table > tfoot > tr > td {
    white-space: nowrap;
  }
  .table-responsive > .table-bordered {
    border: 0;
  }
  .table-responsive > .table-bordered > thead > tr > th:first-child,
  .table-responsive > .table-bordered > tbody > tr > th:first-child,
  .table-responsive > .table-bordered > tfoot > tr > th:first-child,
  .table-responsive > .table-bordered > thead > tr > td:first-child,
  .table-responsive > .table-bordered > tbody > tr > td:first-child,
  .table-responsive > .table-bordered > tfoot > tr > td:first-child {
    border-left: 0;
  }
  .table-responsive > .table-bordered > thead > tr > th:last-child,
  .table-responsive > .table-bordered > tbody > tr > th:last-child,
  .table-responsive > .table-bordered > tfoot > tr > th:last-child,
  .table-responsive > .table-bordered > thead > tr > td:last-child,
  .table-responsive > .table-bordered > tbody > tr > td:last-child,
  .table-responsive > .table-bordered > tfoot > tr > td:last-child {
    border-right: 0;
  }
  .table-responsive > .table-bordered > tbody > tr:last-child > th,
  .table-responsive > .table-bordered > tfoot > tr:last-child > th,
  .table-responsive > .table-bordered > tbody > tr:last-child > td,
  .table-responsive > .table-bordered > tfoot > tr:last-child > td {
    border-bottom: 0;
  }
}
fieldset {
  padding: 0;
  margin: 0;
  border: 0;
  min-width: 0;
}
legend {
  display: block;
  width: 100%;
  padding: 0;
  margin-bottom: 18px;
  font-size: 19.5px;
  line-height: inherit;
  color: #333333;
  border: 0;
  border-bottom: 1px solid #e5e5e5;
}
label {
  display: inline-block;
  max-width: 100%;
  margin-bottom: 5px;
  font-weight: bold;
}
input[type="search"] {
  -webkit-box-sizing: border-box;
  -moz-box-sizing: border-box;
  box-sizing: border-box;
}
input[type="radio"],
input[type="checkbox"] {
  margin: 4px 0 0;
  margin-top: 1px \9;
  line-height: normal;
}
input[type="file"] {
  display: block;
}
input[type="range"] {
  display: block;
  width: 100%;
}
select[multiple],
select[size] {
  height: auto;
}
input[type="file"]:focus,
input[type="radio"]:focus,
input[type="checkbox"]:focus {
  outline: 5px auto -webkit-focus-ring-color;
  outline-offset: -2px;
}
output {
  display: block;
  padding-top: 7px;
  font-size: 13px;
  line-height: 1.42857143;
  color: #555555;
}
.form-control {
  display: block;
  width: 100%;
  height: 32px;
  padding: 6px 12px;
  font-size: 13px;
  line-height: 1.42857143;
  color: #555555;
  background-color: #fff;
  background-image: none;
  border: 1px solid #ccc;
  border-radius: 2px;
  -webkit-box-shadow: inset 0 1px 1px rgba(0, 0, 0, 0.075);
  box-shadow: inset 0 1px 1px rgba(0, 0, 0, 0.075);
  -webkit-transition: border-color ease-in-out .15s, box-shadow ease-in-out .15s;
  -o-transition: border-color ease-in-out .15s, box-shadow ease-in-out .15s;
  transition: border-color ease-in-out .15s, box-shadow ease-in-out .15s;
}
.form-control:focus {
  border-color: #66afe9;
  outline: 0;
  -webkit-box-shadow: inset 0 1px 1px rgba(0,0,0,.075), 0 0 8px rgba(102, 175, 233, 0.6);
  box-shadow: inset 0 1px 1px rgba(0,0,0,.075), 0 0 8px rgba(102, 175, 233, 0.6);
}
.form-control::-moz-placeholder {
  color: #999;
  opacity: 1;
}
.form-control:-ms-input-placeholder {
  color: #999;
}
.form-control::-webkit-input-placeholder {
  color: #999;
}
.form-control::-ms-expand {
  border: 0;
  background-color: transparent;
}
.form-control[disabled],
.form-control[readonly],
fieldset[disabled] .form-control {
  background-color: #eeeeee;
  opacity: 1;
}
.form-control[disabled],
fieldset[disabled] .form-control {
  cursor: not-allowed;
}
textarea.form-control {
  height: auto;
}
input[type="search"] {
  -webkit-appearance: none;
}
@media screen and (-webkit-min-device-pixel-ratio: 0) {
  input[type="date"].form-control,
  input[type="time"].form-control,
  input[type="datetime-local"].form-control,
  input[type="month"].form-control {
    line-height: 32px;
  }
  input[type="date"].input-sm,
  input[type="time"].input-sm,
  input[type="datetime-local"].input-sm,
  input[type="month"].input-sm,
  .input-group-sm input[type="date"],
  .input-group-sm input[type="time"],
  .input-group-sm input[type="datetime-local"],
  .input-group-sm input[type="month"] {
    line-height: 30px;
  }
  input[type="date"].input-lg,
  input[type="time"].input-lg,
  input[type="datetime-local"].input-lg,
  input[type="month"].input-lg,
  .input-group-lg input[type="date"],
  .input-group-lg input[type="time"],
  .input-group-lg input[type="datetime-local"],
  .input-group-lg input[type="month"] {
    line-height: 45px;
  }
}
.form-group {
  margin-bottom: 15px;
}
.radio,
.checkbox {
  position: relative;
  display: block;
  margin-top: 10px;
  margin-bottom: 10px;
}
.radio label,
.checkbox label {
  min-height: 18px;
  padding-left: 20px;
  margin-bottom: 0;
  font-weight: normal;
  cursor: pointer;
}
.radio input[type="radio"],
.radio-inline input[type="radio"],
.checkbox input[type="checkbox"],
.checkbox-inline input[type="checkbox"] {
  position: absolute;
  margin-left: -20px;
  margin-top: 4px \9;
}
.radio + .radio,
.checkbox + .checkbox {
  margin-top: -5px;
}
.radio-inline,
.checkbox-inline {
  position: relative;
  display: inline-block;
  padding-left: 20px;
  margin-bottom: 0;
  vertical-align: middle;
  font-weight: normal;
  cursor: pointer;
}
.radio-inline + .radio-inline,
.checkbox-inline + .checkbox-inline {
  margin-top: 0;
  margin-left: 10px;
}
input[type="radio"][disabled],
input[type="checkbox"][disabled],
input[type="radio"].disabled,
input[type="checkbox"].disabled,
fieldset[disabled] input[type="radio"],
fieldset[disabled] input[type="checkbox"] {
  cursor: not-allowed;
}
.radio-inline.disabled,
.checkbox-inline.disabled,
fieldset[disabled] .radio-inline,
fieldset[disabled] .checkbox-inline {
  cursor: not-allowed;
}
.radio.disabled label,
.checkbox.disabled label,
fieldset[disabled] .radio label,
fieldset[disabled] .checkbox label {
  cursor: not-allowed;
}
.form-control-static {
  padding-top: 7px;
  padding-bottom: 7px;
  margin-bottom: 0;
  min-height: 31px;
}
.form-control-static.input-lg,
.form-control-static.input-sm {
  padding-left: 0;
  padding-right: 0;
}
.input-sm {
  height: 30px;
  padding: 5px 10px;
  font-size: 12px;
  line-height: 1.5;
  border-radius: 1px;
}
select.input-sm {
  height: 30px;
  line-height: 30px;
}
textarea.input-sm,
select[multiple].input-sm {
  height: auto;
}
.form-group-sm .form-control {
  height: 30px;
  padding: 5px 10px;
  font-size: 12px;
  line-height: 1.5;
  border-radius: 1px;
}
.form-group-sm select.form-control {
  height: 30px;
  line-height: 30px;
}
.form-group-sm textarea.form-control,
.form-group-sm select[multiple].form-control {
  height: auto;
}
.form-group-sm .form-control-static {
  height: 30px;
  min-height: 30px;
  padding: 6px 10px;
  font-size: 12px;
  line-height: 1.5;
}
.input-lg {
  height: 45px;
  padding: 10px 16px;
  font-size: 17px;
  line-height: 1.3333333;
  border-radius: 3px;
}
select.input-lg {
  height: 45px;
  line-height: 45px;
}
textarea.input-lg,
select[multiple].input-lg {
  height: auto;
}
.form-group-lg .form-control {
  height: 45px;
  padding: 10px 16px;
  font-size: 17px;
  line-height: 1.3333333;
  border-radius: 3px;
}
.form-group-lg select.form-control {
  height: 45px;
  line-height: 45px;
}
.form-group-lg textarea.form-control,
.form-group-lg select[multiple].form-control {
  height: auto;
}
.form-group-lg .form-control-static {
  height: 45px;
  min-height: 35px;
  padding: 11px 16px;
  font-size: 17px;
  line-height: 1.3333333;
}
.has-feedback {
  position: relative;
}
.has-feedback .form-control {
  padding-right: 40px;
}
.form-control-feedback {
  position: absolute;
  top: 0;
  right: 0;
  z-index: 2;
  display: block;
  width: 32px;
  height: 32px;
  line-height: 32px;
  text-align: center;
  pointer-events: none;
}
.input-lg + .form-control-feedback,
.input-group-lg + .form-control-feedback,
.form-group-lg .form-control + .form-control-feedback {
  width: 45px;
  height: 45px;
  line-height: 45px;
}
.input-sm + .form-control-feedback,
.input-group-sm + .form-control-feedback,
.form-group-sm .form-control + .form-control-feedback {
  width: 30px;
  height: 30px;
  line-height: 30px;
}
.has-success .help-block,
.has-success .control-label,
.has-success .radio,
.has-success .checkbox,
.has-success .radio-inline,
.has-success .checkbox-inline,
.has-success.radio label,
.has-success.checkbox label,
.has-success.radio-inline label,
.has-success.checkbox-inline label {
  color: #3c763d;
}
.has-success .form-control {
  border-color: #3c763d;
  -webkit-box-shadow: inset 0 1px 1px rgba(0, 0, 0, 0.075);
  box-shadow: inset 0 1px 1px rgba(0, 0, 0, 0.075);
}
.has-success .form-control:focus {
  border-color: #2b542c;
  -webkit-box-shadow: inset 0 1px 1px rgba(0, 0, 0, 0.075), 0 0 6px #67b168;
  box-shadow: inset 0 1px 1px rgba(0, 0, 0, 0.075), 0 0 6px #67b168;
}
.has-success .input-group-addon {
  color: #3c763d;
  border-color: #3c763d;
  background-color: #dff0d8;
}
.has-success .form-control-feedback {
  color: #3c763d;
}
.has-warning .help-block,
.has-warning .control-label,
.has-warning .radio,
.has-warning .checkbox,
.has-warning .radio-inline,
.has-warning .checkbox-inline,
.has-warning.radio label,
.has-warning.checkbox label,
.has-warning.radio-inline label,
.has-warning.checkbox-inline label {
  color: #8a6d3b;
}
.has-warning .form-control {
  border-color: #8a6d3b;
  -webkit-box-shadow: inset 0 1px 1px rgba(0, 0, 0, 0.075);
  box-shadow: inset 0 1px 1px rgba(0, 0, 0, 0.075);
}
.has-warning .form-control:focus {
  border-color: #66512c;
  -webkit-box-shadow: inset 0 1px 1px rgba(0, 0, 0, 0.075), 0 0 6px #c0a16b;
  box-shadow: inset 0 1px 1px rgba(0, 0, 0, 0.075), 0 0 6px #c0a16b;
}
.has-warning .input-group-addon {
  color: #8a6d3b;
  border-color: #8a6d3b;
  background-color: #fcf8e3;
}
.has-warning .form-control-feedback {
  color: #8a6d3b;
}
.has-error .help-block,
.has-error .control-label,
.has-error .radio,
.has-error .checkbox,
.has-error .radio-inline,
.has-error .checkbox-inline,
.has-error.radio label,
.has-error.checkbox label,
.has-error.radio-inline label,
.has-error.checkbox-inline label {
  color: #a94442;
}
.has-error .form-control {
  border-color: #a94442;
  -webkit-box-shadow: inset 0 1px 1px rgba(0, 0, 0, 0.075);
  box-shadow: inset 0 1px 1px rgba(0, 0, 0, 0.075);
}
.has-error .form-control:focus {
  border-color: #843534;
  -webkit-box-shadow: inset 0 1px 1px rgba(0, 0, 0, 0.075), 0 0 6px #ce8483;
  box-shadow: inset 0 1px 1px rgba(0, 0, 0, 0.075), 0 0 6px #ce8483;
}
.has-error .input-group-addon {
  color: #a94442;
  border-color: #a94442;
  background-color: #f2dede;
}
.has-error .form-control-feedback {
  color: #a94442;
}
.has-feedback label ~ .form-control-feedback {
  top: 23px;
}
.has-feedback label.sr-only ~ .form-control-feedback {
  top: 0;
}
.help-block {
  display: block;
  margin-top: 5px;
  margin-bottom: 10px;
  color: #404040;
}
@media (min-width: 768px) {
  .form-inline .form-group {
    display: inline-block;
    margin-bottom: 0;
    vertical-align: middle;
  }
  .form-inline .form-control {
    display: inline-block;
    width: auto;
    vertical-align: middle;
  }
  .form-inline .form-control-static {
    display: inline-block;
  }
  .form-inline .input-group {
    display: inline-table;
    vertical-align: middle;
  }
  .form-inline .input-group .input-group-addon,
  .form-inline .input-group .input-group-btn,
  .form-inline .input-group .form-control {
    width: auto;
  }
  .form-inline .input-group > .form-control {
    width: 100%;
  }
  .form-inline .control-label {
    margin-bottom: 0;
    vertical-align: middle;
  }
  .form-inline .radio,
  .form-inline .checkbox {
    display: inline-block;
    margin-top: 0;
    margin-bottom: 0;
    vertical-align: middle;
  }
  .form-inline .radio label,
  .form-inline .checkbox label {
    padding-left: 0;
  }
  .form-inline .radio input[type="radio"],
  .form-inline .checkbox input[type="checkbox"] {
    position: relative;
    margin-left: 0;
  }
  .form-inline .has-feedback .form-control-feedback {
    top: 0;
  }
}
.form-horizontal .radio,
.form-horizontal .checkbox,
.form-horizontal .radio-inline,
.form-horizontal .checkbox-inline {
  margin-top: 0;
  margin-bottom: 0;
  padding-top: 7px;
}
.form-horizontal .radio,
.form-horizontal .checkbox {
  min-height: 25px;
}
.form-horizontal .form-group {
  margin-left: 0px;
  margin-right: 0px;
}
@media (min-width: 768px) {
  .form-horizontal .control-label {
    text-align: right;
    margin-bottom: 0;
    padding-top: 7px;
  }
}
.form-horizontal .has-feedback .form-control-feedback {
  right: 0px;
}
@media (min-width: 768px) {
  .form-horizontal .form-group-lg .control-label {
    padding-top: 11px;
    font-size: 17px;
  }
}
@media (min-width: 768px) {
  .form-horizontal .form-group-sm .control-label {
    padding-top: 6px;
    font-size: 12px;
  }
}
.btn {
  display: inline-block;
  margin-bottom: 0;
  font-weight: normal;
  text-align: center;
  vertical-align: middle;
  touch-action: manipulation;
  cursor: pointer;
  background-image: none;
  border: 1px solid transparent;
  white-space: nowrap;
  padding: 6px 12px;
  font-size: 13px;
  line-height: 1.42857143;
  border-radius: 2px;
  -webkit-user-select: none;
  -moz-user-select: none;
  -ms-user-select: none;
  user-select: none;
}
.btn:focus,
.btn:active:focus,
.btn.active:focus,
.btn.focus,
.btn:active.focus,
.btn.active.focus {
  outline: 5px auto -webkit-focus-ring-color;
  outline-offset: -2px;
}
.btn:hover,
.btn:focus,
.btn.focus {
  color: #333;
  text-decoration: none;
}
.btn:active,
.btn.active {
  outline: 0;
  background-image: none;
  -webkit-box-shadow: inset 0 3px 5px rgba(0, 0, 0, 0.125);
  box-shadow: inset 0 3px 5px rgba(0, 0, 0, 0.125);
}
.btn.disabled,
.btn[disabled],
fieldset[disabled] .btn {
  cursor: not-allowed;
  opacity: 0.65;
  filter: alpha(opacity=65);
  -webkit-box-shadow: none;
  box-shadow: none;
}
a.btn.disabled,
fieldset[disabled] a.btn {
  pointer-events: none;
}
.btn-default {
  color: #333;
  background-color: #fff;
  border-color: #ccc;
}
.btn-default:focus,
.btn-default.focus {
  color: #333;
  background-color: #e6e6e6;
  border-color: #8c8c8c;
}
.btn-default:hover {
  color: #333;
  background-color: #e6e6e6;
  border-color: #adadad;
}
.btn-default:active,
.btn-default.active,
.open > .dropdown-toggle.btn-default {
  color: #333;
  background-color: #e6e6e6;
  border-color: #adadad;
}
.btn-default:active:hover,
.btn-default.active:hover,
.open > .dropdown-toggle.btn-default:hover,
.btn-default:active:focus,
.btn-default.active:focus,
.open > .dropdown-toggle.btn-default:focus,
.btn-default:active.focus,
.btn-default.active.focus,
.open > .dropdown-toggle.btn-default.focus {
  color: #333;
  background-color: #d4d4d4;
  border-color: #8c8c8c;
}
.btn-default:active,
.btn-default.active,
.open > .dropdown-toggle.btn-default {
  background-image: none;
}
.btn-default.disabled:hover,
.btn-default[disabled]:hover,
fieldset[disabled] .btn-default:hover,
.btn-default.disabled:focus,
.btn-default[disabled]:focus,
fieldset[disabled] .btn-default:focus,
.btn-default.disabled.focus,
.btn-default[disabled].focus,
fieldset[disabled] .btn-default.focus {
  background-color: #fff;
  border-color: #ccc;
}
.btn-default .badge {
  color: #fff;
  background-color: #333;
}
.btn-primary {
  color: #fff;
  background-color: #337ab7;
  border-color: #2e6da4;
}
.btn-primary:focus,
.btn-primary.focus {
  color: #fff;
  background-color: #286090;
  border-color: #122b40;
}
.btn-primary:hover {
  color: #fff;
  background-color: #286090;
  border-color: #204d74;
}
.btn-primary:active,
.btn-primary.active,
.open > .dropdown-toggle.btn-primary {
  color: #fff;
  background-color: #286090;
  border-color: #204d74;
}
.btn-primary:active:hover,
.btn-primary.active:hover,
.open > .dropdown-toggle.btn-primary:hover,
.btn-primary:active:focus,
.btn-primary.active:focus,
.open > .dropdown-toggle.btn-primary:focus,
.btn-primary:active.focus,
.btn-primary.active.focus,
.open > .dropdown-toggle.btn-primary.focus {
  color: #fff;
  background-color: #204d74;
  border-color: #122b40;
}
.btn-primary:active,
.btn-primary.active,
.open > .dropdown-toggle.btn-primary {
  background-image: none;
}
.btn-primary.disabled:hover,
.btn-primary[disabled]:hover,
fieldset[disabled] .btn-primary:hover,
.btn-primary.disabled:focus,
.btn-primary[disabled]:focus,
fieldset[disabled] .btn-primary:focus,
.btn-primary.disabled.focus,
.btn-primary[disabled].focus,
fieldset[disabled] .btn-primary.focus {
  background-color: #337ab7;
  border-color: #2e6da4;
}
.btn-primary .badge {
  color: #337ab7;
  background-color: #fff;
}
.btn-success {
  color: #fff;
  background-color: #5cb85c;
  border-color: #4cae4c;
}
.btn-success:focus,
.btn-success.focus {
  color: #fff;
  background-color: #449d44;
  border-color: #255625;
}
.btn-success:hover {
  color: #fff;
  background-color: #449d44;
  border-color: #398439;
}
.btn-success:active,
.btn-success.active,
.open > .dropdown-toggle.btn-success {
  color: #fff;
  background-color: #449d44;
  border-color: #398439;
}
.btn-success:active:hover,
.btn-success.active:hover,
.open > .dropdown-toggle.btn-success:hover,
.btn-success:active:focus,
.btn-success.active:focus,
.open > .dropdown-toggle.btn-success:focus,
.btn-success:active.focus,
.btn-success.active.focus,
.open > .dropdown-toggle.btn-success.focus {
  color: #fff;
  background-color: #398439;
  border-color: #255625;
}
.btn-success:active,
.btn-success.active,
.open > .dropdown-toggle.btn-success {
  background-image: none;
}
.btn-success.disabled:hover,
.btn-success[disabled]:hover,
fieldset[disabled] .btn-success:hover,
.btn-success.disabled:focus,
.btn-success[disabled]:focus,
fieldset[disabled] .btn-success:focus,
.btn-success.disabled.focus,
.btn-success[disabled].focus,
fieldset[disabled] .btn-success.focus {
  background-color: #5cb85c;
  border-color: #4cae4c;
}
.btn-success .badge {
  color: #5cb85c;
  background-color: #fff;
}
.btn-info {
  color: #fff;
  background-color: #5bc0de;
  border-color: #46b8da;
}
.btn-info:focus,
.btn-info.focus {
  color: #fff;
  background-color: #31b0d5;
  border-color: #1b6d85;
}
.btn-info:hover {
  color: #fff;
  background-color: #31b0d5;
  border-color: #269abc;
}
.btn-info:active,
.btn-info.active,
.open > .dropdown-toggle.btn-info {
  color: #fff;
  background-color: #31b0d5;
  border-color: #269abc;
}
.btn-info:active:hover,
.btn-info.active:hover,
.open > .dropdown-toggle.btn-info:hover,
.btn-info:active:focus,
.btn-info.active:focus,
.open > .dropdown-toggle.btn-info:focus,
.btn-info:active.focus,
.btn-info.active.focus,
.open > .dropdown-toggle.btn-info.focus {
  color: #fff;
  background-color: #269abc;
  border-color: #1b6d85;
}
.btn-info:active,
.btn-info.active,
.open > .dropdown-toggle.btn-info {
  background-image: none;
}
.btn-info.disabled:hover,
.btn-info[disabled]:hover,
fieldset[disabled] .btn-info:hover,
.btn-info.disabled:focus,
.btn-info[disabled]:focus,
fieldset[disabled] .btn-info:focus,
.btn-info.disabled.focus,
.btn-info[disabled].focus,
fieldset[disabled] .btn-info.focus {
  background-color: #5bc0de;
  border-color: #46b8da;
}
.btn-info .badge {
  color: #5bc0de;
  background-color: #fff;
}
.btn-warning {
  color: #fff;
  background-color: #f0ad4e;
  border-color: #eea236;
}
.btn-warning:focus,
.btn-warning.focus {
  color: #fff;
  background-color: #ec971f;
  border-color: #985f0d;
}
.btn-warning:hover {
  color: #fff;
  background-color: #ec971f;
  border-color: #d58512;
}
.btn-warning:active,
.btn-warning.active,
.open > .dropdown-toggle.btn-warning {
  color: #fff;
  background-color: #ec971f;
  border-color: #d58512;
}
.btn-warning:active:hover,
.btn-warning.active:hover,
.open > .dropdown-toggle.btn-warning:hover,
.btn-warning:active:focus,
.btn-warning.active:focus,
.open > .dropdown-toggle.btn-warning:focus,
.btn-warning:active.focus,
.btn-warning.active.focus,
.open > .dropdown-toggle.btn-warning.focus {
  color: #fff;
  background-color: #d58512;
  border-color: #985f0d;
}
.btn-warning:active,
.btn-warning.active,
.open > .dropdown-toggle.btn-warning {
  background-image: none;
}
.btn-warning.disabled:hover,
.btn-warning[disabled]:hover,
fieldset[disabled] .btn-warning:hover,
.btn-warning.disabled:focus,
.btn-warning[disabled]:focus,
fieldset[disabled] .btn-warning:focus,
.btn-warning.disabled.focus,
.btn-warning[disabled].focus,
fieldset[disabled] .btn-warning.focus {
  background-color: #f0ad4e;
  border-color: #eea236;
}
.btn-warning .badge {
  color: #f0ad4e;
  background-color: #fff;
}
.btn-danger {
  color: #fff;
  background-color: #d9534f;
  border-color: #d43f3a;
}
.btn-danger:focus,
.btn-danger.focus {
  color: #fff;
  background-color: #c9302c;
  border-color: #761c19;
}
.btn-danger:hover {
  color: #fff;
  background-color: #c9302c;
  border-color: #ac2925;
}
.btn-danger:active,
.btn-danger.active,
.open > .dropdown-toggle.btn-danger {
  color: #fff;
  background-color: #c9302c;
  border-color: #ac2925;
}
.btn-danger:active:hover,
.btn-danger.active:hover,
.open > .dropdown-toggle.btn-danger:hover,
.btn-danger:active:focus,
.btn-danger.active:focus,
.open > .dropdown-toggle.btn-danger:focus,
.btn-danger:active.focus,
.btn-danger.active.focus,
.open > .dropdown-toggle.btn-danger.focus {
  color: #fff;
  background-color: #ac2925;
  border-color: #761c19;
}
.btn-danger:active,
.btn-danger.active,
.open > .dropdown-toggle.btn-danger {
  background-image: none;
}
.btn-danger.disabled:hover,
.btn-danger[disabled]:hover,
fieldset[disabled] .btn-danger:hover,
.btn-danger.disabled:focus,
.btn-danger[disabled]:focus,
fieldset[disabled] .btn-danger:focus,
.btn-danger.disabled.focus,
.btn-danger[disabled].focus,
fieldset[disabled] .btn-danger.focus {
  background-color: #d9534f;
  border-color: #d43f3a;
}
.btn-danger .badge {
  color: #d9534f;
  background-color: #fff;
}
.btn-link {
  color: #337ab7;
  font-weight: normal;
  border-radius: 0;
}
.btn-link,
.btn-link:active,
.btn-link.active,
.btn-link[disabled],
fieldset[disabled] .btn-link {
  background-color: transparent;
  -webkit-box-shadow: none;
  box-shadow: none;
}
.btn-link,
.btn-link:hover,
.btn-link:focus,
.btn-link:active {
  border-color: transparent;
}
.btn-link:hover,
.btn-link:focus {
  color: #23527c;
  text-decoration: underline;
  background-color: transparent;
}
.btn-link[disabled]:hover,
fieldset[disabled] .btn-link:hover,
.btn-link[disabled]:focus,
fieldset[disabled] .btn-link:focus {
  color: #777777;
  text-decoration: none;
}
.btn-lg,
.btn-group-lg > .btn {
  padding: 10px 16px;
  font-size: 17px;
  line-height: 1.3333333;
  border-radius: 3px;
}
.btn-sm,
.btn-group-sm > .btn {
  padding: 5px 10px;
  font-size: 12px;
  line-height: 1.5;
  border-radius: 1px;
}
.btn-xs,
.btn-group-xs > .btn {
  padding: 1px 5px;
  font-size: 12px;
  line-height: 1.5;
  border-radius: 1px;
}
.btn-block {
  display: block;
  width: 100%;
}
.btn-block + .btn-block {
  margin-top: 5px;
}
input[type="submit"].btn-block,
input[type="reset"].btn-block,
input[type="button"].btn-block {
  width: 100%;
}
.fade {
  opacity: 0;
  -webkit-transition: opacity 0.15s linear;
  -o-transition: opacity 0.15s linear;
  transition: opacity 0.15s linear;
}
.fade.in {
  opacity: 1;
}
.collapse {
  display: none;
}
.collapse.in {
  display: block;
}
tr.collapse.in {
  display: table-row;
}
tbody.collapse.in {
  display: table-row-group;
}
.collapsing {
  position: relative;
  height: 0;
  overflow: hidden;
  -webkit-transition-property: height, visibility;
  transition-property: height, visibility;
  -webkit-transition-duration: 0.35s;
  transition-duration: 0.35s;
  -webkit-transition-timing-function: ease;
  transition-timing-function: ease;
}
.caret {
  display: inline-block;
  width: 0;
  height: 0;
  margin-left: 2px;
  vertical-align: middle;
  border-top: 4px dashed;
  border-top: 4px solid \9;
  border-right: 4px solid transparent;
  border-left: 4px solid transparent;
}
.dropup,
.dropdown {
  position: relative;
}
.dropdown-toggle:focus {
  outline: 0;
}
.dropdown-menu {
  position: absolute;
  top: 100%;
  left: 0;
  z-index: 1000;
  display: none;
  float: left;
  min-width: 160px;
  padding: 5px 0;
  margin: 2px 0 0;
  list-style: none;
  font-size: 13px;
  text-align: left;
  background-color: #fff;
  border: 1px solid #ccc;
  border: 1px solid rgba(0, 0, 0, 0.15);
  border-radius: 2px;
  -webkit-box-shadow: 0 6px 12px rgba(0, 0, 0, 0.175);
  box-shadow: 0 6px 12px rgba(0, 0, 0, 0.175);
  background-clip: padding-box;
}
.dropdown-menu.pull-right {
  right: 0;
  left: auto;
}
.dropdown-menu .divider {
  height: 1px;
  margin: 8px 0;
  overflow: hidden;
  background-color: #e5e5e5;
}
.dropdown-menu > li > a {
  display: block;
  padding: 3px 20px;
  clear: both;
  font-weight: normal;
  line-height: 1.42857143;
  color: #333333;
  white-space: nowrap;
}
.dropdown-menu > li > a:hover,
.dropdown-menu > li > a:focus {
  text-decoration: none;
  color: #262626;
  background-color: #f5f5f5;
}
.dropdown-menu > .active > a,
.dropdown-menu > .active > a:hover,
.dropdown-menu > .active > a:focus {
  color: #fff;
  text-decoration: none;
  outline: 0;
  background-color: #337ab7;
}
.dropdown-menu > .disabled > a,
.dropdown-menu > .disabled > a:hover,
.dropdown-menu > .disabled > a:focus {
  color: #777777;
}
.dropdown-menu > .disabled > a:hover,
.dropdown-menu > .disabled > a:focus {
  text-decoration: none;
  background-color: transparent;
  background-image: none;
  filter: progid:DXImageTransform.Microsoft.gradient(enabled = false);
  cursor: not-allowed;
}
.open > .dropdown-menu {
  display: block;
}
.open > a {
  outline: 0;
}
.dropdown-menu-right {
  left: auto;
  right: 0;
}
.dropdown-menu-left {
  left: 0;
  right: auto;
}
.dropdown-header {
  display: block;
  padding: 3px 20px;
  font-size: 12px;
  line-height: 1.42857143;
  color: #777777;
  white-space: nowrap;
}
.dropdown-backdrop {
  position: fixed;
  left: 0;
  right: 0;
  bottom: 0;
  top: 0;
  z-index: 990;
}
.pull-right > .dropdown-menu {
  right: 0;
  left: auto;
}
.dropup .caret,
.navbar-fixed-bottom .dropdown .caret {
  border-top: 0;
  border-bottom: 4px dashed;
  border-bottom: 4px solid \9;
  content: "";
}
.dropup .dropdown-menu,
.navbar-fixed-bottom .dropdown .dropdown-menu {
  top: auto;
  bottom: 100%;
  margin-bottom: 2px;
}
@media (min-width: 541px) {
  .navbar-right .dropdown-menu {
    left: auto;
    right: 0;
  }
  .navbar-right .dropdown-menu-left {
    left: 0;
    right: auto;
  }
}
.btn-group,
.btn-group-vertical {
  position: relative;
  display: inline-block;
  vertical-align: middle;
}
.btn-group > .btn,
.btn-group-vertical > .btn {
  position: relative;
  float: left;
}
.btn-group > .btn:hover,
.btn-group-vertical > .btn:hover,
.btn-group > .btn:focus,
.btn-group-vertical > .btn:focus,
.btn-group > .btn:active,
.btn-group-vertical > .btn:active,
.btn-group > .btn.active,
.btn-group-vertical > .btn.active {
  z-index: 2;
}
.btn-group .btn + .btn,
.btn-group .btn + .btn-group,
.btn-group .btn-group + .btn,
.btn-group .btn-group + .btn-group {
  margin-left: -1px;
}
.btn-toolbar {
  margin-left: -5px;
}
.btn-toolbar .btn,
.btn-toolbar .btn-group,
.btn-toolbar .input-group {
  float: left;
}
.btn-toolbar > .btn,
.btn-toolbar > .btn-group,
.btn-toolbar > .input-group {
  margin-left: 5px;
}
.btn-group > .btn:not(:first-child):not(:last-child):not(.dropdown-toggle) {
  border-radius: 0;
}
.btn-group > .btn:first-child {
  margin-left: 0;
}
.btn-group > .btn:first-child:not(:last-child):not(.dropdown-toggle) {
  border-bottom-right-radius: 0;
  border-top-right-radius: 0;
}
.btn-group > .btn:last-child:not(:first-child),
.btn-group > .dropdown-toggle:not(:first-child) {
  border-bottom-left-radius: 0;
  border-top-left-radius: 0;
}
.btn-group > .btn-group {
  float: left;
}
.btn-group > .btn-group:not(:first-child):not(:last-child) > .btn {
  border-radius: 0;
}
.btn-group > .btn-group:first-child:not(:last-child) > .btn:last-child,
.btn-group > .btn-group:first-child:not(:last-child) > .dropdown-toggle {
  border-bottom-right-radius: 0;
  border-top-right-radius: 0;
}
.btn-group > .btn-group:last-child:not(:first-child) > .btn:first-child {
  border-bottom-left-radius: 0;
  border-top-left-radius: 0;
}
.btn-group .dropdown-toggle:active,
.btn-group.open .dropdown-toggle {
  outline: 0;
}
.btn-group > .btn + .dropdown-toggle {
  padding-left: 8px;
  padding-right: 8px;
}
.btn-group > .btn-lg + .dropdown-toggle {
  padding-left: 12px;
  padding-right: 12px;
}
.btn-group.open .dropdown-toggle {
  -webkit-box-shadow: inset 0 3px 5px rgba(0, 0, 0, 0.125);
  box-shadow: inset 0 3px 5px rgba(0, 0, 0, 0.125);
}
.btn-group.open .dropdown-toggle.btn-link {
  -webkit-box-shadow: none;
  box-shadow: none;
}
.btn .caret {
  margin-left: 0;
}
.btn-lg .caret {
  border-width: 5px 5px 0;
  border-bottom-width: 0;
}
.dropup .btn-lg .caret {
  border-width: 0 5px 5px;
}
.btn-group-vertical > .btn,
.btn-group-vertical > .btn-group,
.btn-group-vertical > .btn-group > .btn {
  display: block;
  float: none;
  width: 100%;
  max-width: 100%;
}
.btn-group-vertical > .btn-group > .btn {
  float: none;
}
.btn-group-vertical > .btn + .btn,
.btn-group-vertical > .btn + .btn-group,
.btn-group-vertical > .btn-group + .btn,
.btn-group-vertical > .btn-group + .btn-group {
  margin-top: -1px;
  margin-left: 0;
}
.btn-group-vertical > .btn:not(:first-child):not(:last-child) {
  border-radius: 0;
}
.btn-group-vertical > .btn:first-child:not(:last-child) {
  border-top-right-radius: 2px;
  border-top-left-radius: 2px;
  border-bottom-right-radius: 0;
  border-bottom-left-radius: 0;
}
.btn-group-vertical > .btn:last-child:not(:first-child) {
  border-top-right-radius: 0;
  border-top-left-radius: 0;
  border-bottom-right-radius: 2px;
  border-bottom-left-radius: 2px;
}
.btn-group-vertical > .btn-group:not(:first-child):not(:last-child) > .btn {
  border-radius: 0;
}
.btn-group-vertical > .btn-group:first-child:not(:last-child) > .btn:last-child,
.btn-group-vertical > .btn-group:first-child:not(:last-child) > .dropdown-toggle {
  border-bottom-right-radius: 0;
  border-bottom-left-radius: 0;
}
.btn-group-vertical > .btn-group:last-child:not(:first-child) > .btn:first-child {
  border-top-right-radius: 0;
  border-top-left-radius: 0;
}
.btn-group-justified {
  display: table;
  width: 100%;
  table-layout: fixed;
  border-collapse: separate;
}
.btn-group-justified > .btn,
.btn-group-justified > .btn-group {
  float: none;
  display: table-cell;
  width: 1%;
}
.btn-group-justified > .btn-group .btn {
  width: 100%;
}
.btn-group-justified > .btn-group .dropdown-menu {
  left: auto;
}
[data-toggle="buttons"] > .btn input[type="radio"],
[data-toggle="buttons"] > .btn-group > .btn input[type="radio"],
[data-toggle="buttons"] > .btn input[type="checkbox"],
[data-toggle="buttons"] > .btn-group > .btn input[type="checkbox"] {
  position: absolute;
  clip: rect(0, 0, 0, 0);
  pointer-events: none;
}
.input-group {
  position: relative;
  display: table;
  border-collapse: separate;
}
.input-group[class*="col-"] {
  float: none;
  padding-left: 0;
  padding-right: 0;
}
.input-group .form-control {
  position: relative;
  z-index: 2;
  float: left;
  width: 100%;
  margin-bottom: 0;
}
.input-group .form-control:focus {
  z-index: 3;
}
.input-group-lg > .form-control,
.input-group-lg > .input-group-addon,
.input-group-lg > .input-group-btn > .btn {
  height: 45px;
  padding: 10px 16px;
  font-size: 17px;
  line-height: 1.3333333;
  border-radius: 3px;
}
select.input-group-lg > .form-control,
select.input-group-lg > .input-group-addon,
select.input-group-lg > .input-group-btn > .btn {
  height: 45px;
  line-height: 45px;
}
textarea.input-group-lg > .form-control,
textarea.input-group-lg > .input-group-addon,
textarea.input-group-lg > .input-group-btn > .btn,
select[multiple].input-group-lg > .form-control,
select[multiple].input-group-lg > .input-group-addon,
select[multiple].input-group-lg > .input-group-btn > .btn {
  height: auto;
}
.input-group-sm > .form-control,
.input-group-sm > .input-group-addon,
.input-group-sm > .input-group-btn > .btn {
  height: 30px;
  padding: 5px 10px;
  font-size: 12px;
  line-height: 1.5;
  border-radius: 1px;
}
select.input-group-sm > .form-control,
select.input-group-sm > .input-group-addon,
select.input-group-sm > .input-group-btn > .btn {
  height: 30px;
  line-height: 30px;
}
textarea.input-group-sm > .form-control,
textarea.input-group-sm > .input-group-addon,
textarea.input-group-sm > .input-group-btn > .btn,
select[multiple].input-group-sm > .form-control,
select[multiple].input-group-sm > .input-group-addon,
select[multiple].input-group-sm > .input-group-btn > .btn {
  height: auto;
}
.input-group-addon,
.input-group-btn,
.input-group .form-control {
  display: table-cell;
}
.input-group-addon:not(:first-child):not(:last-child),
.input-group-btn:not(:first-child):not(:last-child),
.input-group .form-control:not(:first-child):not(:last-child) {
  border-radius: 0;
}
.input-group-addon,
.input-group-btn {
  width: 1%;
  white-space: nowrap;
  vertical-align: middle;
}
.input-group-addon {
  padding: 6px 12px;
  font-size: 13px;
  font-weight: normal;
  line-height: 1;
  color: #555555;
  text-align: center;
  background-color: #eeeeee;
  border: 1px solid #ccc;
  border-radius: 2px;
}
.input-group-addon.input-sm {
  padding: 5px 10px;
  font-size: 12px;
  border-radius: 1px;
}
.input-group-addon.input-lg {
  padding: 10px 16px;
  font-size: 17px;
  border-radius: 3px;
}
.input-group-addon input[type="radio"],
.input-group-addon input[type="checkbox"] {
  margin-top: 0;
}
.input-group .form-control:first-child,
.input-group-addon:first-child,
.input-group-btn:first-child > .btn,
.input-group-btn:first-child > .btn-group > .btn,
.input-group-btn:first-child > .dropdown-toggle,
.input-group-btn:last-child > .btn:not(:last-child):not(.dropdown-toggle),
.input-group-btn:last-child > .btn-group:not(:last-child) > .btn {
  border-bottom-right-radius: 0;
  border-top-right-radius: 0;
}
.input-group-addon:first-child {
  border-right: 0;
}
.input-group .form-control:last-child,
.input-group-addon:last-child,
.input-group-btn:last-child > .btn,
.input-group-btn:last-child > .btn-group > .btn,
.input-group-btn:last-child > .dropdown-toggle,
.input-group-btn:first-child > .btn:not(:first-child),
.input-group-btn:first-child > .btn-group:not(:first-child) > .btn {
  border-bottom-left-radius: 0;
  border-top-left-radius: 0;
}
.input-group-addon:last-child {
  border-left: 0;
}
.input-group-btn {
  position: relative;
  font-size: 0;
  white-space: nowrap;
}
.input-group-btn > .btn {
  position: relative;
}
.input-group-btn > .btn + .btn {
  margin-left: -1px;
}
.input-group-btn > .btn:hover,
.input-group-btn > .btn:focus,
.input-group-btn > .btn:active {
  z-index: 2;
}
.input-group-btn:first-child > .btn,
.input-group-btn:first-child > .btn-group {
  margin-right: -1px;
}
.input-group-btn:last-child > .btn,
.input-group-btn:last-child > .btn-group {
  z-index: 2;
  margin-left: -1px;
}
.nav {
  margin-bottom: 0;
  padding-left: 0;
  list-style: none;
}
.nav > li {
  position: relative;
  display: block;
}
.nav > li > a {
  position: relative;
  display: block;
  padding: 10px 15px;
}
.nav > li > a:hover,
.nav > li > a:focus {
  text-decoration: none;
  background-color: #eeeeee;
}
.nav > li.disabled > a {
  color: #777777;
}
.nav > li.disabled > a:hover,
.nav > li.disabled > a:focus {
  color: #777777;
  text-decoration: none;
  background-color: transparent;
  cursor: not-allowed;
}
.nav .open > a,
.nav .open > a:hover,
.nav .open > a:focus {
  background-color: #eeeeee;
  border-color: #337ab7;
}
.nav .nav-divider {
  height: 1px;
  margin: 8px 0;
  overflow: hidden;
  background-color: #e5e5e5;
}
.nav > li > a > img {
  max-width: none;
}
.nav-tabs {
  border-bottom: 1px solid #ddd;
}
.nav-tabs > li {
  float: left;
  margin-bottom: -1px;
}
.nav-tabs > li > a {
  margin-right: 2px;
  line-height: 1.42857143;
  border: 1px solid transparent;
  border-radius: 2px 2px 0 0;
}
.nav-tabs > li > a:hover {
  border-color: #eeeeee #eeeeee #ddd;
}
.nav-tabs > li.active > a,
.nav-tabs > li.active > a:hover,
.nav-tabs > li.active > a:focus {
  color: #555555;
  background-color: #fff;
  border: 1px solid #ddd;
  border-bottom-color: transparent;
  cursor: default;
}
.nav-tabs.nav-justified {
  width: 100%;
  border-bottom: 0;
}
.nav-tabs.nav-justified > li {
  float: none;
}
.nav-tabs.nav-justified > li > a {
  text-align: center;
  margin-bottom: 5px;
}
.nav-tabs.nav-justified > .dropdown .dropdown-menu {
  top: auto;
  left: auto;
}
@media (min-width: 768px) {
  .nav-tabs.nav-justified > li {
    display: table-cell;
    width: 1%;
  }
  .nav-tabs.nav-justified > li > a {
    margin-bottom: 0;
  }
}
.nav-tabs.nav-justified > li > a {
  margin-right: 0;
  border-radius: 2px;
}
.nav-tabs.nav-justified > .active > a,
.nav-tabs.nav-justified > .active > a:hover,
.nav-tabs.nav-justified > .active > a:focus {
  border: 1px solid #ddd;
}
@media (min-width: 768px) {
  .nav-tabs.nav-justified > li > a {
    border-bottom: 1px solid #ddd;
    border-radius: 2px 2px 0 0;
  }
  .nav-tabs.nav-justified > .active > a,
  .nav-tabs.nav-justified > .active > a:hover,
  .nav-tabs.nav-justified > .active > a:focus {
    border-bottom-color: #fff;
  }
}
.nav-pills > li {
  float: left;
}
.nav-pills > li > a {
  border-radius: 2px;
}
.nav-pills > li + li {
  margin-left: 2px;
}
.nav-pills > li.active > a,
.nav-pills > li.active > a:hover,
.nav-pills > li.active > a:focus {
  color: #fff;
  background-color: #337ab7;
}
.nav-stacked > li {
  float: none;
}
.nav-stacked > li + li {
  margin-top: 2px;
  margin-left: 0;
}
.nav-justified {
  width: 100%;
}
.nav-justified > li {
  float: none;
}
.nav-justified > li > a {
  text-align: center;
  margin-bottom: 5px;
}
.nav-justified > .dropdown .dropdown-menu {
  top: auto;
  left: auto;
}
@media (min-width: 768px) {
  .nav-justified > li {
    display: table-cell;
    width: 1%;
  }
  .nav-justified > li > a {
    margin-bottom: 0;
  }
}
.nav-tabs-justified {
  border-bottom: 0;
}
.nav-tabs-justified > li > a {
  margin-right: 0;
  border-radius: 2px;
}
.nav-tabs-justified > .active > a,
.nav-tabs-justified > .active > a:hover,
.nav-tabs-justified > .active > a:focus {
  border: 1px solid #ddd;
}
@media (min-width: 768px) {
  .nav-tabs-justified > li > a {
    border-bottom: 1px solid #ddd;
    border-radius: 2px 2px 0 0;
  }
  .nav-tabs-justified > .active > a,
  .nav-tabs-justified > .active > a:hover,
  .nav-tabs-justified > .active > a:focus {
    border-bottom-color: #fff;
  }
}
.tab-content > .tab-pane {
  display: none;
}
.tab-content > .active {
  display: block;
}
.nav-tabs .dropdown-menu {
  margin-top: -1px;
  border-top-right-radius: 0;
  border-top-left-radius: 0;
}
.navbar {
  position: relative;
  min-height: 30px;
  margin-bottom: 18px;
  border: 1px solid transparent;
}
@media (min-width: 541px) {
  .navbar {
    border-radius: 2px;
  }
}
@media (min-width: 541px) {
  .navbar-header {
    float: left;
  }
}
.navbar-collapse {
  overflow-x: visible;
  padding-right: 0px;
  padding-left: 0px;
  border-top: 1px solid transparent;
  box-shadow: inset 0 1px 0 rgba(255, 255, 255, 0.1);
  -webkit-overflow-scrolling: touch;
}
.navbar-collapse.in {
  overflow-y: auto;
}
@media (min-width: 541px) {
  .navbar-collapse {
    width: auto;
    border-top: 0;
    box-shadow: none;
  }
  .navbar-collapse.collapse {
    display: block !important;
    height: auto !important;
    padding-bottom: 0;
    overflow: visible !important;
  }
  .navbar-collapse.in {
    overflow-y: visible;
  }
  .navbar-fixed-top .navbar-collapse,
  .navbar-static-top .navbar-collapse,
  .navbar-fixed-bottom .navbar-collapse {
    padding-left: 0;
    padding-right: 0;
  }
}
.navbar-fixed-top .navbar-collapse,
.navbar-fixed-bottom .navbar-collapse {
  max-height: 340px;
}
@media (max-device-width: 540px) and (orientation: landscape) {
  .navbar-fixed-top .navbar-collapse,
  .navbar-fixed-bottom .navbar-collapse {
    max-height: 200px;
  }
}
.container > .navbar-header,
.container-fluid > .navbar-header,
.container > .navbar-collapse,
.container-fluid > .navbar-collapse {
  margin-right: 0px;
  margin-left: 0px;
}
@media (min-width: 541px) {
  .container > .navbar-header,
  .container-fluid > .navbar-header,
  .container > .navbar-collapse,
  .container-fluid > .navbar-collapse {
    margin-right: 0;
    margin-left: 0;
  }
}
.navbar-static-top {
  z-index: 1000;
  border-width: 0 0 1px;
}
@media (min-width: 541px) {
  .navbar-static-top {
    border-radius: 0;
  }
}
.navbar-fixed-top,
.navbar-fixed-bottom {
  position: fixed;
  right: 0;
  left: 0;
  z-index: 1030;
}
@media (min-width: 541px) {
  .navbar-fixed-top,
  .navbar-fixed-bottom {
    border-radius: 0;
  }
}
.navbar-fixed-top {
  top: 0;
  border-width: 0 0 1px;
}
.navbar-fixed-bottom {
  bottom: 0;
  margin-bottom: 0;
  border-width: 1px 0 0;
}
.navbar-brand {
  float: left;
  padding: 6px 0px;
  font-size: 17px;
  line-height: 18px;
  height: 30px;
}
.navbar-brand:hover,
.navbar-brand:focus {
  text-decoration: none;
}
.navbar-brand > img {
  display: block;
}
@media (min-width: 541px) {
  .navbar > .container .navbar-brand,
  .navbar > .container-fluid .navbar-brand {
    margin-left: 0px;
  }
}
.navbar-toggle {
  position: relative;
  float: right;
  margin-right: 0px;
  padding: 9px 10px;
  margin-top: -2px;
  margin-bottom: -2px;
  background-color: transparent;
  background-image: none;
  border: 1px solid transparent;
  border-radius: 2px;
}
.navbar-toggle:focus {
  outline: 0;
}
.navbar-toggle .icon-bar {
  display: block;
  width: 22px;
  height: 2px;
  border-radius: 1px;
}
.navbar-toggle .icon-bar + .icon-bar {
  margin-top: 4px;
}
@media (min-width: 541px) {
  .navbar-toggle {
    display: none;
  }
}
.navbar-nav {
  margin: 3px 0px;
}
.navbar-nav > li > a {
  padding-top: 10px;
  padding-bottom: 10px;
  line-height: 18px;
}
@media (max-width: 540px) {
  .navbar-nav .open .dropdown-menu {
    position: static;
    float: none;
    width: auto;
    margin-top: 0;
    background-color: transparent;
    border: 0;
    box-shadow: none;
  }
  .navbar-nav .open .dropdown-menu > li > a,
  .navbar-nav .open .dropdown-menu .dropdown-header {
    padding: 5px 15px 5px 25px;
  }
  .navbar-nav .open .dropdown-menu > li > a {
    line-height: 18px;
  }
  .navbar-nav .open .dropdown-menu > li > a:hover,
  .navbar-nav .open .dropdown-menu > li > a:focus {
    background-image: none;
  }
}
@media (min-width: 541px) {
  .navbar-nav {
    float: left;
    margin: 0;
  }
  .navbar-nav > li {
    float: left;
  }
  .navbar-nav > li > a {
    padding-top: 6px;
    padding-bottom: 6px;
  }
}
.navbar-form {
  margin-left: 0px;
  margin-right: 0px;
  padding: 10px 0px;
  border-top: 1px solid transparent;
  border-bottom: 1px solid transparent;
  -webkit-box-shadow: inset 0 1px 0 rgba(255, 255, 255, 0.1), 0 1px 0 rgba(255, 255, 255, 0.1);
  box-shadow: inset 0 1px 0 rgba(255, 255, 255, 0.1), 0 1px 0 rgba(255, 255, 255, 0.1);
  margin-top: -1px;
  margin-bottom: -1px;
}
@media (min-width: 768px) {
  .navbar-form .form-group {
    display: inline-block;
    margin-bottom: 0;
    vertical-align: middle;
  }
  .navbar-form .form-control {
    display: inline-block;
    width: auto;
    vertical-align: middle;
  }
  .navbar-form .form-control-static {
    display: inline-block;
  }
  .navbar-form .input-group {
    display: inline-table;
    vertical-align: middle;
  }
  .navbar-form .input-group .input-group-addon,
  .navbar-form .input-group .input-group-btn,
  .navbar-form .input-group .form-control {
    width: auto;
  }
  .navbar-form .input-group > .form-control {
    width: 100%;
  }
  .navbar-form .control-label {
    margin-bottom: 0;
    vertical-align: middle;
  }
  .navbar-form .radio,
  .navbar-form .checkbox {
    display: inline-block;
    margin-top: 0;
    margin-bottom: 0;
    vertical-align: middle;
  }
  .navbar-form .radio label,
  .navbar-form .checkbox label {
    padding-left: 0;
  }
  .navbar-form .radio input[type="radio"],
  .navbar-form .checkbox input[type="checkbox"] {
    position: relative;
    margin-left: 0;
  }
  .navbar-form .has-feedback .form-control-feedback {
    top: 0;
  }
}
@media (max-width: 540px) {
  .navbar-form .form-group {
    margin-bottom: 5px;
  }
  .navbar-form .form-group:last-child {
    margin-bottom: 0;
  }
}
@media (min-width: 541px) {
  .navbar-form {
    width: auto;
    border: 0;
    margin-left: 0;
    margin-right: 0;
    padding-top: 0;
    padding-bottom: 0;
    -webkit-box-shadow: none;
    box-shadow: none;
  }
}
.navbar-nav > li > .dropdown-menu {
  margin-top: 0;
  border-top-right-radius: 0;
  border-top-left-radius: 0;
}
.navbar-fixed-bottom .navbar-nav > li > .dropdown-menu {
  margin-bottom: 0;
  border-top-right-radius: 2px;
  border-top-left-radius: 2px;
  border-bottom-right-radius: 0;
  border-bottom-left-radius: 0;
}
.navbar-btn {
  margin-top: -1px;
  margin-bottom: -1px;
}
.navbar-btn.btn-sm {
  margin-top: 0px;
  margin-bottom: 0px;
}
.navbar-btn.btn-xs {
  margin-top: 4px;
  margin-bottom: 4px;
}
.navbar-text {
  margin-top: 6px;
  margin-bottom: 6px;
}
@media (min-width: 541px) {
  .navbar-text {
    float: left;
    margin-left: 0px;
    margin-right: 0px;
  }
}
@media (min-width: 541px) {
  .navbar-left {
    float: left !important;
    float: left;
  }
  .navbar-right {
    float: right !important;
    float: right;
    margin-right: 0px;
  }
  .navbar-right ~ .navbar-right {
    margin-right: 0;
  }
}
.navbar-default {
  background-color: #f8f8f8;
  border-color: #e7e7e7;
}
.navbar-default .navbar-brand {
  color: #777;
}
.navbar-default .navbar-brand:hover,
.navbar-default .navbar-brand:focus {
  color: #5e5e5e;
  background-color: transparent;
}
.navbar-default .navbar-text {
  color: #777;
}
.navbar-default .navbar-nav > li > a {
  color: #777;
}
.navbar-default .navbar-nav > li > a:hover,
.navbar-default .navbar-nav > li > a:focus {
  color: #333;
  background-color: transparent;
}
.navbar-default .navbar-nav > .active > a,
.navbar-default .navbar-nav > .active > a:hover,
.navbar-default .navbar-nav > .active > a:focus {
  color: #555;
  background-color: #e7e7e7;
}
.navbar-default .navbar-nav > .disabled > a,
.navbar-default .navbar-nav > .disabled > a:hover,
.navbar-default .navbar-nav > .disabled > a:focus {
  color: #ccc;
  background-color: transparent;
}
.navbar-default .navbar-toggle {
  border-color: #ddd;
}
.navbar-default .navbar-toggle:hover,
.navbar-default .navbar-toggle:focus {
  background-color: #ddd;
}
.navbar-default .navbar-toggle .icon-bar {
  background-color: #888;
}
.navbar-default .navbar-collapse,
.navbar-default .navbar-form {
  border-color: #e7e7e7;
}
.navbar-default .navbar-nav > .open > a,
.navbar-default .navbar-nav > .open > a:hover,
.navbar-default .navbar-nav > .open > a:focus {
  background-color: #e7e7e7;
  color: #555;
}
@media (max-width: 540px) {
  .navbar-default .navbar-nav .open .dropdown-menu > li > a {
    color: #777;
  }
  .navbar-default .navbar-nav .open .dropdown-menu > li > a:hover,
  .navbar-default .navbar-nav .open .dropdown-menu > li > a:focus {
    color: #333;
    background-color: transparent;
  }
  .navbar-default .navbar-nav .open .dropdown-menu > .active > a,
  .navbar-default .navbar-nav .open .dropdown-menu > .active > a:hover,
  .navbar-default .navbar-nav .open .dropdown-menu > .active > a:focus {
    color: #555;
    background-color: #e7e7e7;
  }
  .navbar-default .navbar-nav .open .dropdown-menu > .disabled > a,
  .navbar-default .navbar-nav .open .dropdown-menu > .disabled > a:hover,
  .navbar-default .navbar-nav .open .dropdown-menu > .disabled > a:focus {
    color: #ccc;
    background-color: transparent;
  }
}
.navbar-default .navbar-link {
  color: #777;
}
.navbar-default .navbar-link:hover {
  color: #333;
}
.navbar-default .btn-link {
  color: #777;
}
.navbar-default .btn-link:hover,
.navbar-default .btn-link:focus {
  color: #333;
}
.navbar-default .btn-link[disabled]:hover,
fieldset[disabled] .navbar-default .btn-link:hover,
.navbar-default .btn-link[disabled]:focus,
fieldset[disabled] .navbar-default .btn-link:focus {
  color: #ccc;
}
.navbar-inverse {
  background-color: #222;
  border-color: #080808;
}
.navbar-inverse .navbar-brand {
  color: #9d9d9d;
}
.navbar-inverse .navbar-brand:hover,
.navbar-inverse .navbar-brand:focus {
  color: #fff;
  background-color: transparent;
}
.navbar-inverse .navbar-text {
  color: #9d9d9d;
}
.navbar-inverse .navbar-nav > li > a {
  color: #9d9d9d;
}
.navbar-inverse .navbar-nav > li > a:hover,
.navbar-inverse .navbar-nav > li > a:focus {
  color: #fff;
  background-color: transparent;
}
.navbar-inverse .navbar-nav > .active > a,
.navbar-inverse .navbar-nav > .active > a:hover,
.navbar-inverse .navbar-nav > .active > a:focus {
  color: #fff;
  background-color: #080808;
}
.navbar-inverse .navbar-nav > .disabled > a,
.navbar-inverse .navbar-nav > .disabled > a:hover,
.navbar-inverse .navbar-nav > .disabled > a:focus {
  color: #444;
  background-color: transparent;
}
.navbar-inverse .navbar-toggle {
  border-color: #333;
}
.navbar-inverse .navbar-toggle:hover,
.navbar-inverse .navbar-toggle:focus {
  background-color: #333;
}
.navbar-inverse .navbar-toggle .icon-bar {
  background-color: #fff;
}
.navbar-inverse .navbar-collapse,
.navbar-inverse .navbar-form {
  border-color: #101010;
}
.navbar-inverse .navbar-nav > .open > a,
.navbar-inverse .navbar-nav > .open > a:hover,
.navbar-inverse .navbar-nav > .open > a:focus {
  background-color: #080808;
  color: #fff;
}
@media (max-width: 540px) {
  .navbar-inverse .navbar-nav .open .dropdown-menu > .dropdown-header {
    border-color: #080808;
  }
  .navbar-inverse .navbar-nav .open .dropdown-menu .divider {
    background-color: #080808;
  }
  .navbar-inverse .navbar-nav .open .dropdown-menu > li > a {
    color: #9d9d9d;
  }
  .navbar-inverse .navbar-nav .open .dropdown-menu > li > a:hover,
  .navbar-inverse .navbar-nav .open .dropdown-menu > li > a:focus {
    color: #fff;
    background-color: transparent;
  }
  .navbar-inverse .navbar-nav .open .dropdown-menu > .active > a,
  .navbar-inverse .navbar-nav .open .dropdown-menu > .active > a:hover,
  .navbar-inverse .navbar-nav .open .dropdown-menu > .active > a:focus {
    color: #fff;
    background-color: #080808;
  }
  .navbar-inverse .navbar-nav .open .dropdown-menu > .disabled > a,
  .navbar-inverse .navbar-nav .open .dropdown-menu > .disabled > a:hover,
  .navbar-inverse .navbar-nav .open .dropdown-menu > .disabled > a:focus {
    color: #444;
    background-color: transparent;
  }
}
.navbar-inverse .navbar-link {
  color: #9d9d9d;
}
.navbar-inverse .navbar-link:hover {
  color: #fff;
}
.navbar-inverse .btn-link {
  color: #9d9d9d;
}
.navbar-inverse .btn-link:hover,
.navbar-inverse .btn-link:focus {
  color: #fff;
}
.navbar-inverse .btn-link[disabled]:hover,
fieldset[disabled] .navbar-inverse .btn-link:hover,
.navbar-inverse .btn-link[disabled]:focus,
fieldset[disabled] .navbar-inverse .btn-link:focus {
  color: #444;
}
.breadcrumb {
  padding: 8px 15px;
  margin-bottom: 18px;
  list-style: none;
  background-color: #f5f5f5;
  border-radius: 2px;
}
.breadcrumb > li {
  display: inline-block;
}
.breadcrumb > li + li:before {
  content: "/\00a0";
  padding: 0 5px;
  color: #5e5e5e;
}
.breadcrumb > .active {
  color: #777777;
}
.pagination {
  display: inline-block;
  padding-left: 0;
  margin: 18px 0;
  border-radius: 2px;
}
.pagination > li {
  display: inline;
}
.pagination > li > a,
.pagination > li > span {
  position: relative;
  float: left;
  padding: 6px 12px;
  line-height: 1.42857143;
  text-decoration: none;
  color: #337ab7;
  background-color: #fff;
  border: 1px solid #ddd;
  margin-left: -1px;
}
.pagination > li:first-child > a,
.pagination > li:first-child > span {
  margin-left: 0;
  border-bottom-left-radius: 2px;
  border-top-left-radius: 2px;
}
.pagination > li:last-child > a,
.pagination > li:last-child > span {
  border-bottom-right-radius: 2px;
  border-top-right-radius: 2px;
}
.pagination > li > a:hover,
.pagination > li > span:hover,
.pagination > li > a:focus,
.pagination > li > span:focus {
  z-index: 2;
  color: #23527c;
  background-color: #eeeeee;
  border-color: #ddd;
}
.pagination > .active > a,
.pagination > .active > span,
.pagination > .active > a:hover,
.pagination > .active > span:hover,
.pagination > .active > a:focus,
.pagination > .active > span:focus {
  z-index: 3;
  color: #fff;
  background-color: #337ab7;
  border-color: #337ab7;
  cursor: default;
}
.pagination > .disabled > span,
.pagination > .disabled > span:hover,
.pagination > .disabled > span:focus,
.pagination > .disabled > a,
.pagination > .disabled > a:hover,
.pagination > .disabled > a:focus {
  color: #777777;
  background-color: #fff;
  border-color: #ddd;
  cursor: not-allowed;
}
.pagination-lg > li > a,
.pagination-lg > li > span {
  padding: 10px 16px;
  font-size: 17px;
  line-height: 1.3333333;
}
.pagination-lg > li:first-child > a,
.pagination-lg > li:first-child > span {
  border-bottom-left-radius: 3px;
  border-top-left-radius: 3px;
}
.pagination-lg > li:last-child > a,
.pagination-lg > li:last-child > span {
  border-bottom-right-radius: 3px;
  border-top-right-radius: 3px;
}
.pagination-sm > li > a,
.pagination-sm > li > span {
  padding: 5px 10px;
  font-size: 12px;
  line-height: 1.5;
}
.pagination-sm > li:first-child > a,
.pagination-sm > li:first-child > span {
  border-bottom-left-radius: 1px;
  border-top-left-radius: 1px;
}
.pagination-sm > li:last-child > a,
.pagination-sm > li:last-child > span {
  border-bottom-right-radius: 1px;
  border-top-right-radius: 1px;
}
.pager {
  padding-left: 0;
  margin: 18px 0;
  list-style: none;
  text-align: center;
}
.pager li {
  display: inline;
}
.pager li > a,
.pager li > span {
  display: inline-block;
  padding: 5px 14px;
  background-color: #fff;
  border: 1px solid #ddd;
  border-radius: 15px;
}
.pager li > a:hover,
.pager li > a:focus {
  text-decoration: none;
  background-color: #eeeeee;
}
.pager .next > a,
.pager .next > span {
  float: right;
}
.pager .previous > a,
.pager .previous > span {
  float: left;
}
.pager .disabled > a,
.pager .disabled > a:hover,
.pager .disabled > a:focus,
.pager .disabled > span {
  color: #777777;
  background-color: #fff;
  cursor: not-allowed;
}
.label {
  display: inline;
  padding: .2em .6em .3em;
  font-size: 75%;
  font-weight: bold;
  line-height: 1;
  color: #fff;
  text-align: center;
  white-space: nowrap;
  vertical-align: baseline;
  border-radius: .25em;
}
a.label:hover,
a.label:focus {
  color: #fff;
  text-decoration: none;
  cursor: pointer;
}
.label:empty {
  display: none;
}
.btn .label {
  position: relative;
  top: -1px;
}
.label-default {
  background-color: #777777;
}
.label-default[href]:hover,
.label-default[href]:focus {
  background-color: #5e5e5e;
}
.label-primary {
  background-color: #337ab7;
}
.label-primary[href]:hover,
.label-primary[href]:focus {
  background-color: #286090;
}
.label-success {
  background-color: #5cb85c;
}
.label-success[href]:hover,
.label-success[href]:focus {
  background-color: #449d44;
}
.label-info {
  background-color: #5bc0de;
}
.label-info[href]:hover,
.label-info[href]:focus {
  background-color: #31b0d5;
}
.label-warning {
  background-color: #f0ad4e;
}
.label-warning[href]:hover,
.label-warning[href]:focus {
  background-color: #ec971f;
}
.label-danger {
  background-color: #d9534f;
}
.label-danger[href]:hover,
.label-danger[href]:focus {
  background-color: #c9302c;
}
.badge {
  display: inline-block;
  min-width: 10px;
  padding: 3px 7px;
  font-size: 12px;
  font-weight: bold;
  color: #fff;
  line-height: 1;
  vertical-align: middle;
  white-space: nowrap;
  text-align: center;
  background-color: #777777;
  border-radius: 10px;
}
.badge:empty {
  display: none;
}
.btn .badge {
  position: relative;
  top: -1px;
}
.btn-xs .badge,
.btn-group-xs > .btn .badge {
  top: 0;
  padding: 1px 5px;
}
a.badge:hover,
a.badge:focus {
  color: #fff;
  text-decoration: none;
  cursor: pointer;
}
.list-group-item.active > .badge,
.nav-pills > .active > a > .badge {
  color: #337ab7;
  background-color: #fff;
}
.list-group-item > .badge {
  float: right;
}
.list-group-item > .badge + .badge {
  margin-right: 5px;
}
.nav-pills > li > a > .badge {
  margin-left: 3px;
}
.jumbotron {
  padding-top: 30px;
  padding-bottom: 30px;
  margin-bottom: 30px;
  color: inherit;
  background-color: #eeeeee;
}
.jumbotron h1,
.jumbotron .h1 {
  color: inherit;
}
.jumbotron p {
  margin-bottom: 15px;
  font-size: 20px;
  font-weight: 200;
}
.jumbotron > hr {
  border-top-color: #d5d5d5;
}
.container .jumbotron,
.container-fluid .jumbotron {
  border-radius: 3px;
  padding-left: 0px;
  padding-right: 0px;
}
.jumbotron .container {
  max-width: 100%;
}
@media screen and (min-width: 768px) {
  .jumbotron {
    padding-top: 48px;
    padding-bottom: 48px;
  }
  .container .jumbotron,
  .container-fluid .jumbotron {
    padding-left: 60px;
    padding-right: 60px;
  }
  .jumbotron h1,
  .jumbotron .h1 {
    font-size: 59px;
  }
}
.thumbnail {
  display: block;
  padding: 4px;
  margin-bottom: 18px;
  line-height: 1.42857143;
  background-color: #fff;
  border: 1px solid #ddd;
  border-radius: 2px;
  -webkit-transition: border 0.2s ease-in-out;
  -o-transition: border 0.2s ease-in-out;
  transition: border 0.2s ease-in-out;
}
.thumbnail > img,
.thumbnail a > img {
  margin-left: auto;
  margin-right: auto;
}
a.thumbnail:hover,
a.thumbnail:focus,
a.thumbnail.active {
  border-color: #337ab7;
}
.thumbnail .caption {
  padding: 9px;
  color: #000;
}
.alert {
  padding: 15px;
  margin-bottom: 18px;
  border: 1px solid transparent;
  border-radius: 2px;
}
.alert h4 {
  margin-top: 0;
  color: inherit;
}
.alert .alert-link {
  font-weight: bold;
}
.alert > p,
.alert > ul {
  margin-bottom: 0;
}
.alert > p + p {
  margin-top: 5px;
}
.alert-dismissable,
.alert-dismissible {
  padding-right: 35px;
}
.alert-dismissable .close,
.alert-dismissible .close {
  position: relative;
  top: -2px;
  right: -21px;
  color: inherit;
}
.alert-success {
  background-color: #dff0d8;
  border-color: #d6e9c6;
  color: #3c763d;
}
.alert-success hr {
  border-top-color: #c9e2b3;
}
.alert-success .alert-link {
  color: #2b542c;
}
.alert-info {
  background-color: #d9edf7;
  border-color: #bce8f1;
  color: #31708f;
}
.alert-info hr {
  border-top-color: #a6e1ec;
}
.alert-info .alert-link {
  color: #245269;
}
.alert-warning {
  background-color: #fcf8e3;
  border-color: #faebcc;
  color: #8a6d3b;
}
.alert-warning hr {
  border-top-color: #f7e1b5;
}
.alert-warning .alert-link {
  color: #66512c;
}
.alert-danger {
  background-color: #f2dede;
  border-color: #ebccd1;
  color: #a94442;
}
.alert-danger hr {
  border-top-color: #e4b9c0;
}
.alert-danger .alert-link {
  color: #843534;
}
@-webkit-keyframes progress-bar-stripes {
  from {
    background-position: 40px 0;
  }
  to {
    background-position: 0 0;
  }
}
@keyframes progress-bar-stripes {
  from {
    background-position: 40px 0;
  }
  to {
    background-position: 0 0;
  }
}
.progress {
  overflow: hidden;
  height: 18px;
  margin-bottom: 18px;
  background-color: #f5f5f5;
  border-radius: 2px;
  -webkit-box-shadow: inset 0 1px 2px rgba(0, 0, 0, 0.1);
  box-shadow: inset 0 1px 2px rgba(0, 0, 0, 0.1);
}
.progress-bar {
  float: left;
  width: 0%;
  height: 100%;
  font-size: 12px;
  line-height: 18px;
  color: #fff;
  text-align: center;
  background-color: #337ab7;
  -webkit-box-shadow: inset 0 -1px 0 rgba(0, 0, 0, 0.15);
  box-shadow: inset 0 -1px 0 rgba(0, 0, 0, 0.15);
  -webkit-transition: width 0.6s ease;
  -o-transition: width 0.6s ease;
  transition: width 0.6s ease;
}
.progress-striped .progress-bar,
.progress-bar-striped {
  background-image: -webkit-linear-gradient(45deg, rgba(255, 255, 255, 0.15) 25%, transparent 25%, transparent 50%, rgba(255, 255, 255, 0.15) 50%, rgba(255, 255, 255, 0.15) 75%, transparent 75%, transparent);
  background-image: -o-linear-gradient(45deg, rgba(255, 255, 255, 0.15) 25%, transparent 25%, transparent 50%, rgba(255, 255, 255, 0.15) 50%, rgba(255, 255, 255, 0.15) 75%, transparent 75%, transparent);
  background-image: linear-gradient(45deg, rgba(255, 255, 255, 0.15) 25%, transparent 25%, transparent 50%, rgba(255, 255, 255, 0.15) 50%, rgba(255, 255, 255, 0.15) 75%, transparent 75%, transparent);
  background-size: 40px 40px;
}
.progress.active .progress-bar,
.progress-bar.active {
  -webkit-animation: progress-bar-stripes 2s linear infinite;
  -o-animation: progress-bar-stripes 2s linear infinite;
  animation: progress-bar-stripes 2s linear infinite;
}
.progress-bar-success {
  background-color: #5cb85c;
}
.progress-striped .progress-bar-success {
  background-image: -webkit-linear-gradient(45deg, rgba(255, 255, 255, 0.15) 25%, transparent 25%, transparent 50%, rgba(255, 255, 255, 0.15) 50%, rgba(255, 255, 255, 0.15) 75%, transparent 75%, transparent);
  background-image: -o-linear-gradient(45deg, rgba(255, 255, 255, 0.15) 25%, transparent 25%, transparent 50%, rgba(255, 255, 255, 0.15) 50%, rgba(255, 255, 255, 0.15) 75%, transparent 75%, transparent);
  background-image: linear-gradient(45deg, rgba(255, 255, 255, 0.15) 25%, transparent 25%, transparent 50%, rgba(255, 255, 255, 0.15) 50%, rgba(255, 255, 255, 0.15) 75%, transparent 75%, transparent);
}
.progress-bar-info {
  background-color: #5bc0de;
}
.progress-striped .progress-bar-info {
  background-image: -webkit-linear-gradient(45deg, rgba(255, 255, 255, 0.15) 25%, transparent 25%, transparent 50%, rgba(255, 255, 255, 0.15) 50%, rgba(255, 255, 255, 0.15) 75%, transparent 75%, transparent);
  background-image: -o-linear-gradient(45deg, rgba(255, 255, 255, 0.15) 25%, transparent 25%, transparent 50%, rgba(255, 255, 255, 0.15) 50%, rgba(255, 255, 255, 0.15) 75%, transparent 75%, transparent);
  background-image: linear-gradient(45deg, rgba(255, 255, 255, 0.15) 25%, transparent 25%, transparent 50%, rgba(255, 255, 255, 0.15) 50%, rgba(255, 255, 255, 0.15) 75%, transparent 75%, transparent);
}
.progress-bar-warning {
  background-color: #f0ad4e;
}
.progress-striped .progress-bar-warning {
  background-image: -webkit-linear-gradient(45deg, rgba(255, 255, 255, 0.15) 25%, transparent 25%, transparent 50%, rgba(255, 255, 255, 0.15) 50%, rgba(255, 255, 255, 0.15) 75%, transparent 75%, transparent);
  background-image: -o-linear-gradient(45deg, rgba(255, 255, 255, 0.15) 25%, transparent 25%, transparent 50%, rgba(255, 255, 255, 0.15) 50%, rgba(255, 255, 255, 0.15) 75%, transparent 75%, transparent);
  background-image: linear-gradient(45deg, rgba(255, 255, 255, 0.15) 25%, transparent 25%, transparent 50%, rgba(255, 255, 255, 0.15) 50%, rgba(255, 255, 255, 0.15) 75%, transparent 75%, transparent);
}
.progress-bar-danger {
  background-color: #d9534f;
}
.progress-striped .progress-bar-danger {
  background-image: -webkit-linear-gradient(45deg, rgba(255, 255, 255, 0.15) 25%, transparent 25%, transparent 50%, rgba(255, 255, 255, 0.15) 50%, rgba(255, 255, 255, 0.15) 75%, transparent 75%, transparent);
  background-image: -o-linear-gradient(45deg, rgba(255, 255, 255, 0.15) 25%, transparent 25%, transparent 50%, rgba(255, 255, 255, 0.15) 50%, rgba(255, 255, 255, 0.15) 75%, transparent 75%, transparent);
  background-image: linear-gradient(45deg, rgba(255, 255, 255, 0.15) 25%, transparent 25%, transparent 50%, rgba(255, 255, 255, 0.15) 50%, rgba(255, 255, 255, 0.15) 75%, transparent 75%, transparent);
}
.media {
  margin-top: 15px;
}
.media:first-child {
  margin-top: 0;
}
.media,
.media-body {
  zoom: 1;
  overflow: hidden;
}
.media-body {
  width: 10000px;
}
.media-object {
  display: block;
}
.media-object.img-thumbnail {
  max-width: none;
}
.media-right,
.media > .pull-right {
  padding-left: 10px;
}
.media-left,
.media > .pull-left {
  padding-right: 10px;
}
.media-left,
.media-right,
.media-body {
  display: table-cell;
  vertical-align: top;
}
.media-middle {
  vertical-align: middle;
}
.media-bottom {
  vertical-align: bottom;
}
.media-heading {
  margin-top: 0;
  margin-bottom: 5px;
}
.media-list {
  padding-left: 0;
  list-style: none;
}
.list-group {
  margin-bottom: 20px;
  padding-left: 0;
}
.list-group-item {
  position: relative;
  display: block;
  padding: 10px 15px;
  margin-bottom: -1px;
  background-color: #fff;
  border: 1px solid #ddd;
}
.list-group-item:first-child {
  border-top-right-radius: 2px;
  border-top-left-radius: 2px;
}
.list-group-item:last-child {
  margin-bottom: 0;
  border-bottom-right-radius: 2px;
  border-bottom-left-radius: 2px;
}
a.list-group-item,
button.list-group-item {
  color: #555;
}
a.list-group-item .list-group-item-heading,
button.list-group-item .list-group-item-heading {
  color: #333;
}
a.list-group-item:hover,
button.list-group-item:hover,
a.list-group-item:focus,
button.list-group-item:focus {
  text-decoration: none;
  color: #555;
  background-color: #f5f5f5;
}
button.list-group-item {
  width: 100%;
  text-align: left;
}
.list-group-item.disabled,
.list-group-item.disabled:hover,
.list-group-item.disabled:focus {
  background-color: #eeeeee;
  color: #777777;
  cursor: not-allowed;
}
.list-group-item.disabled .list-group-item-heading,
.list-group-item.disabled:hover .list-group-item-heading,
.list-group-item.disabled:focus .list-group-item-heading {
  color: inherit;
}
.list-group-item.disabled .list-group-item-text,
.list-group-item.disabled:hover .list-group-item-text,
.list-group-item.disabled:focus .list-group-item-text {
  color: #777777;
}
.list-group-item.active,
.list-group-item.active:hover,
.list-group-item.active:focus {
  z-index: 2;
  color: #fff;
  background-color: #337ab7;
  border-color: #337ab7;
}
.list-group-item.active .list-group-item-heading,
.list-group-item.active:hover .list-group-item-heading,
.list-group-item.active:focus .list-group-item-heading,
.list-group-item.active .list-group-item-heading > small,
.list-group-item.active:hover .list-group-item-heading > small,
.list-group-item.active:focus .list-group-item-heading > small,
.list-group-item.active .list-group-item-heading > .small,
.list-group-item.active:hover .list-group-item-heading > .small,
.list-group-item.active:focus .list-group-item-heading > .small {
  color: inherit;
}
.list-group-item.active .list-group-item-text,
.list-group-item.active:hover .list-group-item-text,
.list-group-item.active:focus .list-group-item-text {
  color: #c7ddef;
}
.list-group-item-success {
  color: #3c763d;
  background-color: #dff0d8;
}
a.list-group-item-success,
button.list-group-item-success {
  color: #3c763d;
}
a.list-group-item-success .list-group-item-heading,
button.list-group-item-success .list-group-item-heading {
  color: inherit;
}
a.list-group-item-success:hover,
button.list-group-item-success:hover,
a.list-group-item-success:focus,
button.list-group-item-success:focus {
  color: #3c763d;
  background-color: #d0e9c6;
}
a.list-group-item-success.active,
button.list-group-item-success.active,
a.list-group-item-success.active:hover,
button.list-group-item-success.active:hover,
a.list-group-item-success.active:focus,
button.list-group-item-success.active:focus {
  color: #fff;
  background-color: #3c763d;
  border-color: #3c763d;
}
.list-group-item-info {
  color: #31708f;
  background-color: #d9edf7;
}
a.list-group-item-info,
button.list-group-item-info {
  color: #31708f;
}
a.list-group-item-info .list-group-item-heading,
button.list-group-item-info .list-group-item-heading {
  color: inherit;
}
a.list-group-item-info:hover,
button.list-group-item-info:hover,
a.list-group-item-info:focus,
button.list-group-item-info:focus {
  color: #31708f;
  background-color: #c4e3f3;
}
a.list-group-item-info.active,
button.list-group-item-info.active,
a.list-group-item-info.active:hover,
button.list-group-item-info.active:hover,
a.list-group-item-info.active:focus,
button.list-group-item-info.active:focus {
  color: #fff;
  background-color: #31708f;
  border-color: #31708f;
}
.list-group-item-warning {
  color: #8a6d3b;
  background-color: #fcf8e3;
}
a.list-group-item-warning,
button.list-group-item-warning {
  color: #8a6d3b;
}
a.list-group-item-warning .list-group-item-heading,
button.list-group-item-warning .list-group-item-heading {
  color: inherit;
}
a.list-group-item-warning:hover,
button.list-group-item-warning:hover,
a.list-group-item-warning:focus,
button.list-group-item-warning:focus {
  color: #8a6d3b;
  background-color: #faf2cc;
}
a.list-group-item-warning.active,
button.list-group-item-warning.active,
a.list-group-item-warning.active:hover,
button.list-group-item-warning.active:hover,
a.list-group-item-warning.active:focus,
button.list-group-item-warning.active:focus {
  color: #fff;
  background-color: #8a6d3b;
  border-color: #8a6d3b;
}
.list-group-item-danger {
  color: #a94442;
  background-color: #f2dede;
}
a.list-group-item-danger,
button.list-group-item-danger {
  color: #a94442;
}
a.list-group-item-danger .list-group-item-heading,
button.list-group-item-danger .list-group-item-heading {
  color: inherit;
}
a.list-group-item-danger:hover,
button.list-group-item-danger:hover,
a.list-group-item-danger:focus,
button.list-group-item-danger:focus {
  color: #a94442;
  background-color: #ebcccc;
}
a.list-group-item-danger.active,
button.list-group-item-danger.active,
a.list-group-item-danger.active:hover,
button.list-group-item-danger.active:hover,
a.list-group-item-danger.active:focus,
button.list-group-item-danger.active:focus {
  color: #fff;
  background-color: #a94442;
  border-color: #a94442;
}
.list-group-item-heading {
  margin-top: 0;
  margin-bottom: 5px;
}
.list-group-item-text {
  margin-bottom: 0;
  line-height: 1.3;
}
.panel {
  margin-bottom: 18px;
  background-color: #fff;
  border: 1px solid transparent;
  border-radius: 2px;
  -webkit-box-shadow: 0 1px 1px rgba(0, 0, 0, 0.05);
  box-shadow: 0 1px 1px rgba(0, 0, 0, 0.05);
}
.panel-body {
  padding: 15px;
}
.panel-heading {
  padding: 10px 15px;
  border-bottom: 1px solid transparent;
  border-top-right-radius: 1px;
  border-top-left-radius: 1px;
}
.panel-heading > .dropdown .dropdown-toggle {
  color: inherit;
}
.panel-title {
  margin-top: 0;
  margin-bottom: 0;
  font-size: 15px;
  color: inherit;
}
.panel-title > a,
.panel-title > small,
.panel-title > .small,
.panel-title > small > a,
.panel-title > .small > a {
  color: inherit;
}
.panel-footer {
  padding: 10px 15px;
  background-color: #f5f5f5;
  border-top: 1px solid #ddd;
  border-bottom-right-radius: 1px;
  border-bottom-left-radius: 1px;
}
.panel > .list-group,
.panel > .panel-collapse > .list-group {
  margin-bottom: 0;
}
.panel > .list-group .list-group-item,
.panel > .panel-collapse > .list-group .list-group-item {
  border-width: 1px 0;
  border-radius: 0;
}
.panel > .list-group:first-child .list-group-item:first-child,
.panel > .panel-collapse > .list-group:first-child .list-group-item:first-child {
  border-top: 0;
  border-top-right-radius: 1px;
  border-top-left-radius: 1px;
}
.panel > .list-group:last-child .list-group-item:last-child,
.panel > .panel-collapse > .list-group:last-child .list-group-item:last-child {
  border-bottom: 0;
  border-bottom-right-radius: 1px;
  border-bottom-left-radius: 1px;
}
.panel > .panel-heading + .panel-collapse > .list-group .list-group-item:first-child {
  border-top-right-radius: 0;
  border-top-left-radius: 0;
}
.panel-heading + .list-group .list-group-item:first-child {
  border-top-width: 0;
}
.list-group + .panel-footer {
  border-top-width: 0;
}
.panel > .table,
.panel > .table-responsive > .table,
.panel > .panel-collapse > .table {
  margin-bottom: 0;
}
.panel > .table caption,
.panel > .table-responsive > .table caption,
.panel > .panel-collapse > .table caption {
  padding-left: 15px;
  padding-right: 15px;
}
.panel > .table:first-child,
.panel > .table-responsive:first-child > .table:first-child {
  border-top-right-radius: 1px;
  border-top-left-radius: 1px;
}
.panel > .table:first-child > thead:first-child > tr:first-child,
.panel > .table-responsive:first-child > .table:first-child > thead:first-child > tr:first-child,
.panel > .table:first-child > tbody:first-child > tr:first-child,
.panel > .table-responsive:first-child > .table:first-child > tbody:first-child > tr:first-child {
  border-top-left-radius: 1px;
  border-top-right-radius: 1px;
}
.panel > .table:first-child > thead:first-child > tr:first-child td:first-child,
.panel > .table-responsive:first-child > .table:first-child > thead:first-child > tr:first-child td:first-child,
.panel > .table:first-child > tbody:first-child > tr:first-child td:first-child,
.panel > .table-responsive:first-child > .table:first-child > tbody:first-child > tr:first-child td:first-child,
.panel > .table:first-child > thead:first-child > tr:first-child th:first-child,
.panel > .table-responsive:first-child > .table:first-child > thead:first-child > tr:first-child th:first-child,
.panel > .table:first-child > tbody:first-child > tr:first-child th:first-child,
.panel > .table-responsive:first-child > .table:first-child > tbody:first-child > tr:first-child th:first-child {
  border-top-left-radius: 1px;
}
.panel > .table:first-child > thead:first-child > tr:first-child td:last-child,
.panel > .table-responsive:first-child > .table:first-child > thead:first-child > tr:first-child td:last-child,
.panel > .table:first-child > tbody:first-child > tr:first-child td:last-child,
.panel > .table-responsive:first-child > .table:first-child > tbody:first-child > tr:first-child td:last-child,
.panel > .table:first-child > thead:first-child > tr:first-child th:last-child,
.panel > .table-responsive:first-child > .table:first-child > thead:first-child > tr:first-child th:last-child,
.panel > .table:first-child > tbody:first-child > tr:first-child th:last-child,
.panel > .table-responsive:first-child > .table:first-child > tbody:first-child > tr:first-child th:last-child {
  border-top-right-radius: 1px;
}
.panel > .table:last-child,
.panel > .table-responsive:last-child > .table:last-child {
  border-bottom-right-radius: 1px;
  border-bottom-left-radius: 1px;
}
.panel > .table:last-child > tbody:last-child > tr:last-child,
.panel > .table-responsive:last-child > .table:last-child > tbody:last-child > tr:last-child,
.panel > .table:last-child > tfoot:last-child > tr:last-child,
.panel > .table-responsive:last-child > .table:last-child > tfoot:last-child > tr:last-child {
  border-bottom-left-radius: 1px;
  border-bottom-right-radius: 1px;
}
.panel > .table:last-child > tbody:last-child > tr:last-child td:first-child,
.panel > .table-responsive:last-child > .table:last-child > tbody:last-child > tr:last-child td:first-child,
.panel > .table:last-child > tfoot:last-child > tr:last-child td:first-child,
.panel > .table-responsive:last-child > .table:last-child > tfoot:last-child > tr:last-child td:first-child,
.panel > .table:last-child > tbody:last-child > tr:last-child th:first-child,
.panel > .table-responsive:last-child > .table:last-child > tbody:last-child > tr:last-child th:first-child,
.panel > .table:last-child > tfoot:last-child > tr:last-child th:first-child,
.panel > .table-responsive:last-child > .table:last-child > tfoot:last-child > tr:last-child th:first-child {
  border-bottom-left-radius: 1px;
}
.panel > .table:last-child > tbody:last-child > tr:last-child td:last-child,
.panel > .table-responsive:last-child > .table:last-child > tbody:last-child > tr:last-child td:last-child,
.panel > .table:last-child > tfoot:last-child > tr:last-child td:last-child,
.panel > .table-responsive:last-child > .table:last-child > tfoot:last-child > tr:last-child td:last-child,
.panel > .table:last-child > tbody:last-child > tr:last-child th:last-child,
.panel > .table-responsive:last-child > .table:last-child > tbody:last-child > tr:last-child th:last-child,
.panel > .table:last-child > tfoot:last-child > tr:last-child th:last-child,
.panel > .table-responsive:last-child > .table:last-child > tfoot:last-child > tr:last-child th:last-child {
  border-bottom-right-radius: 1px;
}
.panel > .panel-body + .table,
.panel > .panel-body + .table-responsive,
.panel > .table + .panel-body,
.panel > .table-responsive + .panel-body {
  border-top: 1px solid #ddd;
}
.panel > .table > tbody:first-child > tr:first-child th,
.panel > .table > tbody:first-child > tr:first-child td {
  border-top: 0;
}
.panel > .table-bordered,
.panel > .table-responsive > .table-bordered {
  border: 0;
}
.panel > .table-bordered > thead > tr > th:first-child,
.panel > .table-responsive > .table-bordered > thead > tr > th:first-child,
.panel > .table-bordered > tbody > tr > th:first-child,
.panel > .table-responsive > .table-bordered > tbody > tr > th:first-child,
.panel > .table-bordered > tfoot > tr > th:first-child,
.panel > .table-responsive > .table-bordered > tfoot > tr > th:first-child,
.panel > .table-bordered > thead > tr > td:first-child,
.panel > .table-responsive > .table-bordered > thead > tr > td:first-child,
.panel > .table-bordered > tbody > tr > td:first-child,
.panel > .table-responsive > .table-bordered > tbody > tr > td:first-child,
.panel > .table-bordered > tfoot > tr > td:first-child,
.panel > .table-responsive > .table-bordered > tfoot > tr > td:first-child {
  border-left: 0;
}
.panel > .table-bordered > thead > tr > th:last-child,
.panel > .table-responsive > .table-bordered > thead > tr > th:last-child,
.panel > .table-bordered > tbody > tr > th:last-child,
.panel > .table-responsive > .table-bordered > tbody > tr > th:last-child,
.panel > .table-bordered > tfoot > tr > th:last-child,
.panel > .table-responsive > .table-bordered > tfoot > tr > th:last-child,
.panel > .table-bordered > thead > tr > td:last-child,
.panel > .table-responsive > .table-bordered > thead > tr > td:last-child,
.panel > .table-bordered > tbody > tr > td:last-child,
.panel > .table-responsive > .table-bordered > tbody > tr > td:last-child,
.panel > .table-bordered > tfoot > tr > td:last-child,
.panel > .table-responsive > .table-bordered > tfoot > tr > td:last-child {
  border-right: 0;
}
.panel > .table-bordered > thead > tr:first-child > td,
.panel > .table-responsive > .table-bordered > thead > tr:first-child > td,
.panel > .table-bordered > tbody > tr:first-child > td,
.panel > .table-responsive > .table-bordered > tbody > tr:first-child > td,
.panel > .table-bordered > thead > tr:first-child > th,
.panel > .table-responsive > .table-bordered > thead > tr:first-child > th,
.panel > .table-bordered > tbody > tr:first-child > th,
.panel > .table-responsive > .table-bordered > tbody > tr:first-child > th {
  border-bottom: 0;
}
.panel > .table-bordered > tbody > tr:last-child > td,
.panel > .table-responsive > .table-bordered > tbody > tr:last-child > td,
.panel > .table-bordered > tfoot > tr:last-child > td,
.panel > .table-responsive > .table-bordered > tfoot > tr:last-child > td,
.panel > .table-bordered > tbody > tr:last-child > th,
.panel > .table-responsive > .table-bordered > tbody > tr:last-child > th,
.panel > .table-bordered > tfoot > tr:last-child > th,
.panel > .table-responsive > .table-bordered > tfoot > tr:last-child > th {
  border-bottom: 0;
}
.panel > .table-responsive {
  border: 0;
  margin-bottom: 0;
}
.panel-group {
  margin-bottom: 18px;
}
.panel-group .panel {
  margin-bottom: 0;
  border-radius: 2px;
}
.panel-group .panel + .panel {
  margin-top: 5px;
}
.panel-group .panel-heading {
  border-bottom: 0;
}
.panel-group .panel-heading + .panel-collapse > .panel-body,
.panel-group .panel-heading + .panel-collapse > .list-group {
  border-top: 1px solid #ddd;
}
.panel-group .panel-footer {
  border-top: 0;
}
.panel-group .panel-footer + .panel-collapse .panel-body {
  border-bottom: 1px solid #ddd;
}
.panel-default {
  border-color: #ddd;
}
.panel-default > .panel-heading {
  color: #333333;
  background-color: #f5f5f5;
  border-color: #ddd;
}
.panel-default > .panel-heading + .panel-collapse > .panel-body {
  border-top-color: #ddd;
}
.panel-default > .panel-heading .badge {
  color: #f5f5f5;
  background-color: #333333;
}
.panel-default > .panel-footer + .panel-collapse > .panel-body {
  border-bottom-color: #ddd;
}
.panel-primary {
  border-color: #337ab7;
}
.panel-primary > .panel-heading {
  color: #fff;
  background-color: #337ab7;
  border-color: #337ab7;
}
.panel-primary > .panel-heading + .panel-collapse > .panel-body {
  border-top-color: #337ab7;
}
.panel-primary > .panel-heading .badge {
  color: #337ab7;
  background-color: #fff;
}
.panel-primary > .panel-footer + .panel-collapse > .panel-body {
  border-bottom-color: #337ab7;
}
.panel-success {
  border-color: #d6e9c6;
}
.panel-success > .panel-heading {
  color: #3c763d;
  background-color: #dff0d8;
  border-color: #d6e9c6;
}
.panel-success > .panel-heading + .panel-collapse > .panel-body {
  border-top-color: #d6e9c6;
}
.panel-success > .panel-heading .badge {
  color: #dff0d8;
  background-color: #3c763d;
}
.panel-success > .panel-footer + .panel-collapse > .panel-body {
  border-bottom-color: #d6e9c6;
}
.panel-info {
  border-color: #bce8f1;
}
.panel-info > .panel-heading {
  color: #31708f;
  background-color: #d9edf7;
  border-color: #bce8f1;
}
.panel-info > .panel-heading + .panel-collapse > .panel-body {
  border-top-color: #bce8f1;
}
.panel-info > .panel-heading .badge {
  color: #d9edf7;
  background-color: #31708f;
}
.panel-info > .panel-footer + .panel-collapse > .panel-body {
  border-bottom-color: #bce8f1;
}
.panel-warning {
  border-color: #faebcc;
}
.panel-warning > .panel-heading {
  color: #8a6d3b;
  background-color: #fcf8e3;
  border-color: #faebcc;
}
.panel-warning > .panel-heading + .panel-collapse > .panel-body {
  border-top-color: #faebcc;
}
.panel-warning > .panel-heading .badge {
  color: #fcf8e3;
  background-color: #8a6d3b;
}
.panel-warning > .panel-footer + .panel-collapse > .panel-body {
  border-bottom-color: #faebcc;
}
.panel-danger {
  border-color: #ebccd1;
}
.panel-danger > .panel-heading {
  color: #a94442;
  background-color: #f2dede;
  border-color: #ebccd1;
}
.panel-danger > .panel-heading + .panel-collapse > .panel-body {
  border-top-color: #ebccd1;
}
.panel-danger > .panel-heading .badge {
  color: #f2dede;
  background-color: #a94442;
}
.panel-danger > .panel-footer + .panel-collapse > .panel-body {
  border-bottom-color: #ebccd1;
}
.embed-responsive {
  position: relative;
  display: block;
  height: 0;
  padding: 0;
  overflow: hidden;
}
.embed-responsive .embed-responsive-item,
.embed-responsive iframe,
.embed-responsive embed,
.embed-responsive object,
.embed-responsive video {
  position: absolute;
  top: 0;
  left: 0;
  bottom: 0;
  height: 100%;
  width: 100%;
  border: 0;
}
.embed-responsive-16by9 {
  padding-bottom: 56.25%;
}
.embed-responsive-4by3 {
  padding-bottom: 75%;
}
.well {
  min-height: 20px;
  padding: 19px;
  margin-bottom: 20px;
  background-color: #f5f5f5;
  border: 1px solid #e3e3e3;
  border-radius: 2px;
  -webkit-box-shadow: inset 0 1px 1px rgba(0, 0, 0, 0.05);
  box-shadow: inset 0 1px 1px rgba(0, 0, 0, 0.05);
}
.well blockquote {
  border-color: #ddd;
  border-color: rgba(0, 0, 0, 0.15);
}
.well-lg {
  padding: 24px;
  border-radius: 3px;
}
.well-sm {
  padding: 9px;
  border-radius: 1px;
}
.close {
  float: right;
  font-size: 19.5px;
  font-weight: bold;
  line-height: 1;
  color: #000;
  text-shadow: 0 1px 0 #fff;
  opacity: 0.2;
  filter: alpha(opacity=20);
}
.close:hover,
.close:focus {
  color: #000;
  text-decoration: none;
  cursor: pointer;
  opacity: 0.5;
  filter: alpha(opacity=50);
}
button.close {
  padding: 0;
  cursor: pointer;
  background: transparent;
  border: 0;
  -webkit-appearance: none;
}
.modal-open {
  overflow: hidden;
}
.modal {
  display: none;
  overflow: hidden;
  position: fixed;
  top: 0;
  right: 0;
  bottom: 0;
  left: 0;
  z-index: 1050;
  -webkit-overflow-scrolling: touch;
  outline: 0;
}
.modal.fade .modal-dialog {
  -webkit-transform: translate(0, -25%);
  -ms-transform: translate(0, -25%);
  -o-transform: translate(0, -25%);
  transform: translate(0, -25%);
  -webkit-transition: -webkit-transform 0.3s ease-out;
  -moz-transition: -moz-transform 0.3s ease-out;
  -o-transition: -o-transform 0.3s ease-out;
  transition: transform 0.3s ease-out;
}
.modal.in .modal-dialog {
  -webkit-transform: translate(0, 0);
  -ms-transform: translate(0, 0);
  -o-transform: translate(0, 0);
  transform: translate(0, 0);
}
.modal-open .modal {
  overflow-x: hidden;
  overflow-y: auto;
}
.modal-dialog {
  position: relative;
  width: auto;
  margin: 10px;
}
.modal-content {
  position: relative;
  background-color: #fff;
  border: 1px solid #999;
  border: 1px solid rgba(0, 0, 0, 0.2);
  border-radius: 3px;
  -webkit-box-shadow: 0 3px 9px rgba(0, 0, 0, 0.5);
  box-shadow: 0 3px 9px rgba(0, 0, 0, 0.5);
  background-clip: padding-box;
  outline: 0;
}
.modal-backdrop {
  position: fixed;
  top: 0;
  right: 0;
  bottom: 0;
  left: 0;
  z-index: 1040;
  background-color: #000;
}
.modal-backdrop.fade {
  opacity: 0;
  filter: alpha(opacity=0);
}
.modal-backdrop.in {
  opacity: 0.5;
  filter: alpha(opacity=50);
}
.modal-header {
  padding: 15px;
  border-bottom: 1px solid #e5e5e5;
}
.modal-header .close {
  margin-top: -2px;
}
.modal-title {
  margin: 0;
  line-height: 1.42857143;
}
.modal-body {
  position: relative;
  padding: 15px;
}
.modal-footer {
  padding: 15px;
  text-align: right;
  border-top: 1px solid #e5e5e5;
}
.modal-footer .btn + .btn {
  margin-left: 5px;
  margin-bottom: 0;
}
.modal-footer .btn-group .btn + .btn {
  margin-left: -1px;
}
.modal-footer .btn-block + .btn-block {
  margin-left: 0;
}
.modal-scrollbar-measure {
  position: absolute;
  top: -9999px;
  width: 50px;
  height: 50px;
  overflow: scroll;
}
@media (min-width: 768px) {
  .modal-dialog {
    width: 600px;
    margin: 30px auto;
  }
  .modal-content {
    -webkit-box-shadow: 0 5px 15px rgba(0, 0, 0, 0.5);
    box-shadow: 0 5px 15px rgba(0, 0, 0, 0.5);
  }
  .modal-sm {
    width: 300px;
  }
}
@media (min-width: 992px) {
  .modal-lg {
    width: 900px;
  }
}
.tooltip {
  position: absolute;
  z-index: 1070;
  display: block;
  font-family: "Helvetica Neue", Helvetica, Arial, sans-serif;
  font-style: normal;
  font-weight: normal;
  letter-spacing: normal;
  line-break: auto;
  line-height: 1.42857143;
  text-align: left;
  text-align: start;
  text-decoration: none;
  text-shadow: none;
  text-transform: none;
  white-space: normal;
  word-break: normal;
  word-spacing: normal;
  word-wrap: normal;
  font-size: 12px;
  opacity: 0;
  filter: alpha(opacity=0);
}
.tooltip.in {
  opacity: 0.9;
  filter: alpha(opacity=90);
}
.tooltip.top {
  margin-top: -3px;
  padding: 5px 0;
}
.tooltip.right {
  margin-left: 3px;
  padding: 0 5px;
}
.tooltip.bottom {
  margin-top: 3px;
  padding: 5px 0;
}
.tooltip.left {
  margin-left: -3px;
  padding: 0 5px;
}
.tooltip-inner {
  max-width: 200px;
  padding: 3px 8px;
  color: #fff;
  text-align: center;
  background-color: #000;
  border-radius: 2px;
}
.tooltip-arrow {
  position: absolute;
  width: 0;
  height: 0;
  border-color: transparent;
  border-style: solid;
}
.tooltip.top .tooltip-arrow {
  bottom: 0;
  left: 50%;
  margin-left: -5px;
  border-width: 5px 5px 0;
  border-top-color: #000;
}
.tooltip.top-left .tooltip-arrow {
  bottom: 0;
  right: 5px;
  margin-bottom: -5px;
  border-width: 5px 5px 0;
  border-top-color: #000;
}
.tooltip.top-right .tooltip-arrow {
  bottom: 0;
  left: 5px;
  margin-bottom: -5px;
  border-width: 5px 5px 0;
  border-top-color: #000;
}
.tooltip.right .tooltip-arrow {
  top: 50%;
  left: 0;
  margin-top: -5px;
  border-width: 5px 5px 5px 0;
  border-right-color: #000;
}
.tooltip.left .tooltip-arrow {
  top: 50%;
  right: 0;
  margin-top: -5px;
  border-width: 5px 0 5px 5px;
  border-left-color: #000;
}
.tooltip.bottom .tooltip-arrow {
  top: 0;
  left: 50%;
  margin-left: -5px;
  border-width: 0 5px 5px;
  border-bottom-color: #000;
}
.tooltip.bottom-left .tooltip-arrow {
  top: 0;
  right: 5px;
  margin-top: -5px;
  border-width: 0 5px 5px;
  border-bottom-color: #000;
}
.tooltip.bottom-right .tooltip-arrow {
  top: 0;
  left: 5px;
  margin-top: -5px;
  border-width: 0 5px 5px;
  border-bottom-color: #000;
}
.popover {
  position: absolute;
  top: 0;
  left: 0;
  z-index: 1060;
  display: none;
  max-width: 276px;
  padding: 1px;
  font-family: "Helvetica Neue", Helvetica, Arial, sans-serif;
  font-style: normal;
  font-weight: normal;
  letter-spacing: normal;
  line-break: auto;
  line-height: 1.42857143;
  text-align: left;
  text-align: start;
  text-decoration: none;
  text-shadow: none;
  text-transform: none;
  white-space: normal;
  word-break: normal;
  word-spacing: normal;
  word-wrap: normal;
  font-size: 13px;
  background-color: #fff;
  background-clip: padding-box;
  border: 1px solid #ccc;
  border: 1px solid rgba(0, 0, 0, 0.2);
  border-radius: 3px;
  -webkit-box-shadow: 0 5px 10px rgba(0, 0, 0, 0.2);
  box-shadow: 0 5px 10px rgba(0, 0, 0, 0.2);
}
.popover.top {
  margin-top: -10px;
}
.popover.right {
  margin-left: 10px;
}
.popover.bottom {
  margin-top: 10px;
}
.popover.left {
  margin-left: -10px;
}
.popover-title {
  margin: 0;
  padding: 8px 14px;
  font-size: 13px;
  background-color: #f7f7f7;
  border-bottom: 1px solid #ebebeb;
  border-radius: 2px 2px 0 0;
}
.popover-content {
  padding: 9px 14px;
}
.popover > .arrow,
.popover > .arrow:after {
  position: absolute;
  display: block;
  width: 0;
  height: 0;
  border-color: transparent;
  border-style: solid;
}
.popover > .arrow {
  border-width: 11px;
}
.popover > .arrow:after {
  border-width: 10px;
  content: "";
}
.popover.top > .arrow {
  left: 50%;
  margin-left: -11px;
  border-bottom-width: 0;
  border-top-color: #999999;
  border-top-color: rgba(0, 0, 0, 0.25);
  bottom: -11px;
}
.popover.top > .arrow:after {
  content: " ";
  bottom: 1px;
  margin-left: -10px;
  border-bottom-width: 0;
  border-top-color: #fff;
}
.popover.right > .arrow {
  top: 50%;
  left: -11px;
  margin-top: -11px;
  border-left-width: 0;
  border-right-color: #999999;
  border-right-color: rgba(0, 0, 0, 0.25);
}
.popover.right > .arrow:after {
  content: " ";
  left: 1px;
  bottom: -10px;
  border-left-width: 0;
  border-right-color: #fff;
}
.popover.bottom > .arrow {
  left: 50%;
  margin-left: -11px;
  border-top-width: 0;
  border-bottom-color: #999999;
  border-bottom-color: rgba(0, 0, 0, 0.25);
  top: -11px;
}
.popover.bottom > .arrow:after {
  content: " ";
  top: 1px;
  margin-left: -10px;
  border-top-width: 0;
  border-bottom-color: #fff;
}
.popover.left > .arrow {
  top: 50%;
  right: -11px;
  margin-top: -11px;
  border-right-width: 0;
  border-left-color: #999999;
  border-left-color: rgba(0, 0, 0, 0.25);
}
.popover.left > .arrow:after {
  content: " ";
  right: 1px;
  border-right-width: 0;
  border-left-color: #fff;
  bottom: -10px;
}
.carousel {
  position: relative;
}
.carousel-inner {
  position: relative;
  overflow: hidden;
  width: 100%;
}
.carousel-inner > .item {
  display: none;
  position: relative;
  -webkit-transition: 0.6s ease-in-out left;
  -o-transition: 0.6s ease-in-out left;
  transition: 0.6s ease-in-out left;
}
.carousel-inner > .item > img,
.carousel-inner > .item > a > img {
  line-height: 1;
}
@media all and (transform-3d), (-webkit-transform-3d) {
  .carousel-inner > .item {
    -webkit-transition: -webkit-transform 0.6s ease-in-out;
    -moz-transition: -moz-transform 0.6s ease-in-out;
    -o-transition: -o-transform 0.6s ease-in-out;
    transition: transform 0.6s ease-in-out;
    -webkit-backface-visibility: hidden;
    -moz-backface-visibility: hidden;
    backface-visibility: hidden;
    -webkit-perspective: 1000px;
    -moz-perspective: 1000px;
    perspective: 1000px;
  }
  .carousel-inner > .item.next,
  .carousel-inner > .item.active.right {
    -webkit-transform: translate3d(100%, 0, 0);
    transform: translate3d(100%, 0, 0);
    left: 0;
  }
  .carousel-inner > .item.prev,
  .carousel-inner > .item.active.left {
    -webkit-transform: translate3d(-100%, 0, 0);
    transform: translate3d(-100%, 0, 0);
    left: 0;
  }
  .carousel-inner > .item.next.left,
  .carousel-inner > .item.prev.right,
  .carousel-inner > .item.active {
    -webkit-transform: translate3d(0, 0, 0);
    transform: translate3d(0, 0, 0);
    left: 0;
  }
}
.carousel-inner > .active,
.carousel-inner > .next,
.carousel-inner > .prev {
  display: block;
}
.carousel-inner > .active {
  left: 0;
}
.carousel-inner > .next,
.carousel-inner > .prev {
  position: absolute;
  top: 0;
  width: 100%;
}
.carousel-inner > .next {
  left: 100%;
}
.carousel-inner > .prev {
  left: -100%;
}
.carousel-inner > .next.left,
.carousel-inner > .prev.right {
  left: 0;
}
.carousel-inner > .active.left {
  left: -100%;
}
.carousel-inner > .active.right {
  left: 100%;
}
.carousel-control {
  position: absolute;
  top: 0;
  left: 0;
  bottom: 0;
  width: 15%;
  opacity: 0.5;
  filter: alpha(opacity=50);
  font-size: 20px;
  color: #fff;
  text-align: center;
  text-shadow: 0 1px 2px rgba(0, 0, 0, 0.6);
  background-color: rgba(0, 0, 0, 0);
}
.carousel-control.left {
  background-image: -webkit-linear-gradient(left, rgba(0, 0, 0, 0.5) 0%, rgba(0, 0, 0, 0.0001) 100%);
  background-image: -o-linear-gradient(left, rgba(0, 0, 0, 0.5) 0%, rgba(0, 0, 0, 0.0001) 100%);
  background-image: linear-gradient(to right, rgba(0, 0, 0, 0.5) 0%, rgba(0, 0, 0, 0.0001) 100%);
  background-repeat: repeat-x;
  filter: progid:DXImageTransform.Microsoft.gradient(startColorstr='#80000000', endColorstr='#00000000', GradientType=1);
}
.carousel-control.right {
  left: auto;
  right: 0;
  background-image: -webkit-linear-gradient(left, rgba(0, 0, 0, 0.0001) 0%, rgba(0, 0, 0, 0.5) 100%);
  background-image: -o-linear-gradient(left, rgba(0, 0, 0, 0.0001) 0%, rgba(0, 0, 0, 0.5) 100%);
  background-image: linear-gradient(to right, rgba(0, 0, 0, 0.0001) 0%, rgba(0, 0, 0, 0.5) 100%);
  background-repeat: repeat-x;
  filter: progid:DXImageTransform.Microsoft.gradient(startColorstr='#00000000', endColorstr='#80000000', GradientType=1);
}
.carousel-control:hover,
.carousel-control:focus {
  outline: 0;
  color: #fff;
  text-decoration: none;
  opacity: 0.9;
  filter: alpha(opacity=90);
}
.carousel-control .icon-prev,
.carousel-control .icon-next,
.carousel-control .glyphicon-chevron-left,
.carousel-control .glyphicon-chevron-right {
  position: absolute;
  top: 50%;
  margin-top: -10px;
  z-index: 5;
  display: inline-block;
}
.carousel-control .icon-prev,
.carousel-control .glyphicon-chevron-left {
  left: 50%;
  margin-left: -10px;
}
.carousel-control .icon-next,
.carousel-control .glyphicon-chevron-right {
  right: 50%;
  margin-right: -10px;
}
.carousel-control .icon-prev,
.carousel-control .icon-next {
  width: 20px;
  height: 20px;
  line-height: 1;
  font-family: serif;
}
.carousel-control .icon-prev:before {
  content: '\2039';
}
.carousel-control .icon-next:before {
  content: '\203a';
}
.carousel-indicators {
  position: absolute;
  bottom: 10px;
  left: 50%;
  z-index: 15;
  width: 60%;
  margin-left: -30%;
  padding-left: 0;
  list-style: none;
  text-align: center;
}
.carousel-indicators li {
  display: inline-block;
  width: 10px;
  height: 10px;
  margin: 1px;
  text-indent: -999px;
  border: 1px solid #fff;
  border-radius: 10px;
  cursor: pointer;
  background-color: #000 \9;
  background-color: rgba(0, 0, 0, 0);
}
.carousel-indicators .active {
  margin: 0;
  width: 12px;
  height: 12px;
  background-color: #fff;
}
.carousel-caption {
  position: absolute;
  left: 15%;
  right: 15%;
  bottom: 20px;
  z-index: 10;
  padding-top: 20px;
  padding-bottom: 20px;
  color: #fff;
  text-align: center;
  text-shadow: 0 1px 2px rgba(0, 0, 0, 0.6);
}
.carousel-caption .btn {
  text-shadow: none;
}
@media screen and (min-width: 768px) {
  .carousel-control .glyphicon-chevron-left,
  .carousel-control .glyphicon-chevron-right,
  .carousel-control .icon-prev,
  .carousel-control .icon-next {
    width: 30px;
    height: 30px;
    margin-top: -10px;
    font-size: 30px;
  }
  .carousel-control .glyphicon-chevron-left,
  .carousel-control .icon-prev {
    margin-left: -10px;
  }
  .carousel-control .glyphicon-chevron-right,
  .carousel-control .icon-next {
    margin-right: -10px;
  }
  .carousel-caption {
    left: 20%;
    right: 20%;
    padding-bottom: 30px;
  }
  .carousel-indicators {
    bottom: 20px;
  }
}
.clearfix:before,
.clearfix:after,
.dl-horizontal dd:before,
.dl-horizontal dd:after,
.container:before,
.container:after,
.container-fluid:before,
.container-fluid:after,
.row:before,
.row:after,
.form-horizontal .form-group:before,
.form-horizontal .form-group:after,
.btn-toolbar:before,
.btn-toolbar:after,
.btn-group-vertical > .btn-group:before,
.btn-group-vertical > .btn-group:after,
.nav:before,
.nav:after,
.navbar:before,
.navbar:after,
.navbar-header:before,
.navbar-header:after,
.navbar-collapse:before,
.navbar-collapse:after,
.pager:before,
.pager:after,
.panel-body:before,
.panel-body:after,
.modal-header:before,
.modal-header:after,
.modal-footer:before,
.modal-footer:after,
.item_buttons:before,
.item_buttons:after {
  content: " ";
  display: table;
}
.clearfix:after,
.dl-horizontal dd:after,
.container:after,
.container-fluid:after,
.row:after,
.form-horizontal .form-group:after,
.btn-toolbar:after,
.btn-group-vertical > .btn-group:after,
.nav:after,
.navbar:after,
.navbar-header:after,
.navbar-collapse:after,
.pager:after,
.panel-body:after,
.modal-header:after,
.modal-footer:after,
.item_buttons:after {
  clear: both;
}
.center-block {
  display: block;
  margin-left: auto;
  margin-right: auto;
}
.pull-right {
  float: right !important;
}
.pull-left {
  float: left !important;
}
.hide {
  display: none !important;
}
.show {
  display: block !important;
}
.invisible {
  visibility: hidden;
}
.text-hide {
  font: 0/0 a;
  color: transparent;
  text-shadow: none;
  background-color: transparent;
  border: 0;
}
.hidden {
  display: none !important;
}
.affix {
  position: fixed;
}
@-ms-viewport {
  width: device-width;
}
.visible-xs,
.visible-sm,
.visible-md,
.visible-lg {
  display: none !important;
}
.visible-xs-block,
.visible-xs-inline,
.visible-xs-inline-block,
.visible-sm-block,
.visible-sm-inline,
.visible-sm-inline-block,
.visible-md-block,
.visible-md-inline,
.visible-md-inline-block,
.visible-lg-block,
.visible-lg-inline,
.visible-lg-inline-block {
  display: none !important;
}
@media (max-width: 767px) {
  .visible-xs {
    display: block !important;
  }
  table.visible-xs {
    display: table !important;
  }
  tr.visible-xs {
    display: table-row !important;
  }
  th.visible-xs,
  td.visible-xs {
    display: table-cell !important;
  }
}
@media (max-width: 767px) {
  .visible-xs-block {
    display: block !important;
  }
}
@media (max-width: 767px) {
  .visible-xs-inline {
    display: inline !important;
  }
}
@media (max-width: 767px) {
  .visible-xs-inline-block {
    display: inline-block !important;
  }
}
@media (min-width: 768px) and (max-width: 991px) {
  .visible-sm {
    display: block !important;
  }
  table.visible-sm {
    display: table !important;
  }
  tr.visible-sm {
    display: table-row !important;
  }
  th.visible-sm,
  td.visible-sm {
    display: table-cell !important;
  }
}
@media (min-width: 768px) and (max-width: 991px) {
  .visible-sm-block {
    display: block !important;
  }
}
@media (min-width: 768px) and (max-width: 991px) {
  .visible-sm-inline {
    display: inline !important;
  }
}
@media (min-width: 768px) and (max-width: 991px) {
  .visible-sm-inline-block {
    display: inline-block !important;
  }
}
@media (min-width: 992px) and (max-width: 1199px) {
  .visible-md {
    display: block !important;
  }
  table.visible-md {
    display: table !important;
  }
  tr.visible-md {
    display: table-row !important;
  }
  th.visible-md,
  td.visible-md {
    display: table-cell !important;
  }
}
@media (min-width: 992px) and (max-width: 1199px) {
  .visible-md-block {
    display: block !important;
  }
}
@media (min-width: 992px) and (max-width: 1199px) {
  .visible-md-inline {
    display: inline !important;
  }
}
@media (min-width: 992px) and (max-width: 1199px) {
  .visible-md-inline-block {
    display: inline-block !important;
  }
}
@media (min-width: 1200px) {
  .visible-lg {
    display: block !important;
  }
  table.visible-lg {
    display: table !important;
  }
  tr.visible-lg {
    display: table-row !important;
  }
  th.visible-lg,
  td.visible-lg {
    display: table-cell !important;
  }
}
@media (min-width: 1200px) {
  .visible-lg-block {
    display: block !important;
  }
}
@media (min-width: 1200px) {
  .visible-lg-inline {
    display: inline !important;
  }
}
@media (min-width: 1200px) {
  .visible-lg-inline-block {
    display: inline-block !important;
  }
}
@media (max-width: 767px) {
  .hidden-xs {
    display: none !important;
  }
}
@media (min-width: 768px) and (max-width: 991px) {
  .hidden-sm {
    display: none !important;
  }
}
@media (min-width: 992px) and (max-width: 1199px) {
  .hidden-md {
    display: none !important;
  }
}
@media (min-width: 1200px) {
  .hidden-lg {
    display: none !important;
  }
}
.visible-print {
  display: none !important;
}
@media print {
  .visible-print {
    display: block !important;
  }
  table.visible-print {
    display: table !important;
  }
  tr.visible-print {
    display: table-row !important;
  }
  th.visible-print,
  td.visible-print {
    display: table-cell !important;
  }
}
.visible-print-block {
  display: none !important;
}
@media print {
  .visible-print-block {
    display: block !important;
  }
}
.visible-print-inline {
  display: none !important;
}
@media print {
  .visible-print-inline {
    display: inline !important;
  }
}
.visible-print-inline-block {
  display: none !important;
}
@media print {
  .visible-print-inline-block {
    display: inline-block !important;
  }
}
@media print {
  .hidden-print {
    display: none !important;
  }
}
/*!
*
* Font Awesome
*
*/
/*!
 *  Font Awesome 4.2.0 by @davegandy - http://fontawesome.io - @fontawesome
 *  License - http://fontawesome.io/license (Font: SIL OFL 1.1, CSS: MIT License)
 */
/* FONT PATH
 * -------------------------- */
@font-face {
  font-family: 'FontAwesome';
  src: url('../components/font-awesome/fonts/fontawesome-webfont.eot?v=4.2.0');
  src: url('../components/font-awesome/fonts/fontawesome-webfont.eot?#iefix&v=4.2.0') format('embedded-opentype'), url('../components/font-awesome/fonts/fontawesome-webfont.woff?v=4.2.0') format('woff'), url('../components/font-awesome/fonts/fontawesome-webfont.ttf?v=4.2.0') format('truetype'), url('../components/font-awesome/fonts/fontawesome-webfont.svg?v=4.2.0#fontawesomeregular') format('svg');
  font-weight: normal;
  font-style: normal;
}
.fa {
  display: inline-block;
  font: normal normal normal 14px/1 FontAwesome;
  font-size: inherit;
  text-rendering: auto;
  -webkit-font-smoothing: antialiased;
  -moz-osx-font-smoothing: grayscale;
}
/* makes the font 33% larger relative to the icon container */
.fa-lg {
  font-size: 1.33333333em;
  line-height: 0.75em;
  vertical-align: -15%;
}
.fa-2x {
  font-size: 2em;
}
.fa-3x {
  font-size: 3em;
}
.fa-4x {
  font-size: 4em;
}
.fa-5x {
  font-size: 5em;
}
.fa-fw {
  width: 1.28571429em;
  text-align: center;
}
.fa-ul {
  padding-left: 0;
  margin-left: 2.14285714em;
  list-style-type: none;
}
.fa-ul > li {
  position: relative;
}
.fa-li {
  position: absolute;
  left: -2.14285714em;
  width: 2.14285714em;
  top: 0.14285714em;
  text-align: center;
}
.fa-li.fa-lg {
  left: -1.85714286em;
}
.fa-border {
  padding: .2em .25em .15em;
  border: solid 0.08em #eee;
  border-radius: .1em;
}
.pull-right {
  float: right;
}
.pull-left {
  float: left;
}
.fa.pull-left {
  margin-right: .3em;
}
.fa.pull-right {
  margin-left: .3em;
}
.fa-spin {
  -webkit-animation: fa-spin 2s infinite linear;
  animation: fa-spin 2s infinite linear;
}
@-webkit-keyframes fa-spin {
  0% {
    -webkit-transform: rotate(0deg);
    transform: rotate(0deg);
  }
  100% {
    -webkit-transform: rotate(359deg);
    transform: rotate(359deg);
  }
}
@keyframes fa-spin {
  0% {
    -webkit-transform: rotate(0deg);
    transform: rotate(0deg);
  }
  100% {
    -webkit-transform: rotate(359deg);
    transform: rotate(359deg);
  }
}
.fa-rotate-90 {
  filter: progid:DXImageTransform.Microsoft.BasicImage(rotation=1);
  -webkit-transform: rotate(90deg);
  -ms-transform: rotate(90deg);
  transform: rotate(90deg);
}
.fa-rotate-180 {
  filter: progid:DXImageTransform.Microsoft.BasicImage(rotation=2);
  -webkit-transform: rotate(180deg);
  -ms-transform: rotate(180deg);
  transform: rotate(180deg);
}
.fa-rotate-270 {
  filter: progid:DXImageTransform.Microsoft.BasicImage(rotation=3);
  -webkit-transform: rotate(270deg);
  -ms-transform: rotate(270deg);
  transform: rotate(270deg);
}
.fa-flip-horizontal {
  filter: progid:DXImageTransform.Microsoft.BasicImage(rotation=0, mirror=1);
  -webkit-transform: scale(-1, 1);
  -ms-transform: scale(-1, 1);
  transform: scale(-1, 1);
}
.fa-flip-vertical {
  filter: progid:DXImageTransform.Microsoft.BasicImage(rotation=2, mirror=1);
  -webkit-transform: scale(1, -1);
  -ms-transform: scale(1, -1);
  transform: scale(1, -1);
}
:root .fa-rotate-90,
:root .fa-rotate-180,
:root .fa-rotate-270,
:root .fa-flip-horizontal,
:root .fa-flip-vertical {
  filter: none;
}
.fa-stack {
  position: relative;
  display: inline-block;
  width: 2em;
  height: 2em;
  line-height: 2em;
  vertical-align: middle;
}
.fa-stack-1x,
.fa-stack-2x {
  position: absolute;
  left: 0;
  width: 100%;
  text-align: center;
}
.fa-stack-1x {
  line-height: inherit;
}
.fa-stack-2x {
  font-size: 2em;
}
.fa-inverse {
  color: #fff;
}
/* Font Awesome uses the Unicode Private Use Area (PUA) to ensure screen
   readers do not read off random characters that represent icons */
.fa-glass:before {
  content: "\f000";
}
.fa-music:before {
  content: "\f001";
}
.fa-search:before {
  content: "\f002";
}
.fa-envelope-o:before {
  content: "\f003";
}
.fa-heart:before {
  content: "\f004";
}
.fa-star:before {
  content: "\f005";
}
.fa-star-o:before {
  content: "\f006";
}
.fa-user:before {
  content: "\f007";
}
.fa-film:before {
  content: "\f008";
}
.fa-th-large:before {
  content: "\f009";
}
.fa-th:before {
  content: "\f00a";
}
.fa-th-list:before {
  content: "\f00b";
}
.fa-check:before {
  content: "\f00c";
}
.fa-remove:before,
.fa-close:before,
.fa-times:before {
  content: "\f00d";
}
.fa-search-plus:before {
  content: "\f00e";
}
.fa-search-minus:before {
  content: "\f010";
}
.fa-power-off:before {
  content: "\f011";
}
.fa-signal:before {
  content: "\f012";
}
.fa-gear:before,
.fa-cog:before {
  content: "\f013";
}
.fa-trash-o:before {
  content: "\f014";
}
.fa-home:before {
  content: "\f015";
}
.fa-file-o:before {
  content: "\f016";
}
.fa-clock-o:before {
  content: "\f017";
}
.fa-road:before {
  content: "\f018";
}
.fa-download:before {
  content: "\f019";
}
.fa-arrow-circle-o-down:before {
  content: "\f01a";
}
.fa-arrow-circle-o-up:before {
  content: "\f01b";
}
.fa-inbox:before {
  content: "\f01c";
}
.fa-play-circle-o:before {
  content: "\f01d";
}
.fa-rotate-right:before,
.fa-repeat:before {
  content: "\f01e";
}
.fa-refresh:before {
  content: "\f021";
}
.fa-list-alt:before {
  content: "\f022";
}
.fa-lock:before {
  content: "\f023";
}
.fa-flag:before {
  content: "\f024";
}
.fa-headphones:before {
  content: "\f025";
}
.fa-volume-off:before {
  content: "\f026";
}
.fa-volume-down:before {
  content: "\f027";
}
.fa-volume-up:before {
  content: "\f028";
}
.fa-qrcode:before {
  content: "\f029";
}
.fa-barcode:before {
  content: "\f02a";
}
.fa-tag:before {
  content: "\f02b";
}
.fa-tags:before {
  content: "\f02c";
}
.fa-book:before {
  content: "\f02d";
}
.fa-bookmark:before {
  content: "\f02e";
}
.fa-print:before {
  content: "\f02f";
}
.fa-camera:before {
  content: "\f030";
}
.fa-font:before {
  content: "\f031";
}
.fa-bold:before {
  content: "\f032";
}
.fa-italic:before {
  content: "\f033";
}
.fa-text-height:before {
  content: "\f034";
}
.fa-text-width:before {
  content: "\f035";
}
.fa-align-left:before {
  content: "\f036";
}
.fa-align-center:before {
  content: "\f037";
}
.fa-align-right:before {
  content: "\f038";
}
.fa-align-justify:before {
  content: "\f039";
}
.fa-list:before {
  content: "\f03a";
}
.fa-dedent:before,
.fa-outdent:before {
  content: "\f03b";
}
.fa-indent:before {
  content: "\f03c";
}
.fa-video-camera:before {
  content: "\f03d";
}
.fa-photo:before,
.fa-image:before,
.fa-picture-o:before {
  content: "\f03e";
}
.fa-pencil:before {
  content: "\f040";
}
.fa-map-marker:before {
  content: "\f041";
}
.fa-adjust:before {
  content: "\f042";
}
.fa-tint:before {
  content: "\f043";
}
.fa-edit:before,
.fa-pencil-square-o:before {
  content: "\f044";
}
.fa-share-square-o:before {
  content: "\f045";
}
.fa-check-square-o:before {
  content: "\f046";
}
.fa-arrows:before {
  content: "\f047";
}
.fa-step-backward:before {
  content: "\f048";
}
.fa-fast-backward:before {
  content: "\f049";
}
.fa-backward:before {
  content: "\f04a";
}
.fa-play:before {
  content: "\f04b";
}
.fa-pause:before {
  content: "\f04c";
}
.fa-stop:before {
  content: "\f04d";
}
.fa-forward:before {
  content: "\f04e";
}
.fa-fast-forward:before {
  content: "\f050";
}
.fa-step-forward:before {
  content: "\f051";
}
.fa-eject:before {
  content: "\f052";
}
.fa-chevron-left:before {
  content: "\f053";
}
.fa-chevron-right:before {
  content: "\f054";
}
.fa-plus-circle:before {
  content: "\f055";
}
.fa-minus-circle:before {
  content: "\f056";
}
.fa-times-circle:before {
  content: "\f057";
}
.fa-check-circle:before {
  content: "\f058";
}
.fa-question-circle:before {
  content: "\f059";
}
.fa-info-circle:before {
  content: "\f05a";
}
.fa-crosshairs:before {
  content: "\f05b";
}
.fa-times-circle-o:before {
  content: "\f05c";
}
.fa-check-circle-o:before {
  content: "\f05d";
}
.fa-ban:before {
  content: "\f05e";
}
.fa-arrow-left:before {
  content: "\f060";
}
.fa-arrow-right:before {
  content: "\f061";
}
.fa-arrow-up:before {
  content: "\f062";
}
.fa-arrow-down:before {
  content: "\f063";
}
.fa-mail-forward:before,
.fa-share:before {
  content: "\f064";
}
.fa-expand:before {
  content: "\f065";
}
.fa-compress:before {
  content: "\f066";
}
.fa-plus:before {
  content: "\f067";
}
.fa-minus:before {
  content: "\f068";
}
.fa-asterisk:before {
  content: "\f069";
}
.fa-exclamation-circle:before {
  content: "\f06a";
}
.fa-gift:before {
  content: "\f06b";
}
.fa-leaf:before {
  content: "\f06c";
}
.fa-fire:before {
  content: "\f06d";
}
.fa-eye:before {
  content: "\f06e";
}
.fa-eye-slash:before {
  content: "\f070";
}
.fa-warning:before,
.fa-exclamation-triangle:before {
  content: "\f071";
}
.fa-plane:before {
  content: "\f072";
}
.fa-calendar:before {
  content: "\f073";
}
.fa-random:before {
  content: "\f074";
}
.fa-comment:before {
  content: "\f075";
}
.fa-magnet:before {
  content: "\f076";
}
.fa-chevron-up:before {
  content: "\f077";
}
.fa-chevron-down:before {
  content: "\f078";
}
.fa-retweet:before {
  content: "\f079";
}
.fa-shopping-cart:before {
  content: "\f07a";
}
.fa-folder:before {
  content: "\f07b";
}
.fa-folder-open:before {
  content: "\f07c";
}
.fa-arrows-v:before {
  content: "\f07d";
}
.fa-arrows-h:before {
  content: "\f07e";
}
.fa-bar-chart-o:before,
.fa-bar-chart:before {
  content: "\f080";
}
.fa-twitter-square:before {
  content: "\f081";
}
.fa-facebook-square:before {
  content: "\f082";
}
.fa-camera-retro:before {
  content: "\f083";
}
.fa-key:before {
  content: "\f084";
}
.fa-gears:before,
.fa-cogs:before {
  content: "\f085";
}
.fa-comments:before {
  content: "\f086";
}
.fa-thumbs-o-up:before {
  content: "\f087";
}
.fa-thumbs-o-down:before {
  content: "\f088";
}
.fa-star-half:before {
  content: "\f089";
}
.fa-heart-o:before {
  content: "\f08a";
}
.fa-sign-out:before {
  content: "\f08b";
}
.fa-linkedin-square:before {
  content: "\f08c";
}
.fa-thumb-tack:before {
  content: "\f08d";
}
.fa-external-link:before {
  content: "\f08e";
}
.fa-sign-in:before {
  content: "\f090";
}
.fa-trophy:before {
  content: "\f091";
}
.fa-github-square:before {
  content: "\f092";
}
.fa-upload:before {
  content: "\f093";
}
.fa-lemon-o:before {
  content: "\f094";
}
.fa-phone:before {
  content: "\f095";
}
.fa-square-o:before {
  content: "\f096";
}
.fa-bookmark-o:before {
  content: "\f097";
}
.fa-phone-square:before {
  content: "\f098";
}
.fa-twitter:before {
  content: "\f099";
}
.fa-facebook:before {
  content: "\f09a";
}
.fa-github:before {
  content: "\f09b";
}
.fa-unlock:before {
  content: "\f09c";
}
.fa-credit-card:before {
  content: "\f09d";
}
.fa-rss:before {
  content: "\f09e";
}
.fa-hdd-o:before {
  content: "\f0a0";
}
.fa-bullhorn:before {
  content: "\f0a1";
}
.fa-bell:before {
  content: "\f0f3";
}
.fa-certificate:before {
  content: "\f0a3";
}
.fa-hand-o-right:before {
  content: "\f0a4";
}
.fa-hand-o-left:before {
  content: "\f0a5";
}
.fa-hand-o-up:before {
  content: "\f0a6";
}
.fa-hand-o-down:before {
  content: "\f0a7";
}
.fa-arrow-circle-left:before {
  content: "\f0a8";
}
.fa-arrow-circle-right:before {
  content: "\f0a9";
}
.fa-arrow-circle-up:before {
  content: "\f0aa";
}
.fa-arrow-circle-down:before {
  content: "\f0ab";
}
.fa-globe:before {
  content: "\f0ac";
}
.fa-wrench:before {
  content: "\f0ad";
}
.fa-tasks:before {
  content: "\f0ae";
}
.fa-filter:before {
  content: "\f0b0";
}
.fa-briefcase:before {
  content: "\f0b1";
}
.fa-arrows-alt:before {
  content: "\f0b2";
}
.fa-group:before,
.fa-users:before {
  content: "\f0c0";
}
.fa-chain:before,
.fa-link:before {
  content: "\f0c1";
}
.fa-cloud:before {
  content: "\f0c2";
}
.fa-flask:before {
  content: "\f0c3";
}
.fa-cut:before,
.fa-scissors:before {
  content: "\f0c4";
}
.fa-copy:before,
.fa-files-o:before {
  content: "\f0c5";
}
.fa-paperclip:before {
  content: "\f0c6";
}
.fa-save:before,
.fa-floppy-o:before {
  content: "\f0c7";
}
.fa-square:before {
  content: "\f0c8";
}
.fa-navicon:before,
.fa-reorder:before,
.fa-bars:before {
  content: "\f0c9";
}
.fa-list-ul:before {
  content: "\f0ca";
}
.fa-list-ol:before {
  content: "\f0cb";
}
.fa-strikethrough:before {
  content: "\f0cc";
}
.fa-underline:before {
  content: "\f0cd";
}
.fa-table:before {
  content: "\f0ce";
}
.fa-magic:before {
  content: "\f0d0";
}
.fa-truck:before {
  content: "\f0d1";
}
.fa-pinterest:before {
  content: "\f0d2";
}
.fa-pinterest-square:before {
  content: "\f0d3";
}
.fa-google-plus-square:before {
  content: "\f0d4";
}
.fa-google-plus:before {
  content: "\f0d5";
}
.fa-money:before {
  content: "\f0d6";
}
.fa-caret-down:before {
  content: "\f0d7";
}
.fa-caret-up:before {
  content: "\f0d8";
}
.fa-caret-left:before {
  content: "\f0d9";
}
.fa-caret-right:before {
  content: "\f0da";
}
.fa-columns:before {
  content: "\f0db";
}
.fa-unsorted:before,
.fa-sort:before {
  content: "\f0dc";
}
.fa-sort-down:before,
.fa-sort-desc:before {
  content: "\f0dd";
}
.fa-sort-up:before,
.fa-sort-asc:before {
  content: "\f0de";
}
.fa-envelope:before {
  content: "\f0e0";
}
.fa-linkedin:before {
  content: "\f0e1";
}
.fa-rotate-left:before,
.fa-undo:before {
  content: "\f0e2";
}
.fa-legal:before,
.fa-gavel:before {
  content: "\f0e3";
}
.fa-dashboard:before,
.fa-tachometer:before {
  content: "\f0e4";
}
.fa-comment-o:before {
  content: "\f0e5";
}
.fa-comments-o:before {
  content: "\f0e6";
}
.fa-flash:before,
.fa-bolt:before {
  content: "\f0e7";
}
.fa-sitemap:before {
  content: "\f0e8";
}
.fa-umbrella:before {
  content: "\f0e9";
}
.fa-paste:before,
.fa-clipboard:before {
  content: "\f0ea";
}
.fa-lightbulb-o:before {
  content: "\f0eb";
}
.fa-exchange:before {
  content: "\f0ec";
}
.fa-cloud-download:before {
  content: "\f0ed";
}
.fa-cloud-upload:before {
  content: "\f0ee";
}
.fa-user-md:before {
  content: "\f0f0";
}
.fa-stethoscope:before {
  content: "\f0f1";
}
.fa-suitcase:before {
  content: "\f0f2";
}
.fa-bell-o:before {
  content: "\f0a2";
}
.fa-coffee:before {
  content: "\f0f4";
}
.fa-cutlery:before {
  content: "\f0f5";
}
.fa-file-text-o:before {
  content: "\f0f6";
}
.fa-building-o:before {
  content: "\f0f7";
}
.fa-hospital-o:before {
  content: "\f0f8";
}
.fa-ambulance:before {
  content: "\f0f9";
}
.fa-medkit:before {
  content: "\f0fa";
}
.fa-fighter-jet:before {
  content: "\f0fb";
}
.fa-beer:before {
  content: "\f0fc";
}
.fa-h-square:before {
  content: "\f0fd";
}
.fa-plus-square:before {
  content: "\f0fe";
}
.fa-angle-double-left:before {
  content: "\f100";
}
.fa-angle-double-right:before {
  content: "\f101";
}
.fa-angle-double-up:before {
  content: "\f102";
}
.fa-angle-double-down:before {
  content: "\f103";
}
.fa-angle-left:before {
  content: "\f104";
}
.fa-angle-right:before {
  content: "\f105";
}
.fa-angle-up:before {
  content: "\f106";
}
.fa-angle-down:before {
  content: "\f107";
}
.fa-desktop:before {
  content: "\f108";
}
.fa-laptop:before {
  content: "\f109";
}
.fa-tablet:before {
  content: "\f10a";
}
.fa-mobile-phone:before,
.fa-mobile:before {
  content: "\f10b";
}
.fa-circle-o:before {
  content: "\f10c";
}
.fa-quote-left:before {
  content: "\f10d";
}
.fa-quote-right:before {
  content: "\f10e";
}
.fa-spinner:before {
  content: "\f110";
}
.fa-circle:before {
  content: "\f111";
}
.fa-mail-reply:before,
.fa-reply:before {
  content: "\f112";
}
.fa-github-alt:before {
  content: "\f113";
}
.fa-folder-o:before {
  content: "\f114";
}
.fa-folder-open-o:before {
  content: "\f115";
}
.fa-smile-o:before {
  content: "\f118";
}
.fa-frown-o:before {
  content: "\f119";
}
.fa-meh-o:before {
  content: "\f11a";
}
.fa-gamepad:before {
  content: "\f11b";
}
.fa-keyboard-o:before {
  content: "\f11c";
}
.fa-flag-o:before {
  content: "\f11d";
}
.fa-flag-checkered:before {
  content: "\f11e";
}
.fa-terminal:before {
  content: "\f120";
}
.fa-code:before {
  content: "\f121";
}
.fa-mail-reply-all:before,
.fa-reply-all:before {
  content: "\f122";
}
.fa-star-half-empty:before,
.fa-star-half-full:before,
.fa-star-half-o:before {
  content: "\f123";
}
.fa-location-arrow:before {
  content: "\f124";
}
.fa-crop:before {
  content: "\f125";
}
.fa-code-fork:before {
  content: "\f126";
}
.fa-unlink:before,
.fa-chain-broken:before {
  content: "\f127";
}
.fa-question:before {
  content: "\f128";
}
.fa-info:before {
  content: "\f129";
}
.fa-exclamation:before {
  content: "\f12a";
}
.fa-superscript:before {
  content: "\f12b";
}
.fa-subscript:before {
  content: "\f12c";
}
.fa-eraser:before {
  content: "\f12d";
}
.fa-puzzle-piece:before {
  content: "\f12e";
}
.fa-microphone:before {
  content: "\f130";
}
.fa-microphone-slash:before {
  content: "\f131";
}
.fa-shield:before {
  content: "\f132";
}
.fa-calendar-o:before {
  content: "\f133";
}
.fa-fire-extinguisher:before {
  content: "\f134";
}
.fa-rocket:before {
  content: "\f135";
}
.fa-maxcdn:before {
  content: "\f136";
}
.fa-chevron-circle-left:before {
  content: "\f137";
}
.fa-chevron-circle-right:before {
  content: "\f138";
}
.fa-chevron-circle-up:before {
  content: "\f139";
}
.fa-chevron-circle-down:before {
  content: "\f13a";
}
.fa-html5:before {
  content: "\f13b";
}
.fa-css3:before {
  content: "\f13c";
}
.fa-anchor:before {
  content: "\f13d";
}
.fa-unlock-alt:before {
  content: "\f13e";
}
.fa-bullseye:before {
  content: "\f140";
}
.fa-ellipsis-h:before {
  content: "\f141";
}
.fa-ellipsis-v:before {
  content: "\f142";
}
.fa-rss-square:before {
  content: "\f143";
}
.fa-play-circle:before {
  content: "\f144";
}
.fa-ticket:before {
  content: "\f145";
}
.fa-minus-square:before {
  content: "\f146";
}
.fa-minus-square-o:before {
  content: "\f147";
}
.fa-level-up:before {
  content: "\f148";
}
.fa-level-down:before {
  content: "\f149";
}
.fa-check-square:before {
  content: "\f14a";
}
.fa-pencil-square:before {
  content: "\f14b";
}
.fa-external-link-square:before {
  content: "\f14c";
}
.fa-share-square:before {
  content: "\f14d";
}
.fa-compass:before {
  content: "\f14e";
}
.fa-toggle-down:before,
.fa-caret-square-o-down:before {
  content: "\f150";
}
.fa-toggle-up:before,
.fa-caret-square-o-up:before {
  content: "\f151";
}
.fa-toggle-right:before,
.fa-caret-square-o-right:before {
  content: "\f152";
}
.fa-euro:before,
.fa-eur:before {
  content: "\f153";
}
.fa-gbp:before {
  content: "\f154";
}
.fa-dollar:before,
.fa-usd:before {
  content: "\f155";
}
.fa-rupee:before,
.fa-inr:before {
  content: "\f156";
}
.fa-cny:before,
.fa-rmb:before,
.fa-yen:before,
.fa-jpy:before {
  content: "\f157";
}
.fa-ruble:before,
.fa-rouble:before,
.fa-rub:before {
  content: "\f158";
}
.fa-won:before,
.fa-krw:before {
  content: "\f159";
}
.fa-bitcoin:before,
.fa-btc:before {
  content: "\f15a";
}
.fa-file:before {
  content: "\f15b";
}
.fa-file-text:before {
  content: "\f15c";
}
.fa-sort-alpha-asc:before {
  content: "\f15d";
}
.fa-sort-alpha-desc:before {
  content: "\f15e";
}
.fa-sort-amount-asc:before {
  content: "\f160";
}
.fa-sort-amount-desc:before {
  content: "\f161";
}
.fa-sort-numeric-asc:before {
  content: "\f162";
}
.fa-sort-numeric-desc:before {
  content: "\f163";
}
.fa-thumbs-up:before {
  content: "\f164";
}
.fa-thumbs-down:before {
  content: "\f165";
}
.fa-youtube-square:before {
  content: "\f166";
}
.fa-youtube:before {
  content: "\f167";
}
.fa-xing:before {
  content: "\f168";
}
.fa-xing-square:before {
  content: "\f169";
}
.fa-youtube-play:before {
  content: "\f16a";
}
.fa-dropbox:before {
  content: "\f16b";
}
.fa-stack-overflow:before {
  content: "\f16c";
}
.fa-instagram:before {
  content: "\f16d";
}
.fa-flickr:before {
  content: "\f16e";
}
.fa-adn:before {
  content: "\f170";
}
.fa-bitbucket:before {
  content: "\f171";
}
.fa-bitbucket-square:before {
  content: "\f172";
}
.fa-tumblr:before {
  content: "\f173";
}
.fa-tumblr-square:before {
  content: "\f174";
}
.fa-long-arrow-down:before {
  content: "\f175";
}
.fa-long-arrow-up:before {
  content: "\f176";
}
.fa-long-arrow-left:before {
  content: "\f177";
}
.fa-long-arrow-right:before {
  content: "\f178";
}
.fa-apple:before {
  content: "\f179";
}
.fa-windows:before {
  content: "\f17a";
}
.fa-android:before {
  content: "\f17b";
}
.fa-linux:before {
  content: "\f17c";
}
.fa-dribbble:before {
  content: "\f17d";
}
.fa-skype:before {
  content: "\f17e";
}
.fa-foursquare:before {
  content: "\f180";
}
.fa-trello:before {
  content: "\f181";
}
.fa-female:before {
  content: "\f182";
}
.fa-male:before {
  content: "\f183";
}
.fa-gittip:before {
  content: "\f184";
}
.fa-sun-o:before {
  content: "\f185";
}
.fa-moon-o:before {
  content: "\f186";
}
.fa-archive:before {
  content: "\f187";
}
.fa-bug:before {
  content: "\f188";
}
.fa-vk:before {
  content: "\f189";
}
.fa-weibo:before {
  content: "\f18a";
}
.fa-renren:before {
  content: "\f18b";
}
.fa-pagelines:before {
  content: "\f18c";
}
.fa-stack-exchange:before {
  content: "\f18d";
}
.fa-arrow-circle-o-right:before {
  content: "\f18e";
}
.fa-arrow-circle-o-left:before {
  content: "\f190";
}
.fa-toggle-left:before,
.fa-caret-square-o-left:before {
  content: "\f191";
}
.fa-dot-circle-o:before {
  content: "\f192";
}
.fa-wheelchair:before {
  content: "\f193";
}
.fa-vimeo-square:before {
  content: "\f194";
}
.fa-turkish-lira:before,
.fa-try:before {
  content: "\f195";
}
.fa-plus-square-o:before {
  content: "\f196";
}
.fa-space-shuttle:before {
  content: "\f197";
}
.fa-slack:before {
  content: "\f198";
}
.fa-envelope-square:before {
  content: "\f199";
}
.fa-wordpress:before {
  content: "\f19a";
}
.fa-openid:before {
  content: "\f19b";
}
.fa-institution:before,
.fa-bank:before,
.fa-university:before {
  content: "\f19c";
}
.fa-mortar-board:before,
.fa-graduation-cap:before {
  content: "\f19d";
}
.fa-yahoo:before {
  content: "\f19e";
}
.fa-google:before {
  content: "\f1a0";
}
.fa-reddit:before {
  content: "\f1a1";
}
.fa-reddit-square:before {
  content: "\f1a2";
}
.fa-stumbleupon-circle:before {
  content: "\f1a3";
}
.fa-stumbleupon:before {
  content: "\f1a4";
}
.fa-delicious:before {
  content: "\f1a5";
}
.fa-digg:before {
  content: "\f1a6";
}
.fa-pied-piper:before {
  content: "\f1a7";
}
.fa-pied-piper-alt:before {
  content: "\f1a8";
}
.fa-drupal:before {
  content: "\f1a9";
}
.fa-joomla:before {
  content: "\f1aa";
}
.fa-language:before {
  content: "\f1ab";
}
.fa-fax:before {
  content: "\f1ac";
}
.fa-building:before {
  content: "\f1ad";
}
.fa-child:before {
  content: "\f1ae";
}
.fa-paw:before {
  content: "\f1b0";
}
.fa-spoon:before {
  content: "\f1b1";
}
.fa-cube:before {
  content: "\f1b2";
}
.fa-cubes:before {
  content: "\f1b3";
}
.fa-behance:before {
  content: "\f1b4";
}
.fa-behance-square:before {
  content: "\f1b5";
}
.fa-steam:before {
  content: "\f1b6";
}
.fa-steam-square:before {
  content: "\f1b7";
}
.fa-recycle:before {
  content: "\f1b8";
}
.fa-automobile:before,
.fa-car:before {
  content: "\f1b9";
}
.fa-cab:before,
.fa-taxi:before {
  content: "\f1ba";
}
.fa-tree:before {
  content: "\f1bb";
}
.fa-spotify:before {
  content: "\f1bc";
}
.fa-deviantart:before {
  content: "\f1bd";
}
.fa-soundcloud:before {
  content: "\f1be";
}
.fa-database:before {
  content: "\f1c0";
}
.fa-file-pdf-o:before {
  content: "\f1c1";
}
.fa-file-word-o:before {
  content: "\f1c2";
}
.fa-file-excel-o:before {
  content: "\f1c3";
}
.fa-file-powerpoint-o:before {
  content: "\f1c4";
}
.fa-file-photo-o:before,
.fa-file-picture-o:before,
.fa-file-image-o:before {
  content: "\f1c5";
}
.fa-file-zip-o:before,
.fa-file-archive-o:before {
  content: "\f1c6";
}
.fa-file-sound-o:before,
.fa-file-audio-o:before {
  content: "\f1c7";
}
.fa-file-movie-o:before,
.fa-file-video-o:before {
  content: "\f1c8";
}
.fa-file-code-o:before {
  content: "\f1c9";
}
.fa-vine:before {
  content: "\f1ca";
}
.fa-codepen:before {
  content: "\f1cb";
}
.fa-jsfiddle:before {
  content: "\f1cc";
}
.fa-life-bouy:before,
.fa-life-buoy:before,
.fa-life-saver:before,
.fa-support:before,
.fa-life-ring:before {
  content: "\f1cd";
}
.fa-circle-o-notch:before {
  content: "\f1ce";
}
.fa-ra:before,
.fa-rebel:before {
  content: "\f1d0";
}
.fa-ge:before,
.fa-empire:before {
  content: "\f1d1";
}
.fa-git-square:before {
  content: "\f1d2";
}
.fa-git:before {
  content: "\f1d3";
}
.fa-hacker-news:before {
  content: "\f1d4";
}
.fa-tencent-weibo:before {
  content: "\f1d5";
}
.fa-qq:before {
  content: "\f1d6";
}
.fa-wechat:before,
.fa-weixin:before {
  content: "\f1d7";
}
.fa-send:before,
.fa-paper-plane:before {
  content: "\f1d8";
}
.fa-send-o:before,
.fa-paper-plane-o:before {
  content: "\f1d9";
}
.fa-history:before {
  content: "\f1da";
}
.fa-circle-thin:before {
  content: "\f1db";
}
.fa-header:before {
  content: "\f1dc";
}
.fa-paragraph:before {
  content: "\f1dd";
}
.fa-sliders:before {
  content: "\f1de";
}
.fa-share-alt:before {
  content: "\f1e0";
}
.fa-share-alt-square:before {
  content: "\f1e1";
}
.fa-bomb:before {
  content: "\f1e2";
}
.fa-soccer-ball-o:before,
.fa-futbol-o:before {
  content: "\f1e3";
}
.fa-tty:before {
  content: "\f1e4";
}
.fa-binoculars:before {
  content: "\f1e5";
}
.fa-plug:before {
  content: "\f1e6";
}
.fa-slideshare:before {
  content: "\f1e7";
}
.fa-twitch:before {
  content: "\f1e8";
}
.fa-yelp:before {
  content: "\f1e9";
}
.fa-newspaper-o:before {
  content: "\f1ea";
}
.fa-wifi:before {
  content: "\f1eb";
}
.fa-calculator:before {
  content: "\f1ec";
}
.fa-paypal:before {
  content: "\f1ed";
}
.fa-google-wallet:before {
  content: "\f1ee";
}
.fa-cc-visa:before {
  content: "\f1f0";
}
.fa-cc-mastercard:before {
  content: "\f1f1";
}
.fa-cc-discover:before {
  content: "\f1f2";
}
.fa-cc-amex:before {
  content: "\f1f3";
}
.fa-cc-paypal:before {
  content: "\f1f4";
}
.fa-cc-stripe:before {
  content: "\f1f5";
}
.fa-bell-slash:before {
  content: "\f1f6";
}
.fa-bell-slash-o:before {
  content: "\f1f7";
}
.fa-trash:before {
  content: "\f1f8";
}
.fa-copyright:before {
  content: "\f1f9";
}
.fa-at:before {
  content: "\f1fa";
}
.fa-eyedropper:before {
  content: "\f1fb";
}
.fa-paint-brush:before {
  content: "\f1fc";
}
.fa-birthday-cake:before {
  content: "\f1fd";
}
.fa-area-chart:before {
  content: "\f1fe";
}
.fa-pie-chart:before {
  content: "\f200";
}
.fa-line-chart:before {
  content: "\f201";
}
.fa-lastfm:before {
  content: "\f202";
}
.fa-lastfm-square:before {
  content: "\f203";
}
.fa-toggle-off:before {
  content: "\f204";
}
.fa-toggle-on:before {
  content: "\f205";
}
.fa-bicycle:before {
  content: "\f206";
}
.fa-bus:before {
  content: "\f207";
}
.fa-ioxhost:before {
  content: "\f208";
}
.fa-angellist:before {
  content: "\f209";
}
.fa-cc:before {
  content: "\f20a";
}
.fa-shekel:before,
.fa-sheqel:before,
.fa-ils:before {
  content: "\f20b";
}
.fa-meanpath:before {
  content: "\f20c";
}
/*!
*
* IPython base
*
*/
.modal.fade .modal-dialog {
  -webkit-transform: translate(0, 0);
  -ms-transform: translate(0, 0);
  -o-transform: translate(0, 0);
  transform: translate(0, 0);
}
code {
  color: #000;
}
pre {
  font-size: inherit;
  line-height: inherit;
}
label {
  font-weight: normal;
}
/* Make the page background atleast 100% the height of the view port */
/* Make the page itself atleast 70% the height of the view port */
.border-box-sizing {
  box-sizing: border-box;
  -moz-box-sizing: border-box;
  -webkit-box-sizing: border-box;
}
.corner-all {
  border-radius: 2px;
}
.no-padding {
  padding: 0px;
}
/* Flexible box model classes */
/* Taken from Alex Russell http://infrequently.org/2009/08/css-3-progress/ */
/* This file is a compatability layer.  It allows the usage of flexible box 
model layouts accross multiple browsers, including older browsers.  The newest,
universal implementation of the flexible box model is used when available (see
`Modern browsers` comments below).  Browsers that are known to implement this 
new spec completely include:

    Firefox 28.0+
    Chrome 29.0+
    Internet Explorer 11+ 
    Opera 17.0+

Browsers not listed, including Safari, are supported via the styling under the
`Old browsers` comments below.
*/
.hbox {
  /* Old browsers */
  display: -webkit-box;
  -webkit-box-orient: horizontal;
  -webkit-box-align: stretch;
  display: -moz-box;
  -moz-box-orient: horizontal;
  -moz-box-align: stretch;
  display: box;
  box-orient: horizontal;
  box-align: stretch;
  /* Modern browsers */
  display: flex;
  flex-direction: row;
  align-items: stretch;
}
.hbox > * {
  /* Old browsers */
  -webkit-box-flex: 0;
  -moz-box-flex: 0;
  box-flex: 0;
  /* Modern browsers */
  flex: none;
}
.vbox {
  /* Old browsers */
  display: -webkit-box;
  -webkit-box-orient: vertical;
  -webkit-box-align: stretch;
  display: -moz-box;
  -moz-box-orient: vertical;
  -moz-box-align: stretch;
  display: box;
  box-orient: vertical;
  box-align: stretch;
  /* Modern browsers */
  display: flex;
  flex-direction: column;
  align-items: stretch;
}
.vbox > * {
  /* Old browsers */
  -webkit-box-flex: 0;
  -moz-box-flex: 0;
  box-flex: 0;
  /* Modern browsers */
  flex: none;
}
.hbox.reverse,
.vbox.reverse,
.reverse {
  /* Old browsers */
  -webkit-box-direction: reverse;
  -moz-box-direction: reverse;
  box-direction: reverse;
  /* Modern browsers */
  flex-direction: row-reverse;
}
.hbox.box-flex0,
.vbox.box-flex0,
.box-flex0 {
  /* Old browsers */
  -webkit-box-flex: 0;
  -moz-box-flex: 0;
  box-flex: 0;
  /* Modern browsers */
  flex: none;
  width: auto;
}
.hbox.box-flex1,
.vbox.box-flex1,
.box-flex1 {
  /* Old browsers */
  -webkit-box-flex: 1;
  -moz-box-flex: 1;
  box-flex: 1;
  /* Modern browsers */
  flex: 1;
}
.hbox.box-flex,
.vbox.box-flex,
.box-flex {
  /* Old browsers */
  /* Old browsers */
  -webkit-box-flex: 1;
  -moz-box-flex: 1;
  box-flex: 1;
  /* Modern browsers */
  flex: 1;
}
.hbox.box-flex2,
.vbox.box-flex2,
.box-flex2 {
  /* Old browsers */
  -webkit-box-flex: 2;
  -moz-box-flex: 2;
  box-flex: 2;
  /* Modern browsers */
  flex: 2;
}
.box-group1 {
  /*  Deprecated */
  -webkit-box-flex-group: 1;
  -moz-box-flex-group: 1;
  box-flex-group: 1;
}
.box-group2 {
  /* Deprecated */
  -webkit-box-flex-group: 2;
  -moz-box-flex-group: 2;
  box-flex-group: 2;
}
.hbox.start,
.vbox.start,
.start {
  /* Old browsers */
  -webkit-box-pack: start;
  -moz-box-pack: start;
  box-pack: start;
  /* Modern browsers */
  justify-content: flex-start;
}
.hbox.end,
.vbox.end,
.end {
  /* Old browsers */
  -webkit-box-pack: end;
  -moz-box-pack: end;
  box-pack: end;
  /* Modern browsers */
  justify-content: flex-end;
}
.hbox.center,
.vbox.center,
.center {
  /* Old browsers */
  -webkit-box-pack: center;
  -moz-box-pack: center;
  box-pack: center;
  /* Modern browsers */
  justify-content: center;
}
.hbox.baseline,
.vbox.baseline,
.baseline {
  /* Old browsers */
  -webkit-box-pack: baseline;
  -moz-box-pack: baseline;
  box-pack: baseline;
  /* Modern browsers */
  justify-content: baseline;
}
.hbox.stretch,
.vbox.stretch,
.stretch {
  /* Old browsers */
  -webkit-box-pack: stretch;
  -moz-box-pack: stretch;
  box-pack: stretch;
  /* Modern browsers */
  justify-content: stretch;
}
.hbox.align-start,
.vbox.align-start,
.align-start {
  /* Old browsers */
  -webkit-box-align: start;
  -moz-box-align: start;
  box-align: start;
  /* Modern browsers */
  align-items: flex-start;
}
.hbox.align-end,
.vbox.align-end,
.align-end {
  /* Old browsers */
  -webkit-box-align: end;
  -moz-box-align: end;
  box-align: end;
  /* Modern browsers */
  align-items: flex-end;
}
.hbox.align-center,
.vbox.align-center,
.align-center {
  /* Old browsers */
  -webkit-box-align: center;
  -moz-box-align: center;
  box-align: center;
  /* Modern browsers */
  align-items: center;
}
.hbox.align-baseline,
.vbox.align-baseline,
.align-baseline {
  /* Old browsers */
  -webkit-box-align: baseline;
  -moz-box-align: baseline;
  box-align: baseline;
  /* Modern browsers */
  align-items: baseline;
}
.hbox.align-stretch,
.vbox.align-stretch,
.align-stretch {
  /* Old browsers */
  -webkit-box-align: stretch;
  -moz-box-align: stretch;
  box-align: stretch;
  /* Modern browsers */
  align-items: stretch;
}
div.error {
  margin: 2em;
  text-align: center;
}
div.error > h1 {
  font-size: 500%;
  line-height: normal;
}
div.error > p {
  font-size: 200%;
  line-height: normal;
}
div.traceback-wrapper {
  text-align: left;
  max-width: 800px;
  margin: auto;
}
/**
 * Primary styles
 *
 * Author: Jupyter Development Team
 */
body {
  background-color: #fff;
  /* This makes sure that the body covers the entire window and needs to
       be in a different element than the display: box in wrapper below */
  position: absolute;
  left: 0px;
  right: 0px;
  top: 0px;
  bottom: 0px;
  overflow: visible;
}
body > #header {
  /* Initially hidden to prevent FLOUC */
  display: none;
  background-color: #fff;
  /* Display over codemirror */
  position: relative;
  z-index: 100;
}
body > #header #header-container {
  padding-bottom: 5px;
  padding-top: 5px;
  box-sizing: border-box;
  -moz-box-sizing: border-box;
  -webkit-box-sizing: border-box;
}
body > #header .header-bar {
  width: 100%;
  height: 1px;
  background: #e7e7e7;
  margin-bottom: -1px;
}
@media print {
  body > #header {
    display: none !important;
  }
}
#header-spacer {
  width: 100%;
  visibility: hidden;
}
@media print {
  #header-spacer {
    display: none;
  }
}
#ipython_notebook {
  padding-left: 0px;
  padding-top: 1px;
  padding-bottom: 1px;
}
@media (max-width: 991px) {
  #ipython_notebook {
    margin-left: 10px;
  }
}
[dir="rtl"] #ipython_notebook {
  float: right !important;
}
#noscript {
  width: auto;
  padding-top: 16px;
  padding-bottom: 16px;
  text-align: center;
  font-size: 22px;
  color: red;
  font-weight: bold;
}
#ipython_notebook img {
  height: 28px;
}
#site {
  width: 100%;
  display: none;
  box-sizing: border-box;
  -moz-box-sizing: border-box;
  -webkit-box-sizing: border-box;
  overflow: auto;
}
@media print {
  #site {
    height: auto !important;
  }
}
/* Smaller buttons */
.ui-button .ui-button-text {
  padding: 0.2em 0.8em;
  font-size: 77%;
}
input.ui-button {
  padding: 0.3em 0.9em;
}
span#login_widget {
  float: right;
}
span#login_widget > .button,
#logout {
  color: #333;
  background-color: #fff;
  border-color: #ccc;
}
span#login_widget > .button:focus,
#logout:focus,
span#login_widget > .button.focus,
#logout.focus {
  color: #333;
  background-color: #e6e6e6;
  border-color: #8c8c8c;
}
span#login_widget > .button:hover,
#logout:hover {
  color: #333;
  background-color: #e6e6e6;
  border-color: #adadad;
}
span#login_widget > .button:active,
#logout:active,
span#login_widget > .button.active,
#logout.active,
.open > .dropdown-togglespan#login_widget > .button,
.open > .dropdown-toggle#logout {
  color: #333;
  background-color: #e6e6e6;
  border-color: #adadad;
}
span#login_widget > .button:active:hover,
#logout:active:hover,
span#login_widget > .button.active:hover,
#logout.active:hover,
.open > .dropdown-togglespan#login_widget > .button:hover,
.open > .dropdown-toggle#logout:hover,
span#login_widget > .button:active:focus,
#logout:active:focus,
span#login_widget > .button.active:focus,
#logout.active:focus,
.open > .dropdown-togglespan#login_widget > .button:focus,
.open > .dropdown-toggle#logout:focus,
span#login_widget > .button:active.focus,
#logout:active.focus,
span#login_widget > .button.active.focus,
#logout.active.focus,
.open > .dropdown-togglespan#login_widget > .button.focus,
.open > .dropdown-toggle#logout.focus {
  color: #333;
  background-color: #d4d4d4;
  border-color: #8c8c8c;
}
span#login_widget > .button:active,
#logout:active,
span#login_widget > .button.active,
#logout.active,
.open > .dropdown-togglespan#login_widget > .button,
.open > .dropdown-toggle#logout {
  background-image: none;
}
span#login_widget > .button.disabled:hover,
#logout.disabled:hover,
span#login_widget > .button[disabled]:hover,
#logout[disabled]:hover,
fieldset[disabled] span#login_widget > .button:hover,
fieldset[disabled] #logout:hover,
span#login_widget > .button.disabled:focus,
#logout.disabled:focus,
span#login_widget > .button[disabled]:focus,
#logout[disabled]:focus,
fieldset[disabled] span#login_widget > .button:focus,
fieldset[disabled] #logout:focus,
span#login_widget > .button.disabled.focus,
#logout.disabled.focus,
span#login_widget > .button[disabled].focus,
#logout[disabled].focus,
fieldset[disabled] span#login_widget > .button.focus,
fieldset[disabled] #logout.focus {
  background-color: #fff;
  border-color: #ccc;
}
span#login_widget > .button .badge,
#logout .badge {
  color: #fff;
  background-color: #333;
}
.nav-header {
  text-transform: none;
}
#header > span {
  margin-top: 10px;
}
.modal_stretch .modal-dialog {
  /* Old browsers */
  display: -webkit-box;
  -webkit-box-orient: vertical;
  -webkit-box-align: stretch;
  display: -moz-box;
  -moz-box-orient: vertical;
  -moz-box-align: stretch;
  display: box;
  box-orient: vertical;
  box-align: stretch;
  /* Modern browsers */
  display: flex;
  flex-direction: column;
  align-items: stretch;
  min-height: 80vh;
}
.modal_stretch .modal-dialog .modal-body {
  max-height: calc(100vh - 200px);
  overflow: auto;
  flex: 1;
}
@media (min-width: 768px) {
  .modal .modal-dialog {
    width: 700px;
  }
}
@media (min-width: 768px) {
  select.form-control {
    margin-left: 12px;
    margin-right: 12px;
  }
}
/*!
*
* IPython auth
*
*/
.center-nav {
  display: inline-block;
  margin-bottom: -4px;
}
/*!
*
* IPython tree view
*
*/
/* We need an invisible input field on top of the sentense*/
/* "Drag file onto the list ..." */
.alternate_upload {
  background-color: none;
  display: inline;
}
.alternate_upload.form {
  padding: 0;
  margin: 0;
}
.alternate_upload input.fileinput {
  text-align: center;
  vertical-align: middle;
  display: inline;
  opacity: 0;
  z-index: 2;
  width: 12ex;
  margin-right: -12ex;
}
.alternate_upload .btn-upload {
  height: 22px;
}
/**
 * Primary styles
 *
 * Author: Jupyter Development Team
 */
[dir="rtl"] #tabs li {
  float: right;
}
ul#tabs {
  margin-bottom: 4px;
}
[dir="rtl"] ul#tabs {
  margin-right: 0px;
}
ul#tabs a {
  padding-top: 6px;
  padding-bottom: 4px;
}
ul.breadcrumb a:focus,
ul.breadcrumb a:hover {
  text-decoration: none;
}
ul.breadcrumb i.icon-home {
  font-size: 16px;
  margin-right: 4px;
}
ul.breadcrumb span {
  color: #5e5e5e;
}
.list_toolbar {
  padding: 4px 0 4px 0;
  vertical-align: middle;
}
.list_toolbar .tree-buttons {
  padding-top: 1px;
}
[dir="rtl"] .list_toolbar .tree-buttons {
  float: left !important;
}
[dir="rtl"] .list_toolbar .pull-right {
  padding-top: 1px;
  float: left !important;
}
[dir="rtl"] .list_toolbar .pull-left {
  float: right !important;
}
.dynamic-buttons {
  padding-top: 3px;
  display: inline-block;
}
.list_toolbar [class*="span"] {
  min-height: 24px;
}
.list_header {
  font-weight: bold;
  background-color: #EEE;
}
.list_placeholder {
  font-weight: bold;
  padding-top: 4px;
  padding-bottom: 4px;
  padding-left: 7px;
  padding-right: 7px;
}
.list_container {
  margin-top: 4px;
  margin-bottom: 20px;
  border: 1px solid #ddd;
  border-radius: 2px;
}
.list_container > div {
  border-bottom: 1px solid #ddd;
}
.list_container > div:hover .list-item {
  background-color: red;
}
.list_container > div:last-child {
  border: none;
}
.list_item:hover .list_item {
  background-color: #ddd;
}
.list_item a {
  text-decoration: none;
}
.list_item:hover {
  background-color: #fafafa;
}
.list_header > div,
.list_item > div {
  padding-top: 4px;
  padding-bottom: 4px;
  padding-left: 7px;
  padding-right: 7px;
  line-height: 22px;
}
.list_header > div input,
.list_item > div input {
  margin-right: 7px;
  margin-left: 14px;
  vertical-align: baseline;
  line-height: 22px;
  position: relative;
  top: -1px;
}
.list_header > div .item_link,
.list_item > div .item_link {
  margin-left: -1px;
  vertical-align: baseline;
  line-height: 22px;
}
.new-file input[type=checkbox] {
  visibility: hidden;
}
.item_name {
  line-height: 22px;
  height: 24px;
}
.item_icon {
  font-size: 14px;
  color: #5e5e5e;
  margin-right: 7px;
  margin-left: 7px;
  line-height: 22px;
  vertical-align: baseline;
}
.item_buttons {
  line-height: 1em;
  margin-left: -5px;
}
.item_buttons .btn,
.item_buttons .btn-group,
.item_buttons .input-group {
  float: left;
}
.item_buttons > .btn,
.item_buttons > .btn-group,
.item_buttons > .input-group {
  margin-left: 5px;
}
.item_buttons .btn {
  min-width: 13ex;
}
.item_buttons .running-indicator {
  padding-top: 4px;
  color: #5cb85c;
}
.item_buttons .kernel-name {
  padding-top: 4px;
  color: #5bc0de;
  margin-right: 7px;
  float: left;
}
.toolbar_info {
  height: 24px;
  line-height: 24px;
}
.list_item input:not([type=checkbox]) {
  padding-top: 3px;
  padding-bottom: 3px;
  height: 22px;
  line-height: 14px;
  margin: 0px;
}
.highlight_text {
  color: blue;
}
#project_name {
  display: inline-block;
  padding-left: 7px;
  margin-left: -2px;
}
#project_name > .breadcrumb {
  padding: 0px;
  margin-bottom: 0px;
  background-color: transparent;
  font-weight: bold;
}
#tree-selector {
  padding-right: 0px;
}
[dir="rtl"] #tree-selector a {
  float: right;
}
#button-select-all {
  min-width: 50px;
}
#select-all {
  margin-left: 7px;
  margin-right: 2px;
}
.menu_icon {
  margin-right: 2px;
}
.tab-content .row {
  margin-left: 0px;
  margin-right: 0px;
}
.folder_icon:before {
  display: inline-block;
  font: normal normal normal 14px/1 FontAwesome;
  font-size: inherit;
  text-rendering: auto;
  -webkit-font-smoothing: antialiased;
  -moz-osx-font-smoothing: grayscale;
  content: "\f114";
}
.folder_icon:before.pull-left {
  margin-right: .3em;
}
.folder_icon:before.pull-right {
  margin-left: .3em;
}
.notebook_icon:before {
  display: inline-block;
  font: normal normal normal 14px/1 FontAwesome;
  font-size: inherit;
  text-rendering: auto;
  -webkit-font-smoothing: antialiased;
  -moz-osx-font-smoothing: grayscale;
  content: "\f02d";
  position: relative;
  top: -1px;
}
.notebook_icon:before.pull-left {
  margin-right: .3em;
}
.notebook_icon:before.pull-right {
  margin-left: .3em;
}
.running_notebook_icon:before {
  display: inline-block;
  font: normal normal normal 14px/1 FontAwesome;
  font-size: inherit;
  text-rendering: auto;
  -webkit-font-smoothing: antialiased;
  -moz-osx-font-smoothing: grayscale;
  content: "\f02d";
  position: relative;
  top: -1px;
  color: #5cb85c;
}
.running_notebook_icon:before.pull-left {
  margin-right: .3em;
}
.running_notebook_icon:before.pull-right {
  margin-left: .3em;
}
.file_icon:before {
  display: inline-block;
  font: normal normal normal 14px/1 FontAwesome;
  font-size: inherit;
  text-rendering: auto;
  -webkit-font-smoothing: antialiased;
  -moz-osx-font-smoothing: grayscale;
  content: "\f016";
  position: relative;
  top: -2px;
}
.file_icon:before.pull-left {
  margin-right: .3em;
}
.file_icon:before.pull-right {
  margin-left: .3em;
}
#notebook_toolbar .pull-right {
  padding-top: 0px;
  margin-right: -1px;
}
ul#new-menu {
  left: auto;
  right: 0;
}
[dir="rtl"] #new-menu {
  text-align: right;
}
.kernel-menu-icon {
  padding-right: 12px;
  width: 24px;
  content: "\f096";
}
.kernel-menu-icon:before {
  content: "\f096";
}
.kernel-menu-icon-current:before {
  content: "\f00c";
}
#tab_content {
  padding-top: 20px;
}
#running .panel-group .panel {
  margin-top: 3px;
  margin-bottom: 1em;
}
#running .panel-group .panel .panel-heading {
  background-color: #EEE;
  padding-top: 4px;
  padding-bottom: 4px;
  padding-left: 7px;
  padding-right: 7px;
  line-height: 22px;
}
#running .panel-group .panel .panel-heading a:focus,
#running .panel-group .panel .panel-heading a:hover {
  text-decoration: none;
}
#running .panel-group .panel .panel-body {
  padding: 0px;
}
#running .panel-group .panel .panel-body .list_container {
  margin-top: 0px;
  margin-bottom: 0px;
  border: 0px;
  border-radius: 0px;
}
#running .panel-group .panel .panel-body .list_container .list_item {
  border-bottom: 1px solid #ddd;
}
#running .panel-group .panel .panel-body .list_container .list_item:last-child {
  border-bottom: 0px;
}
[dir="rtl"] #running .col-sm-8 {
  float: right !important;
}
.delete-button {
  display: none;
}
.duplicate-button {
  display: none;
}
.rename-button {
  display: none;
}
.shutdown-button {
  display: none;
}
.dynamic-instructions {
  display: inline-block;
  padding-top: 4px;
}
/*!
*
* IPython text editor webapp
*
*/
.selected-keymap i.fa {
  padding: 0px 5px;
}
.selected-keymap i.fa:before {
  content: "\f00c";
}
#mode-menu {
  overflow: auto;
  max-height: 20em;
}
.edit_app #header {
  -webkit-box-shadow: 0px 0px 12px 1px rgba(87, 87, 87, 0.2);
  box-shadow: 0px 0px 12px 1px rgba(87, 87, 87, 0.2);
}
.edit_app #menubar .navbar {
  /* Use a negative 1 bottom margin, so the border overlaps the border of the
    header */
  margin-bottom: -1px;
}
.dirty-indicator {
  display: inline-block;
  font: normal normal normal 14px/1 FontAwesome;
  font-size: inherit;
  text-rendering: auto;
  -webkit-font-smoothing: antialiased;
  -moz-osx-font-smoothing: grayscale;
  width: 20px;
}
.dirty-indicator.pull-left {
  margin-right: .3em;
}
.dirty-indicator.pull-right {
  margin-left: .3em;
}
.dirty-indicator-dirty {
  display: inline-block;
  font: normal normal normal 14px/1 FontAwesome;
  font-size: inherit;
  text-rendering: auto;
  -webkit-font-smoothing: antialiased;
  -moz-osx-font-smoothing: grayscale;
  width: 20px;
}
.dirty-indicator-dirty.pull-left {
  margin-right: .3em;
}
.dirty-indicator-dirty.pull-right {
  margin-left: .3em;
}
.dirty-indicator-clean {
  display: inline-block;
  font: normal normal normal 14px/1 FontAwesome;
  font-size: inherit;
  text-rendering: auto;
  -webkit-font-smoothing: antialiased;
  -moz-osx-font-smoothing: grayscale;
  width: 20px;
}
.dirty-indicator-clean.pull-left {
  margin-right: .3em;
}
.dirty-indicator-clean.pull-right {
  margin-left: .3em;
}
.dirty-indicator-clean:before {
  display: inline-block;
  font: normal normal normal 14px/1 FontAwesome;
  font-size: inherit;
  text-rendering: auto;
  -webkit-font-smoothing: antialiased;
  -moz-osx-font-smoothing: grayscale;
  content: "\f00c";
}
.dirty-indicator-clean:before.pull-left {
  margin-right: .3em;
}
.dirty-indicator-clean:before.pull-right {
  margin-left: .3em;
}
#filename {
  font-size: 16pt;
  display: table;
  padding: 0px 5px;
}
#current-mode {
  padding-left: 5px;
  padding-right: 5px;
}
#texteditor-backdrop {
  padding-top: 20px;
  padding-bottom: 20px;
}
@media not print {
  #texteditor-backdrop {
    background-color: #EEE;
  }
}
@media print {
  #texteditor-backdrop #texteditor-container .CodeMirror-gutter,
  #texteditor-backdrop #texteditor-container .CodeMirror-gutters {
    background-color: #fff;
  }
}
@media not print {
  #texteditor-backdrop #texteditor-container .CodeMirror-gutter,
  #texteditor-backdrop #texteditor-container .CodeMirror-gutters {
    background-color: #fff;
  }
}
@media not print {
  #texteditor-backdrop #texteditor-container {
    padding: 0px;
    background-color: #fff;
    -webkit-box-shadow: 0px 0px 12px 1px rgba(87, 87, 87, 0.2);
    box-shadow: 0px 0px 12px 1px rgba(87, 87, 87, 0.2);
  }
}
/*!
*
* IPython notebook
*
*/
/* CSS font colors for translated ANSI colors. */
.ansibold {
  font-weight: bold;
}
/* use dark versions for foreground, to improve visibility */
.ansiblack {
  color: black;
}
.ansired {
  color: darkred;
}
.ansigreen {
  color: darkgreen;
}
.ansiyellow {
  color: #c4a000;
}
.ansiblue {
  color: darkblue;
}
.ansipurple {
  color: darkviolet;
}
.ansicyan {
  color: steelblue;
}
.ansigray {
  color: gray;
}
/* and light for background, for the same reason */
.ansibgblack {
  background-color: black;
}
.ansibgred {
  background-color: red;
}
.ansibggreen {
  background-color: green;
}
.ansibgyellow {
  background-color: yellow;
}
.ansibgblue {
  background-color: blue;
}
.ansibgpurple {
  background-color: magenta;
}
.ansibgcyan {
  background-color: cyan;
}
.ansibggray {
  background-color: gray;
}
div.cell {
  /* Old browsers */
  display: -webkit-box;
  -webkit-box-orient: vertical;
  -webkit-box-align: stretch;
  display: -moz-box;
  -moz-box-orient: vertical;
  -moz-box-align: stretch;
  display: box;
  box-orient: vertical;
  box-align: stretch;
  /* Modern browsers */
  display: flex;
  flex-direction: column;
  align-items: stretch;
  border-radius: 2px;
  box-sizing: border-box;
  -moz-box-sizing: border-box;
  -webkit-box-sizing: border-box;
  border-width: 1px;
  border-style: solid;
  border-color: transparent;
  width: 100%;
  padding: 5px;
  /* This acts as a spacer between cells, that is outside the border */
  margin: 0px;
  outline: none;
  border-left-width: 1px;
  padding-left: 5px;
  background: linear-gradient(to right, transparent -40px, transparent 1px, transparent 1px, transparent 100%);
}
div.cell.jupyter-soft-selected {
  border-left-color: #90CAF9;
  border-left-color: #E3F2FD;
  border-left-width: 1px;
  padding-left: 5px;
  border-right-color: #E3F2FD;
  border-right-width: 1px;
  background: #E3F2FD;
}
@media print {
  div.cell.jupyter-soft-selected {
    border-color: transparent;
  }
}
div.cell.selected {
  border-color: #ababab;
  border-left-width: 0px;
  padding-left: 6px;
  background: linear-gradient(to right, #42A5F5 -40px, #42A5F5 5px, transparent 5px, transparent 100%);
}
@media print {
  div.cell.selected {
    border-color: transparent;
  }
}
div.cell.selected.jupyter-soft-selected {
  border-left-width: 0;
  padding-left: 6px;
  background: linear-gradient(to right, #42A5F5 -40px, #42A5F5 7px, #E3F2FD 7px, #E3F2FD 100%);
}
.edit_mode div.cell.selected {
  border-color: #66BB6A;
  border-left-width: 0px;
  padding-left: 6px;
  background: linear-gradient(to right, #66BB6A -40px, #66BB6A 5px, transparent 5px, transparent 100%);
}
@media print {
  .edit_mode div.cell.selected {
    border-color: transparent;
  }
}
.prompt {
  /* This needs to be wide enough for 3 digit prompt numbers: In[100]: */
  min-width: 14ex;
  /* This padding is tuned to match the padding on the CodeMirror editor. */
  padding: 0.4em;
  margin: 0px;
  font-family: monospace;
  text-align: right;
  /* This has to match that of the the CodeMirror class line-height below */
  line-height: 1.21429em;
  /* Don't highlight prompt number selection */
  -webkit-touch-callout: none;
  -webkit-user-select: none;
  -khtml-user-select: none;
  -moz-user-select: none;
  -ms-user-select: none;
  user-select: none;
  /* Use default cursor */
  cursor: default;
}
@media (max-width: 540px) {
  .prompt {
    text-align: left;
  }
}
div.inner_cell {
  min-width: 0;
  /* Old browsers */
  display: -webkit-box;
  -webkit-box-orient: vertical;
  -webkit-box-align: stretch;
  display: -moz-box;
  -moz-box-orient: vertical;
  -moz-box-align: stretch;
  display: box;
  box-orient: vertical;
  box-align: stretch;
  /* Modern browsers */
  display: flex;
  flex-direction: column;
  align-items: stretch;
  /* Old browsers */
  -webkit-box-flex: 1;
  -moz-box-flex: 1;
  box-flex: 1;
  /* Modern browsers */
  flex: 1;
}
/* input_area and input_prompt must match in top border and margin for alignment */
div.input_area {
  border: 1px solid #cfcfcf;
  border-radius: 2px;
  background: #f7f7f7;
  line-height: 1.21429em;
}
/* This is needed so that empty prompt areas can collapse to zero height when there
   is no content in the output_subarea and the prompt. The main purpose of this is
   to make sure that empty JavaScript output_subareas have no height. */
div.prompt:empty {
  padding-top: 0;
  padding-bottom: 0;
}
div.unrecognized_cell {
  padding: 5px 5px 5px 0px;
  /* Old browsers */
  display: -webkit-box;
  -webkit-box-orient: horizontal;
  -webkit-box-align: stretch;
  display: -moz-box;
  -moz-box-orient: horizontal;
  -moz-box-align: stretch;
  display: box;
  box-orient: horizontal;
  box-align: stretch;
  /* Modern browsers */
  display: flex;
  flex-direction: row;
  align-items: stretch;
}
div.unrecognized_cell .inner_cell {
  border-radius: 2px;
  padding: 5px;
  font-weight: bold;
  color: red;
  border: 1px solid #cfcfcf;
  background: #eaeaea;
}
div.unrecognized_cell .inner_cell a {
  color: inherit;
  text-decoration: none;
}
div.unrecognized_cell .inner_cell a:hover {
  color: inherit;
  text-decoration: none;
}
@media (max-width: 540px) {
  div.unrecognized_cell > div.prompt {
    display: none;
  }
}
div.code_cell {
  /* avoid page breaking on code cells when printing */
}
@media print {
  div.code_cell {
    page-break-inside: avoid;
  }
}
/* any special styling for code cells that are currently running goes here */
div.input {
  page-break-inside: avoid;
  /* Old browsers */
  display: -webkit-box;
  -webkit-box-orient: horizontal;
  -webkit-box-align: stretch;
  display: -moz-box;
  -moz-box-orient: horizontal;
  -moz-box-align: stretch;
  display: box;
  box-orient: horizontal;
  box-align: stretch;
  /* Modern browsers */
  display: flex;
  flex-direction: row;
  align-items: stretch;
}
@media (max-width: 540px) {
  div.input {
    /* Old browsers */
    display: -webkit-box;
    -webkit-box-orient: vertical;
    -webkit-box-align: stretch;
    display: -moz-box;
    -moz-box-orient: vertical;
    -moz-box-align: stretch;
    display: box;
    box-orient: vertical;
    box-align: stretch;
    /* Modern browsers */
    display: flex;
    flex-direction: column;
    align-items: stretch;
  }
}
/* input_area and input_prompt must match in top border and margin for alignment */
div.input_prompt {
  color: #303F9F;
  border-top: 1px solid transparent;
}
div.input_area > div.highlight {
  margin: 0.4em;
  border: none;
  padding: 0px;
  background-color: transparent;
}
div.input_area > div.highlight > pre {
  margin: 0px;
  border: none;
  padding: 0px;
  background-color: transparent;
}
/* The following gets added to the <head> if it is detected that the user has a
 * monospace font with inconsistent normal/bold/italic height.  See
 * notebookmain.js.  Such fonts will have keywords vertically offset with
 * respect to the rest of the text.  The user should select a better font.
 * See: https://github.com/ipython/ipython/issues/1503
 *
 * .CodeMirror span {
 *      vertical-align: bottom;
 * }
 */
.CodeMirror {
  line-height: 1.21429em;
  /* Changed from 1em to our global default */
  font-size: 14px;
  height: auto;
  /* Changed to auto to autogrow */
  background: none;
  /* Changed from white to allow our bg to show through */
}
.CodeMirror-scroll {
  /*  The CodeMirror docs are a bit fuzzy on if overflow-y should be hidden or visible.*/
  /*  We have found that if it is visible, vertical scrollbars appear with font size changes.*/
  overflow-y: hidden;
  overflow-x: auto;
}
.CodeMirror-lines {
  /* In CM2, this used to be 0.4em, but in CM3 it went to 4px. We need the em value because */
  /* we have set a different line-height and want this to scale with that. */
  padding: 0.4em;
}
.CodeMirror-linenumber {
  padding: 0 8px 0 4px;
}
.CodeMirror-gutters {
  border-bottom-left-radius: 2px;
  border-top-left-radius: 2px;
}
.CodeMirror pre {
  /* In CM3 this went to 4px from 0 in CM2. We need the 0 value because of how we size */
  /* .CodeMirror-lines */
  padding: 0;
  border: 0;
  border-radius: 0;
}
/*

Original style from softwaremaniacs.org (c) Ivan Sagalaev <Maniac@SoftwareManiacs.Org>
Adapted from GitHub theme

*/
.highlight-base {
  color: #000;
}
.highlight-variable {
  color: #000;
}
.highlight-variable-2 {
  color: #1a1a1a;
}
.highlight-variable-3 {
  color: #333333;
}
.highlight-string {
  color: #BA2121;
}
.highlight-comment {
  color: #408080;
  font-style: italic;
}
.highlight-number {
  color: #080;
}
.highlight-atom {
  color: #88F;
}
.highlight-keyword {
  color: #008000;
  font-weight: bold;
}
.highlight-builtin {
  color: #008000;
}
.highlight-error {
  color: #f00;
}
.highlight-operator {
  color: #AA22FF;
  font-weight: bold;
}
.highlight-meta {
  color: #AA22FF;
}
/* previously not defined, copying from default codemirror */
.highlight-def {
  color: #00f;
}
.highlight-string-2 {
  color: #f50;
}
.highlight-qualifier {
  color: #555;
}
.highlight-bracket {
  color: #997;
}
.highlight-tag {
  color: #170;
}
.highlight-attribute {
  color: #00c;
}
.highlight-header {
  color: blue;
}
.highlight-quote {
  color: #090;
}
.highlight-link {
  color: #00c;
}
/* apply the same style to codemirror */
.cm-s-ipython span.cm-keyword {
  color: #008000;
  font-weight: bold;
}
.cm-s-ipython span.cm-atom {
  color: #88F;
}
.cm-s-ipython span.cm-number {
  color: #080;
}
.cm-s-ipython span.cm-def {
  color: #00f;
}
.cm-s-ipython span.cm-variable {
  color: #000;
}
.cm-s-ipython span.cm-operator {
  color: #AA22FF;
  font-weight: bold;
}
.cm-s-ipython span.cm-variable-2 {
  color: #1a1a1a;
}
.cm-s-ipython span.cm-variable-3 {
  color: #333333;
}
.cm-s-ipython span.cm-comment {
  color: #408080;
  font-style: italic;
}
.cm-s-ipython span.cm-string {
  color: #BA2121;
}
.cm-s-ipython span.cm-string-2 {
  color: #f50;
}
.cm-s-ipython span.cm-meta {
  color: #AA22FF;
}
.cm-s-ipython span.cm-qualifier {
  color: #555;
}
.cm-s-ipython span.cm-builtin {
  color: #008000;
}
.cm-s-ipython span.cm-bracket {
  color: #997;
}
.cm-s-ipython span.cm-tag {
  color: #170;
}
.cm-s-ipython span.cm-attribute {
  color: #00c;
}
.cm-s-ipython span.cm-header {
  color: blue;
}
.cm-s-ipython span.cm-quote {
  color: #090;
}
.cm-s-ipython span.cm-link {
  color: #00c;
}
.cm-s-ipython span.cm-error {
  color: #f00;
}
.cm-s-ipython span.cm-tab {
  background: url(data:image/png;base64,iVBORw0KGgoAAAANSUhEUgAAADAAAAAMCAYAAAAkuj5RAAAAAXNSR0IArs4c6QAAAGFJREFUSMft1LsRQFAQheHPowAKoACx3IgEKtaEHujDjORSgWTH/ZOdnZOcM/sgk/kFFWY0qV8foQwS4MKBCS3qR6ixBJvElOobYAtivseIE120FaowJPN75GMu8j/LfMwNjh4HUpwg4LUAAAAASUVORK5CYII=);
  background-position: right;
  background-repeat: no-repeat;
}
div.output_wrapper {
  /* this position must be relative to enable descendents to be absolute within it */
  position: relative;
  /* Old browsers */
  display: -webkit-box;
  -webkit-box-orient: vertical;
  -webkit-box-align: stretch;
  display: -moz-box;
  -moz-box-orient: vertical;
  -moz-box-align: stretch;
  display: box;
  box-orient: vertical;
  box-align: stretch;
  /* Modern browsers */
  display: flex;
  flex-direction: column;
  align-items: stretch;
  z-index: 1;
}
/* class for the output area when it should be height-limited */
div.output_scroll {
  /* ideally, this would be max-height, but FF barfs all over that */
  height: 24em;
  /* FF needs this *and the wrapper* to specify full width, or it will shrinkwrap */
  width: 100%;
  overflow: auto;
  border-radius: 2px;
  -webkit-box-shadow: inset 0 2px 8px rgba(0, 0, 0, 0.8);
  box-shadow: inset 0 2px 8px rgba(0, 0, 0, 0.8);
  display: block;
}
/* output div while it is collapsed */
div.output_collapsed {
  margin: 0px;
  padding: 0px;
  /* Old browsers */
  display: -webkit-box;
  -webkit-box-orient: vertical;
  -webkit-box-align: stretch;
  display: -moz-box;
  -moz-box-orient: vertical;
  -moz-box-align: stretch;
  display: box;
  box-orient: vertical;
  box-align: stretch;
  /* Modern browsers */
  display: flex;
  flex-direction: column;
  align-items: stretch;
}
div.out_prompt_overlay {
  height: 100%;
  padding: 0px 0.4em;
  position: absolute;
  border-radius: 2px;
}
div.out_prompt_overlay:hover {
  /* use inner shadow to get border that is computed the same on WebKit/FF */
  -webkit-box-shadow: inset 0 0 1px #000;
  box-shadow: inset 0 0 1px #000;
  background: rgba(240, 240, 240, 0.5);
}
div.output_prompt {
  color: #D84315;
}
/* This class is the outer container of all output sections. */
div.output_area {
  padding: 0px;
  page-break-inside: avoid;
  /* Old browsers */
  display: -webkit-box;
  -webkit-box-orient: horizontal;
  -webkit-box-align: stretch;
  display: -moz-box;
  -moz-box-orient: horizontal;
  -moz-box-align: stretch;
  display: box;
  box-orient: horizontal;
  box-align: stretch;
  /* Modern browsers */
  display: flex;
  flex-direction: row;
  align-items: stretch;
}
div.output_area .MathJax_Display {
  text-align: left !important;
}
div.output_area .rendered_html table {
  margin-left: 0;
  margin-right: 0;
}
div.output_area .rendered_html img {
  margin-left: 0;
  margin-right: 0;
}
div.output_area img,
div.output_area svg {
  max-width: 100%;
  height: auto;
}
div.output_area img.unconfined,
div.output_area svg.unconfined {
  max-width: none;
}
/* This is needed to protect the pre formating from global settings such
   as that of bootstrap */
.output {
  /* Old browsers */
  display: -webkit-box;
  -webkit-box-orient: vertical;
  -webkit-box-align: stretch;
  display: -moz-box;
  -moz-box-orient: vertical;
  -moz-box-align: stretch;
  display: box;
  box-orient: vertical;
  box-align: stretch;
  /* Modern browsers */
  display: flex;
  flex-direction: column;
  align-items: stretch;
}
@media (max-width: 540px) {
  div.output_area {
    /* Old browsers */
    display: -webkit-box;
    -webkit-box-orient: vertical;
    -webkit-box-align: stretch;
    display: -moz-box;
    -moz-box-orient: vertical;
    -moz-box-align: stretch;
    display: box;
    box-orient: vertical;
    box-align: stretch;
    /* Modern browsers */
    display: flex;
    flex-direction: column;
    align-items: stretch;
  }
}
div.output_area pre {
  margin: 0;
  padding: 0;
  border: 0;
  vertical-align: baseline;
  color: black;
  background-color: transparent;
  border-radius: 0;
}
/* This class is for the output subarea inside the output_area and after
   the prompt div. */
div.output_subarea {
  overflow-x: auto;
  padding: 0.4em;
  /* Old browsers */
  -webkit-box-flex: 1;
  -moz-box-flex: 1;
  box-flex: 1;
  /* Modern browsers */
  flex: 1;
  max-width: calc(100% - 14ex);
}
div.output_scroll div.output_subarea {
  overflow-x: visible;
}
/* The rest of the output_* classes are for special styling of the different
   output types */
/* all text output has this class: */
div.output_text {
  text-align: left;
  color: #000;
  /* This has to match that of the the CodeMirror class line-height below */
  line-height: 1.21429em;
}
/* stdout/stderr are 'text' as well as 'stream', but execute_result/error are *not* streams */
div.output_stderr {
  background: #fdd;
  /* very light red background for stderr */
}
div.output_latex {
  text-align: left;
}
/* Empty output_javascript divs should have no height */
div.output_javascript:empty {
  padding: 0;
}
.js-error {
  color: darkred;
}
/* raw_input styles */
div.raw_input_container {
  line-height: 1.21429em;
  padding-top: 5px;
}
pre.raw_input_prompt {
  /* nothing needed here. */
}
input.raw_input {
  font-family: monospace;
  font-size: inherit;
  color: inherit;
  width: auto;
  /* make sure input baseline aligns with prompt */
  vertical-align: baseline;
  /* padding + margin = 0.5em between prompt and cursor */
  padding: 0em 0.25em;
  margin: 0em 0.25em;
}
input.raw_input:focus {
  box-shadow: none;
}
p.p-space {
  margin-bottom: 10px;
}
div.output_unrecognized {
  padding: 5px;
  font-weight: bold;
  color: red;
}
div.output_unrecognized a {
  color: inherit;
  text-decoration: none;
}
div.output_unrecognized a:hover {
  color: inherit;
  text-decoration: none;
}
.rendered_html {
  color: #000;
  /* any extras will just be numbers: */
}
.rendered_html em {
  font-style: italic;
}
.rendered_html strong {
  font-weight: bold;
}
.rendered_html u {
  text-decoration: underline;
}
.rendered_html :link {
  text-decoration: underline;
}
.rendered_html :visited {
  text-decoration: underline;
}
.rendered_html h1 {
  font-size: 185.7%;
  margin: 1.08em 0 0 0;
  font-weight: bold;
  line-height: 1.0;
}
.rendered_html h2 {
  font-size: 157.1%;
  margin: 1.27em 0 0 0;
  font-weight: bold;
  line-height: 1.0;
}
.rendered_html h3 {
  font-size: 128.6%;
  margin: 1.55em 0 0 0;
  font-weight: bold;
  line-height: 1.0;
}
.rendered_html h4 {
  font-size: 100%;
  margin: 2em 0 0 0;
  font-weight: bold;
  line-height: 1.0;
}
.rendered_html h5 {
  font-size: 100%;
  margin: 2em 0 0 0;
  font-weight: bold;
  line-height: 1.0;
  font-style: italic;
}
.rendered_html h6 {
  font-size: 100%;
  margin: 2em 0 0 0;
  font-weight: bold;
  line-height: 1.0;
  font-style: italic;
}
.rendered_html h1:first-child {
  margin-top: 0.538em;
}
.rendered_html h2:first-child {
  margin-top: 0.636em;
}
.rendered_html h3:first-child {
  margin-top: 0.777em;
}
.rendered_html h4:first-child {
  margin-top: 1em;
}
.rendered_html h5:first-child {
  margin-top: 1em;
}
.rendered_html h6:first-child {
  margin-top: 1em;
}
.rendered_html ul {
  list-style: disc;
  margin: 0em 2em;
  padding-left: 0px;
}
.rendered_html ul ul {
  list-style: square;
  margin: 0em 2em;
}
.rendered_html ul ul ul {
  list-style: circle;
  margin: 0em 2em;
}
.rendered_html ol {
  list-style: decimal;
  margin: 0em 2em;
  padding-left: 0px;
}
.rendered_html ol ol {
  list-style: upper-alpha;
  margin: 0em 2em;
}
.rendered_html ol ol ol {
  list-style: lower-alpha;
  margin: 0em 2em;
}
.rendered_html ol ol ol ol {
  list-style: lower-roman;
  margin: 0em 2em;
}
.rendered_html ol ol ol ol ol {
  list-style: decimal;
  margin: 0em 2em;
}
.rendered_html * + ul {
  margin-top: 1em;
}
.rendered_html * + ol {
  margin-top: 1em;
}
.rendered_html hr {
  color: black;
  background-color: black;
}
.rendered_html pre {
  margin: 1em 2em;
}
.rendered_html pre,
.rendered_html code {
  border: 0;
  background-color: #fff;
  color: #000;
  font-size: 100%;
  padding: 0px;
}
.rendered_html blockquote {
  margin: 1em 2em;
}
.rendered_html table {
  margin-left: auto;
  margin-right: auto;
  border: 1px solid black;
  border-collapse: collapse;
}
.rendered_html tr,
.rendered_html th,
.rendered_html td {
  border: 1px solid black;
  border-collapse: collapse;
  margin: 1em 2em;
}
.rendered_html td,
.rendered_html th {
  text-align: left;
  vertical-align: middle;
  padding: 4px;
}
.rendered_html th {
  font-weight: bold;
}
.rendered_html * + table {
  margin-top: 1em;
}
.rendered_html p {
  text-align: left;
}
.rendered_html * + p {
  margin-top: 1em;
}
.rendered_html img {
  display: block;
  margin-left: auto;
  margin-right: auto;
}
.rendered_html * + img {
  margin-top: 1em;
}
.rendered_html img,
.rendered_html svg {
  max-width: 100%;
  height: auto;
}
.rendered_html img.unconfined,
.rendered_html svg.unconfined {
  max-width: none;
}
div.text_cell {
  /* Old browsers */
  display: -webkit-box;
  -webkit-box-orient: horizontal;
  -webkit-box-align: stretch;
  display: -moz-box;
  -moz-box-orient: horizontal;
  -moz-box-align: stretch;
  display: box;
  box-orient: horizontal;
  box-align: stretch;
  /* Modern browsers */
  display: flex;
  flex-direction: row;
  align-items: stretch;
}
@media (max-width: 540px) {
  div.text_cell > div.prompt {
    display: none;
  }
}
div.text_cell_render {
  /*font-family: "Helvetica Neue", Arial, Helvetica, Geneva, sans-serif;*/
  outline: none;
  resize: none;
  width: inherit;
  border-style: none;
  padding: 0.5em 0.5em 0.5em 0.4em;
  color: #000;
  box-sizing: border-box;
  -moz-box-sizing: border-box;
  -webkit-box-sizing: border-box;
}
a.anchor-link:link {
  text-decoration: none;
  padding: 0px 20px;
  visibility: hidden;
}
h1:hover .anchor-link,
h2:hover .anchor-link,
h3:hover .anchor-link,
h4:hover .anchor-link,
h5:hover .anchor-link,
h6:hover .anchor-link {
  visibility: visible;
}
.text_cell.rendered .input_area {
  display: none;
}
.text_cell.rendered .rendered_html {
  overflow-x: auto;
  overflow-y: hidden;
}
.text_cell.unrendered .text_cell_render {
  display: none;
}
.cm-header-1,
.cm-header-2,
.cm-header-3,
.cm-header-4,
.cm-header-5,
.cm-header-6 {
  font-weight: bold;
  font-family: "Helvetica Neue", Helvetica, Arial, sans-serif;
}
.cm-header-1 {
  font-size: 185.7%;
}
.cm-header-2 {
  font-size: 157.1%;
}
.cm-header-3 {
  font-size: 128.6%;
}
.cm-header-4 {
  font-size: 110%;
}
.cm-header-5 {
  font-size: 100%;
  font-style: italic;
}
.cm-header-6 {
  font-size: 100%;
  font-style: italic;
}
/*!
*
* IPython notebook webapp
*
*/
@media (max-width: 767px) {
  .notebook_app {
    padding-left: 0px;
    padding-right: 0px;
  }
}
#ipython-main-app {
  box-sizing: border-box;
  -moz-box-sizing: border-box;
  -webkit-box-sizing: border-box;
  height: 100%;
}
div#notebook_panel {
  margin: 0px;
  padding: 0px;
  box-sizing: border-box;
  -moz-box-sizing: border-box;
  -webkit-box-sizing: border-box;
  height: 100%;
}
div#notebook {
  font-size: 14px;
  line-height: 20px;
  overflow-y: hidden;
  overflow-x: auto;
  width: 100%;
  /* This spaces the page away from the edge of the notebook area */
  padding-top: 20px;
  margin: 0px;
  outline: none;
  box-sizing: border-box;
  -moz-box-sizing: border-box;
  -webkit-box-sizing: border-box;
  min-height: 100%;
}
@media not print {
  #notebook-container {
    padding: 15px;
    background-color: #fff;
    min-height: 0;
    -webkit-box-shadow: 0px 0px 12px 1px rgba(87, 87, 87, 0.2);
    box-shadow: 0px 0px 12px 1px rgba(87, 87, 87, 0.2);
  }
}
@media print {
  #notebook-container {
    width: 100%;
  }
}
div.ui-widget-content {
  border: 1px solid #ababab;
  outline: none;
}
pre.dialog {
  background-color: #f7f7f7;
  border: 1px solid #ddd;
  border-radius: 2px;
  padding: 0.4em;
  padding-left: 2em;
}
p.dialog {
  padding: 0.2em;
}
/* Word-wrap output correctly.  This is the CSS3 spelling, though Firefox seems
   to not honor it correctly.  Webkit browsers (Chrome, rekonq, Safari) do.
 */
pre,
code,
kbd,
samp {
  white-space: pre-wrap;
}
#fonttest {
  font-family: monospace;
}
p {
  margin-bottom: 0;
}
.end_space {
  min-height: 100px;
  transition: height .2s ease;
}
.notebook_app > #header {
  -webkit-box-shadow: 0px 0px 12px 1px rgba(87, 87, 87, 0.2);
  box-shadow: 0px 0px 12px 1px rgba(87, 87, 87, 0.2);
}
@media not print {
  .notebook_app {
    background-color: #EEE;
  }
}
kbd {
  border-style: solid;
  border-width: 1px;
  box-shadow: none;
  margin: 2px;
  padding-left: 2px;
  padding-right: 2px;
  padding-top: 1px;
  padding-bottom: 1px;
}
/* CSS for the cell toolbar */
.celltoolbar {
  border: thin solid #CFCFCF;
  border-bottom: none;
  background: #EEE;
  border-radius: 2px 2px 0px 0px;
  width: 100%;
  height: 29px;
  padding-right: 4px;
  /* Old browsers */
  display: -webkit-box;
  -webkit-box-orient: horizontal;
  -webkit-box-align: stretch;
  display: -moz-box;
  -moz-box-orient: horizontal;
  -moz-box-align: stretch;
  display: box;
  box-orient: horizontal;
  box-align: stretch;
  /* Modern browsers */
  display: flex;
  flex-direction: row;
  align-items: stretch;
  /* Old browsers */
  -webkit-box-pack: end;
  -moz-box-pack: end;
  box-pack: end;
  /* Modern browsers */
  justify-content: flex-end;
  display: -webkit-flex;
}
@media print {
  .celltoolbar {
    display: none;
  }
}
.ctb_hideshow {
  display: none;
  vertical-align: bottom;
}
/* ctb_show is added to the ctb_hideshow div to show the cell toolbar.
   Cell toolbars are only shown when the ctb_global_show class is also set.
*/
.ctb_global_show .ctb_show.ctb_hideshow {
  display: block;
}
.ctb_global_show .ctb_show + .input_area,
.ctb_global_show .ctb_show + div.text_cell_input,
.ctb_global_show .ctb_show ~ div.text_cell_render {
  border-top-right-radius: 0px;
  border-top-left-radius: 0px;
}
.ctb_global_show .ctb_show ~ div.text_cell_render {
  border: 1px solid #cfcfcf;
}
.celltoolbar {
  font-size: 87%;
  padding-top: 3px;
}
.celltoolbar select {
  display: block;
  width: 100%;
  height: 32px;
  padding: 6px 12px;
  font-size: 13px;
  line-height: 1.42857143;
  color: #555555;
  background-color: #fff;
  background-image: none;
  border: 1px solid #ccc;
  border-radius: 2px;
  -webkit-box-shadow: inset 0 1px 1px rgba(0, 0, 0, 0.075);
  box-shadow: inset 0 1px 1px rgba(0, 0, 0, 0.075);
  -webkit-transition: border-color ease-in-out .15s, box-shadow ease-in-out .15s;
  -o-transition: border-color ease-in-out .15s, box-shadow ease-in-out .15s;
  transition: border-color ease-in-out .15s, box-shadow ease-in-out .15s;
  height: 30px;
  padding: 5px 10px;
  font-size: 12px;
  line-height: 1.5;
  border-radius: 1px;
  width: inherit;
  font-size: inherit;
  height: 22px;
  padding: 0px;
  display: inline-block;
}
.celltoolbar select:focus {
  border-color: #66afe9;
  outline: 0;
  -webkit-box-shadow: inset 0 1px 1px rgba(0,0,0,.075), 0 0 8px rgba(102, 175, 233, 0.6);
  box-shadow: inset 0 1px 1px rgba(0,0,0,.075), 0 0 8px rgba(102, 175, 233, 0.6);
}
.celltoolbar select::-moz-placeholder {
  color: #999;
  opacity: 1;
}
.celltoolbar select:-ms-input-placeholder {
  color: #999;
}
.celltoolbar select::-webkit-input-placeholder {
  color: #999;
}
.celltoolbar select::-ms-expand {
  border: 0;
  background-color: transparent;
}
.celltoolbar select[disabled],
.celltoolbar select[readonly],
fieldset[disabled] .celltoolbar select {
  background-color: #eeeeee;
  opacity: 1;
}
.celltoolbar select[disabled],
fieldset[disabled] .celltoolbar select {
  cursor: not-allowed;
}
textarea.celltoolbar select {
  height: auto;
}
select.celltoolbar select {
  height: 30px;
  line-height: 30px;
}
textarea.celltoolbar select,
select[multiple].celltoolbar select {
  height: auto;
}
.celltoolbar label {
  margin-left: 5px;
  margin-right: 5px;
}
.completions {
  position: absolute;
  z-index: 110;
  overflow: hidden;
  border: 1px solid #ababab;
  border-radius: 2px;
  -webkit-box-shadow: 0px 6px 10px -1px #adadad;
  box-shadow: 0px 6px 10px -1px #adadad;
  line-height: 1;
}
.completions select {
  background: white;
  outline: none;
  border: none;
  padding: 0px;
  margin: 0px;
  overflow: auto;
  font-family: monospace;
  font-size: 110%;
  color: #000;
  width: auto;
}
.completions select option.context {
  color: #286090;
}
#kernel_logo_widget {
  float: right !important;
  float: right;
}
#kernel_logo_widget .current_kernel_logo {
  display: none;
  margin-top: -1px;
  margin-bottom: -1px;
  width: 32px;
  height: 32px;
}
#menubar {
  box-sizing: border-box;
  -moz-box-sizing: border-box;
  -webkit-box-sizing: border-box;
  margin-top: 1px;
}
#menubar .navbar {
  border-top: 1px;
  border-radius: 0px 0px 2px 2px;
  margin-bottom: 0px;
}
#menubar .navbar-toggle {
  float: left;
  padding-top: 7px;
  padding-bottom: 7px;
  border: none;
}
#menubar .navbar-collapse {
  clear: left;
}
.nav-wrapper {
  border-bottom: 1px solid #e7e7e7;
}
i.menu-icon {
  padding-top: 4px;
}
ul#help_menu li a {
  overflow: hidden;
  padding-right: 2.2em;
}
ul#help_menu li a i {
  margin-right: -1.2em;
}
.dropdown-submenu {
  position: relative;
}
.dropdown-submenu > .dropdown-menu {
  top: 0;
  left: 100%;
  margin-top: -6px;
  margin-left: -1px;
}
.dropdown-submenu:hover > .dropdown-menu {
  display: block;
}
.dropdown-submenu > a:after {
  display: inline-block;
  font: normal normal normal 14px/1 FontAwesome;
  font-size: inherit;
  text-rendering: auto;
  -webkit-font-smoothing: antialiased;
  -moz-osx-font-smoothing: grayscale;
  display: block;
  content: "\f0da";
  float: right;
  color: #333333;
  margin-top: 2px;
  margin-right: -10px;
}
.dropdown-submenu > a:after.pull-left {
  margin-right: .3em;
}
.dropdown-submenu > a:after.pull-right {
  margin-left: .3em;
}
.dropdown-submenu:hover > a:after {
  color: #262626;
}
.dropdown-submenu.pull-left {
  float: none;
}
.dropdown-submenu.pull-left > .dropdown-menu {
  left: -100%;
  margin-left: 10px;
}
#notification_area {
  float: right !important;
  float: right;
  z-index: 10;
}
.indicator_area {
  float: right !important;
  float: right;
  color: #777;
  margin-left: 5px;
  margin-right: 5px;
  width: 11px;
  z-index: 10;
  text-align: center;
  width: auto;
}
#kernel_indicator {
  float: right !important;
  float: right;
  color: #777;
  margin-left: 5px;
  margin-right: 5px;
  width: 11px;
  z-index: 10;
  text-align: center;
  width: auto;
  border-left: 1px solid;
}
#kernel_indicator .kernel_indicator_name {
  padding-left: 5px;
  padding-right: 5px;
}
#modal_indicator {
  float: right !important;
  float: right;
  color: #777;
  margin-left: 5px;
  margin-right: 5px;
  width: 11px;
  z-index: 10;
  text-align: center;
  width: auto;
}
#readonly-indicator {
  float: right !important;
  float: right;
  color: #777;
  margin-left: 5px;
  margin-right: 5px;
  width: 11px;
  z-index: 10;
  text-align: center;
  width: auto;
  margin-top: 2px;
  margin-bottom: 0px;
  margin-left: 0px;
  margin-right: 0px;
  display: none;
}
.modal_indicator:before {
  width: 1.28571429em;
  text-align: center;
}
.edit_mode .modal_indicator:before {
  display: inline-block;
  font: normal normal normal 14px/1 FontAwesome;
  font-size: inherit;
  text-rendering: auto;
  -webkit-font-smoothing: antialiased;
  -moz-osx-font-smoothing: grayscale;
  content: "\f040";
}
.edit_mode .modal_indicator:before.pull-left {
  margin-right: .3em;
}
.edit_mode .modal_indicator:before.pull-right {
  margin-left: .3em;
}
.command_mode .modal_indicator:before {
  display: inline-block;
  font: normal normal normal 14px/1 FontAwesome;
  font-size: inherit;
  text-rendering: auto;
  -webkit-font-smoothing: antialiased;
  -moz-osx-font-smoothing: grayscale;
  content: ' ';
}
.command_mode .modal_indicator:before.pull-left {
  margin-right: .3em;
}
.command_mode .modal_indicator:before.pull-right {
  margin-left: .3em;
}
.kernel_idle_icon:before {
  display: inline-block;
  font: normal normal normal 14px/1 FontAwesome;
  font-size: inherit;
  text-rendering: auto;
  -webkit-font-smoothing: antialiased;
  -moz-osx-font-smoothing: grayscale;
  content: "\f10c";
}
.kernel_idle_icon:before.pull-left {
  margin-right: .3em;
}
.kernel_idle_icon:before.pull-right {
  margin-left: .3em;
}
.kernel_busy_icon:before {
  display: inline-block;
  font: normal normal normal 14px/1 FontAwesome;
  font-size: inherit;
  text-rendering: auto;
  -webkit-font-smoothing: antialiased;
  -moz-osx-font-smoothing: grayscale;
  content: "\f111";
}
.kernel_busy_icon:before.pull-left {
  margin-right: .3em;
}
.kernel_busy_icon:before.pull-right {
  margin-left: .3em;
}
.kernel_dead_icon:before {
  display: inline-block;
  font: normal normal normal 14px/1 FontAwesome;
  font-size: inherit;
  text-rendering: auto;
  -webkit-font-smoothing: antialiased;
  -moz-osx-font-smoothing: grayscale;
  content: "\f1e2";
}
.kernel_dead_icon:before.pull-left {
  margin-right: .3em;
}
.kernel_dead_icon:before.pull-right {
  margin-left: .3em;
}
.kernel_disconnected_icon:before {
  display: inline-block;
  font: normal normal normal 14px/1 FontAwesome;
  font-size: inherit;
  text-rendering: auto;
  -webkit-font-smoothing: antialiased;
  -moz-osx-font-smoothing: grayscale;
  content: "\f127";
}
.kernel_disconnected_icon:before.pull-left {
  margin-right: .3em;
}
.kernel_disconnected_icon:before.pull-right {
  margin-left: .3em;
}
.notification_widget {
  color: #777;
  z-index: 10;
  background: rgba(240, 240, 240, 0.5);
  margin-right: 4px;
  color: #333;
  background-color: #fff;
  border-color: #ccc;
}
.notification_widget:focus,
.notification_widget.focus {
  color: #333;
  background-color: #e6e6e6;
  border-color: #8c8c8c;
}
.notification_widget:hover {
  color: #333;
  background-color: #e6e6e6;
  border-color: #adadad;
}
.notification_widget:active,
.notification_widget.active,
.open > .dropdown-toggle.notification_widget {
  color: #333;
  background-color: #e6e6e6;
  border-color: #adadad;
}
.notification_widget:active:hover,
.notification_widget.active:hover,
.open > .dropdown-toggle.notification_widget:hover,
.notification_widget:active:focus,
.notification_widget.active:focus,
.open > .dropdown-toggle.notification_widget:focus,
.notification_widget:active.focus,
.notification_widget.active.focus,
.open > .dropdown-toggle.notification_widget.focus {
  color: #333;
  background-color: #d4d4d4;
  border-color: #8c8c8c;
}
.notification_widget:active,
.notification_widget.active,
.open > .dropdown-toggle.notification_widget {
  background-image: none;
}
.notification_widget.disabled:hover,
.notification_widget[disabled]:hover,
fieldset[disabled] .notification_widget:hover,
.notification_widget.disabled:focus,
.notification_widget[disabled]:focus,
fieldset[disabled] .notification_widget:focus,
.notification_widget.disabled.focus,
.notification_widget[disabled].focus,
fieldset[disabled] .notification_widget.focus {
  background-color: #fff;
  border-color: #ccc;
}
.notification_widget .badge {
  color: #fff;
  background-color: #333;
}
.notification_widget.warning {
  color: #fff;
  background-color: #f0ad4e;
  border-color: #eea236;
}
.notification_widget.warning:focus,
.notification_widget.warning.focus {
  color: #fff;
  background-color: #ec971f;
  border-color: #985f0d;
}
.notification_widget.warning:hover {
  color: #fff;
  background-color: #ec971f;
  border-color: #d58512;
}
.notification_widget.warning:active,
.notification_widget.warning.active,
.open > .dropdown-toggle.notification_widget.warning {
  color: #fff;
  background-color: #ec971f;
  border-color: #d58512;
}
.notification_widget.warning:active:hover,
.notification_widget.warning.active:hover,
.open > .dropdown-toggle.notification_widget.warning:hover,
.notification_widget.warning:active:focus,
.notification_widget.warning.active:focus,
.open > .dropdown-toggle.notification_widget.warning:focus,
.notification_widget.warning:active.focus,
.notification_widget.warning.active.focus,
.open > .dropdown-toggle.notification_widget.warning.focus {
  color: #fff;
  background-color: #d58512;
  border-color: #985f0d;
}
.notification_widget.warning:active,
.notification_widget.warning.active,
.open > .dropdown-toggle.notification_widget.warning {
  background-image: none;
}
.notification_widget.warning.disabled:hover,
.notification_widget.warning[disabled]:hover,
fieldset[disabled] .notification_widget.warning:hover,
.notification_widget.warning.disabled:focus,
.notification_widget.warning[disabled]:focus,
fieldset[disabled] .notification_widget.warning:focus,
.notification_widget.warning.disabled.focus,
.notification_widget.warning[disabled].focus,
fieldset[disabled] .notification_widget.warning.focus {
  background-color: #f0ad4e;
  border-color: #eea236;
}
.notification_widget.warning .badge {
  color: #f0ad4e;
  background-color: #fff;
}
.notification_widget.success {
  color: #fff;
  background-color: #5cb85c;
  border-color: #4cae4c;
}
.notification_widget.success:focus,
.notification_widget.success.focus {
  color: #fff;
  background-color: #449d44;
  border-color: #255625;
}
.notification_widget.success:hover {
  color: #fff;
  background-color: #449d44;
  border-color: #398439;
}
.notification_widget.success:active,
.notification_widget.success.active,
.open > .dropdown-toggle.notification_widget.success {
  color: #fff;
  background-color: #449d44;
  border-color: #398439;
}
.notification_widget.success:active:hover,
.notification_widget.success.active:hover,
.open > .dropdown-toggle.notification_widget.success:hover,
.notification_widget.success:active:focus,
.notification_widget.success.active:focus,
.open > .dropdown-toggle.notification_widget.success:focus,
.notification_widget.success:active.focus,
.notification_widget.success.active.focus,
.open > .dropdown-toggle.notification_widget.success.focus {
  color: #fff;
  background-color: #398439;
  border-color: #255625;
}
.notification_widget.success:active,
.notification_widget.success.active,
.open > .dropdown-toggle.notification_widget.success {
  background-image: none;
}
.notification_widget.success.disabled:hover,
.notification_widget.success[disabled]:hover,
fieldset[disabled] .notification_widget.success:hover,
.notification_widget.success.disabled:focus,
.notification_widget.success[disabled]:focus,
fieldset[disabled] .notification_widget.success:focus,
.notification_widget.success.disabled.focus,
.notification_widget.success[disabled].focus,
fieldset[disabled] .notification_widget.success.focus {
  background-color: #5cb85c;
  border-color: #4cae4c;
}
.notification_widget.success .badge {
  color: #5cb85c;
  background-color: #fff;
}
.notification_widget.info {
  color: #fff;
  background-color: #5bc0de;
  border-color: #46b8da;
}
.notification_widget.info:focus,
.notification_widget.info.focus {
  color: #fff;
  background-color: #31b0d5;
  border-color: #1b6d85;
}
.notification_widget.info:hover {
  color: #fff;
  background-color: #31b0d5;
  border-color: #269abc;
}
.notification_widget.info:active,
.notification_widget.info.active,
.open > .dropdown-toggle.notification_widget.info {
  color: #fff;
  background-color: #31b0d5;
  border-color: #269abc;
}
.notification_widget.info:active:hover,
.notification_widget.info.active:hover,
.open > .dropdown-toggle.notification_widget.info:hover,
.notification_widget.info:active:focus,
.notification_widget.info.active:focus,
.open > .dropdown-toggle.notification_widget.info:focus,
.notification_widget.info:active.focus,
.notification_widget.info.active.focus,
.open > .dropdown-toggle.notification_widget.info.focus {
  color: #fff;
  background-color: #269abc;
  border-color: #1b6d85;
}
.notification_widget.info:active,
.notification_widget.info.active,
.open > .dropdown-toggle.notification_widget.info {
  background-image: none;
}
.notification_widget.info.disabled:hover,
.notification_widget.info[disabled]:hover,
fieldset[disabled] .notification_widget.info:hover,
.notification_widget.info.disabled:focus,
.notification_widget.info[disabled]:focus,
fieldset[disabled] .notification_widget.info:focus,
.notification_widget.info.disabled.focus,
.notification_widget.info[disabled].focus,
fieldset[disabled] .notification_widget.info.focus {
  background-color: #5bc0de;
  border-color: #46b8da;
}
.notification_widget.info .badge {
  color: #5bc0de;
  background-color: #fff;
}
.notification_widget.danger {
  color: #fff;
  background-color: #d9534f;
  border-color: #d43f3a;
}
.notification_widget.danger:focus,
.notification_widget.danger.focus {
  color: #fff;
  background-color: #c9302c;
  border-color: #761c19;
}
.notification_widget.danger:hover {
  color: #fff;
  background-color: #c9302c;
  border-color: #ac2925;
}
.notification_widget.danger:active,
.notification_widget.danger.active,
.open > .dropdown-toggle.notification_widget.danger {
  color: #fff;
  background-color: #c9302c;
  border-color: #ac2925;
}
.notification_widget.danger:active:hover,
.notification_widget.danger.active:hover,
.open > .dropdown-toggle.notification_widget.danger:hover,
.notification_widget.danger:active:focus,
.notification_widget.danger.active:focus,
.open > .dropdown-toggle.notification_widget.danger:focus,
.notification_widget.danger:active.focus,
.notification_widget.danger.active.focus,
.open > .dropdown-toggle.notification_widget.danger.focus {
  color: #fff;
  background-color: #ac2925;
  border-color: #761c19;
}
.notification_widget.danger:active,
.notification_widget.danger.active,
.open > .dropdown-toggle.notification_widget.danger {
  background-image: none;
}
.notification_widget.danger.disabled:hover,
.notification_widget.danger[disabled]:hover,
fieldset[disabled] .notification_widget.danger:hover,
.notification_widget.danger.disabled:focus,
.notification_widget.danger[disabled]:focus,
fieldset[disabled] .notification_widget.danger:focus,
.notification_widget.danger.disabled.focus,
.notification_widget.danger[disabled].focus,
fieldset[disabled] .notification_widget.danger.focus {
  background-color: #d9534f;
  border-color: #d43f3a;
}
.notification_widget.danger .badge {
  color: #d9534f;
  background-color: #fff;
}
div#pager {
  background-color: #fff;
  font-size: 14px;
  line-height: 20px;
  overflow: hidden;
  display: none;
  position: fixed;
  bottom: 0px;
  width: 100%;
  max-height: 50%;
  padding-top: 8px;
  -webkit-box-shadow: 0px 0px 12px 1px rgba(87, 87, 87, 0.2);
  box-shadow: 0px 0px 12px 1px rgba(87, 87, 87, 0.2);
  /* Display over codemirror */
  z-index: 100;
  /* Hack which prevents jquery ui resizable from changing top. */
  top: auto !important;
}
div#pager pre {
  line-height: 1.21429em;
  color: #000;
  background-color: #f7f7f7;
  padding: 0.4em;
}
div#pager #pager-button-area {
  position: absolute;
  top: 8px;
  right: 20px;
}
div#pager #pager-contents {
  position: relative;
  overflow: auto;
  width: 100%;
  height: 100%;
}
div#pager #pager-contents #pager-container {
  position: relative;
  padding: 15px 0px;
  box-sizing: border-box;
  -moz-box-sizing: border-box;
  -webkit-box-sizing: border-box;
}
div#pager .ui-resizable-handle {
  top: 0px;
  height: 8px;
  background: #f7f7f7;
  border-top: 1px solid #cfcfcf;
  border-bottom: 1px solid #cfcfcf;
  /* This injects handle bars (a short, wide = symbol) for 
        the resize handle. */
}
div#pager .ui-resizable-handle::after {
  content: '';
  top: 2px;
  left: 50%;
  height: 3px;
  width: 30px;
  margin-left: -15px;
  position: absolute;
  border-top: 1px solid #cfcfcf;
}
.quickhelp {
  /* Old browsers */
  display: -webkit-box;
  -webkit-box-orient: horizontal;
  -webkit-box-align: stretch;
  display: -moz-box;
  -moz-box-orient: horizontal;
  -moz-box-align: stretch;
  display: box;
  box-orient: horizontal;
  box-align: stretch;
  /* Modern browsers */
  display: flex;
  flex-direction: row;
  align-items: stretch;
  line-height: 1.8em;
}
.shortcut_key {
  display: inline-block;
  width: 21ex;
  text-align: right;
  font-family: monospace;
}
.shortcut_descr {
  display: inline-block;
  /* Old browsers */
  -webkit-box-flex: 1;
  -moz-box-flex: 1;
  box-flex: 1;
  /* Modern browsers */
  flex: 1;
}
span.save_widget {
  margin-top: 6px;
}
span.save_widget span.filename {
  height: 1em;
  line-height: 1em;
  padding: 3px;
  margin-left: 16px;
  border: none;
  font-size: 146.5%;
  border-radius: 2px;
}
span.save_widget span.filename:hover {
  background-color: #e6e6e6;
}
span.checkpoint_status,
span.autosave_status {
  font-size: small;
}
@media (max-width: 767px) {
  span.save_widget {
    font-size: small;
  }
  span.checkpoint_status,
  span.autosave_status {
    display: none;
  }
}
@media (min-width: 768px) and (max-width: 991px) {
  span.checkpoint_status {
    display: none;
  }
  span.autosave_status {
    font-size: x-small;
  }
}
.toolbar {
  padding: 0px;
  margin-left: -5px;
  margin-top: 2px;
  margin-bottom: 5px;
  box-sizing: border-box;
  -moz-box-sizing: border-box;
  -webkit-box-sizing: border-box;
}
.toolbar select,
.toolbar label {
  width: auto;
  vertical-align: middle;
  margin-right: 2px;
  margin-bottom: 0px;
  display: inline;
  font-size: 92%;
  margin-left: 0.3em;
  margin-right: 0.3em;
  padding: 0px;
  padding-top: 3px;
}
.toolbar .btn {
  padding: 2px 8px;
}
.toolbar .btn-group {
  margin-top: 0px;
  margin-left: 5px;
}
#maintoolbar {
  margin-bottom: -3px;
  margin-top: -8px;
  border: 0px;
  min-height: 27px;
  margin-left: 0px;
  padding-top: 11px;
  padding-bottom: 3px;
}
#maintoolbar .navbar-text {
  float: none;
  vertical-align: middle;
  text-align: right;
  margin-left: 5px;
  margin-right: 0px;
  margin-top: 0px;
}
.select-xs {
  height: 24px;
}
.pulse,
.dropdown-menu > li > a.pulse,
li.pulse > a.dropdown-toggle,
li.pulse.open > a.dropdown-toggle {
  background-color: #F37626;
  color: white;
}
/**
 * Primary styles
 *
 * Author: Jupyter Development Team
 */
/** WARNING IF YOU ARE EDITTING THIS FILE, if this is a .css file, It has a lot
 * of chance of beeing generated from the ../less/[samename].less file, you can
 * try to get back the less file by reverting somme commit in history
 **/
/*
 * We'll try to get something pretty, so we
 * have some strange css to have the scroll bar on
 * the left with fix button on the top right of the tooltip
 */
@-moz-keyframes fadeOut {
  from {
    opacity: 1;
  }
  to {
    opacity: 0;
  }
}
@-webkit-keyframes fadeOut {
  from {
    opacity: 1;
  }
  to {
    opacity: 0;
  }
}
@-moz-keyframes fadeIn {
  from {
    opacity: 0;
  }
  to {
    opacity: 1;
  }
}
@-webkit-keyframes fadeIn {
  from {
    opacity: 0;
  }
  to {
    opacity: 1;
  }
}
/*properties of tooltip after "expand"*/
.bigtooltip {
  overflow: auto;
  height: 200px;
  -webkit-transition-property: height;
  -webkit-transition-duration: 500ms;
  -moz-transition-property: height;
  -moz-transition-duration: 500ms;
  transition-property: height;
  transition-duration: 500ms;
}
/*properties of tooltip before "expand"*/
.smalltooltip {
  -webkit-transition-property: height;
  -webkit-transition-duration: 500ms;
  -moz-transition-property: height;
  -moz-transition-duration: 500ms;
  transition-property: height;
  transition-duration: 500ms;
  text-overflow: ellipsis;
  overflow: hidden;
  height: 80px;
}
.tooltipbuttons {
  position: absolute;
  padding-right: 15px;
  top: 0px;
  right: 0px;
}
.tooltiptext {
  /*avoid the button to overlap on some docstring*/
  padding-right: 30px;
}
.ipython_tooltip {
  max-width: 700px;
  /*fade-in animation when inserted*/
  -webkit-animation: fadeOut 400ms;
  -moz-animation: fadeOut 400ms;
  animation: fadeOut 400ms;
  -webkit-animation: fadeIn 400ms;
  -moz-animation: fadeIn 400ms;
  animation: fadeIn 400ms;
  vertical-align: middle;
  background-color: #f7f7f7;
  overflow: visible;
  border: #ababab 1px solid;
  outline: none;
  padding: 3px;
  margin: 0px;
  padding-left: 7px;
  font-family: monospace;
  min-height: 50px;
  -moz-box-shadow: 0px 6px 10px -1px #adadad;
  -webkit-box-shadow: 0px 6px 10px -1px #adadad;
  box-shadow: 0px 6px 10px -1px #adadad;
  border-radius: 2px;
  position: absolute;
  z-index: 1000;
}
.ipython_tooltip a {
  float: right;
}
.ipython_tooltip .tooltiptext pre {
  border: 0;
  border-radius: 0;
  font-size: 100%;
  background-color: #f7f7f7;
}
.pretooltiparrow {
  left: 0px;
  margin: 0px;
  top: -16px;
  width: 40px;
  height: 16px;
  overflow: hidden;
  position: absolute;
}
.pretooltiparrow:before {
  background-color: #f7f7f7;
  border: 1px #ababab solid;
  z-index: 11;
  content: "";
  position: absolute;
  left: 15px;
  top: 10px;
  width: 25px;
  height: 25px;
  -webkit-transform: rotate(45deg);
  -moz-transform: rotate(45deg);
  -ms-transform: rotate(45deg);
  -o-transform: rotate(45deg);
}
ul.typeahead-list i {
  margin-left: -10px;
  width: 18px;
}
ul.typeahead-list {
  max-height: 80vh;
  overflow: auto;
}
ul.typeahead-list > li > a {
  /** Firefox bug **/
  /* see https://github.com/jupyter/notebook/issues/559 */
  white-space: normal;
}
.cmd-palette .modal-body {
  padding: 7px;
}
.cmd-palette form {
  background: white;
}
.cmd-palette input {
  outline: none;
}
.no-shortcut {
  display: none;
}
.command-shortcut:before {
  content: "(command)";
  padding-right: 3px;
  color: #777777;
}
.edit-shortcut:before {
  content: "(edit)";
  padding-right: 3px;
  color: #777777;
}
#find-and-replace #replace-preview .match,
#find-and-replace #replace-preview .insert {
  background-color: #BBDEFB;
  border-color: #90CAF9;
  border-style: solid;
  border-width: 1px;
  border-radius: 0px;
}
#find-and-replace #replace-preview .replace .match {
  background-color: #FFCDD2;
  border-color: #EF9A9A;
  border-radius: 0px;
}
#find-and-replace #replace-preview .replace .insert {
  background-color: #C8E6C9;
  border-color: #A5D6A7;
  border-radius: 0px;
}
#find-and-replace #replace-preview {
  max-height: 60vh;
  overflow: auto;
}
#find-and-replace #replace-preview pre {
  padding: 5px 10px;
}
.terminal-app {
  background: #EEE;
}
.terminal-app #header {
  background: #fff;
  -webkit-box-shadow: 0px 0px 12px 1px rgba(87, 87, 87, 0.2);
  box-shadow: 0px 0px 12px 1px rgba(87, 87, 87, 0.2);
}
.terminal-app .terminal {
  width: 100%;
  float: left;
  font-family: monospace;
  color: white;
  background: black;
  padding: 0.4em;
  border-radius: 2px;
  -webkit-box-shadow: 0px 0px 12px 1px rgba(87, 87, 87, 0.4);
  box-shadow: 0px 0px 12px 1px rgba(87, 87, 87, 0.4);
}
.terminal-app .terminal,
.terminal-app .terminal dummy-screen {
  line-height: 1em;
  font-size: 14px;
}
.terminal-app .terminal .xterm-rows {
  padding: 10px;
}
.terminal-app .terminal-cursor {
  color: black;
  background: white;
}
.terminal-app #terminado-container {
  margin-top: 20px;
}
/*# sourceMappingURL=style.min.css.map */
    </style>
<style type="text/css">
    .highlight .hll { background-color: #ffffcc }
.highlight  { background: #f8f8f8; }
.highlight .c { color: #408080; font-style: italic } /* Comment */
.highlight .err { border: 1px solid #FF0000 } /* Error */
.highlight .k { color: #008000; font-weight: bold } /* Keyword */
.highlight .o { color: #666666 } /* Operator */
.highlight .ch { color: #408080; font-style: italic } /* Comment.Hashbang */
.highlight .cm { color: #408080; font-style: italic } /* Comment.Multiline */
.highlight .cp { color: #BC7A00 } /* Comment.Preproc */
.highlight .cpf { color: #408080; font-style: italic } /* Comment.PreprocFile */
.highlight .c1 { color: #408080; font-style: italic } /* Comment.Single */
.highlight .cs { color: #408080; font-style: italic } /* Comment.Special */
.highlight .gd { color: #A00000 } /* Generic.Deleted */
.highlight .ge { font-style: italic } /* Generic.Emph */
.highlight .gr { color: #FF0000 } /* Generic.Error */
.highlight .gh { color: #000080; font-weight: bold } /* Generic.Heading */
.highlight .gi { color: #00A000 } /* Generic.Inserted */
.highlight .go { color: #888888 } /* Generic.Output */
.highlight .gp { color: #000080; font-weight: bold } /* Generic.Prompt */
.highlight .gs { font-weight: bold } /* Generic.Strong */
.highlight .gu { color: #800080; font-weight: bold } /* Generic.Subheading */
.highlight .gt { color: #0044DD } /* Generic.Traceback */
.highlight .kc { color: #008000; font-weight: bold } /* Keyword.Constant */
.highlight .kd { color: #008000; font-weight: bold } /* Keyword.Declaration */
.highlight .kn { color: #008000; font-weight: bold } /* Keyword.Namespace */
.highlight .kp { color: #008000 } /* Keyword.Pseudo */
.highlight .kr { color: #008000; font-weight: bold } /* Keyword.Reserved */
.highlight .kt { color: #B00040 } /* Keyword.Type */
.highlight .m { color: #666666 } /* Literal.Number */
.highlight .s { color: #BA2121 } /* Literal.String */
.highlight .na { color: #7D9029 } /* Name.Attribute */
.highlight .nb { color: #008000 } /* Name.Builtin */
.highlight .nc { color: #0000FF; font-weight: bold } /* Name.Class */
.highlight .no { color: #880000 } /* Name.Constant */
.highlight .nd { color: #AA22FF } /* Name.Decorator */
.highlight .ni { color: #999999; font-weight: bold } /* Name.Entity */
.highlight .ne { color: #D2413A; font-weight: bold } /* Name.Exception */
.highlight .nf { color: #0000FF } /* Name.Function */
.highlight .nl { color: #A0A000 } /* Name.Label */
.highlight .nn { color: #0000FF; font-weight: bold } /* Name.Namespace */
.highlight .nt { color: #008000; font-weight: bold } /* Name.Tag */
.highlight .nv { color: #19177C } /* Name.Variable */
.highlight .ow { color: #AA22FF; font-weight: bold } /* Operator.Word */
.highlight .w { color: #bbbbbb } /* Text.Whitespace */
.highlight .mb { color: #666666 } /* Literal.Number.Bin */
.highlight .mf { color: #666666 } /* Literal.Number.Float */
.highlight .mh { color: #666666 } /* Literal.Number.Hex */
.highlight .mi { color: #666666 } /* Literal.Number.Integer */
.highlight .mo { color: #666666 } /* Literal.Number.Oct */
.highlight .sa { color: #BA2121 } /* Literal.String.Affix */
.highlight .sb { color: #BA2121 } /* Literal.String.Backtick */
.highlight .sc { color: #BA2121 } /* Literal.String.Char */
.highlight .dl { color: #BA2121 } /* Literal.String.Delimiter */
.highlight .sd { color: #BA2121; font-style: italic } /* Literal.String.Doc */
.highlight .s2 { color: #BA2121 } /* Literal.String.Double */
.highlight .se { color: #BB6622; font-weight: bold } /* Literal.String.Escape */
.highlight .sh { color: #BA2121 } /* Literal.String.Heredoc */
.highlight .si { color: #BB6688; font-weight: bold } /* Literal.String.Interpol */
.highlight .sx { color: #008000 } /* Literal.String.Other */
.highlight .sr { color: #BB6688 } /* Literal.String.Regex */
.highlight .s1 { color: #BA2121 } /* Literal.String.Single */
.highlight .ss { color: #19177C } /* Literal.String.Symbol */
.highlight .bp { color: #008000 } /* Name.Builtin.Pseudo */
.highlight .fm { color: #0000FF } /* Name.Function.Magic */
.highlight .vc { color: #19177C } /* Name.Variable.Class */
.highlight .vg { color: #19177C } /* Name.Variable.Global */
.highlight .vi { color: #19177C } /* Name.Variable.Instance */
.highlight .vm { color: #19177C } /* Name.Variable.Magic */
.highlight .il { color: #666666 } /* Literal.Number.Integer.Long */
    </style>
<style type="text/css">
    
/* Temporary definitions which will become obsolete with Notebook release 5.0 */
.ansi-black-fg { color: #3E424D; }
.ansi-black-bg { background-color: #3E424D; }
.ansi-black-intense-fg { color: #282C36; }
.ansi-black-intense-bg { background-color: #282C36; }
.ansi-red-fg { color: #E75C58; }
.ansi-red-bg { background-color: #E75C58; }
.ansi-red-intense-fg { color: #B22B31; }
.ansi-red-intense-bg { background-color: #B22B31; }
.ansi-green-fg { color: #00A250; }
.ansi-green-bg { background-color: #00A250; }
.ansi-green-intense-fg { color: #007427; }
.ansi-green-intense-bg { background-color: #007427; }
.ansi-yellow-fg { color: #DDB62B; }
.ansi-yellow-bg { background-color: #DDB62B; }
.ansi-yellow-intense-fg { color: #B27D12; }
.ansi-yellow-intense-bg { background-color: #B27D12; }
.ansi-blue-fg { color: #208FFB; }
.ansi-blue-bg { background-color: #208FFB; }
.ansi-blue-intense-fg { color: #0065CA; }
.ansi-blue-intense-bg { background-color: #0065CA; }
.ansi-magenta-fg { color: #D160C4; }
.ansi-magenta-bg { background-color: #D160C4; }
.ansi-magenta-intense-fg { color: #A03196; }
.ansi-magenta-intense-bg { background-color: #A03196; }
.ansi-cyan-fg { color: #60C6C8; }
.ansi-cyan-bg { background-color: #60C6C8; }
.ansi-cyan-intense-fg { color: #258F8F; }
.ansi-cyan-intense-bg { background-color: #258F8F; }
.ansi-white-fg { color: #C5C1B4; }
.ansi-white-bg { background-color: #C5C1B4; }
.ansi-white-intense-fg { color: #A1A6B2; }
.ansi-white-intense-bg { background-color: #A1A6B2; }

.ansi-bold { font-weight: bold; }

    </style>


<style type="text/css">
/* Overrides of notebook CSS for static HTML export */
body {
  overflow: visible;
  padding: 8px;
}

div#notebook {
  overflow: visible;
  border-top: none;
}@media print {
  div.cell {
    display: block;
    page-break-inside: avoid;
  } 
  div.output_wrapper { 
    display: block;
    page-break-inside: avoid; 
  }
  div.output { 
    display: block;
    page-break-inside: avoid; 
  }
}
</style>

<!-- Custom stylesheet, it must be in the same directory as the html file -->
<link rel="stylesheet" href="custom.css">

<!-- Loading mathjax macro -->
<!-- Load mathjax -->
    <script src="https://cdnjs.cloudflare.com/ajax/libs/mathjax/2.7.1/MathJax.js?config=TeX-AMS_HTML"></script>
    <!-- MathJax configuration -->
    <script type="text/x-mathjax-config">
    MathJax.Hub.Config({
        tex2jax: {
            inlineMath: [ ['$','$'], ["\\(","\\)"] ],
            displayMath: [ ['$$','$$'], ["\\[","\\]"] ],
            processEscapes: true,
            processEnvironments: true
        },
        // Center justify equations in code and markdown cells. Elsewhere
        // we use CSS to left justify single line equations in code cells.
        displayAlign: 'center',
        "HTML-CSS": {
            styles: {'.MathJax_Display': {"margin": 0}},
            linebreaks: { automatic: true }
        }
    });
    </script>
    <!-- End of mathjax configuration --></head>
<body>
  <div tabindex="-1" id="notebook" class="border-box-sizing">
    <div class="container" id="notebook-container">

<div class="cell border-box-sizing text_cell rendered"><div class="prompt input_prompt">
</div>
<div class="inner_cell">
<div class="text_cell_render border-box-sizing rendered_html">
<h1 id="Value-at-Risk-Calculation-using-SPARK">Value at Risk Calculation using SPARK<a class="anchor-link" href="#Value-at-Risk-Calculation-using-SPARK">&#182;</a></h1>
</div>
</div>
</div>
<div class="cell border-box-sizing text_cell rendered"><div class="prompt input_prompt">
</div>
<div class="inner_cell">
<div class="text_cell_render border-box-sizing rendered_html">
<p>TEAM MEMBERS: Yasmine, Agata, Edem, Javier, Florian</p>

</div>
</div>
</div>
<div class="cell border-box-sizing text_cell rendered"><div class="prompt input_prompt">
</div>
<div class="inner_cell">
<div class="text_cell_render border-box-sizing rendered_html">
<p>The following Jupyter will explain our approach and walk through the different steps in deriving. The actual computations have been executed in both Anaconda Spyder and later in the Spark Virtual Environment that was provided to us. Code Snippets might reference CSV files, to re-run this project this has to be adjusted.</p>

</div>
</div>
</div>
<div class="cell border-box-sizing text_cell rendered"><div class="prompt input_prompt">
</div>
<div class="inner_cell">
<div class="text_cell_render border-box-sizing rendered_html">
<h1 id="Structure">Structure<a class="anchor-link" href="#Structure">&#182;</a></h1><h2 id="1.-Instruments">1. Instruments<a class="anchor-link" href="#1.-Instruments">&#182;</a></h2><h2 id="2.-Factors">2. Factors<a class="anchor-link" href="#2.-Factors">&#182;</a></h2><h2 id="3.-Model">3. Model<a class="anchor-link" href="#3.-Model">&#182;</a></h2><h2 id="4.-Implementation-in-SPARK">4. Implementation in SPARK<a class="anchor-link" href="#4.-Implementation-in-SPARK">&#182;</a></h2>
</div>
</div>
</div>
<div class="cell border-box-sizing code_cell rendered">
<div class="input">
<div class="prompt input_prompt">In&nbsp;[1]:</div>
<div class="inner_cell">
    <div class="input_area">
<div class=" highlight hl-ipython3"><pre><span></span><span class="kn">import</span> <span class="nn">pandas</span> <span class="k">as</span> <span class="nn">pd</span>  
<span class="kn">import</span> <span class="nn">os.path</span>
</pre></div>

</div>
</div>
</div>

</div>
<div class="cell border-box-sizing text_cell rendered"><div class="prompt input_prompt">
</div>
<div class="inner_cell">
<div class="text_cell_render border-box-sizing rendered_html">
<h1 id="1.-Instruments">1. Instruments<a class="anchor-link" href="#1.-Instruments">&#182;</a></h1>
</div>
</div>
</div>
<div class="cell border-box-sizing text_cell rendered"><div class="prompt input_prompt">
</div>
<div class="inner_cell">
<div class="text_cell_render border-box-sizing rendered_html">
<h2 id="1.1-Create-dataframe-with-the-values-of-all-instruments-from-the-csv-files">1.1 Create dataframe with the values of all instruments from the csv files<a class="anchor-link" href="#1.1-Create-dataframe-with-the-values-of-all-instruments-from-the-csv-files">&#182;</a></h2>
</div>
</div>
</div>
<div class="cell border-box-sizing text_cell rendered"><div class="prompt input_prompt">
</div>
<div class="inner_cell">
<div class="text_cell_render border-box-sizing rendered_html">
<h3 id="Read-the-directory-where-the-csv-files-are-saved">Read the directory where the csv files are saved<a class="anchor-link" href="#Read-the-directory-where-the-csv-files-are-saved">&#182;</a></h3><p>Files have been saved as local copies</p>

</div>
</div>
</div>
<div class="cell border-box-sizing code_cell rendered">
<div class="input">
<div class="prompt input_prompt">In&nbsp;[5]:</div>
<div class="inner_cell">
    <div class="input_area">
<div class=" highlight hl-ipython3"><pre><span></span><span class="n">path</span> <span class="o">=</span> <span class="s1">&#39;/Users/flo/Documents/GitHub/VaR-Calculation-SPARK/Instruments_data&#39;</span>  
<span class="n">filelist</span> <span class="o">=</span> <span class="n">os</span><span class="o">.</span><span class="n">listdir</span><span class="p">(</span><span class="n">path</span><span class="p">)</span>

<span class="n">csv_inst_names</span> <span class="o">=</span> <span class="p">[]</span>

<span class="k">for</span> <span class="n">i</span> <span class="ow">in</span> <span class="n">filelist</span><span class="p">:</span>
    <span class="n">csv_inst_names</span><span class="o">.</span><span class="n">append</span><span class="p">(</span><span class="n">i</span><span class="p">[:</span><span class="o">-</span><span class="mi">4</span><span class="p">])</span>
</pre></div>

</div>
</div>
</div>

</div>
<div class="cell border-box-sizing text_cell rendered"><div class="prompt input_prompt">
</div>
<div class="inner_cell">
<div class="text_cell_render border-box-sizing rendered_html">
<h3 id="Create-daterange-to-merge-with-the-values-of-all-instruments-afterwards">Create daterange to merge with the values of all instruments afterwards<a class="anchor-link" href="#Create-daterange-to-merge-with-the-values-of-all-instruments-afterwards">&#182;</a></h3><p>This allows us to control our custom defined date ranges as specified in the project and we can standardize that across instruments (We are starting with 12/16 so that we already have a return for the first Non-Holiday Day in 2008)</p>

</div>
</div>
</div>
<div class="cell border-box-sizing code_cell rendered">
<div class="input">
<div class="prompt input_prompt">In&nbsp;[14]:</div>
<div class="inner_cell">
    <div class="input_area">
<div class=" highlight hl-ipython3"><pre><span></span><span class="n">daterange</span> <span class="o">=</span> <span class="n">pd</span><span class="o">.</span><span class="n">date_range</span><span class="p">(</span><span class="s1">&#39;2007-12-26&#39;</span><span class="p">,</span><span class="s1">&#39;2019-01-31&#39;</span><span class="p">)</span>
<span class="n">daterange</span> <span class="o">=</span> <span class="n">pd</span><span class="o">.</span><span class="n">DataFrame</span><span class="p">(</span><span class="n">data</span><span class="o">=</span><span class="n">daterange</span><span class="p">)</span>
<span class="n">daterange</span><span class="o">.</span><span class="n">rename</span><span class="p">(</span><span class="n">columns</span><span class="o">=</span><span class="p">{</span><span class="mi">0</span><span class="p">:</span> <span class="s1">&#39;Date&#39;</span><span class="p">},</span> <span class="n">inplace</span><span class="o">=</span><span class="kc">True</span><span class="p">)</span>
</pre></div>

</div>
</div>
</div>

</div>
<div class="cell border-box-sizing text_cell rendered"><div class="prompt input_prompt">
</div>
<div class="inner_cell">
<div class="text_cell_render border-box-sizing rendered_html">
<h3 id="Merge-daterange-with-the-instruments,-drop-weekends-and-fill-holidays-with-values-from-previous-day">Merge daterange with the instruments, drop weekends and fill holidays with values from previous day<a class="anchor-link" href="#Merge-daterange-with-the-instruments,-drop-weekends-and-fill-holidays-with-values-from-previous-day">&#182;</a></h3><p>As we are interested in returns over a given period of time, we decided to remove weekends. For example, on a Monday the count for the return over 5 past days would start on the last trading Day, Friday. Additionally, we have a lot of holidays and missing values across datasets. For them, we apply a similar logic - Filling the blank with the last previous available value.</p>

</div>
</div>
</div>
<div class="cell border-box-sizing code_cell rendered">
<div class="input">
<div class="prompt input_prompt">In&nbsp;[7]:</div>
<div class="inner_cell">
    <div class="input_area">
<div class=" highlight hl-ipython3"><pre><span></span><span class="n">instruments</span> <span class="o">=</span> <span class="n">daterange</span><span class="o">.</span><span class="n">copy</span><span class="p">()</span>

<span class="c1">#We have started with a instrument file that only contains the dates, now we can add a column for each instrument</span>

<span class="k">for</span> <span class="n">i</span> <span class="ow">in</span> <span class="n">csv_inst_names</span><span class="p">:</span>
    <span class="n">instrument</span> <span class="o">=</span> <span class="n">pd</span><span class="o">.</span><span class="n">read_csv</span><span class="p">(</span><span class="s1">&#39;/Users/flo/Documents/GitHub/VaR-Calculation-SPARK/Instruments_data/</span><span class="si">{}</span><span class="s1">.csv&#39;</span><span class="o">.</span><span class="n">format</span><span class="p">(</span><span class="n">i</span><span class="p">))</span>
    <span class="n">instrument</span> <span class="o">=</span> <span class="n">instrument</span><span class="p">[[</span><span class="s1">&#39;timestamp&#39;</span><span class="p">,</span><span class="s1">&#39;close&#39;</span><span class="p">]]</span>
    <span class="n">instrument</span><span class="o">.</span><span class="n">rename</span><span class="p">(</span><span class="n">columns</span><span class="o">=</span><span class="p">{</span><span class="s1">&#39;timestamp&#39;</span><span class="p">:</span> <span class="s1">&#39;Date&#39;</span><span class="p">},</span> <span class="n">inplace</span><span class="o">=</span><span class="kc">True</span><span class="p">)</span>
    <span class="n">instrument</span><span class="o">.</span><span class="n">rename</span><span class="p">(</span><span class="n">columns</span><span class="o">=</span><span class="p">{</span><span class="s1">&#39;close&#39;</span><span class="p">:</span> <span class="n">i</span><span class="p">},</span> <span class="n">inplace</span><span class="o">=</span><span class="kc">True</span><span class="p">)</span>    
    <span class="n">instrument</span><span class="p">[</span><span class="s1">&#39;Date&#39;</span><span class="p">]</span> <span class="o">=</span> <span class="n">pd</span><span class="o">.</span><span class="n">to_datetime</span><span class="p">(</span><span class="n">instrument</span><span class="o">.</span><span class="n">Date</span><span class="p">)</span>
    <span class="n">instruments</span> <span class="o">=</span> <span class="n">pd</span><span class="o">.</span><span class="n">merge</span><span class="p">(</span><span class="n">instruments</span><span class="p">,</span> <span class="n">instrument</span><span class="p">,</span> <span class="n">how</span><span class="o">=</span><span class="s1">&#39;left&#39;</span><span class="p">,</span> <span class="n">on</span><span class="o">=</span><span class="p">[</span><span class="s1">&#39;Date&#39;</span><span class="p">])</span>

<span class="n">instruments</span><span class="p">[</span><span class="s1">&#39;Date&#39;</span><span class="p">]</span> <span class="o">=</span> <span class="n">instruments</span><span class="p">[</span><span class="s1">&#39;Date&#39;</span><span class="p">]</span><span class="o">.</span><span class="n">dt</span><span class="o">.</span><span class="n">date</span>

<span class="n">instruments</span><span class="p">[</span><span class="s1">&#39;Weekday&#39;</span><span class="p">]</span> <span class="o">=</span> <span class="n">pd</span><span class="o">.</span><span class="n">DatetimeIndex</span><span class="p">(</span><span class="n">instruments</span><span class="p">[</span><span class="s1">&#39;Date&#39;</span><span class="p">])</span><span class="o">.</span><span class="n">weekday</span>
<span class="n">instruments</span><span class="p">[</span><span class="s1">&#39;Weekend&#39;</span><span class="p">]</span> <span class="o">=</span> <span class="n">instruments</span><span class="p">[</span><span class="s1">&#39;Weekday&#39;</span><span class="p">]</span><span class="o">.</span><span class="n">map</span><span class="p">(</span><span class="k">lambda</span> <span class="n">x</span><span class="p">:</span> <span class="mi">1</span> <span class="k">if</span> <span class="n">x</span> <span class="o">==</span> <span class="mf">5.0</span> <span class="ow">or</span> <span class="n">x</span> <span class="o">==</span> <span class="mf">6.0</span> <span class="k">else</span> <span class="mi">0</span><span class="p">)</span>
<span class="n">instruments</span> <span class="o">=</span> <span class="n">instruments</span><span class="p">[</span><span class="n">instruments</span><span class="p">[</span><span class="s1">&#39;Weekend&#39;</span><span class="p">]</span> <span class="o">!=</span> <span class="mi">1</span><span class="p">]</span>
<span class="n">instruments</span> <span class="o">=</span> <span class="n">instruments</span><span class="o">.</span><span class="n">reset_index</span><span class="p">()</span>
<span class="n">instruments</span> <span class="o">=</span> <span class="n">instruments</span><span class="o">.</span><span class="n">drop</span><span class="p">(</span><span class="s1">&#39;index&#39;</span><span class="p">,</span> <span class="mi">1</span><span class="p">)</span>
<span class="n">instruments</span> <span class="o">=</span> <span class="n">instruments</span><span class="o">.</span><span class="n">fillna</span><span class="p">(</span><span class="n">method</span><span class="o">=</span><span class="s1">&#39;ffill&#39;</span><span class="p">)</span>
</pre></div>

</div>
</div>
</div>

</div>
<div class="cell border-box-sizing text_cell rendered"><div class="prompt input_prompt">
</div>
<div class="inner_cell">
<div class="text_cell_render border-box-sizing rendered_html">
<h3 id="Convert-values-to-numeric-to-allow-further-calculations">Convert values to numeric to allow further calculations<a class="anchor-link" href="#Convert-values-to-numeric-to-allow-further-calculations">&#182;</a></h3>
</div>
</div>
</div>
<div class="cell border-box-sizing code_cell rendered">
<div class="input">
<div class="prompt input_prompt">In&nbsp;[8]:</div>
<div class="inner_cell">
    <div class="input_area">
<div class=" highlight hl-ipython3"><pre><span></span><span class="n">cols</span> <span class="o">=</span> <span class="n">instruments</span><span class="o">.</span><span class="n">columns</span><span class="o">.</span><span class="n">drop</span><span class="p">(</span><span class="s1">&#39;Date&#39;</span><span class="p">)</span>
<span class="n">instruments</span><span class="p">[</span><span class="n">cols</span><span class="p">]</span> <span class="o">=</span> <span class="n">instruments</span><span class="p">[</span><span class="n">cols</span><span class="p">]</span><span class="o">.</span><span class="n">apply</span><span class="p">(</span><span class="n">pd</span><span class="o">.</span><span class="n">to_numeric</span><span class="p">,</span> <span class="n">errors</span><span class="o">=</span><span class="s1">&#39;coerce&#39;</span><span class="p">)</span>
</pre></div>

</div>
</div>
</div>

</div>
<div class="cell border-box-sizing text_cell rendered"><div class="prompt input_prompt">
</div>
<div class="inner_cell">
<div class="text_cell_render border-box-sizing rendered_html">
<h2 id="1.2.-Calculating-5-days-returns-of-each-instrument">1.2. Calculating 5 days returns of each instrument<a class="anchor-link" href="#1.2.-Calculating-5-days-returns-of-each-instrument">&#182;</a></h2><p>We now have a Pandas datframe with the values of all the instruments. The next step involves converting these into returns. As per instructions, we are using the following formula: <br>
(price(day) – price(day – 5)) / price(day – 5)  <br>
We are creating a new column with returns for each, so that we can calculate the value for each day, based on the PRICES of the last 5 days</p>

</div>
</div>
</div>
<div class="cell border-box-sizing code_cell rendered">
<div class="input">
<div class="prompt input_prompt">In&nbsp;[9]:</div>
<div class="inner_cell">
    <div class="input_area">
<div class=" highlight hl-ipython3"><pre><span></span><span class="n">returns_instruments</span> <span class="o">=</span> <span class="n">instruments</span><span class="o">.</span><span class="n">drop</span><span class="p">(</span><span class="s1">&#39;Weekday&#39;</span><span class="p">,</span> <span class="mi">1</span><span class="p">)</span>
<span class="n">returns_instruments</span> <span class="o">=</span> <span class="n">returns_instruments</span><span class="o">.</span><span class="n">drop</span><span class="p">(</span><span class="s1">&#39;Weekend&#39;</span><span class="p">,</span> <span class="mi">1</span><span class="p">)</span>

<span class="k">for</span> <span class="n">column</span> <span class="ow">in</span> <span class="n">returns_instruments</span><span class="p">:</span>
    <span class="k">if</span> <span class="n">column</span> <span class="o">==</span> <span class="s1">&#39;Date&#39;</span><span class="p">:</span>
        <span class="k">continue</span>
    <span class="k">for</span> <span class="n">index</span><span class="p">,</span> <span class="n">row</span> <span class="ow">in</span> <span class="n">returns_instruments</span><span class="o">.</span><span class="n">iterrows</span><span class="p">():</span>
            <span class="k">if</span> <span class="n">index</span> <span class="o">&lt;</span> <span class="mi">5</span><span class="p">:</span>
                <span class="k">continue</span>
            <span class="k">else</span><span class="p">:</span>    
                <span class="n">returns_instruments</span><span class="o">.</span><span class="n">loc</span><span class="p">[</span><span class="n">index</span><span class="p">,</span> <span class="s1">&#39;Return &#39;</span> <span class="o">+</span> <span class="n">column</span><span class="p">]</span> <span class="o">=</span> <span class="p">(</span><span class="n">returns_instruments</span><span class="o">.</span><span class="n">loc</span><span class="p">[</span><span class="n">index</span><span class="p">,</span> <span class="n">column</span><span class="p">]</span> <span class="o">-</span> <span class="n">returns_instruments</span><span class="o">.</span><span class="n">loc</span><span class="p">[</span><span class="n">index</span><span class="o">-</span><span class="mi">5</span><span class="p">,</span> <span class="n">column</span><span class="p">])</span> <span class="o">/</span> <span class="n">returns_instruments</span><span class="o">.</span><span class="n">loc</span><span class="p">[</span><span class="n">index</span><span class="o">-</span><span class="mi">5</span><span class="p">,</span> <span class="n">column</span><span class="p">]</span>

<span class="n">returns_instruments</span> <span class="o">=</span> <span class="n">returns_instruments</span><span class="p">[[</span><span class="s1">&#39;Date&#39;</span><span class="p">,</span> <span class="s1">&#39;Return daily_DGLD&#39;</span><span class="p">,</span> <span class="s1">&#39;Return daily_MDRX&#39;</span><span class="p">,</span> <span class="s1">&#39;Return daily_HAWK&#39;</span><span class="p">,</span>
       <span class="s1">&#39;Return daily_DOX&#39;</span><span class="p">,</span> <span class="s1">&#39;Return daily_EGHT&#39;</span><span class="p">,</span> <span class="s1">&#39;Return daily_CFFI&#39;</span><span class="p">,</span>
       <span class="s1">&#39;Return daily_JOBS&#39;</span><span class="p">,</span> <span class="s1">&#39;Return daily_FCCY&#39;</span><span class="p">,</span> <span class="s1">&#39;Return daily_CHRW&#39;</span><span class="p">,</span>
       <span class="s1">&#39;Return daily_TWOU&#39;</span><span class="p">,</span> <span class="s1">&#39;Return daily_CRMT&#39;</span><span class="p">,</span> <span class="s1">&#39;Return daily_INBK&#39;</span><span class="p">,</span>
       <span class="s1">&#39;Return daily_XLRN&#39;</span><span class="p">,</span> <span class="s1">&#39;Return daily_AVHI&#39;</span><span class="p">,</span> <span class="s1">&#39;Return daily_MULT&#39;</span><span class="p">,</span>
       <span class="s1">&#39;Return daily_MTGE&#39;</span><span class="p">,</span> <span class="s1">&#39;Return daily_VNET&#39;</span><span class="p">,</span> <span class="s1">&#39;Return daily_QABA&#39;</span><span class="p">,</span>
       <span class="s1">&#39;Return daily_FUBC&#39;</span><span class="p">,</span> <span class="s1">&#39;Return daily_KOOL&#39;</span><span class="p">,</span> <span class="s1">&#39;Return daily_BCOM&#39;</span><span class="p">,</span>
       <span class="s1">&#39;Return daily_ABAX&#39;</span><span class="p">,</span> <span class="s1">&#39;Return daily_FLWS&#39;</span><span class="p">,</span> <span class="s1">&#39;Return daily_PLCE&#39;</span><span class="p">,</span>
       <span class="s1">&#39;Return daily_HTHT&#39;</span><span class="p">,</span> <span class="s1">&#39;Return daily_GOOG&#39;</span><span class="p">,</span> <span class="s1">&#39;Return daily_DAEG&#39;</span><span class="p">,</span>
       <span class="s1">&#39;Return daily_AEGR&#39;</span><span class="p">,</span> <span class="s1">&#39;Return daily_CHOP&#39;</span><span class="p">,</span> <span class="s1">&#39;Return daily_DJCO&#39;</span><span class="p">,</span>
       <span class="s1">&#39;Return daily_EPAX&#39;</span><span class="p">,</span> <span class="s1">&#39;Return daily_JRJC&#39;</span><span class="p">,</span> <span class="s1">&#39;Return daily_SRCE&#39;</span><span class="p">,</span>
       <span class="s1">&#39;Return daily_UHAL&#39;</span><span class="p">,</span> <span class="s1">&#39;Return daily_YPRO&#39;</span><span class="p">,</span> <span class="s1">&#39;Return daily_SATS&#39;</span><span class="p">,</span>
       <span class="s1">&#39;Return daily_HGSH&#39;</span><span class="p">,</span> <span class="s1">&#39;Return daily_IMOS&#39;</span><span class="p">,</span> <span class="s1">&#39;Return daily_ACTA&#39;</span><span class="p">,</span>
       <span class="s1">&#39;Return daily_FTLB&#39;</span><span class="p">,</span> <span class="s1">&#39;Return daily_SHLM&#39;</span><span class="p">,</span> <span class="s1">&#39;Return daily_HOTR&#39;</span><span class="p">,</span>
       <span class="s1">&#39;Return daily_BIRT&#39;</span><span class="p">,</span> <span class="s1">&#39;Return daily_WATT&#39;</span><span class="p">,</span> <span class="s1">&#39;Return daily_PIH&#39;</span><span class="p">,</span>
       <span class="s1">&#39;Return daily_BOSC&#39;</span><span class="p">,</span> <span class="s1">&#39;Return daily_FCTY&#39;</span><span class="p">,</span> <span class="s1">&#39;Return daily_AAON&#39;</span><span class="p">,</span>
       <span class="s1">&#39;Return daily_FOLD&#39;</span><span class="p">]]</span>

<span class="n">returns_instruments</span> <span class="o">=</span> <span class="n">returns_instruments</span><span class="p">[</span><span class="mi">5</span><span class="p">:]</span>
</pre></div>

</div>
</div>
</div>

</div>
<div class="cell border-box-sizing text_cell rendered"><div class="prompt input_prompt">
</div>
<div class="inner_cell">
<div class="text_cell_render border-box-sizing rendered_html">
<h2 id="1.3.-Check-Start-date-and-End-date-for-each-instrument-and-Remove-instruments-with-no-data-until-31-Jan-2019.-Generate-file-containing-only-the-instruments-with-data-until-31-Jan-2019.">1.3. Check Start date and End date for each instrument and Remove instruments with no data until 31 Jan 2019. Generate file containing only the instruments with data until 31 Jan 2019.<a class="anchor-link" href="#1.3.-Check-Start-date-and-End-date-for-each-instrument-and-Remove-instruments-with-no-data-until-31-Jan-2019.-Generate-file-containing-only-the-instruments-with-data-until-31-Jan-2019.">&#182;</a></h2><p>So far, we have looked at our instruments only from a coding, not from a finance perspective. No we will add the finance view. We decided to remove all instruments that did not have values in 2019. Our assumption here is that if the instrument is not listed any more on the stock market, there is no return benefit to the portfolio, as we want to make predictions for the future and not the past. We have outputed the ones that we removed below:</p>

</div>
</div>
</div>
<div class="cell border-box-sizing code_cell rendered">
<div class="input">
<div class="prompt input_prompt">In&nbsp;[10]:</div>
<div class="inner_cell">
    <div class="input_area">
<div class=" highlight hl-ipython3"><pre><span></span><span class="n">final_columns</span> <span class="o">=</span> <span class="p">[</span><span class="s1">&#39;Date&#39;</span><span class="p">]</span>

<span class="k">for</span> <span class="n">i</span> <span class="ow">in</span> <span class="n">csv_inst_names</span><span class="p">:</span>

    <span class="n">instru</span> <span class="o">=</span> <span class="n">pd</span><span class="o">.</span><span class="n">read_csv</span><span class="p">(</span><span class="s1">&#39;/Users/flo/Documents/GitHub/VaR-Calculation-SPARK/Instruments_data/</span><span class="si">{}</span><span class="s1">.csv&#39;</span><span class="o">.</span><span class="n">format</span><span class="p">(</span><span class="n">i</span><span class="p">))</span>

    <span class="k">if</span> <span class="nb">max</span><span class="p">(</span><span class="n">instru</span><span class="p">[</span><span class="s1">&#39;timestamp&#39;</span><span class="p">])</span> <span class="o">&lt;</span> <span class="s1">&#39;2019-01-31&#39;</span><span class="p">:</span>
        <span class="nb">print</span><span class="p">(</span><span class="n">i</span><span class="p">[</span><span class="mi">6</span><span class="p">:])</span>
        <span class="nb">print</span><span class="p">(</span><span class="s1">&#39;Start date: &#39;</span><span class="p">,</span> <span class="nb">min</span><span class="p">(</span><span class="n">instru</span><span class="p">[</span><span class="s1">&#39;timestamp&#39;</span><span class="p">]))</span>
        <span class="nb">print</span><span class="p">(</span><span class="s1">&#39;End date: &#39;</span><span class="p">,</span> <span class="nb">max</span><span class="p">(</span><span class="n">instru</span><span class="p">[</span><span class="s1">&#39;timestamp&#39;</span><span class="p">]),</span> <span class="s1">&#39;</span><span class="se">\n</span><span class="s1">&#39;</span><span class="p">)</span>
        <span class="nb">print</span><span class="p">(</span> <span class="n">i</span><span class="p">[</span><span class="mi">6</span><span class="p">:],</span> <span class="s1">&#39; no data until 31-Jan-19 </span><span class="se">\n</span><span class="s1">&#39;</span><span class="p">)</span>
    <span class="k">else</span><span class="p">:</span>
        <span class="n">final_columns</span><span class="o">.</span><span class="n">append</span><span class="p">(</span><span class="s1">&#39;Return &#39;</span><span class="o">+</span> <span class="n">i</span><span class="p">)</span>

<span class="n">returns_instruments</span> <span class="o">=</span> <span class="n">returns_instruments</span><span class="p">[</span><span class="n">final_columns</span><span class="p">]</span>
</pre></div>

</div>
</div>
</div>

<div class="output_wrapper">
<div class="output">


<div class="output_area">

<div class="prompt"></div>


<div class="output_subarea output_stream output_stdout output_text">
<pre>HAWK
Start date:  2013-04-19
End date:  2018-06-25 

HAWK  no data until 31-Jan-19 

AVHI
Start date:  2003-05-23
End date:  2018-10-02 

AVHI  no data until 31-Jan-19 

MULT
Start date:  2014-07-09
End date:  2015-10-30 

MULT  no data until 31-Jan-19 

MTGE
Start date:  2011-08-04
End date:  2018-09-07 

MTGE  no data until 31-Jan-19 

FUBC
Start date:  2008-04-10
End date:  2014-10-31 

FUBC  no data until 31-Jan-19 

ABAX
Start date:  1998-01-02
End date:  2018-08-01 

ABAX  no data until 31-Jan-19 

DAEG
Start date:  1998-01-02
End date:  2015-11-20 

DAEG  no data until 31-Jan-19 

AEGR
Start date:  2010-10-21
End date:  2016-12-07 

AEGR  no data until 31-Jan-19 

CHOP
Start date:  2007-04-17
End date:  2015-11-24 

CHOP  no data until 31-Jan-19 

EPAX
Start date:  2002-03-01
End date:  2015-10-23 

EPAX  no data until 31-Jan-19 

YPRO
Start date:  2016-01-04
End date:  2016-11-01 

YPRO  no data until 31-Jan-19 

ACTA
Start date:  1999-08-05
End date:  2018-04-20 

ACTA  no data until 31-Jan-19 

SHLM
Start date:  1998-01-02
End date:  2018-08-22 

SHLM  no data until 31-Jan-19 

HOTR
Start date:  2006-10-31
End date:  2017-11-13 

HOTR  no data until 31-Jan-19 

BIRT
Start date:  1998-07-17
End date:  2015-01-16 

BIRT  no data until 31-Jan-19 

FCTY
Start date:  2016-01-04
End date:  2016-07-05 

FCTY  no data until 31-Jan-19 

</pre>
</div>
</div>

</div>
</div>

</div>
<div class="cell border-box-sizing text_cell rendered"><div class="prompt input_prompt">
</div>
<div class="inner_cell">
<div class="text_cell_render border-box-sizing rendered_html">
<h2 id="1.4.-Generate-file-containing-only-the-instruments-with-data-until-31-Jan-2019.">1.4. Generate file containing only the instruments with data until 31 Jan 2019.<a class="anchor-link" href="#1.4.-Generate-file-containing-only-the-instruments-with-data-until-31-Jan-2019.">&#182;</a></h2><p>The final step for the Instruments involves saving the pandaframe locally, so that we can access it quicker for future computation</p>

</div>
</div>
</div>
<div class="cell border-box-sizing code_cell rendered">
<div class="input">
<div class="prompt input_prompt">In&nbsp;[11]:</div>
<div class="inner_cell">
    <div class="input_area">
<div class=" highlight hl-ipython3"><pre><span></span><span class="c1">#returns_instruments.to_csv(&#39;/Users/javierfdz/Documents/GitHub/VaR-Calculation-SPARK/Instruments_returns.csv&#39;, index=False)</span>
</pre></div>

</div>
</div>
</div>

</div>
<div class="cell border-box-sizing text_cell rendered"><div class="prompt input_prompt">
</div>
<div class="inner_cell">
<div class="text_cell_render border-box-sizing rendered_html">
<h1 id="2.-Factors">2. Factors<a class="anchor-link" href="#2.-Factors">&#182;</a></h1>
</div>
</div>
</div>
<div class="cell border-box-sizing code_cell rendered">
<div class="input">
<div class="prompt input_prompt">In&nbsp;[12]:</div>
<div class="inner_cell">
    <div class="input_area">
<div class=" highlight hl-ipython3"><pre><span></span><span class="kn">import</span> <span class="nn">urllib.request</span> <span class="k">as</span> <span class="nn">url</span>
<span class="kn">import</span> <span class="nn">numpy</span> <span class="k">as</span> <span class="nn">np</span>
<span class="kn">import</span> <span class="nn">pandas</span> <span class="k">as</span> <span class="nn">pd</span>


<span class="n">factor1url</span> <span class="o">=</span> <span class="s1">&#39;https://www.alphavantage.co/query?function=TIME_SERIES_DAILY&amp;symbol=</span><span class="si">%5e</span><span class="s1">GSPC&amp;outputsize=full&amp;apikey=CAJH46WI0QYW2RGK&amp;datatype=csv&#39;</span>
<span class="n">factor2url</span> <span class="o">=</span> <span class="s1">&#39;https://www.alphavantage.co/query?function=TIME_SERIES_DAILY&amp;symbol=NDAQ&amp;outputsize=full&amp;apikey=CAJH46WI0QYW2RGK&amp;datatype=csv&#39;</span>
<span class="n">factor3url</span> <span class="o">=</span> <span class="s1">&#39;https://www.quandl.com/api/v3/datasets/OPEC/ORB/data.csv?start_date=2007-12-26&amp;end_date=2019-01-31&amp;api_key=LwmAyD-1JHAzhMKKSvDX&#39;</span>
<span class="n">factor4url</span> <span class="o">=</span> <span class="s1">&#39;https://www.quandl.com/api/v3/datasets/USTREASURY/YIELD.csv?start_date=2007-12-26&amp;end_date=2019-01-31&amp;api_key=LwmAyD-1JHAzhMKKSvDX&#39;</span>



<span class="n">alphaurls</span> <span class="o">=</span> <span class="p">{</span><span class="s2">&quot;Factor 1&quot;</span><span class="p">:</span><span class="n">factor1url</span><span class="p">,</span><span class="s2">&quot;Factor 2&quot;</span><span class="p">:</span><span class="n">factor2url</span><span class="p">}</span>
<span class="n">quandlurls</span> <span class="o">=</span> <span class="p">{</span><span class="s2">&quot;Factor 3&quot;</span><span class="p">:</span><span class="n">factor3url</span><span class="p">,</span><span class="s2">&quot;Factor 4&quot;</span><span class="p">:</span><span class="n">factor4url</span><span class="p">}</span>
</pre></div>

</div>
</div>
</div>

</div>
<div class="cell border-box-sizing text_cell rendered"><div class="prompt input_prompt">
</div>
<div class="inner_cell">
<div class="text_cell_render border-box-sizing rendered_html">
<h2 id="In-the-following,-we-will-create-dataframes-for-Factor-1-&amp;-2">In the following, we will create dataframes for Factor 1 &amp; 2<a class="anchor-link" href="#In-the-following,-we-will-create-dataframes-for-Factor-1-&amp;-2">&#182;</a></h2><p>We have to split 1 &amp; 2 - 2&amp;3 Factors as the APIs use a different json format</p>

</div>
</div>
</div>
<div class="cell border-box-sizing code_cell rendered">
<div class="input">
<div class="prompt input_prompt">In&nbsp;[13]:</div>
<div class="inner_cell">
    <div class="input_area">
<div class=" highlight hl-ipython3"><pre><span></span><span class="c1">#Creating DF for Factor 1 &amp; 2</span>

<span class="n">lst</span> <span class="o">=</span> <span class="p">[]</span>
<span class="k">for</span> <span class="n">i</span> <span class="ow">in</span> <span class="n">alphaurls</span><span class="p">:</span>
    <span class="n">remoteFile</span> <span class="o">=</span> <span class="n">url</span><span class="o">.</span><span class="n">urlopen</span><span class="p">(</span><span class="n">alphaurls</span><span class="p">[</span><span class="n">i</span><span class="p">])</span>
    <span class="n">html</span> <span class="o">=</span> <span class="n">remoteFile</span><span class="o">.</span><span class="n">read</span><span class="p">()</span><span class="o">.</span><span class="n">decode</span><span class="p">(</span><span class="s1">&#39;ascii&#39;</span><span class="p">)</span><span class="o">.</span><span class="n">splitlines</span><span class="p">()</span>
    <span class="n">b</span> <span class="o">=</span> <span class="n">pd</span><span class="o">.</span><span class="n">DataFrame</span><span class="p">(</span><span class="n">data</span><span class="o">=</span><span class="n">html</span><span class="p">)</span>
    <span class="n">b</span> <span class="o">=</span> <span class="n">b</span><span class="p">[</span><span class="mi">0</span><span class="p">]</span><span class="o">.</span><span class="n">str</span><span class="o">.</span><span class="n">split</span><span class="p">(</span><span class="s2">&quot;,&quot;</span><span class="p">,</span> <span class="n">expand</span> <span class="o">=</span> <span class="kc">True</span><span class="p">)</span>
    <span class="n">b</span><span class="o">.</span><span class="n">columns</span> <span class="o">=</span> <span class="n">b</span><span class="o">.</span><span class="n">iloc</span><span class="p">[</span><span class="mi">0</span><span class="p">]</span>
    <span class="n">b</span> <span class="o">=</span> <span class="n">b</span><span class="p">[</span><span class="mi">1</span><span class="p">:]</span>
    <span class="n">final</span> <span class="o">=</span> <span class="n">b</span><span class="p">[[</span><span class="s1">&#39;timestamp&#39;</span><span class="p">,</span><span class="s1">&#39;close&#39;</span><span class="p">]]</span>
    <span class="n">final</span> <span class="o">=</span> <span class="n">final</span><span class="p">[</span><span class="n">final</span><span class="p">[</span><span class="s1">&#39;timestamp&#39;</span><span class="p">]</span> <span class="o">&gt;=</span> <span class="s1">&#39;2007-12-26&#39;</span><span class="p">]</span>
    <span class="n">final</span><span class="o">.</span><span class="n">rename</span><span class="p">(</span><span class="n">columns</span><span class="o">=</span><span class="p">{</span><span class="s1">&#39;close&#39;</span><span class="p">:</span> <span class="n">i</span><span class="p">},</span> <span class="n">inplace</span><span class="o">=</span><span class="kc">True</span><span class="p">)</span> 
    <span class="n">final</span><span class="o">.</span><span class="n">rename</span><span class="p">(</span><span class="n">columns</span><span class="o">=</span><span class="p">{</span><span class="s1">&#39;timestamp&#39;</span><span class="p">:</span> <span class="s1">&#39;Date&#39;</span><span class="p">},</span> <span class="n">inplace</span><span class="o">=</span><span class="kc">True</span><span class="p">)</span> 
    <span class="n">final</span><span class="p">[</span><span class="s1">&#39;Date&#39;</span><span class="p">]</span> <span class="o">=</span> <span class="n">pd</span><span class="o">.</span><span class="n">to_datetime</span><span class="p">(</span><span class="n">final</span><span class="o">.</span><span class="n">Date</span><span class="p">)</span>
    <span class="n">lst</span><span class="o">.</span><span class="n">append</span><span class="p">(</span><span class="n">final</span><span class="p">)</span>
<span class="n">factor1_2</span> <span class="o">=</span> <span class="n">pd</span><span class="o">.</span><span class="n">merge</span><span class="p">(</span><span class="n">lst</span><span class="p">[</span><span class="mi">0</span><span class="p">],</span> <span class="n">lst</span><span class="p">[</span><span class="mi">1</span><span class="p">],</span> <span class="n">how</span><span class="o">=</span><span class="s1">&#39;outer&#39;</span><span class="p">,</span> <span class="n">on</span><span class="o">=</span><span class="p">[</span><span class="s1">&#39;Date&#39;</span><span class="p">])</span> 
</pre></div>

</div>
</div>
</div>

</div>
<div class="cell border-box-sizing text_cell rendered"><div class="prompt input_prompt">
</div>
<div class="inner_cell">
<div class="text_cell_render border-box-sizing rendered_html">
<h2 id="We-then-create-a-daterange-manually,-which-will-help-us-control-the-start-date--and-end-date-of-the-dataframes-and-manipulate-weekends">We then create a daterange manually, which will help us control the start date  and end date of the dataframes and manipulate weekends<a class="anchor-link" href="#We-then-create-a-daterange-manually,-which-will-help-us-control-the-start-date--and-end-date-of-the-dataframes-and-manipulate-weekends">&#182;</a></h2><p>This is the same approach as previoulsy with the instruments</p>

</div>
</div>
</div>
<div class="cell border-box-sizing code_cell rendered">
<div class="input">
<div class="prompt input_prompt">In&nbsp;[15]:</div>
<div class="inner_cell">
    <div class="input_area">
<div class=" highlight hl-ipython3"><pre><span></span><span class="c1">#Adding a custom daterange to account for holidays etc that are different in datasets</span>

<span class="n">daterange</span> <span class="o">=</span> <span class="n">pd</span><span class="o">.</span><span class="n">date_range</span><span class="p">(</span><span class="s1">&#39;2007-12-26&#39;</span><span class="p">,</span><span class="s1">&#39;2019-01-31&#39;</span><span class="p">)</span>
<span class="n">daterange</span> <span class="o">=</span> <span class="n">pd</span><span class="o">.</span><span class="n">DataFrame</span><span class="p">(</span><span class="n">data</span><span class="o">=</span><span class="n">daterange</span><span class="p">)</span>
<span class="n">daterange</span><span class="o">.</span><span class="n">rename</span><span class="p">(</span><span class="n">columns</span><span class="o">=</span><span class="p">{</span><span class="mi">0</span><span class="p">:</span> <span class="s1">&#39;Date&#39;</span><span class="p">},</span> <span class="n">inplace</span><span class="o">=</span><span class="kc">True</span><span class="p">)</span> 

<span class="c1">#Mapping for weekends</span>
<span class="n">daterange</span><span class="p">[</span><span class="s1">&#39;Weekday&#39;</span><span class="p">]</span> <span class="o">=</span> <span class="n">pd</span><span class="o">.</span><span class="n">DatetimeIndex</span><span class="p">(</span><span class="n">daterange</span><span class="p">[</span><span class="s1">&#39;Date&#39;</span><span class="p">])</span><span class="o">.</span><span class="n">weekday</span>
<span class="n">daterange</span><span class="p">[</span><span class="s1">&#39;Weekend&#39;</span><span class="p">]</span> <span class="o">=</span> <span class="n">daterange</span><span class="p">[</span><span class="s1">&#39;Weekday&#39;</span><span class="p">]</span><span class="o">.</span><span class="n">map</span><span class="p">(</span><span class="k">lambda</span> <span class="n">x</span><span class="p">:</span> <span class="mi">1</span> <span class="k">if</span> <span class="n">x</span> <span class="o">==</span> <span class="mf">5.0</span> <span class="ow">or</span> <span class="n">x</span> <span class="o">==</span> <span class="mf">6.0</span> <span class="k">else</span> <span class="mi">0</span><span class="p">)</span>


<span class="n">merged</span> <span class="o">=</span> <span class="n">pd</span><span class="o">.</span><span class="n">merge</span><span class="p">(</span><span class="n">daterange</span><span class="p">,</span> <span class="n">factor1_2</span><span class="p">,</span> <span class="n">how</span><span class="o">=</span><span class="s1">&#39;left&#39;</span><span class="p">,</span> <span class="n">on</span><span class="o">=</span><span class="p">[</span><span class="s1">&#39;Date&#39;</span><span class="p">])</span>
<span class="n">merged</span><span class="p">[</span><span class="s1">&#39;Date&#39;</span><span class="p">]</span> <span class="o">=</span> <span class="n">merged</span><span class="p">[</span><span class="s1">&#39;Date&#39;</span><span class="p">]</span><span class="o">.</span><span class="n">dt</span><span class="o">.</span><span class="n">date</span>
</pre></div>

</div>
</div>
</div>

</div>
<div class="cell border-box-sizing text_cell rendered"><div class="prompt input_prompt">
</div>
<div class="inner_cell">
<div class="text_cell_render border-box-sizing rendered_html">
<h2 id="Adding-Factor-3-&amp;-4">Adding Factor 3 &amp; 4<a class="anchor-link" href="#Adding-Factor-3-&amp;-4">&#182;</a></h2><p>For the bonds we had to make another uce case related decision. As per assignment instruction we did not know about the timeframe of the portfolio, we decided to take the average of the different provided Bonds values ( 1 Mo, 3 Mo, 1 yr. etc)</p>

</div>
</div>
</div>
<div class="cell border-box-sizing code_cell rendered">
<div class="input">
<div class="prompt input_prompt">In&nbsp;[16]:</div>
<div class="inner_cell">
    <div class="input_area">
<div class=" highlight hl-ipython3"><pre><span></span><span class="c1">#%% Adding Factor 3</span>

<span class="n">remoteFile</span> <span class="o">=</span> <span class="n">url</span><span class="o">.</span><span class="n">urlopen</span><span class="p">(</span><span class="n">factor3url</span><span class="p">)</span>
<span class="n">html</span> <span class="o">=</span> <span class="n">remoteFile</span><span class="o">.</span><span class="n">read</span><span class="p">()</span><span class="o">.</span><span class="n">decode</span><span class="p">(</span><span class="s1">&#39;ascii&#39;</span><span class="p">)</span><span class="o">.</span><span class="n">splitlines</span><span class="p">()</span>
<span class="n">b</span> <span class="o">=</span> <span class="n">pd</span><span class="o">.</span><span class="n">DataFrame</span><span class="p">(</span><span class="n">data</span><span class="o">=</span><span class="n">html</span><span class="p">)</span>
<span class="n">b</span> <span class="o">=</span> <span class="n">b</span><span class="p">[</span><span class="mi">0</span><span class="p">]</span><span class="o">.</span><span class="n">str</span><span class="o">.</span><span class="n">split</span><span class="p">(</span><span class="s2">&quot;,&quot;</span><span class="p">,</span> <span class="n">expand</span> <span class="o">=</span> <span class="kc">True</span><span class="p">)</span>
<span class="n">b</span><span class="o">.</span><span class="n">columns</span> <span class="o">=</span> <span class="n">b</span><span class="o">.</span><span class="n">iloc</span><span class="p">[</span><span class="mi">0</span><span class="p">]</span>
<span class="n">b</span> <span class="o">=</span> <span class="n">b</span><span class="p">[</span><span class="mi">1</span><span class="p">:]</span>
<span class="n">factor3</span> <span class="o">=</span> <span class="n">b</span><span class="p">[</span><span class="n">b</span><span class="p">[</span><span class="s1">&#39;Date&#39;</span><span class="p">]</span> <span class="o">&gt;=</span> <span class="s1">&#39;2007-12-26&#39;</span><span class="p">]</span>
<span class="n">factor3</span><span class="o">.</span><span class="n">rename</span><span class="p">(</span><span class="n">columns</span><span class="o">=</span><span class="p">{</span><span class="s1">&#39;Value&#39;</span><span class="p">:</span> <span class="s1">&#39;Factor 3&#39;</span><span class="p">},</span> <span class="n">inplace</span><span class="o">=</span><span class="kc">True</span><span class="p">)</span> 
<span class="n">factor3</span> <span class="o">=</span> <span class="n">factor3</span><span class="o">.</span><span class="n">sort_values</span><span class="p">(</span><span class="n">by</span><span class="o">=</span><span class="s1">&#39;Date&#39;</span><span class="p">)</span><span class="o">.</span><span class="n">reset_index</span><span class="p">()</span>
<span class="n">factor3</span> <span class="o">=</span> <span class="n">factor3</span><span class="o">.</span><span class="n">drop</span><span class="p">(</span><span class="s2">&quot;index&quot;</span><span class="p">,</span><span class="mi">1</span><span class="p">)</span>
<span class="n">factor3</span><span class="p">[</span><span class="s1">&#39;Date&#39;</span><span class="p">]</span> <span class="o">=</span> <span class="n">pd</span><span class="o">.</span><span class="n">to_datetime</span><span class="p">(</span><span class="n">factor3</span><span class="o">.</span><span class="n">Date</span><span class="p">)</span>
<span class="n">factor3</span><span class="p">[</span><span class="s1">&#39;Date&#39;</span><span class="p">]</span> <span class="o">=</span> <span class="n">factor3</span><span class="p">[</span><span class="s1">&#39;Date&#39;</span><span class="p">]</span><span class="o">.</span><span class="n">dt</span><span class="o">.</span><span class="n">date</span>

<span class="n">merged_1_2_3</span> <span class="o">=</span> <span class="n">pd</span><span class="o">.</span><span class="n">merge</span><span class="p">(</span><span class="n">merged</span><span class="p">,</span> <span class="n">factor3</span><span class="p">,</span> <span class="n">how</span><span class="o">=</span><span class="s1">&#39;left&#39;</span><span class="p">,</span> <span class="n">on</span><span class="o">=</span><span class="p">[</span><span class="s1">&#39;Date&#39;</span><span class="p">])</span>


<span class="c1">#%%</span>

<span class="c1">#Factor 4 - taking the average of all different bonds as one factor</span>


<span class="n">remoteFile</span> <span class="o">=</span> <span class="n">url</span><span class="o">.</span><span class="n">urlopen</span><span class="p">(</span><span class="n">factor4url</span><span class="p">)</span>
<span class="n">html</span> <span class="o">=</span> <span class="n">remoteFile</span><span class="o">.</span><span class="n">read</span><span class="p">()</span><span class="o">.</span><span class="n">decode</span><span class="p">(</span><span class="s1">&#39;ascii&#39;</span><span class="p">)</span><span class="o">.</span><span class="n">splitlines</span><span class="p">()</span>
<span class="n">b</span> <span class="o">=</span> <span class="n">pd</span><span class="o">.</span><span class="n">DataFrame</span><span class="p">(</span><span class="n">data</span><span class="o">=</span><span class="n">html</span><span class="p">)</span>
<span class="n">b</span> <span class="o">=</span> <span class="n">b</span><span class="p">[</span><span class="mi">0</span><span class="p">]</span><span class="o">.</span><span class="n">str</span><span class="o">.</span><span class="n">split</span><span class="p">(</span><span class="s2">&quot;,&quot;</span><span class="p">,</span> <span class="n">expand</span> <span class="o">=</span> <span class="kc">True</span><span class="p">)</span>
<span class="n">b</span><span class="o">.</span><span class="n">columns</span> <span class="o">=</span> <span class="n">b</span><span class="o">.</span><span class="n">iloc</span><span class="p">[</span><span class="mi">0</span><span class="p">]</span>
<span class="n">b</span> <span class="o">=</span> <span class="n">b</span><span class="p">[</span><span class="mi">1</span><span class="p">:]</span>
<span class="n">factor4</span> <span class="o">=</span> <span class="n">b</span><span class="p">[</span><span class="n">b</span><span class="p">[</span><span class="s1">&#39;Date&#39;</span><span class="p">]</span> <span class="o">&gt;=</span> <span class="s1">&#39;2007-12-26&#39;</span><span class="p">]</span>
<span class="n">factor4</span><span class="p">[</span><span class="s1">&#39;average&#39;</span><span class="p">]</span> <span class="o">=</span> <span class="n">factor4</span><span class="p">[[</span><span class="s1">&#39;1 MO&#39;</span><span class="p">,</span> <span class="s1">&#39;3 MO&#39;</span><span class="p">,</span> <span class="s1">&#39;6 MO&#39;</span><span class="p">,</span> <span class="s1">&#39;1 YR&#39;</span><span class="p">,</span> <span class="s1">&#39;2 YR&#39;</span><span class="p">,</span> <span class="s1">&#39;3 YR&#39;</span><span class="p">,</span> <span class="s1">&#39;5 YR&#39;</span><span class="p">,</span>
       <span class="s1">&#39;7 YR&#39;</span><span class="p">,</span> <span class="s1">&#39;10 YR&#39;</span><span class="p">]]</span><span class="o">.</span><span class="n">apply</span><span class="p">(</span><span class="n">pd</span><span class="o">.</span><span class="n">to_numeric</span><span class="p">)</span><span class="o">.</span><span class="n">mean</span><span class="p">(</span><span class="n">axis</span><span class="o">=</span><span class="mi">1</span><span class="p">)</span>
<span class="n">factor4</span><span class="o">.</span><span class="n">rename</span><span class="p">(</span><span class="n">columns</span><span class="o">=</span><span class="p">{</span><span class="s1">&#39;average&#39;</span><span class="p">:</span> <span class="s1">&#39;Factor 4&#39;</span><span class="p">},</span> <span class="n">inplace</span><span class="o">=</span><span class="kc">True</span><span class="p">)</span> 
<span class="n">factor4</span><span class="p">[</span><span class="s1">&#39;Date&#39;</span><span class="p">]</span> <span class="o">=</span> <span class="n">pd</span><span class="o">.</span><span class="n">to_datetime</span><span class="p">(</span><span class="n">factor4</span><span class="o">.</span><span class="n">Date</span><span class="p">)</span>
<span class="n">factor4</span><span class="p">[</span><span class="s1">&#39;Date&#39;</span><span class="p">]</span> <span class="o">=</span> <span class="n">factor4</span><span class="p">[</span><span class="s1">&#39;Date&#39;</span><span class="p">]</span><span class="o">.</span><span class="n">dt</span><span class="o">.</span><span class="n">date</span>
<span class="n">factor4</span>  <span class="o">=</span> <span class="n">factor4</span><span class="p">[[</span><span class="s1">&#39;Date&#39;</span><span class="p">,</span><span class="s1">&#39;Factor 4&#39;</span><span class="p">]]</span>



<span class="n">merged_1_2_3_4</span> <span class="o">=</span> <span class="n">pd</span><span class="o">.</span><span class="n">merge</span><span class="p">(</span><span class="n">merged_1_2_3</span><span class="p">,</span> <span class="n">factor4</span><span class="p">,</span> <span class="n">how</span><span class="o">=</span><span class="s1">&#39;left&#39;</span><span class="p">,</span> <span class="n">on</span><span class="o">=</span><span class="p">[</span><span class="s1">&#39;Date&#39;</span><span class="p">])</span>
</pre></div>

</div>
</div>
</div>

</div>
<div class="cell border-box-sizing text_cell rendered"><div class="prompt input_prompt">
</div>
<div class="inner_cell">
<div class="text_cell_render border-box-sizing rendered_html">
<h2 id="Now-we-have-combined-all-4-factors,-but-we-still-have-weekends-and-holidays-in-there.-First-we-want-to-remove-weekends:">Now we have combined all 4 factors, but we still have weekends and holidays in there. First we want to remove weekends:<a class="anchor-link" href="#Now-we-have-combined-all-4-factors,-but-we-still-have-weekends-and-holidays-in-there.-First-we-want-to-remove-weekends:">&#182;</a></h2>
</div>
</div>
</div>
<div class="cell border-box-sizing code_cell rendered">
<div class="input">
<div class="prompt input_prompt">In&nbsp;[17]:</div>
<div class="inner_cell">
    <div class="input_area">
<div class=" highlight hl-ipython3"><pre><span></span><span class="n">merged_1_2_3_4</span> <span class="o">=</span> <span class="n">merged_1_2_3_4</span><span class="p">[</span><span class="n">merged_1_2_3_4</span><span class="p">[</span><span class="s1">&#39;Weekend&#39;</span><span class="p">]</span> <span class="o">!=</span> <span class="mi">1</span><span class="p">]</span>
</pre></div>

</div>
</div>
</div>

</div>
<div class="cell border-box-sizing text_cell rendered"><div class="prompt input_prompt">
</div>
<div class="inner_cell">
<div class="text_cell_render border-box-sizing rendered_html">
<h2 id="As-we-noticed-that-different-factors-had-different-missing-dates-(holidays-etc),-we-cannot-generalize-this.-We-fill-missing-values-with-the-previous-day-/-last-&quot;non-nan&quot;-day">As we noticed that different factors had different missing dates (holidays etc), we cannot generalize this. We fill missing values with the previous day / last "non-nan" day<a class="anchor-link" href="#As-we-noticed-that-different-factors-had-different-missing-dates-(holidays-etc),-we-cannot-generalize-this.-We-fill-missing-values-with-the-previous-day-/-last-&quot;non-nan&quot;-day">&#182;</a></h2>
</div>
</div>
</div>
<div class="cell border-box-sizing code_cell rendered">
<div class="input">
<div class="prompt input_prompt">In&nbsp;[18]:</div>
<div class="inner_cell">
    <div class="input_area">
<div class=" highlight hl-ipython3"><pre><span></span><span class="n">merged_1_2_3_4</span> <span class="o">=</span> <span class="n">merged_1_2_3_4</span><span class="o">.</span><span class="n">fillna</span><span class="p">(</span><span class="n">method</span><span class="o">=</span><span class="s1">&#39;ffill&#39;</span><span class="p">)</span>
</pre></div>

</div>
</div>
</div>

</div>
<div class="cell border-box-sizing text_cell rendered"><div class="prompt input_prompt">
</div>
<div class="inner_cell">
<div class="text_cell_render border-box-sizing rendered_html">
<h2 id="Next-step-is-to-convert-factors-to-returns:">Next step is to convert factors to returns:<a class="anchor-link" href="#Next-step-is-to-convert-factors-to-returns:">&#182;</a></h2>
</div>
</div>
</div>
<div class="cell border-box-sizing code_cell rendered">
<div class="input">
<div class="prompt input_prompt">In&nbsp;[21]:</div>
<div class="inner_cell">
    <div class="input_area">
<div class=" highlight hl-ipython3"><pre><span></span><span class="c1">#Adding Factors with square and root</span>

<span class="n">X</span><span class="o">=</span> <span class="n">merged_1_2_3_4</span>

<span class="n">X</span><span class="p">[</span><span class="s1">&#39;Factor 1&#39;</span><span class="p">]</span><span class="o">=</span> <span class="n">pd</span><span class="o">.</span><span class="n">to_numeric</span><span class="p">(</span><span class="n">X</span><span class="p">[</span><span class="s1">&#39;Factor 1&#39;</span><span class="p">])</span>
<span class="n">X</span><span class="p">[</span><span class="s1">&#39;Factor 2&#39;</span><span class="p">]</span><span class="o">=</span> <span class="n">pd</span><span class="o">.</span><span class="n">to_numeric</span><span class="p">(</span><span class="n">X</span><span class="p">[</span><span class="s1">&#39;Factor 2&#39;</span><span class="p">])</span>
<span class="n">X</span><span class="p">[</span><span class="s1">&#39;Factor 3&#39;</span><span class="p">]</span><span class="o">=</span> <span class="n">pd</span><span class="o">.</span><span class="n">to_numeric</span><span class="p">(</span><span class="n">X</span><span class="p">[</span><span class="s1">&#39;Factor 3&#39;</span><span class="p">])</span>
<span class="n">X</span><span class="p">[</span><span class="s1">&#39;Factor 4&#39;</span><span class="p">]</span><span class="o">=</span> <span class="n">pd</span><span class="o">.</span><span class="n">to_numeric</span><span class="p">(</span><span class="n">X</span><span class="p">[</span><span class="s1">&#39;Factor 4&#39;</span><span class="p">])</span>


<span class="c1">#%% Codes to calculate returns from prices </span>

<span class="n">returns_factors</span> <span class="o">=</span> <span class="n">X</span><span class="o">.</span><span class="n">reset_index</span><span class="p">()</span>
<span class="n">returns_factors</span> <span class="o">=</span> <span class="n">returns_factors</span><span class="p">[[</span><span class="s1">&#39;Date&#39;</span><span class="p">,</span> <span class="s1">&#39;Factor 1&#39;</span><span class="p">,</span> <span class="s1">&#39;Factor 2&#39;</span><span class="p">,</span> <span class="s1">&#39;Factor 3&#39;</span><span class="p">,</span> <span class="s1">&#39;Factor 4&#39;</span><span class="p">]]</span>



<span class="k">for</span> <span class="n">index</span><span class="p">,</span> <span class="n">row</span> <span class="ow">in</span> <span class="n">returns_factors</span><span class="o">.</span><span class="n">iterrows</span><span class="p">():</span>
        <span class="k">if</span> <span class="n">index</span> <span class="o">&lt;</span> <span class="mi">5</span><span class="p">:</span>
            <span class="k">continue</span>
        <span class="k">else</span><span class="p">:</span>    
            <span class="n">returns_factors</span><span class="o">.</span><span class="n">loc</span><span class="p">[</span><span class="n">index</span><span class="p">,</span> <span class="s1">&#39;Return1&#39;</span><span class="p">]</span> <span class="o">=</span> <span class="p">(</span><span class="n">returns_factors</span><span class="o">.</span><span class="n">loc</span><span class="p">[</span><span class="n">index</span><span class="p">,</span> <span class="s1">&#39;Factor 1&#39;</span><span class="p">]</span> <span class="o">-</span> <span class="n">returns_factors</span><span class="o">.</span><span class="n">loc</span><span class="p">[</span><span class="n">index</span><span class="o">-</span><span class="mi">5</span><span class="p">,</span> <span class="s1">&#39;Factor 1&#39;</span><span class="p">])</span> <span class="o">/</span> <span class="n">returns_factors</span><span class="o">.</span><span class="n">loc</span><span class="p">[</span><span class="n">index</span><span class="o">-</span><span class="mi">5</span><span class="p">,</span> <span class="s1">&#39;Factor 1&#39;</span><span class="p">]</span>
<span class="k">for</span> <span class="n">index</span><span class="p">,</span> <span class="n">row</span> <span class="ow">in</span> <span class="n">returns_factors</span><span class="o">.</span><span class="n">iterrows</span><span class="p">():</span>
        <span class="k">if</span> <span class="n">index</span> <span class="o">&lt;</span> <span class="mi">5</span><span class="p">:</span>
            <span class="k">continue</span>
        <span class="k">else</span><span class="p">:</span>    
            <span class="n">returns_factors</span><span class="o">.</span><span class="n">loc</span><span class="p">[</span><span class="n">index</span><span class="p">,</span> <span class="s1">&#39;Return2&#39;</span><span class="p">]</span> <span class="o">=</span> <span class="p">(</span><span class="n">returns_factors</span><span class="o">.</span><span class="n">loc</span><span class="p">[</span><span class="n">index</span><span class="p">,</span> <span class="s1">&#39;Factor 2&#39;</span><span class="p">]</span> <span class="o">-</span> <span class="n">returns_factors</span><span class="o">.</span><span class="n">loc</span><span class="p">[</span><span class="n">index</span><span class="o">-</span><span class="mi">5</span><span class="p">,</span> <span class="s1">&#39;Factor 2&#39;</span><span class="p">])</span> <span class="o">/</span> <span class="n">returns_factors</span><span class="o">.</span><span class="n">loc</span><span class="p">[</span><span class="n">index</span><span class="o">-</span><span class="mi">5</span><span class="p">,</span> <span class="s1">&#39;Factor 2&#39;</span><span class="p">]</span>

<span class="k">for</span> <span class="n">index</span><span class="p">,</span> <span class="n">row</span> <span class="ow">in</span> <span class="n">returns_factors</span><span class="o">.</span><span class="n">iterrows</span><span class="p">():</span>
        <span class="k">if</span> <span class="n">index</span> <span class="o">&lt;</span> <span class="mi">5</span><span class="p">:</span>
            <span class="k">continue</span>
        <span class="k">else</span><span class="p">:</span>    
            <span class="n">returns_factors</span><span class="o">.</span><span class="n">loc</span><span class="p">[</span><span class="n">index</span><span class="p">,</span> <span class="s1">&#39;Return3&#39;</span><span class="p">]</span> <span class="o">=</span> <span class="p">(</span><span class="n">returns_factors</span><span class="o">.</span><span class="n">loc</span><span class="p">[</span><span class="n">index</span><span class="p">,</span> <span class="s1">&#39;Factor 3&#39;</span><span class="p">]</span> <span class="o">-</span> <span class="n">returns_factors</span><span class="o">.</span><span class="n">loc</span><span class="p">[</span><span class="n">index</span><span class="o">-</span><span class="mi">5</span><span class="p">,</span> <span class="s1">&#39;Factor 3&#39;</span><span class="p">])</span> <span class="o">/</span> <span class="n">returns_factors</span><span class="o">.</span><span class="n">loc</span><span class="p">[</span><span class="n">index</span><span class="o">-</span><span class="mi">5</span><span class="p">,</span> <span class="s1">&#39;Factor 3&#39;</span><span class="p">]</span>

<span class="k">for</span> <span class="n">index</span><span class="p">,</span> <span class="n">row</span> <span class="ow">in</span> <span class="n">returns_factors</span><span class="o">.</span><span class="n">iterrows</span><span class="p">():</span>
        <span class="k">if</span> <span class="n">index</span> <span class="o">&lt;</span> <span class="mi">5</span><span class="p">:</span>
            <span class="k">continue</span>
        <span class="k">else</span><span class="p">:</span>    
            <span class="n">returns_factors</span><span class="o">.</span><span class="n">loc</span><span class="p">[</span><span class="n">index</span><span class="p">,</span> <span class="s1">&#39;Return4&#39;</span><span class="p">]</span> <span class="o">=</span> <span class="p">(</span><span class="n">returns_factors</span><span class="o">.</span><span class="n">loc</span><span class="p">[</span><span class="n">index</span><span class="p">,</span> <span class="s1">&#39;Factor 4&#39;</span><span class="p">]</span> <span class="o">-</span> <span class="n">returns_factors</span><span class="o">.</span><span class="n">loc</span><span class="p">[</span><span class="n">index</span><span class="o">-</span><span class="mi">5</span><span class="p">,</span> <span class="s1">&#39;Factor 4&#39;</span><span class="p">])</span> <span class="o">/</span> <span class="n">returns_factors</span><span class="o">.</span><span class="n">loc</span><span class="p">[</span><span class="n">index</span><span class="o">-</span><span class="mi">5</span><span class="p">,</span> <span class="s1">&#39;Factor 4&#39;</span><span class="p">]</span>


<span class="c1">#%%</span>
            
<span class="n">returns_factors</span> <span class="o">=</span> <span class="n">returns_factors</span><span class="o">.</span><span class="n">dropna</span><span class="p">()</span><span class="o">.</span><span class="n">reset_index</span><span class="p">()</span>
<span class="n">final_factors</span> <span class="o">=</span>   <span class="n">returns_factors</span><span class="p">[[</span><span class="s1">&#39;Date&#39;</span><span class="p">,</span><span class="s1">&#39;Return1&#39;</span><span class="p">,</span><span class="s1">&#39;Return2&#39;</span><span class="p">,</span><span class="s1">&#39;Return3&#39;</span><span class="p">,</span><span class="s1">&#39;Return4&#39;</span><span class="p">]]</span>
</pre></div>

</div>
</div>
</div>

</div>
<div class="cell border-box-sizing text_cell rendered"><div class="prompt input_prompt">
</div>
<div class="inner_cell">
<div class="text_cell_render border-box-sizing rendered_html">
<h1 id="Checking-with-Shapiro-Test-&amp;-KDE-that-Returns-of-Factors-are-normally-distributed">Checking with Shapiro Test &amp; KDE that Returns of Factors are normally distributed<a class="anchor-link" href="#Checking-with-Shapiro-Test-&amp;-KDE-that-Returns-of-Factors-are-normally-distributed">&#182;</a></h1><p>We used Shapiro-Wilk test to prove normality of distribution. The Shapiro-Wilk tests if a random sample came from a normal distribution. The null hypothesis of the test is the data is normally distributed. If the p value returned is less than.05, then the null hypothesis is rejected and there is evidence that the data is not from a normally distributed population.</p>
<p>However, It is completely possible that for p &gt; 0.05 and the data does not come from a normal population. Failure to reject could be from the sample size being too small to detect the non-normality. So, keep this in mind when interpreting the results.
As well the stats.shapiro method will throw a warning on samples for size &gt; 5000. So, for data sets larger than that you might want to choose another test for normality. But our data sample for each factor was just under 5000 so suitable for the test. We backed it up by using histogram for visualisation.</p>

</div>
</div>
</div>
<div class="cell border-box-sizing code_cell rendered">
<div class="input">
<div class="prompt input_prompt">In&nbsp;[52]:</div>
<div class="inner_cell">
    <div class="input_area">
<div class=" highlight hl-ipython3"><pre><span></span><span class="c1">#%% Preparing returns dataframe for the distribution test</span>
<span class="n">Returnsfactor1</span> <span class="o">=</span> <span class="n">final_factors</span><span class="p">[</span><span class="s1">&#39;Return1&#39;</span><span class="p">]</span>
<span class="n">Returnsfactor2</span> <span class="o">=</span> <span class="n">final_factors</span><span class="p">[</span><span class="s1">&#39;Return2&#39;</span><span class="p">]</span>
<span class="n">Returnsfactor3</span> <span class="o">=</span> <span class="n">final_factors</span><span class="p">[</span><span class="s1">&#39;Return3&#39;</span><span class="p">]</span>
<span class="n">Returnsfactor4</span> <span class="o">=</span> <span class="n">final_factors</span><span class="p">[</span><span class="s1">&#39;Return4&#39;</span><span class="p">]</span>

<span class="c1">#%% Proving that the each factor returns are normally distributed via Shapiro test</span>


<span class="kn">from</span> <span class="nn">scipy</span> <span class="k">import</span> <span class="n">stats</span>
<span class="kn">import</span> <span class="nn">matplotlib.pyplot</span> <span class="k">as</span> <span class="nn">plt</span>

<span class="n">Shapirotest1</span><span class="o">=</span> <span class="p">(</span><span class="n">stats</span><span class="o">.</span><span class="n">shapiro</span> <span class="p">(</span><span class="n">Returnsfactor1</span><span class="p">))</span>
<span class="nb">print</span> <span class="p">(</span><span class="n">Shapirotest1</span><span class="p">[</span><span class="mi">0</span><span class="p">])</span>
<span class="nb">print</span> <span class="p">(</span><span class="s2">&quot;this is W static&quot;</span><span class="p">)</span>
<span class="nb">print</span> <span class="p">(</span><span class="n">Shapirotest1</span><span class="p">[</span><span class="mi">1</span><span class="p">])</span>
<span class="nb">print</span> <span class="p">(</span><span class="s2">&quot;this is p value&quot;</span><span class="p">)</span>

<span class="n">Shapirotest2</span><span class="o">=</span> <span class="p">(</span><span class="n">stats</span><span class="o">.</span><span class="n">shapiro</span> <span class="p">(</span><span class="n">Returnsfactor2</span><span class="p">))</span>
<span class="nb">print</span> <span class="p">(</span><span class="n">Shapirotest2</span><span class="p">[</span><span class="mi">0</span><span class="p">])</span>
<span class="nb">print</span> <span class="p">(</span><span class="s2">&quot;this is W static&quot;</span><span class="p">)</span>
<span class="nb">print</span> <span class="p">(</span><span class="n">Shapirotest2</span><span class="p">[</span><span class="mi">1</span><span class="p">])</span>
<span class="nb">print</span> <span class="p">(</span><span class="s2">&quot;this is p value&quot;</span><span class="p">)</span>

<span class="n">Shapirotest3</span><span class="o">=</span> <span class="p">(</span><span class="n">stats</span><span class="o">.</span><span class="n">shapiro</span> <span class="p">(</span><span class="n">Returnsfactor3</span><span class="p">))</span>
<span class="nb">print</span> <span class="p">(</span><span class="n">Shapirotest3</span><span class="p">[</span><span class="mi">0</span><span class="p">])</span>
<span class="nb">print</span> <span class="p">(</span><span class="s2">&quot;this is W static&quot;</span><span class="p">)</span>
<span class="nb">print</span> <span class="p">(</span><span class="n">Shapirotest3</span><span class="p">[</span><span class="mi">1</span><span class="p">])</span>
<span class="nb">print</span> <span class="p">(</span><span class="s2">&quot;this is p value&quot;</span><span class="p">)</span>

<span class="n">Shapirotest4</span><span class="o">=</span> <span class="p">(</span><span class="n">stats</span><span class="o">.</span><span class="n">shapiro</span> <span class="p">(</span><span class="n">Returnsfactor4</span><span class="p">))</span>
<span class="nb">print</span> <span class="p">(</span><span class="n">Shapirotest4</span><span class="p">[</span><span class="mi">0</span><span class="p">])</span>
<span class="nb">print</span> <span class="p">(</span><span class="s2">&quot;this is W static&quot;</span><span class="p">)</span>
<span class="nb">print</span> <span class="p">(</span><span class="n">Shapirotest4</span><span class="p">[</span><span class="mi">1</span><span class="p">])</span>
<span class="nb">print</span> <span class="p">(</span><span class="s2">&quot;this is p value&quot;</span><span class="p">)</span>

<span class="n">histFact1</span> <span class="o">=</span> <span class="n">Returnsfactor1</span><span class="o">.</span><span class="n">hist</span><span class="p">(</span><span class="n">bins</span><span class="o">=</span><span class="mi">50</span><span class="p">)</span>
<span class="n">histFact2</span> <span class="o">=</span> <span class="n">Returnsfactor2</span><span class="o">.</span><span class="n">hist</span><span class="p">(</span><span class="n">bins</span><span class="o">=</span><span class="mi">50</span><span class="p">)</span>
<span class="n">histFact3</span> <span class="o">=</span> <span class="n">Returnsfactor3</span><span class="o">.</span><span class="n">hist</span><span class="p">(</span><span class="n">bins</span><span class="o">=</span><span class="mi">50</span><span class="p">)</span>
<span class="n">histFact4</span> <span class="o">=</span> <span class="n">Returnsfactor4</span><span class="o">.</span><span class="n">hist</span><span class="p">(</span><span class="n">bins</span><span class="o">=</span><span class="mi">50</span><span class="p">)</span> 

<span class="n">plt</span><span class="o">.</span><span class="n">title</span><span class="p">(</span><span class="s1">&#39;Histrogram for Distribution of Factors&#39;</span><span class="p">)</span>
<span class="n">plt</span><span class="o">.</span><span class="n">xlabel</span><span class="p">(</span><span class="s1">&#39;Returns&#39;</span><span class="p">)</span>
<span class="n">plt</span><span class="o">.</span><span class="n">ylabel</span><span class="p">(</span><span class="s1">&#39;Count&#39;</span><span class="p">)</span>
<span class="n">plt</span><span class="o">.</span><span class="n">show</span><span class="p">()</span>
</pre></div>

</div>
</div>
</div>

<div class="output_wrapper">
<div class="output">


<div class="output_area">

<div class="prompt"></div>


<div class="output_subarea output_stream output_stdout output_text">
<pre>0.9129024744033813
this is W static
6.784675743031638e-38
this is p value
0.8830986618995667
this is W static
2.888076134973448e-42
this is p value
0.9588468670845032
this is W static
6.990171881320708e-28
this is p value
0.9765915274620056
this is W static
2.0837953924562625e-21
this is p value
</pre>
</div>
</div>

<div class="output_area">

<div class="prompt"></div>




<div class="output_png output_subarea ">
<img src="data:image/png;base64,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
"
>
</div>

</div>

</div>
</div>

</div>
<div class="cell border-box-sizing text_cell rendered"><div class="prompt input_prompt">
</div>
<div class="inner_cell">
<div class="text_cell_render border-box-sizing rendered_html">
<p>We used Shapiro test to check normality of distribution of factor returns and histogram. However because of the high volatility of factors we should smoothen up the histogram using the Kernel density estimation (KDE) technique. To estimate the probability density at a given point, KDE evaluates the Probability distribution functions of all the normal distributions at that point and takes their average. Source of this approach: <a href="https://perso.telecom-paristech.fr/qleroy/aml/lab4.html">https://perso.telecom-paristech.fr/qleroy/aml/lab4.html</a></p>

</div>
</div>
</div>
<div class="cell border-box-sizing code_cell rendered">
<div class="input">
<div class="prompt input_prompt">In&nbsp;[51]:</div>
<div class="inner_cell">
    <div class="input_area">
<div class=" highlight hl-ipython3"><pre><span></span><span class="kn">from</span> <span class="nn">statsmodels.nonparametric.kernel_density</span> <span class="k">import</span> <span class="n">KDEMultivariate</span>
<span class="kn">from</span> <span class="nn">statsmodels.nonparametric.kde</span> <span class="k">import</span> <span class="n">KDEUnivariate</span>
<span class="kn">import</span> <span class="nn">matplotlib.pyplot</span> <span class="k">as</span> <span class="nn">plt</span>
<span class="kn">import</span> <span class="nn">scipy</span>

<span class="k">def</span> <span class="nf">plotDistribution</span><span class="p">(</span><span class="n">samples</span><span class="p">,</span> <span class="n">title</span><span class="p">,</span> <span class="n">numSamples</span><span class="o">=</span><span class="mi">100</span><span class="p">):</span>
    <span class="n">vmin</span> <span class="o">=</span> <span class="nb">min</span><span class="p">(</span><span class="n">samples</span><span class="p">)</span>
    <span class="n">vmax</span> <span class="o">=</span> <span class="nb">max</span><span class="p">(</span><span class="n">samples</span><span class="p">)</span>
    <span class="n">stddev</span> <span class="o">=</span> <span class="n">np</span><span class="o">.</span><span class="n">std</span><span class="p">(</span><span class="n">samples</span><span class="p">)</span>
    
    <span class="n">domain</span> <span class="o">=</span> <span class="n">np</span><span class="o">.</span><span class="n">arange</span><span class="p">(</span><span class="n">vmin</span><span class="p">,</span> <span class="n">vmax</span><span class="p">,</span> <span class="p">(</span><span class="n">vmax</span><span class="o">-</span><span class="n">vmin</span><span class="p">)</span><span class="o">/</span><span class="n">numSamples</span><span class="p">)</span>
    
    <span class="c1"># a simple heuristic to select bandwidth</span>
    <span class="n">bandwidth</span> <span class="o">=</span> <span class="mf">1.06</span> <span class="o">*</span> <span class="n">stddev</span> <span class="o">*</span> <span class="nb">pow</span><span class="p">(</span><span class="nb">len</span><span class="p">(</span><span class="n">samples</span><span class="p">),</span> <span class="o">-.</span><span class="mi">2</span><span class="p">)</span>
    
    <span class="c1"># estimate density</span>
    <span class="n">kde</span> <span class="o">=</span> <span class="n">KDEUnivariate</span><span class="p">(</span><span class="n">samples</span><span class="p">)</span>
    <span class="n">kde</span><span class="o">.</span><span class="n">fit</span><span class="p">(</span><span class="n">bw</span><span class="o">=</span><span class="n">bandwidth</span><span class="p">)</span>
    <span class="n">density</span> <span class="o">=</span> <span class="n">kde</span><span class="o">.</span><span class="n">evaluate</span><span class="p">(</span><span class="n">domain</span><span class="p">)</span>
    
    <span class="n">plt</span><span class="o">.</span><span class="n">plot</span><span class="p">(</span><span class="n">domain</span><span class="p">,</span> <span class="n">density</span><span class="p">)</span>
    <span class="n">plt</span><span class="o">.</span><span class="n">title</span><span class="p">(</span><span class="n">title</span><span class="p">)</span>
    <span class="n">plt</span><span class="o">.</span><span class="n">xlabel</span><span class="p">(</span><span class="s1">&#39;Returns&#39;</span><span class="p">)</span>
    <span class="n">plt</span><span class="o">.</span><span class="n">ylabel</span><span class="p">(</span><span class="s1">&#39;Count&#39;</span><span class="p">)</span>
    <span class="n">plt</span><span class="o">.</span><span class="n">show</span><span class="p">()</span>
    

<span class="n">plotDistribution</span><span class="p">(</span><span class="n">Returnsfactor1</span><span class="p">,</span><span class="s1">&#39;Distribution of Factor 1 Returns&#39;</span><span class="p">)</span>
<span class="n">plotDistribution</span><span class="p">(</span><span class="n">Returnsfactor2</span><span class="p">,</span><span class="s1">&#39;Distribution of Factor 2 Returns&#39;</span><span class="p">)</span>
<span class="n">plotDistribution</span><span class="p">(</span><span class="n">Returnsfactor3</span><span class="p">,</span><span class="s1">&#39;Distribution of Factor 3 Returns&#39;</span><span class="p">)</span>
<span class="n">plotDistribution</span><span class="p">(</span><span class="n">Returnsfactor4</span><span class="p">,</span><span class="s1">&#39;Distribution of Factor 4 Returns&#39;</span><span class="p">)</span>
</pre></div>

</div>
</div>
</div>

<div class="output_wrapper">
<div class="output">


<div class="output_area">

<div class="prompt"></div>




<div class="output_png output_subarea ">
<img src="data:image/png;base64,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
"
>
</div>

</div>

<div class="output_area">

<div class="prompt"></div>




<div class="output_png output_subarea ">
<img src="data:image/png;base64,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
"
>
</div>

</div>

<div class="output_area">

<div class="prompt"></div>




<div class="output_png output_subarea ">
<img src="data:image/png;base64,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
"
>
</div>

</div>

<div class="output_area">

<div class="prompt"></div>




<div class="output_png output_subarea ">
<img src="data:image/png;base64,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
"
>
</div>

</div>

</div>
</div>

</div>
<div class="cell border-box-sizing text_cell rendered"><div class="prompt input_prompt">
</div>
<div class="inner_cell">
<div class="text_cell_render border-box-sizing rendered_html">
<h2 id="Featurizing-Factors">Featurizing Factors<a class="anchor-link" href="#Featurizing-Factors">&#182;</a></h2>
</div>
</div>
</div>
<div class="cell border-box-sizing text_cell rendered"><div class="prompt input_prompt">
</div>
<div class="inner_cell">
<div class="text_cell_render border-box-sizing rendered_html">
<h2 id="We-make-sure-that-we-do-not-change-the-sign-of-the-returns-when-applying-modifications-like-squaring-or-squared-root">We make sure that we do not change the sign of the returns when applying modifications like squaring or squared root<a class="anchor-link" href="#We-make-sure-that-we-do-not-change-the-sign-of-the-returns-when-applying-modifications-like-squaring-or-squared-root">&#182;</a></h2>
</div>
</div>
</div>
<div class="cell border-box-sizing code_cell rendered">
<div class="input">
<div class="prompt input_prompt">In&nbsp;[25]:</div>
<div class="inner_cell">
    <div class="input_area">
<div class=" highlight hl-ipython3"><pre><span></span><span class="c1">#Featurizing Factors</span>

<span class="n">featurized</span> <span class="o">=</span> <span class="n">final_factors</span><span class="o">.</span><span class="n">copy</span><span class="p">()</span>

<span class="n">featurized</span><span class="p">[</span><span class="s1">&#39;Factor 1 S&#39;</span><span class="p">]</span> <span class="o">=</span> <span class="n">featurized</span><span class="p">[</span><span class="s1">&#39;Return1&#39;</span><span class="p">]</span><span class="o">.</span><span class="n">apply</span><span class="p">(</span><span class="k">lambda</span> <span class="n">x</span><span class="p">:</span> <span class="o">-</span><span class="p">(</span><span class="n">x</span><span class="o">**</span><span class="mi">2</span><span class="p">)</span> <span class="k">if</span> <span class="p">(</span><span class="n">x</span> <span class="o">&lt;</span> <span class="mi">0</span><span class="p">)</span> <span class="k">else</span> <span class="n">x</span><span class="o">**</span><span class="mi">2</span><span class="p">)</span>

<span class="n">featurized</span><span class="p">[</span><span class="s1">&#39;Factor 2 S&#39;</span><span class="p">]</span> <span class="o">=</span> <span class="n">featurized</span><span class="p">[</span><span class="s1">&#39;Return2&#39;</span><span class="p">]</span><span class="o">.</span><span class="n">apply</span><span class="p">(</span><span class="k">lambda</span> <span class="n">x</span><span class="p">:</span> <span class="o">-</span><span class="p">(</span><span class="n">x</span><span class="o">**</span><span class="mi">2</span><span class="p">)</span> <span class="k">if</span> <span class="p">(</span><span class="n">x</span> <span class="o">&lt;</span> <span class="mi">0</span><span class="p">)</span><span class="k">else</span> <span class="n">x</span><span class="o">**</span><span class="mi">2</span><span class="p">)</span>

<span class="n">featurized</span><span class="p">[</span><span class="s1">&#39;Factor 3 S&#39;</span><span class="p">]</span> <span class="o">=</span> <span class="n">featurized</span><span class="p">[</span><span class="s1">&#39;Return3&#39;</span><span class="p">]</span><span class="o">.</span><span class="n">apply</span><span class="p">(</span><span class="k">lambda</span> <span class="n">x</span><span class="p">:</span> <span class="o">-</span><span class="p">(</span><span class="n">x</span><span class="o">**</span><span class="mi">2</span><span class="p">)</span> <span class="k">if</span> <span class="p">(</span><span class="n">x</span> <span class="o">&lt;</span> <span class="mi">0</span><span class="p">)</span> <span class="k">else</span> <span class="n">x</span><span class="o">**</span><span class="mi">2</span><span class="p">)</span>

<span class="n">featurized</span><span class="p">[</span><span class="s1">&#39;Factor 4 S&#39;</span><span class="p">]</span> <span class="o">=</span> <span class="n">featurized</span><span class="p">[</span><span class="s1">&#39;Return4&#39;</span><span class="p">]</span><span class="o">.</span><span class="n">apply</span><span class="p">(</span><span class="k">lambda</span> <span class="n">x</span><span class="p">:</span> <span class="o">-</span><span class="p">(</span><span class="n">x</span><span class="o">**</span><span class="mi">2</span><span class="p">)</span> <span class="k">if</span> <span class="p">(</span><span class="n">x</span> <span class="o">&lt;</span> <span class="mi">0</span><span class="p">)</span> <span class="k">else</span> <span class="n">x</span><span class="o">**</span><span class="mi">2</span><span class="p">)</span>

<span class="n">featurized</span><span class="p">[</span><span class="s1">&#39;Factor 1 R&#39;</span><span class="p">]</span> <span class="o">=</span> <span class="n">featurized</span><span class="p">[</span><span class="s1">&#39;Return1&#39;</span><span class="p">]</span><span class="o">.</span><span class="n">apply</span><span class="p">(</span><span class="k">lambda</span> <span class="n">x</span><span class="p">:</span> <span class="o">-</span><span class="p">(</span><span class="nb">abs</span><span class="p">(</span><span class="n">x</span><span class="p">)</span><span class="o">**</span> <span class="p">(</span><span class="mi">1</span><span class="o">/</span><span class="mi">2</span><span class="p">))</span> <span class="k">if</span> <span class="p">(</span><span class="n">x</span> <span class="o">&lt;</span> <span class="mi">0</span><span class="p">)</span> <span class="k">else</span> <span class="n">x</span><span class="o">**</span> <span class="p">(</span><span class="mi">1</span><span class="o">/</span><span class="mi">2</span><span class="p">))</span>

<span class="n">featurized</span><span class="p">[</span><span class="s1">&#39;Factor 2 R&#39;</span><span class="p">]</span> <span class="o">=</span> <span class="n">featurized</span><span class="p">[</span><span class="s1">&#39;Return2&#39;</span><span class="p">]</span><span class="o">.</span><span class="n">apply</span><span class="p">(</span><span class="k">lambda</span> <span class="n">x</span><span class="p">:</span> <span class="o">-</span><span class="p">(</span><span class="nb">abs</span><span class="p">(</span><span class="n">x</span><span class="p">)</span><span class="o">**</span> <span class="p">(</span><span class="mi">1</span><span class="o">/</span><span class="mi">2</span><span class="p">))</span> <span class="k">if</span> <span class="p">(</span><span class="n">x</span> <span class="o">&lt;</span> <span class="mi">0</span><span class="p">)</span> <span class="k">else</span> <span class="n">x</span><span class="o">**</span> <span class="p">(</span><span class="mi">1</span><span class="o">/</span><span class="mi">2</span><span class="p">))</span>

<span class="n">featurized</span><span class="p">[</span><span class="s1">&#39;Factor 3 R&#39;</span><span class="p">]</span> <span class="o">=</span> <span class="n">featurized</span><span class="p">[</span><span class="s1">&#39;Return3&#39;</span><span class="p">]</span><span class="o">.</span><span class="n">apply</span><span class="p">(</span><span class="k">lambda</span> <span class="n">x</span><span class="p">:</span> <span class="o">-</span><span class="p">(</span><span class="nb">abs</span><span class="p">(</span><span class="n">x</span><span class="p">)</span><span class="o">**</span> <span class="p">(</span><span class="mi">1</span><span class="o">/</span><span class="mi">2</span><span class="p">))</span> <span class="k">if</span> <span class="p">(</span><span class="n">x</span> <span class="o">&lt;</span> <span class="mi">0</span><span class="p">)</span> <span class="k">else</span> <span class="n">x</span><span class="o">**</span> <span class="p">(</span><span class="mi">1</span><span class="o">/</span><span class="mi">2</span><span class="p">))</span>

<span class="n">featurized</span><span class="p">[</span><span class="s1">&#39;Factor 4 R&#39;</span><span class="p">]</span><span class="o">=</span> <span class="n">featurized</span><span class="p">[</span><span class="s1">&#39;Return4&#39;</span><span class="p">]</span><span class="o">.</span><span class="n">apply</span><span class="p">(</span><span class="k">lambda</span> <span class="n">x</span><span class="p">:</span> <span class="o">-</span><span class="p">(</span><span class="nb">abs</span><span class="p">(</span><span class="n">x</span><span class="p">)</span><span class="o">**</span> <span class="p">(</span><span class="mi">1</span><span class="o">/</span><span class="mi">2</span><span class="p">))</span> <span class="k">if</span> <span class="p">(</span><span class="n">x</span> <span class="o">&lt;</span> <span class="mi">0</span><span class="p">)</span> <span class="k">else</span> <span class="n">x</span><span class="o">**</span> <span class="p">(</span><span class="mi">1</span><span class="o">/</span><span class="mi">2</span><span class="p">))</span>



<span class="n">featurized</span><span class="p">[</span><span class="s1">&#39;Total1&#39;</span><span class="p">]</span> <span class="o">=</span> <span class="n">featurized</span><span class="p">[</span><span class="s1">&#39;Return1&#39;</span><span class="p">]</span><span class="o">+</span> <span class="n">featurized</span><span class="p">[</span><span class="s1">&#39;Factor 1 S&#39;</span><span class="p">]</span> <span class="o">+</span> <span class="n">featurized</span><span class="p">[</span><span class="s1">&#39;Factor 1 R&#39;</span><span class="p">]</span>
<span class="n">featurized</span><span class="p">[</span><span class="s1">&#39;Total2&#39;</span><span class="p">]</span><span class="o">=</span> <span class="n">featurized</span><span class="p">[</span><span class="s1">&#39;Return2&#39;</span><span class="p">]</span><span class="o">+</span> <span class="n">featurized</span><span class="p">[</span><span class="s1">&#39;Factor 2 S&#39;</span><span class="p">]</span> <span class="o">+</span> <span class="n">featurized</span><span class="p">[</span><span class="s1">&#39;Factor 2 R&#39;</span><span class="p">]</span>
<span class="n">featurized</span><span class="p">[</span><span class="s1">&#39;Total3&#39;</span><span class="p">]</span> <span class="o">=</span> <span class="n">featurized</span><span class="p">[</span><span class="s1">&#39;Return3&#39;</span><span class="p">]</span><span class="o">+</span> <span class="n">featurized</span><span class="p">[</span><span class="s1">&#39;Factor 3 S&#39;</span><span class="p">]</span> <span class="o">+</span> <span class="n">featurized</span><span class="p">[</span><span class="s1">&#39;Factor 3 R&#39;</span><span class="p">]</span>
<span class="n">featurized</span><span class="p">[</span><span class="s1">&#39;Total4&#39;</span><span class="p">]</span> <span class="o">=</span> <span class="n">featurized</span><span class="p">[</span><span class="s1">&#39;Return4&#39;</span><span class="p">]</span><span class="o">+</span> <span class="n">featurized</span><span class="p">[</span><span class="s1">&#39;Factor 4 S&#39;</span><span class="p">]</span> <span class="o">+</span> <span class="n">featurized</span><span class="p">[</span><span class="s1">&#39;Factor 4 R&#39;</span><span class="p">]</span>  


<span class="n">csv_factors</span> <span class="o">=</span> <span class="n">featurized</span><span class="p">[[</span><span class="s1">&#39;Date&#39;</span><span class="p">,</span><span class="s1">&#39;Total1&#39;</span><span class="p">,</span><span class="s1">&#39;Total2&#39;</span><span class="p">,</span><span class="s1">&#39;Total3&#39;</span><span class="p">,</span><span class="s1">&#39;Total4&#39;</span><span class="p">]]</span>

<span class="c1">#csv_factors.to_csv (r&#39;/Users/flo/Documents/GitHub/VaR-Calculation-SPARK/factors/factorfile.csv&#39;, index=False)</span>
</pre></div>

</div>
</div>
</div>

</div>
<div class="cell border-box-sizing text_cell rendered"><div class="prompt input_prompt">
</div>
<div class="inner_cell">
<div class="text_cell_render border-box-sizing rendered_html">
<p>Now we have featurized the factored to account for non-linear relationship. Whether or not the chosen approach with the root and the square. Simlar to the instruments we are also saving the factors as a local copy to access it for the next step.</p>

</div>
</div>
</div>
<div class="cell border-box-sizing text_cell rendered"><div class="prompt input_prompt">
</div>
<div class="inner_cell">
<div class="text_cell_render border-box-sizing rendered_html">
<h1 id="3.-MODEL">3. MODEL<a class="anchor-link" href="#3.-MODEL">&#182;</a></h1><p>No we can start with the modelling - As per instructions, we choose a simple linear model.
We first import the 2 datasets for factors &amp; instruments</p>

</div>
</div>
</div>
<div class="cell border-box-sizing code_cell rendered">
<div class="input">
<div class="prompt input_prompt">In&nbsp;[29]:</div>
<div class="inner_cell">
    <div class="input_area">
<div class=" highlight hl-ipython3"><pre><span></span><span class="kn">import</span> <span class="nn">pandas</span> <span class="k">as</span> <span class="nn">pd</span>
<span class="kn">from</span> <span class="nn">sklearn</span> <span class="k">import</span> <span class="n">linear_model</span>
<span class="kn">import</span> <span class="nn">numpy</span> <span class="k">as</span> <span class="nn">np</span>

<span class="n">factors</span> <span class="o">=</span> <span class="n">pd</span><span class="o">.</span><span class="n">read_csv</span><span class="p">(</span><span class="s1">&#39;/Users/flo/Documents/GitHub/VaR-Calculation-SPARK/factors/factorfile.csv&#39;</span><span class="p">)</span>
<span class="n">instruments</span> <span class="o">=</span> <span class="n">pd</span><span class="o">.</span><span class="n">read_csv</span><span class="p">(</span><span class="s1">&#39;/Users/flo/Documents/GitHub/VaR-Calculation-SPARK/instruments_returns.csv&#39;</span><span class="p">)</span>

<span class="n">covariance</span> <span class="o">=</span> <span class="n">factors</span><span class="o">.</span><span class="n">cov</span><span class="p">()</span>
<span class="n">mean</span> <span class="o">=</span> <span class="n">factors</span><span class="o">.</span><span class="n">mean</span><span class="p">()</span>

<span class="n">model</span> <span class="o">=</span> <span class="n">linear_model</span><span class="o">.</span><span class="n">LinearRegression</span><span class="p">()</span>
</pre></div>

</div>
</div>
</div>

</div>
<div class="cell border-box-sizing text_cell rendered"><div class="prompt input_prompt">
</div>
<div class="inner_cell">
<div class="text_cell_render border-box-sizing rendered_html">
<h2 id="Model-Fitting">Model Fitting<a class="anchor-link" href="#Model-Fitting">&#182;</a></h2><p>We took the following assumption from the instrucions: <br></p>
<p>The method is based in the assumption that we can estimate the return of the
portfolio as function of a set of market factors.
𝑟𝑖 = 𝑐𝑖 + ∑𝑤𝑖𝑗 ∗ 𝑓𝑗
Where r = returns and f = factor</p>
<p>In the following, we will use the sciKit learn model.fit function, fit a model on each instrument and generate a list that contains the respective weight and y intercepts. For visualization purposes, we will do this in "pure" python with the respective libraries - later one we will show the adapted approach fit for SPARK.</p>

</div>
</div>
</div>
<div class="cell border-box-sizing code_cell rendered">
<div class="input">
<div class="prompt input_prompt">In&nbsp;[30]:</div>
<div class="inner_cell">
    <div class="input_area">
<div class=" highlight hl-ipython3"><pre><span></span><span class="c1">#First, instead of just fitting the model we will extract the coefficients opf each linear model</span>


<span class="n">weights</span> <span class="o">=</span> <span class="p">[]</span>
<span class="n">intercepts</span> <span class="o">=</span> <span class="p">[]</span>

<span class="k">for</span> <span class="n">column</span> <span class="ow">in</span> <span class="n">instruments</span><span class="p">:</span>
    <span class="k">if</span> <span class="n">column</span> <span class="o">==</span> <span class="s1">&#39;Date&#39;</span><span class="p">:</span>
            <span class="k">continue</span>    
     <span class="c1">#We are doing another left join with the specific instrument data series and the factors, </span>
     <span class="c1">#in order to adjust the length of the factors date range to the speicific instrument</span>
    <span class="n">datarange</span> <span class="o">=</span> <span class="n">instruments</span><span class="p">[[</span><span class="s1">&#39;Date&#39;</span><span class="p">,</span><span class="n">column</span><span class="p">]]</span><span class="o">.</span><span class="n">dropna</span><span class="p">()</span><span class="o">.</span><span class="n">reset_index</span><span class="p">()</span>
    <span class="n">dataset</span> <span class="o">=</span>  <span class="n">pd</span><span class="o">.</span><span class="n">merge</span><span class="p">(</span><span class="n">datarange</span><span class="p">,</span> <span class="n">factors</span><span class="p">,</span> <span class="n">how</span><span class="o">=</span><span class="s1">&#39;inner&#39;</span><span class="p">,</span> <span class="n">on</span><span class="o">=</span><span class="p">[</span><span class="s1">&#39;Date&#39;</span><span class="p">])</span>
    <span class="n">X</span> <span class="o">=</span> <span class="n">dataset</span><span class="p">[[</span><span class="s1">&#39;Factor1&#39;</span><span class="p">,</span><span class="s1">&#39;Factor2&#39;</span><span class="p">,</span><span class="s1">&#39;Factor3&#39;</span><span class="p">,</span><span class="s1">&#39;Factor4&#39;</span><span class="p">]]</span>
    <span class="n">y</span> <span class="o">=</span> <span class="n">dataset</span><span class="p">[</span><span class="n">column</span><span class="p">]</span>    
        
    <span class="n">model</span><span class="o">.</span><span class="n">fit</span><span class="p">(</span><span class="n">X</span><span class="p">,</span><span class="n">y</span><span class="p">)</span>
    
    <span class="n">weights</span><span class="o">.</span><span class="n">append</span><span class="p">(</span><span class="n">model</span><span class="o">.</span><span class="n">coef_</span><span class="p">)</span>
    <span class="n">intercepts</span><span class="o">.</span><span class="n">append</span><span class="p">(</span><span class="n">model</span><span class="o">.</span><span class="n">intercept_</span><span class="p">)</span>
            
</pre></div>

</div>
</div>
</div>

</div>
<div class="cell border-box-sizing text_cell rendered"><div class="prompt input_prompt">
</div>
<div class="inner_cell">
<div class="text_cell_render border-box-sizing rendered_html">
<h2 id="We-now-have-a-list-of-arrays-with-the-respective-weights-for-the-4-factors-for-all-instruments-as-well-as-a-list-with-one-y-intercept-for-each-instrument">We now have a list of arrays with the respective weights for the 4 factors for all instruments as well as a list with one y-intercept for each instrument<a class="anchor-link" href="#We-now-have-a-list-of-arrays-with-the-respective-weights-for-the-4-factors-for-all-instruments-as-well-as-a-list-with-one-y-intercept-for-each-instrument">&#182;</a></h2>
</div>
</div>
</div>
<div class="cell border-box-sizing text_cell rendered"><div class="prompt input_prompt">
</div>
<div class="inner_cell">
<div class="text_cell_render border-box-sizing rendered_html">
<p>At this point, we want to briefly discuss the implication of our model fitting. While in the scope of this project we do not have to evaluate different models and the potential fit, we can make some statements about the general underlying assumptions. Right now, we are fitting a linear model for 30 + different instruments that we have received: We are working with the assumption that these instruments behave similar and underly the same external impact. 2nd, we also assume that the chosen time horizon is a good represenation of the stock behaviour in 2019: We would recommend analyzing the historical trend more and choose a shorter time horizon potentially. 3rd, we have 1000s of data points, but only 4 factors that we featurize - This is a very basic assumption and in real life, a stock behaviour would depend on many additional factors that we would need to include. Also, the factors are correlated (as shown below), hence the additional benefit of having these 4 is not as big as including another external factor that is not correlated to the 4 market factors</p>

</div>
</div>
</div>
<div class="cell border-box-sizing code_cell rendered">
<div class="input">
<div class="prompt input_prompt">In&nbsp;[31]:</div>
<div class="inner_cell">
    <div class="input_area">
<div class=" highlight hl-ipython3"><pre><span></span><span class="kn">import</span> <span class="nn">seaborn</span> <span class="k">as</span> <span class="nn">sns</span>


<span class="n">corrMatt</span> <span class="o">=</span> <span class="n">factors</span><span class="o">.</span><span class="n">corr</span><span class="p">()</span>
<span class="n">mask</span> <span class="o">=</span> <span class="n">np</span><span class="o">.</span><span class="n">array</span><span class="p">(</span><span class="n">corrMatt</span><span class="p">)</span>
<span class="n">mask</span><span class="p">[</span><span class="n">np</span><span class="o">.</span><span class="n">tril_indices_from</span><span class="p">(</span><span class="n">mask</span><span class="p">)]</span> <span class="o">=</span> <span class="kc">False</span>
<span class="n">fig</span><span class="p">,</span><span class="n">ax</span><span class="o">=</span> <span class="n">plt</span><span class="o">.</span><span class="n">subplots</span><span class="p">()</span>
<span class="n">fig</span><span class="o">.</span><span class="n">set_size_inches</span><span class="p">(</span><span class="mi">20</span><span class="p">,</span><span class="mi">10</span><span class="p">)</span>
<span class="n">sns</span><span class="o">.</span><span class="n">heatmap</span><span class="p">(</span><span class="n">corrMatt</span><span class="o">.</span><span class="n">round</span><span class="p">(</span><span class="mi">2</span><span class="p">),</span> <span class="n">mask</span><span class="o">=</span><span class="n">mask</span><span class="p">,</span><span class="n">vmax</span><span class="o">=.</span><span class="mi">8</span><span class="p">,</span> <span class="n">square</span><span class="o">=</span><span class="kc">True</span><span class="p">,</span><span class="n">annot</span><span class="o">=</span><span class="kc">True</span><span class="p">)</span>
</pre></div>

</div>
</div>
</div>

<div class="output_wrapper">
<div class="output">


<div class="output_area">

<div class="prompt output_prompt">Out[31]:</div>




<div class="output_text output_subarea output_execute_result">
<pre>&lt;matplotlib.axes._subplots.AxesSubplot at 0x1a1ac606d8&gt;</pre>
</div>

</div>

<div class="output_area">

<div class="prompt"></div>




<div class="output_png output_subarea ">
<img src="data:image/png;base64,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
"
>
</div>

</div>

</div>
</div>

</div>
<div class="cell border-box-sizing text_cell rendered"><div class="prompt input_prompt">
</div>
<div class="inner_cell">
<div class="text_cell_render border-box-sizing rendered_html">
<h2 id="We-will-use-the-same-approach-as-earlier-to-featurize-factors,-this-time-we-are-adding-it-to-a-function,-to-re-use-it-later">We will use the same approach as earlier to featurize factors, this time we are adding it to a function, to re-use it later<a class="anchor-link" href="#We-will-use-the-same-approach-as-earlier-to-featurize-factors,-this-time-we-are-adding-it-to-a-function,-to-re-use-it-later">&#182;</a></h2>
</div>
</div>
</div>
<div class="cell border-box-sizing code_cell rendered">
<div class="input">
<div class="prompt input_prompt">In&nbsp;[38]:</div>
<div class="inner_cell">
    <div class="input_area">
<div class=" highlight hl-ipython3"><pre><span></span><span class="k">def</span> <span class="nf">featurize</span><span class="p">(</span><span class="n">lst</span><span class="p">):</span>
    <span class="n">featurized</span> <span class="o">=</span> <span class="p">[]</span>
    <span class="k">for</span> <span class="n">x</span> <span class="ow">in</span> <span class="n">lst</span><span class="p">:</span>
        <span class="k">if</span>  <span class="n">x</span> <span class="o">&lt;</span> <span class="mi">0</span><span class="p">:</span>
            <span class="n">square</span> <span class="o">=</span> <span class="o">-</span><span class="p">(</span><span class="n">x</span><span class="o">**</span><span class="mi">2</span><span class="p">)</span>
            <span class="n">root</span> <span class="o">=</span> <span class="o">-</span><span class="p">(</span><span class="nb">abs</span><span class="p">(</span><span class="n">x</span><span class="p">)</span><span class="o">**</span> <span class="p">(</span><span class="mi">1</span><span class="o">/</span><span class="mi">2</span><span class="p">))</span>
        <span class="k">else</span><span class="p">:</span>
            <span class="n">square</span> <span class="o">=</span> <span class="n">x</span><span class="o">**</span><span class="mi">2</span>
            <span class="n">root</span> <span class="o">=</span> <span class="n">x</span><span class="o">**</span><span class="p">(</span><span class="mi">1</span><span class="o">/</span><span class="mi">2</span><span class="p">)</span> 
        <span class="n">featurized</span><span class="o">.</span><span class="n">append</span><span class="p">(</span><span class="n">x</span> <span class="o">+</span> <span class="n">square</span> <span class="o">+</span> <span class="n">root</span><span class="p">)</span>
    <span class="k">return</span> <span class="n">featurized</span>
</pre></div>

</div>
</div>
</div>

</div>
<div class="cell border-box-sizing text_cell rendered"><div class="prompt input_prompt">
</div>
<div class="inner_cell">
<div class="text_cell_render border-box-sizing rendered_html">
<h2 id="Next-Step:-Creating-a-function-to-generate-samples-for-function-in-a-loop-and-predict-returns-of-portfolio">Next Step: Creating a function to generate samples for function in a loop and predict returns of portfolio<a class="anchor-link" href="#Next-Step:-Creating-a-function-to-generate-samples-for-function-in-a-loop-and-predict-returns-of-portfolio">&#182;</a></h2><p>For a better understanding, approach is explained detailled, in-line, the general approach is as follows: <br>
1) Generate Samples <br>
2) Featurized Samples <br>
3) Multiply each entry in the weights list with the factors and sum them, then add the intercept to get the return <br>
4) Add the return of the instrument to the list for each portfolio and take the average - then add that value to the list of all portfolios</p>

</div>
</div>
</div>
<div class="cell border-box-sizing code_cell rendered">
<div class="input">
<div class="prompt input_prompt">In&nbsp;[57]:</div>
<div class="inner_cell">
    <div class="input_area">
<div class=" highlight hl-ipython3"><pre><span></span><span class="k">def</span> <span class="nf">simulate</span><span class="p">(</span><span class="n">runs</span><span class="p">,</span> <span class="n">weights</span><span class="p">,</span> <span class="n">intercepts</span><span class="p">):</span>
    <span class="c1">#The function takes 3 parameters, the number of runs that we want and the weights and intercepts that we generated above</span>
    <span class="n">returns</span> <span class="o">=</span> <span class="p">[]</span>
    <span class="k">for</span> <span class="n">i</span> <span class="ow">in</span> <span class="nb">range</span><span class="p">(</span><span class="n">runs</span><span class="p">):</span>
        <span class="c1"># We are generating sample values for our 4 factors based on mean and covariance of historical dataset</span>
        <span class="n">samples</span> <span class="o">=</span> <span class="n">np</span><span class="o">.</span><span class="n">random</span><span class="o">.</span><span class="n">multivariate_normal</span><span class="p">(</span><span class="n">mean</span><span class="p">,</span> <span class="n">covariance</span><span class="p">)</span>
        <span class="c1"># we can then call our featurize function from above:</span>
        <span class="n">featurized_factors</span> <span class="o">=</span> <span class="n">featurize</span><span class="p">(</span><span class="n">samples</span><span class="p">)</span>
        <span class="n">portfolio_return</span> <span class="o">=</span> <span class="mi">0</span>
        <span class="c1"># Now we need to caluclate the return of each instrument</span>
        <span class="c1">#We have 3 lists to work with, the list of featurized random factors, the lists within a list of weights and the list of intercepts:</span>
        <span class="k">for</span> <span class="n">index</span><span class="p">,</span> <span class="n">weightlst</span> <span class="ow">in</span> <span class="nb">enumerate</span><span class="p">(</span><span class="n">weights</span><span class="p">):</span>
            <span class="k">for</span> <span class="n">index2</span><span class="p">,</span> <span class="n">factor</span> <span class="ow">in</span> <span class="nb">enumerate</span><span class="p">(</span><span class="n">featurized_factors</span><span class="p">):</span>
                <span class="c1"># We multiply the respective factor with the respective weight and add the intercept for that instrument</span>
                <span class="n">inst_return</span> <span class="o">=</span> <span class="nb">sum</span><span class="p">([</span><span class="n">factor</span> <span class="o">*</span> <span class="n">weightlst</span><span class="p">[</span><span class="n">index2</span><span class="p">]])</span> <span class="o">+</span> <span class="n">intercepts</span><span class="p">[</span><span class="n">index</span><span class="p">]</span>
                <span class="n">portfolio_return</span> <span class="o">+=</span> <span class="n">inst_return</span>
        <span class="n">average</span> <span class="o">=</span> <span class="n">portfolio_return</span><span class="o">/</span><span class="nb">len</span><span class="p">(</span><span class="n">weights</span><span class="p">)</span>    
        <span class="n">returns</span><span class="o">.</span><span class="n">append</span><span class="p">(</span><span class="n">average</span><span class="p">)</span>  
    <span class="k">return</span> <span class="n">returns</span>
</pre></div>

</div>
</div>
</div>

</div>
<div class="cell border-box-sizing text_cell rendered"><div class="prompt input_prompt">
</div>
<div class="inner_cell">
<div class="text_cell_render border-box-sizing rendered_html">
<h1 id="We-return-a-list-that-now-contains-the-estimate-portfolio-return-for-each-run-where-we-generate-the-factors">We return a list that now contains the estimate portfolio return for each run where we generate the factors<a class="anchor-link" href="#We-return-a-list-that-now-contains-the-estimate-portfolio-return-for-each-run-where-we-generate-the-factors">&#182;</a></h1>
</div>
</div>
</div>
<div class="cell border-box-sizing code_cell rendered">
<div class="input">
<div class="prompt input_prompt">In&nbsp;[58]:</div>
<div class="inner_cell">
    <div class="input_area">
<div class=" highlight hl-ipython3"><pre><span></span><span class="n">predictions</span> <span class="o">=</span> <span class="n">simulate</span><span class="p">(</span><span class="mi">10000</span><span class="p">,</span><span class="n">weights</span><span class="p">,</span> <span class="n">intercepts</span><span class="p">)</span>

<span class="c1"># Now we can show, that the predictions follow a multivariate normal distribution:</span>

<span class="n">predictions_df</span> <span class="o">=</span> <span class="n">pd</span><span class="o">.</span><span class="n">DataFrame</span><span class="p">(</span><span class="n">data</span><span class="o">=</span><span class="n">predictions</span><span class="p">)</span>
<span class="n">predictions_df</span><span class="o">.</span><span class="n">hist</span><span class="p">(</span><span class="n">bins</span><span class="o">=</span><span class="mi">50</span><span class="p">)</span>
<span class="n">plt</span><span class="o">.</span><span class="n">title</span><span class="p">(</span><span class="s1">&#39;Distribution of Predictions&#39;</span><span class="p">)</span>
<span class="n">plt</span><span class="o">.</span><span class="n">xlabel</span><span class="p">(</span><span class="s1">&#39;Returns&#39;</span><span class="p">)</span>
<span class="n">plt</span><span class="o">.</span><span class="n">ylabel</span><span class="p">(</span><span class="s1">&#39;Count&#39;</span><span class="p">)</span>
</pre></div>

</div>
</div>
</div>

<div class="output_wrapper">
<div class="output">


<div class="output_area">

<div class="prompt output_prompt">Out[58]:</div>




<div class="output_text output_subarea output_execute_result">
<pre>Text(0,0.5,&#39;Count&#39;)</pre>
</div>

</div>

<div class="output_area">

<div class="prompt"></div>




<div class="output_png output_subarea ">
<img src="data:image/png;base64,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
"
>
</div>

</div>

</div>
</div>

</div>
<div class="cell border-box-sizing text_cell rendered"><div class="prompt input_prompt">
</div>
<div class="inner_cell">
<div class="text_cell_render border-box-sizing rendered_html">
<h1 id="Calculating-Value-at-Risk">Calculating Value at Risk<a class="anchor-link" href="#Calculating-Value-at-Risk">&#182;</a></h1><p>For the VAR calculation we apply the following steps: <br>
1) We sort the list of all returns first <br>
2) We slice the list at the 5th percentile from the bottom <br>
3) We take the max ("least negative") from that slice <br></p>

</div>
</div>
</div>
<div class="cell border-box-sizing code_cell rendered">
<div class="input">
<div class="prompt input_prompt">In&nbsp;[60]:</div>
<div class="inner_cell">
    <div class="input_area">
<div class=" highlight hl-ipython3"><pre><span></span><span class="c1"># And we can calculate the VAR</span>
<span class="n">predictions</span><span class="o">.</span><span class="n">sort</span><span class="p">()</span>
<span class="n">n</span> <span class="o">=</span> <span class="nb">len</span><span class="p">(</span><span class="n">predictions</span><span class="p">)</span><span class="o">*</span><span class="mf">0.05</span>
<span class="n">five_percent</span> <span class="o">=</span> <span class="n">predictions</span><span class="p">[:</span><span class="nb">int</span><span class="p">(</span><span class="n">n</span><span class="p">)]</span>


<span class="c1">#Result:</span>
<span class="n">var</span> <span class="o">=</span> <span class="nb">max</span><span class="p">(</span><span class="n">five_percent</span><span class="p">)</span>
<span class="nb">print</span><span class="p">(</span><span class="s1">&#39;VAR: &#39;</span> <span class="o">+</span> <span class="nb">str</span><span class="p">(</span><span class="n">var</span><span class="p">))</span>
</pre></div>

</div>
</div>
</div>

<div class="output_wrapper">
<div class="output">


<div class="output_area">

<div class="prompt"></div>


<div class="output_subarea output_stream output_stdout output_text">
<pre>VAR: -0.10825233763271283
</pre>
</div>
</div>

</div>
</div>

</div>
<div class="cell border-box-sizing text_cell rendered"><div class="prompt input_prompt">
</div>
<div class="inner_cell">
<div class="text_cell_render border-box-sizing rendered_html">
<p>As a result, we can see that we have calculated a VAR of -3.5% of Total Portfolio --&gt; The absolute Value depends on the size of our portfolio (number of instruments etc.)</p>

</div>
</div>
</div>
<div class="cell border-box-sizing text_cell rendered"><div class="prompt input_prompt">
</div>
<div class="inner_cell">
<div class="text_cell_render border-box-sizing rendered_html">
<h1 id="4.-Implementation-in-SPARK">4. Implementation in SPARK<a class="anchor-link" href="#4.-Implementation-in-SPARK">&#182;</a></h1>
</div>
</div>
</div>
<div class="cell border-box-sizing text_cell rendered"><div class="prompt input_prompt">
</div>
<div class="inner_cell">
<div class="text_cell_render border-box-sizing rendered_html">
<p>The approach above has been very much oriented at Python, using the Pandas libraries that we are familiar with and only after doing that we approached the next step: Parallizing this in Spark.</p>
<p>From our research, we could see three options to make our current computation of the trial runs work in Spark:</p>
<p>1) In general, Spark is parallelizing nativeley if the respective Spark libraries are used ---&gt; E.g by using Spark RDD Dataframes, Spark is automatically distributing the computation across the clusters. 
1) Using multithreading libraries
2) Using Pandas UDFs libraries to distribute Panda Dataframes</p>
<p>We decided to go for option one - which means converting our Pandas DF logic to Spark RDDs - Also, we need to use the SPARK ML linear model instead of the Scikit one.
<br>
The different Code Snippets below cannot be run in a normal Jupyter or Python environment - But have to be copied to a python file within a Spark environment that has the necessary packages installed.</p>

</div>
</div>
</div>
<div class="cell border-box-sizing text_cell rendered"><div class="prompt input_prompt">
</div>
<div class="inner_cell">
<div class="text_cell_render border-box-sizing rendered_html">
<h3 id="Step-1:-Initializing-Spark-Session">Step 1: Initializing Spark Session<a class="anchor-link" href="#Step-1:-Initializing-Spark-Session">&#182;</a></h3><p>We are runnning our file in the virtual environemnt that was provided to us. 
With "touch VAR.py" we created an empty python file and also pip installed Pandas in the VE (as we do need some functionalities)</p>

</div>
</div>
</div>
<div class="cell border-box-sizing code_cell rendered">
<div class="input">
<div class="prompt input_prompt">In&nbsp;[&nbsp;]:</div>
<div class="inner_cell">
    <div class="input_area">
<div class=" highlight hl-ipython3"><pre><span></span><span class="kn">import</span> <span class="nn">pyspark</span>
<span class="kn">from</span> <span class="nn">pyspark.context</span> <span class="k">import</span> <span class="n">SparkContext</span>
<span class="kn">from</span> <span class="nn">pyspark.sql.session</span> <span class="k">import</span> <span class="n">SparkSession</span>

<span class="kn">import</span> <span class="nn">pandas</span> <span class="k">as</span> <span class="nn">pd</span>
<span class="kn">import</span> <span class="nn">numpy</span> <span class="k">as</span> <span class="nn">np</span>
<span class="kn">from</span> <span class="nn">pyspark.ml.regression</span> <span class="k">import</span> <span class="n">LinearRegression</span>
<span class="kn">from</span> <span class="nn">pyspark</span> <span class="k">import</span> <span class="n">SparkConf</span><span class="p">,</span> <span class="n">SparkContext</span>
<span class="kn">from</span> <span class="nn">pyspark.sql</span> <span class="k">import</span> <span class="n">SQLContext</span>
<span class="kn">from</span> <span class="nn">pyspark.ml.feature</span> <span class="k">import</span> <span class="n">VectorAssembler</span>


<span class="n">sc</span><span class="o">=</span> <span class="n">SparkContext</span><span class="p">()</span>
<span class="n">sqlContext</span> <span class="o">=</span> <span class="n">SQLContext</span><span class="p">(</span><span class="n">sc</span><span class="p">)</span>
</pre></div>

</div>
</div>
</div>

</div>
<div class="cell border-box-sizing text_cell rendered"><div class="prompt input_prompt">
</div>
<div class="inner_cell">
<div class="text_cell_render border-box-sizing rendered_html">
<h3 id="Step-2:-Importing-Datafiles">Step 2: Importing Datafiles<a class="anchor-link" href="#Step-2:-Importing-Datafiles">&#182;</a></h3><p>After importing and initializing the Spark Session, we need to import the datafiles (We uploaded them to github and used wget to import them into the VE). We use Pyspark syntax to import the two csvs as Spark RDDs</p>

</div>
</div>
</div>
<div class="cell border-box-sizing code_cell rendered">
<div class="input">
<div class="prompt input_prompt">In&nbsp;[&nbsp;]:</div>
<div class="inner_cell">
    <div class="input_area">
<div class=" highlight hl-ipython3"><pre><span></span><span class="n">factors</span> <span class="o">=</span> <span class="n">sqlContext</span><span class="o">.</span><span class="n">read</span><span class="o">.</span><span class="n">format</span><span class="p">(</span><span class="s1">&#39;csv&#39;</span><span class="p">)</span><span class="o">.</span><span class="n">options</span><span class="p">(</span><span class="n">header</span><span class="o">=</span><span class="s1">&#39;true&#39;</span><span class="p">,</span> <span class="n">inferschema</span><span class="o">=</span><span class="s1">&#39;true&#39;</span><span class="p">)</span><span class="o">.</span><span class="n">load</span><span class="p">(</span><span class="s1">&#39;factorfile.csv.1&#39;</span><span class="p">)</span>
<span class="n">factors</span> <span class="o">=</span> <span class="n">factors</span><span class="o">.</span><span class="n">toPandas</span><span class="p">()</span>

<span class="n">instruments</span> <span class="o">=</span> <span class="n">sqlContext</span><span class="o">.</span><span class="n">read</span><span class="o">.</span><span class="n">format</span><span class="p">(</span><span class="s1">&#39;csv&#39;</span><span class="p">)</span><span class="o">.</span><span class="n">options</span><span class="p">(</span><span class="n">header</span><span class="o">=</span><span class="s1">&#39;true&#39;</span><span class="p">,</span> <span class="n">inferschema</span><span class="o">=</span><span class="s1">&#39;true&#39;</span><span class="p">)</span><span class="o">.</span><span class="n">load</span><span class="p">(</span><span class="s1">&#39;Instruments_returns.csv.1&#39;</span><span class="p">)</span>
<span class="n">instruments</span> <span class="o">=</span> <span class="n">instruments</span><span class="o">.</span><span class="n">toPandas</span><span class="p">()</span>


<span class="n">covariance</span> <span class="o">=</span> <span class="n">factors</span><span class="o">.</span><span class="n">cov</span><span class="p">()</span>
<span class="n">mean</span> <span class="o">=</span> <span class="n">factors</span><span class="o">.</span><span class="n">mean</span><span class="p">()</span>

<span class="n">weights</span> <span class="o">=</span> <span class="p">[]</span>
<span class="n">intercepts</span> <span class="o">=</span> <span class="p">[]</span>
</pre></div>

</div>
</div>
</div>

</div>
<div class="cell border-box-sizing text_cell rendered"><div class="prompt input_prompt">
</div>
<div class="inner_cell">
<div class="text_cell_render border-box-sizing rendered_html">
<h3 id="Step-3:-Fitting-Spark-Linear-Model-&amp;-Deriving-Coefficents">Step 3: Fitting Spark Linear Model &amp; Deriving Coefficents<a class="anchor-link" href="#Step-3:-Fitting-Spark-Linear-Model-&amp;-Deriving-Coefficents">&#182;</a></h3><p>There is a  difference between the Scikit Learn linear model and the Spark ML Linear Regression --&gt; in Spark, we cannot use the dataframes as input vectors, but need to create a map first with features and respective labels that can be transformed with the Spark linear model. We are using Spark Vector Assembler to faciliate that mapping.</p>

</div>
</div>
</div>
<div class="cell border-box-sizing code_cell rendered">
<div class="input">
<div class="prompt input_prompt">In&nbsp;[&nbsp;]:</div>
<div class="inner_cell">
    <div class="input_area">
<div class=" highlight hl-ipython3"><pre><span></span><span class="k">for</span> <span class="n">column</span> <span class="ow">in</span> <span class="n">instruments</span><span class="p">:</span>
            <span class="k">if</span> <span class="n">column</span> <span class="o">==</span> <span class="s1">&#39;Date&#39;</span><span class="p">:</span>
                <span class="k">continue</span>
            <span class="n">datarange</span> <span class="o">=</span> <span class="n">instruments</span><span class="p">[[</span><span class="s1">&#39;Date&#39;</span><span class="p">,</span><span class="n">column</span><span class="p">]]</span><span class="o">.</span><span class="n">dropna</span><span class="p">()</span><span class="o">.</span><span class="n">reset_index</span><span class="p">()</span>
            <span class="n">dataset</span> <span class="o">=</span>  <span class="n">pd</span><span class="o">.</span><span class="n">merge</span><span class="p">(</span><span class="n">datarange</span><span class="p">,</span> <span class="n">factors</span><span class="p">,</span> <span class="n">how</span><span class="o">=</span><span class="s1">&#39;inner&#39;</span><span class="p">,</span> <span class="n">on</span><span class="o">=</span><span class="p">[</span><span class="s1">&#39;Date&#39;</span><span class="p">])</span>
            <span class="n">X</span> <span class="o">=</span> <span class="n">dataset</span><span class="p">[[</span><span class="s1">&#39;Factor1&#39;</span><span class="p">,</span><span class="s1">&#39;Factor2&#39;</span><span class="p">,</span><span class="s1">&#39;Factor3&#39;</span><span class="p">,</span><span class="s1">&#39;Factor4&#39;</span><span class="p">]]</span><span class="o">.</span><span class="n">values</span>
            <span class="n">y</span> <span class="o">=</span> <span class="n">dataset</span><span class="p">[</span><span class="n">column</span><span class="p">]</span><span class="o">.</span><span class="n">values</span>
            <span class="n">spark_df</span> <span class="o">=</span> <span class="n">sqlContext</span><span class="o">.</span><span class="n">createDataFrame</span><span class="p">(</span><span class="n">dataset</span><span class="p">)</span>
            <span class="nb">print</span><span class="p">(</span><span class="n">spark_df</span><span class="o">.</span><span class="n">columns</span><span class="p">)</span>

            <span class="c1">#Fit the model on each instrument individually</span>
            <span class="c1">#We first have to transform our dataframes into a vector map as input parameters to the Linear Regression</span>
            <span class="n">vectorAssembler</span> <span class="o">=</span> <span class="n">VectorAssembler</span><span class="p">(</span><span class="n">inputCols</span> <span class="o">=</span> <span class="p">[</span><span class="s1">&#39;Factor1&#39;</span><span class="p">,</span><span class="s1">&#39;Factor2&#39;</span><span class="p">,</span><span class="s1">&#39;Factor3&#39;</span><span class="p">,</span><span class="s1">&#39;Factor4&#39;</span><span class="p">],</span> <span class="n">outputCol</span> <span class="o">=</span> <span class="s1">&#39;features&#39;</span><span class="p">)</span>
            <span class="n">vector_dataset</span> <span class="o">=</span> <span class="n">vectorAssembler</span><span class="o">.</span><span class="n">transform</span><span class="p">(</span><span class="n">spark_df</span><span class="p">)</span>
            <span class="n">vector_dataset_train</span> <span class="o">=</span> <span class="n">vector_dataset</span><span class="o">.</span><span class="n">select</span><span class="p">([</span><span class="s1">&#39;features&#39;</span><span class="p">,</span> <span class="n">column</span><span class="p">])</span>
            <span class="n">model</span> <span class="o">=</span> <span class="n">LinearRegression</span><span class="p">(</span><span class="n">featuresCol</span> <span class="o">=</span> <span class="s1">&#39;features&#39;</span><span class="p">,</span> <span class="n">labelCol</span><span class="o">=</span><span class="n">column</span><span class="p">,</span><span class="n">regParam</span><span class="o">=</span><span class="mf">0.3</span><span class="p">)</span>
            <span class="n">lr_fitted</span> <span class="o">=</span> <span class="n">model</span><span class="o">.</span><span class="n">fit</span><span class="p">(</span><span class="n">vector_dataset_train</span><span class="p">)</span>
            
            <span class="n">weights</span><span class="o">.</span><span class="n">append</span><span class="p">(</span><span class="n">lr_fitted</span><span class="o">.</span><span class="n">coefficients</span><span class="p">)</span>
            <span class="n">intercepts</span><span class="o">.</span><span class="n">append</span><span class="p">(</span><span class="n">lr_fitted</span><span class="o">.</span><span class="n">intercept</span><span class="p">)</span>
            
            
</pre></div>

</div>
</div>
</div>

</div>
<div class="cell border-box-sizing text_cell rendered"><div class="prompt input_prompt">
</div>
<div class="inner_cell">
<div class="text_cell_render border-box-sizing rendered_html">
<p>The above steps do not have to be parallelized but can be performed once to output the weights/coefficients and intercept lists. These could then be stored locally and imported whenever necessary.</p>

</div>
</div>
</div>
<div class="cell border-box-sizing text_cell rendered"><div class="prompt input_prompt">
</div>
<div class="inner_cell">
<div class="text_cell_render border-box-sizing rendered_html">
<h3 id="Step-4:-Adding-Function-to-simulate-the-runs-that-will-then-be-parallelized">Step 4: Adding Function to simulate the runs that will then be parallelized<a class="anchor-link" href="#Step-4:-Adding-Function-to-simulate-the-runs-that-will-then-be-parallelized">&#182;</a></h3><p>These are the same functions as previously used</p>

</div>
</div>
</div>
<div class="cell border-box-sizing code_cell rendered">
<div class="input">
<div class="prompt input_prompt">In&nbsp;[&nbsp;]:</div>
<div class="inner_cell">
    <div class="input_area">
<div class=" highlight hl-ipython3"><pre><span></span><span class="k">def</span> <span class="nf">featurize</span><span class="p">(</span><span class="n">lst</span><span class="p">):</span>
    <span class="n">featurized</span> <span class="o">=</span> <span class="p">[]</span>
    <span class="k">for</span> <span class="n">x</span> <span class="ow">in</span> <span class="n">lst</span><span class="p">:</span>
        <span class="k">if</span>  <span class="n">x</span> <span class="o">&lt;</span> <span class="mi">0</span><span class="p">:</span>
            <span class="n">square</span> <span class="o">=</span> <span class="o">-</span><span class="p">(</span><span class="n">x</span><span class="o">**</span><span class="mi">2</span><span class="p">)</span>
            <span class="n">root</span> <span class="o">=</span> <span class="o">-</span><span class="p">(</span><span class="nb">abs</span><span class="p">(</span><span class="n">x</span><span class="p">)</span><span class="o">**</span> <span class="p">(</span><span class="mi">1</span><span class="o">/</span><span class="mi">2</span><span class="p">))</span>
        <span class="k">else</span><span class="p">:</span>
            <span class="n">square</span> <span class="o">=</span> <span class="n">x</span><span class="o">**</span><span class="mi">2</span>
            <span class="n">root</span> <span class="o">=</span> <span class="n">x</span><span class="o">**</span> <span class="p">(</span><span class="mi">1</span><span class="o">/</span><span class="mi">2</span><span class="p">)</span> 
        <span class="n">featurized</span><span class="o">.</span><span class="n">append</span><span class="p">(</span><span class="n">x</span> <span class="o">+</span> <span class="n">square</span> <span class="o">+</span> <span class="n">root</span><span class="p">)</span>
    <span class="k">return</span> <span class="n">featurized</span>



<span class="c1"># Now we have our basis set, without any pandas logic, and we can write the function that we want to parallelize i Spark</span>
    
<span class="k">def</span> <span class="nf">simulate</span><span class="p">(</span><span class="n">runs</span><span class="p">,</span><span class="n">weights</span><span class="p">,</span> <span class="n">intercepts</span><span class="p">):</span>
    <span class="n">returns</span> <span class="o">=</span> <span class="p">[]</span>
    <span class="k">for</span> <span class="n">i</span> <span class="ow">in</span> <span class="nb">range</span><span class="p">(</span><span class="n">runs</span><span class="p">):</span>
        <span class="n">samples</span> <span class="o">=</span> <span class="n">np</span><span class="o">.</span><span class="n">random</span><span class="o">.</span><span class="n">multivariate_normal</span><span class="p">(</span><span class="n">mean</span><span class="p">,</span> <span class="n">covariance</span><span class="p">)</span>
        <span class="c1"># we can then call our featurize function from above:</span>
        <span class="n">featurized_factors</span> <span class="o">=</span> <span class="n">featurize</span><span class="p">(</span><span class="n">samples</span><span class="p">)</span>
        <span class="n">portfolio_return</span> <span class="o">=</span> <span class="mi">0</span>
        <span class="c1"># Now we need to caluclate the return of each instrument</span>
        <span class="c1">#We have 3 lists to work with, the list of featurized random factors, the lists within a list of weights and the list of intercepts:</span>
        <span class="k">for</span> <span class="n">index</span><span class="p">,</span> <span class="n">weightlst</span> <span class="ow">in</span> <span class="nb">enumerate</span><span class="p">(</span><span class="n">weights</span><span class="p">):</span>
            <span class="k">for</span> <span class="n">index2</span><span class="p">,</span> <span class="n">factor</span> <span class="ow">in</span> <span class="nb">enumerate</span><span class="p">(</span><span class="n">featurized_factors</span><span class="p">):</span>
                <span class="c1"># We multiply the respective factor with the respective weight and add the intercept for that instrument</span>
                <span class="n">inst_return</span> <span class="o">=</span> <span class="nb">sum</span><span class="p">([</span><span class="n">factor</span> <span class="o">*</span> <span class="n">weightlst</span><span class="p">[</span><span class="n">index2</span><span class="p">]])</span> <span class="o">+</span> <span class="n">intercepts</span><span class="p">[</span><span class="n">index</span><span class="p">]</span>
                <span class="n">portfolio_return</span> <span class="o">+=</span> <span class="n">inst_return</span>
        <span class="n">average</span> <span class="o">=</span> <span class="n">portfolio_return</span><span class="o">/</span><span class="nb">len</span><span class="p">(</span><span class="n">weights</span><span class="p">)</span>    
        <span class="n">returns</span><span class="o">.</span><span class="n">append</span><span class="p">(</span><span class="n">average</span><span class="p">)</span>  
    <span class="k">return</span> <span class="n">returns</span>
</pre></div>

</div>
</div>
</div>

</div>
<div class="cell border-box-sizing text_cell rendered"><div class="prompt input_prompt">
</div>
<div class="inner_cell">
<div class="text_cell_render border-box-sizing rendered_html">
<h3 id="Step-5:-Parallelizing">Step 5: Parallelizing<a class="anchor-link" href="#Step-5:-Parallelizing">&#182;</a></h3><p>There are different methods to initiate the parallelization - These also depend on the configuration of the Spark environment. We oriented the Spark syntax to distribute the computing, after an approach referenced here:<a href="https://perso.telecom-paristech.fr/qleroy/aml/lab4.html">https://perso.telecom-paristech.fr/qleroy/aml/lab4.html</a>. <br>
Parallelized collections are created by calling SparkContext’s parallelize method. The elements of the collection are copied to form a distributed dataset that can be operated on in parallel.
By applying the seedRDD.flatMap function we are able to apply the function we have defined above to the be executed and the 10000 trials are split between them --&gt; The function "simulate" defined above will be ran 12 times in parallel. You can add print statements in the function to validate this.
We also need to change the method to calculate VAR, as the difference of the SPARK implementation is that by parallelizing we return a SPARK RDD that does not have the method sort() as in pure python. The respective function for that is takeOrdered.</p>

</div>
</div>
</div>
<div class="cell border-box-sizing code_cell rendered">
<div class="input">
<div class="prompt input_prompt">In&nbsp;[&nbsp;]:</div>
<div class="inner_cell">
    <div class="input_area">
<div class=" highlight hl-ipython3"><pre><span></span><span class="k">def</span> <span class="nf">fivePercentVaR</span><span class="p">(</span><span class="n">trials</span><span class="p">):</span>
    <span class="n">numTrials</span> <span class="o">=</span> <span class="n">trials</span><span class="o">.</span><span class="n">count</span><span class="p">()</span>
    <span class="n">topLosses</span> <span class="o">=</span> <span class="n">trials</span><span class="o">.</span><span class="n">takeOrdered</span><span class="p">(</span><span class="nb">max</span><span class="p">(</span><span class="nb">int</span><span class="p">(</span><span class="n">numTrials</span><span class="o">/</span><span class="mi">20</span><span class="p">),</span> <span class="mi">1</span><span class="p">))</span>
    <span class="k">return</span> <span class="n">topLosses</span><span class="p">[</span><span class="o">-</span><span class="mi">1</span><span class="p">]</span>                


<span class="k">if</span> <span class="vm">__name__</span> <span class="o">==</span> <span class="s2">&quot;__main__&quot;</span><span class="p">:</span>
    
    <span class="n">parallelism</span> <span class="o">=</span> <span class="mi">12</span>
    <span class="n">numTrials</span> <span class="o">=</span> <span class="mi">10000</span>
    <span class="n">trial_indexes</span> <span class="o">=</span> <span class="nb">list</span><span class="p">(</span><span class="nb">range</span><span class="p">(</span><span class="mi">0</span><span class="p">,</span> <span class="n">parallelism</span><span class="p">))</span>

    <span class="n">seedRDD</span> <span class="o">=</span> <span class="n">sc</span><span class="o">.</span><span class="n">parallelize</span><span class="p">(</span><span class="n">trial_indexes</span><span class="p">,</span> <span class="n">parallelism</span><span class="p">)</span>
    <span class="n">bFactorWeights</span> <span class="o">=</span> <span class="n">sc</span><span class="o">.</span><span class="n">broadcast</span><span class="p">(</span><span class="n">weights</span><span class="p">)</span>
    
    <span class="c1">#Below we are now creating the partitions with the flat map, deviding the trials to be executed between the worker Cores</span>

    <span class="n">predictions</span> <span class="o">=</span> <span class="n">seedRDD</span><span class="o">.</span><span class="n">flatMap</span><span class="p">(</span><span class="k">lambda</span> <span class="n">idx</span><span class="p">:</span> \
                <span class="n">simulate</span><span class="p">(</span>
                    <span class="nb">max</span><span class="p">(</span><span class="nb">int</span><span class="p">(</span><span class="n">numTrials</span><span class="o">/</span><span class="n">parallelism</span><span class="p">),</span> <span class="mi">1</span><span class="p">),</span>
                    <span class="n">weights</span><span class="p">,</span>
                    <span class="n">intercepts</span>
                <span class="p">))</span>
    <span class="n">predictions</span><span class="o">.</span><span class="n">cache</span><span class="p">()</span>

    <span class="n">var</span> <span class="o">=</span> <span class="n">fivePercentVaR</span><span class="p">(</span><span class="n">predictions</span><span class="p">)</span>
    <span class="nb">print</span><span class="p">(</span><span class="s1">&#39;VAR: &#39;</span> <span class="o">+</span> <span class="nb">str</span><span class="p">(</span><span class="n">var</span><span class="p">))</span>
</pre></div>

</div>
</div>
</div>

</div>
<div class="cell border-box-sizing text_cell rendered"><div class="prompt input_prompt">
</div>
<div class="inner_cell">
<div class="text_cell_render border-box-sizing rendered_html">
<p>That was our approach for the implementation, first in python, then in Spark. <br> 
Thanks a lot for following along! Best, Team A <br>
March 18th, 2019</p>

</div>
</div>
</div>
    </div>
  </div>
</body>

 


</html>
